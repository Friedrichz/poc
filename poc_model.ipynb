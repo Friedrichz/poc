{
 "cells": [
  {
   "cell_type": "code",
   "execution_count": 122,
   "metadata": {},
   "outputs": [],
   "source": [
    "import pandas as pd\n",
    "import numpy as np\n",
    "import plotly.graph_objects as go\n",
    "import plotly.express as px\n",
    "import pypfopt\n",
    "\n",
    "from pypfopt.expected_returns import mean_historical_return\n",
    "from pypfopt.risk_models import CovarianceShrinkage\n",
    "from pypfopt.efficient_frontier import EfficientFrontier\n",
    "\n",
    "import quantstats as qs\n",
    "\n",
    "pd.options.plotting.backend = \"plotly\""
   ]
  },
  {
   "cell_type": "markdown",
   "metadata": {},
   "source": [
    "# Guide\n",
    "\n",
    "This presents a proof of concept for how to systematize parts of our portfolio allocation methodology going forward\n",
    "\n",
    "The intent is to lay out a concise framework on how to quantitatively process both empirical data and discretionary views into a portfolio model that ultimately provides us with optimal portfolio weights. \n",
    "\n",
    "This model is kept intentionally simple. Each of these steps contains a set of non-trivial assumptions that that would need to be revisited in detail were we to follow through on this approach (see section at end).\n",
    "\n",
    "General structure:\n",
    "\n",
    "#### 1. Model Inputs ####\n",
    "- Empirical Distribution of risk assets in our universe, for example Indices, Funds, Equities, etc. **(priors)**\n",
    "&rarr; For this example, I have selected a few 'proxy' assets to broadly mimick how we think about portfolio construction, namely:\n",
    "    * Offense &rarr; SPX Index\n",
    "    * Defense &rarr; EHFI451 Index (Long Vol Index) & EHFI453 Index (Tail Risk Index)\n",
    "    * Cash &rarr; DXY Curncy & XAU Curncy\n",
    "\n",
    "\n",
    "- Discretionary Views on risk assets (relative or absolute), for example GIP model, upper/lower return bounds for asset, asset class X will outperform asset class Y, etc.\n",
    "&rarr; For this example, I'm using a simplified version of Hedgeyes GIP model to classify historical timeseries into one of the 4 quadrants. These regimes are determined by two factors only, namely the rate of change in QoQ GDP and QoQ CPI.\n",
    "I'm then using these regimes to estimate regime-conditional return distributions for each asset, essentially making expected returns for each asset dependent on the (expected) regime.\n",
    "\n",
    "- A priori portfolio constraints, for example need Equities exposure > 10 % at all times, Gold never < 40 %\n",
    "&rarr; In this case, I'm ommitting any additional discretionary views.\n",
    "\n",
    "#### 2. Construct posterior asset distributions ####\n",
    "\n",
    "\n",
    "#### 3. Solve for optimal portfolio weights according to pre-defined objective function ####\n",
    "The traditional metric to optimize for is mean-variance, which I'm also using here for ilustrative purposes\n",
    "Other objective functions may include max return, min risk, max risk adj return ratio, max utility, mean downside variance, etc. \n",
    "\n",
    "This results in portfolio weights optimized for selected objective.\n",
    "&rarr; Here we're solving for a max sharpe ratio\n",
    "\n",
    "#### 4. Backtesting ####\n",
    "\n",
    "\n",
    "\n",
    "For this purpose, I have selected a few 'proxy' assets to broadly mimick how we think about portfolio construction, namely:\n",
    "- Offense &rarr; SPX Index\n",
    "- Defense &rarr; EHFI451 Index (Long Vol Index) & EHFI453 Index (Tail Risk Index)\n",
    "- Cash &rarr; DXY Curncy & XAU Curncy\n",
    "\n"
   ]
  },
  {
   "cell_type": "markdown",
   "metadata": {},
   "source": [
    "## Key Considerations\n",
    "\n",
    "#### 1. Model Inputs ####\n",
    "- Two major challenges\n",
    "* 1. Proxy returns:\n",
    "* 2. Sample size: \n",
    "\n",
    "#### 2. Posterior Distributions ####\n",
    "\n",
    "#### 3. Optimization ####\n",
    "\n",
    "#### 3. Backtesting & Stress-testing ####"
   ]
  },
  {
   "cell_type": "code",
   "execution_count": 2,
   "metadata": {},
   "outputs": [
    {
     "name": "stdout",
     "output_type": "stream",
     "text": [
      "(385, 10)\n",
      "(178, 9)\n"
     ]
    },
    {
     "name": "stderr",
     "output_type": "stream",
     "text": [
      "C:\\Users\\InvestmentsInterns\\AppData\\Local\\Temp\\ipykernel_23200\\254686824.py:5: UserWarning: Parsing dates in DD/MM/YYYY format when dayfirst=False (the default) was specified. This may lead to inconsistently parsed dates! Specify a format to ensure consistent parsing.\n",
      "  data_df['Date'] = pd.to_datetime(data_df.Date)\n"
     ]
    },
    {
     "data": {
      "text/html": [
       "<div>\n",
       "<style scoped>\n",
       "    .dataframe tbody tr th:only-of-type {\n",
       "        vertical-align: middle;\n",
       "    }\n",
       "\n",
       "    .dataframe tbody tr th {\n",
       "        vertical-align: top;\n",
       "    }\n",
       "\n",
       "    .dataframe thead th {\n",
       "        text-align: right;\n",
       "    }\n",
       "</style>\n",
       "<table border=\"1\" class=\"dataframe\">\n",
       "  <thead>\n",
       "    <tr style=\"text-align: right;\">\n",
       "      <th></th>\n",
       "      <th>SPX Index</th>\n",
       "      <th>NDX Index</th>\n",
       "      <th>XAU Curncy</th>\n",
       "      <th>DXY Curncy</th>\n",
       "      <th>EHFI251 Index</th>\n",
       "      <th>EHFI451 Index</th>\n",
       "      <th>EHFI453 Index</th>\n",
       "      <th>EHPIUS Index</th>\n",
       "      <th>GDP CQOQ Index</th>\n",
       "    </tr>\n",
       "    <tr>\n",
       "      <th>Date</th>\n",
       "      <th></th>\n",
       "      <th></th>\n",
       "      <th></th>\n",
       "      <th></th>\n",
       "      <th></th>\n",
       "      <th></th>\n",
       "      <th></th>\n",
       "      <th></th>\n",
       "      <th></th>\n",
       "    </tr>\n",
       "  </thead>\n",
       "  <tbody>\n",
       "    <tr>\n",
       "      <th>2022-05-31</th>\n",
       "      <td>4132.15</td>\n",
       "      <td>12642.10</td>\n",
       "      <td>1845.97</td>\n",
       "      <td>101.752</td>\n",
       "      <td>618.6914</td>\n",
       "      <td>198.99</td>\n",
       "      <td>62.37</td>\n",
       "      <td>7.97</td>\n",
       "      <td>-1.6</td>\n",
       "    </tr>\n",
       "    <tr>\n",
       "      <th>2022-06-30</th>\n",
       "      <td>3785.38</td>\n",
       "      <td>11503.72</td>\n",
       "      <td>1809.95</td>\n",
       "      <td>104.685</td>\n",
       "      <td>601.5739</td>\n",
       "      <td>205.17</td>\n",
       "      <td>64.71</td>\n",
       "      <td>8.67</td>\n",
       "      <td>-0.6</td>\n",
       "    </tr>\n",
       "    <tr>\n",
       "      <th>2022-07-29</th>\n",
       "      <td>4130.29</td>\n",
       "      <td>12947.97</td>\n",
       "      <td>1765.94</td>\n",
       "      <td>105.903</td>\n",
       "      <td>611.0150</td>\n",
       "      <td>202.77</td>\n",
       "      <td>63.38</td>\n",
       "      <td>8.67</td>\n",
       "      <td>-0.6</td>\n",
       "    </tr>\n",
       "    <tr>\n",
       "      <th>2022-08-31</th>\n",
       "      <td>3955.00</td>\n",
       "      <td>12272.03</td>\n",
       "      <td>1716.22</td>\n",
       "      <td>108.700</td>\n",
       "      <td>611.7484</td>\n",
       "      <td>205.05</td>\n",
       "      <td>64.35</td>\n",
       "      <td>8.67</td>\n",
       "      <td>-0.6</td>\n",
       "    </tr>\n",
       "    <tr>\n",
       "      <th>2022-09-30</th>\n",
       "      <td>3585.62</td>\n",
       "      <td>10971.22</td>\n",
       "      <td>1660.61</td>\n",
       "      <td>112.117</td>\n",
       "      <td>598.4518</td>\n",
       "      <td>213.21</td>\n",
       "      <td>66.23</td>\n",
       "      <td>8.33</td>\n",
       "      <td>-0.6</td>\n",
       "    </tr>\n",
       "  </tbody>\n",
       "</table>\n",
       "</div>"
      ],
      "text/plain": [
       "            SPX Index  NDX Index  XAU Curncy  DXY Curncy  EHFI251 Index  \\\n",
       "Date                                                                      \n",
       "2022-05-31    4132.15   12642.10     1845.97     101.752       618.6914   \n",
       "2022-06-30    3785.38   11503.72     1809.95     104.685       601.5739   \n",
       "2022-07-29    4130.29   12947.97     1765.94     105.903       611.0150   \n",
       "2022-08-31    3955.00   12272.03     1716.22     108.700       611.7484   \n",
       "2022-09-30    3585.62   10971.22     1660.61     112.117       598.4518   \n",
       "\n",
       "            EHFI451 Index  EHFI453 Index  EHPIUS Index  GDP CQOQ Index  \n",
       "Date                                                                    \n",
       "2022-05-31         198.99          62.37          7.97            -1.6  \n",
       "2022-06-30         205.17          64.71          8.67            -0.6  \n",
       "2022-07-29         202.77          63.38          8.67            -0.6  \n",
       "2022-08-31         205.05          64.35          8.67            -0.6  \n",
       "2022-09-30         213.21          66.23          8.33            -0.6  "
      ]
     },
     "execution_count": 2,
     "metadata": {},
     "output_type": "execute_result"
    }
   ],
   "source": [
    "assets = ['SPX Index','DXY Curncy','EHFI451 Index','EHFI453 Index','XAU Curncy']\n",
    "\n",
    "data_df = pd.read_csv('.\\data\\poc_data.csv')\n",
    "data_df.columns = ['Date'] + data_df.columns.tolist()[1:]\n",
    "data_df['Date'] = pd.to_datetime(data_df.Date)\n",
    "print(data_df.shape)\n",
    "data_df = data_df.dropna(how='any')\n",
    "data_df = data_df.set_index('Date')\n",
    "\n",
    "print(data_df.shape)\n",
    "data_df.tail()"
   ]
  },
  {
   "cell_type": "code",
   "execution_count": 3,
   "metadata": {},
   "outputs": [
    {
     "name": "stdout",
     "output_type": "stream",
     "text": [
      "(60, 2)\n"
     ]
    },
    {
     "data": {
      "text/html": [
       "<div>\n",
       "<style scoped>\n",
       "    .dataframe tbody tr th:only-of-type {\n",
       "        vertical-align: middle;\n",
       "    }\n",
       "\n",
       "    .dataframe tbody tr th {\n",
       "        vertical-align: top;\n",
       "    }\n",
       "\n",
       "    .dataframe thead th {\n",
       "        text-align: right;\n",
       "    }\n",
       "</style>\n",
       "<table border=\"1\" class=\"dataframe\">\n",
       "  <thead>\n",
       "    <tr style=\"text-align: right;\">\n",
       "      <th></th>\n",
       "      <th>EHPIUS Index</th>\n",
       "      <th>GDP CQOQ Index</th>\n",
       "      <th>regime</th>\n",
       "    </tr>\n",
       "    <tr>\n",
       "      <th>Date</th>\n",
       "      <th></th>\n",
       "      <th></th>\n",
       "      <th></th>\n",
       "    </tr>\n",
       "  </thead>\n",
       "  <tbody>\n",
       "    <tr>\n",
       "      <th>2021-09-30</th>\n",
       "      <td>0.50</td>\n",
       "      <td>2.7</td>\n",
       "      <td>Quad 2</td>\n",
       "    </tr>\n",
       "    <tr>\n",
       "      <th>2021-12-31</th>\n",
       "      <td>1.30</td>\n",
       "      <td>7.0</td>\n",
       "      <td>Quad 2</td>\n",
       "    </tr>\n",
       "    <tr>\n",
       "      <th>2022-03-31</th>\n",
       "      <td>1.30</td>\n",
       "      <td>-1.6</td>\n",
       "      <td>Quad 3</td>\n",
       "    </tr>\n",
       "    <tr>\n",
       "      <th>2022-06-30</th>\n",
       "      <td>0.70</td>\n",
       "      <td>-0.6</td>\n",
       "      <td>Quad 3</td>\n",
       "    </tr>\n",
       "    <tr>\n",
       "      <th>2022-09-30</th>\n",
       "      <td>-0.34</td>\n",
       "      <td>-0.6</td>\n",
       "      <td>Quad 4</td>\n",
       "    </tr>\n",
       "  </tbody>\n",
       "</table>\n",
       "</div>"
      ],
      "text/plain": [
       "            EHPIUS Index  GDP CQOQ Index  regime\n",
       "Date                                            \n",
       "2021-09-30          0.50             2.7  Quad 2\n",
       "2021-12-31          1.30             7.0  Quad 2\n",
       "2022-03-31          1.30            -1.6  Quad 3\n",
       "2022-06-30          0.70            -0.6  Quad 3\n",
       "2022-09-30         -0.34            -0.6  Quad 4"
      ]
     },
     "execution_count": 3,
     "metadata": {},
     "output_type": "execute_result"
    }
   ],
   "source": [
    "# Classify regimes\n",
    "# Resample to quarterly data just to classify regimes\n",
    "qdata_df = data_df[['EHPIUS Index','GDP CQOQ Index']].resample('Q', convention='start').asfreq()\n",
    "print(qdata_df.shape)\n",
    "\n",
    "# Assign regimes\n",
    "feat_df = qdata_df.copy()\n",
    "feat_df['EHPIUS Index'] = feat_df['EHPIUS Index'].diff(1)\n",
    "feat_df = feat_df.dropna()\n",
    "feat_df['regime'] = np.nan\n",
    "\n",
    "feat_df['regime'] = np.where((feat_df['EHPIUS Index']<0) & (feat_df['GDP CQOQ Index']>0),\"Quad 1\", 0)\n",
    "feat_df['regime'] = np.where((feat_df['EHPIUS Index']>0) & (feat_df['GDP CQOQ Index']>0),\"Quad 2\", feat_df['regime'])\n",
    "feat_df['regime'] = np.where((feat_df['EHPIUS Index']>0) & (feat_df['GDP CQOQ Index']<0),\"Quad 3\", feat_df['regime'])\n",
    "feat_df['regime'] = np.where((feat_df['EHPIUS Index']<0) & (feat_df['GDP CQOQ Index']<0),\"Quad 4\", feat_df['regime'])\n",
    "\n",
    "feat_df.tail()"
   ]
  },
  {
   "cell_type": "code",
   "execution_count": 5,
   "metadata": {},
   "outputs": [
    {
     "name": "stdout",
     "output_type": "stream",
     "text": [
      "(178, 6)\n",
      "(175, 6)\n"
     ]
    }
   ],
   "source": [
    "# Label monthly data (regime)\n",
    "data_df1 = data_df[['SPX Index','DXY Curncy','EHFI451 Index','EHFI453 Index','XAU Curncy']]\n",
    "\n",
    "data_df2 = data_df1.merge(feat_df[['regime']], 'left', left_index=True, right_index=True)\n",
    "data_df2['regime'] = data_df2['regime'].ffill()\n",
    "print(data_df2.shape)\n",
    "\n",
    "data_df3 = data_df2.dropna(subset=['regime'])\n",
    "print(data_df3.shape)"
   ]
  },
  {
   "cell_type": "code",
   "execution_count": 6,
   "metadata": {},
   "outputs": [
    {
     "data": {
      "text/html": [
       "<div>\n",
       "<style scoped>\n",
       "    .dataframe tbody tr th:only-of-type {\n",
       "        vertical-align: middle;\n",
       "    }\n",
       "\n",
       "    .dataframe tbody tr th {\n",
       "        vertical-align: top;\n",
       "    }\n",
       "\n",
       "    .dataframe thead th {\n",
       "        text-align: right;\n",
       "    }\n",
       "</style>\n",
       "<table border=\"1\" class=\"dataframe\">\n",
       "  <thead>\n",
       "    <tr style=\"text-align: right;\">\n",
       "      <th></th>\n",
       "      <th>SPX Index</th>\n",
       "      <th>DXY Curncy</th>\n",
       "      <th>EHFI451 Index</th>\n",
       "      <th>EHFI453 Index</th>\n",
       "      <th>XAU Curncy</th>\n",
       "      <th>regime</th>\n",
       "    </tr>\n",
       "    <tr>\n",
       "      <th>Date</th>\n",
       "      <th></th>\n",
       "      <th></th>\n",
       "      <th></th>\n",
       "      <th></th>\n",
       "      <th></th>\n",
       "      <th></th>\n",
       "    </tr>\n",
       "  </thead>\n",
       "  <tbody>\n",
       "    <tr>\n",
       "      <th>2022-05-31</th>\n",
       "      <td>4132.15</td>\n",
       "      <td>101.752</td>\n",
       "      <td>198.99</td>\n",
       "      <td>62.37</td>\n",
       "      <td>1845.97</td>\n",
       "      <td>Quad 3</td>\n",
       "    </tr>\n",
       "    <tr>\n",
       "      <th>2022-06-30</th>\n",
       "      <td>3785.38</td>\n",
       "      <td>104.685</td>\n",
       "      <td>205.17</td>\n",
       "      <td>64.71</td>\n",
       "      <td>1809.95</td>\n",
       "      <td>Quad 3</td>\n",
       "    </tr>\n",
       "    <tr>\n",
       "      <th>2022-07-29</th>\n",
       "      <td>4130.29</td>\n",
       "      <td>105.903</td>\n",
       "      <td>202.77</td>\n",
       "      <td>63.38</td>\n",
       "      <td>1765.94</td>\n",
       "      <td>Quad 3</td>\n",
       "    </tr>\n",
       "    <tr>\n",
       "      <th>2022-08-31</th>\n",
       "      <td>3955.00</td>\n",
       "      <td>108.700</td>\n",
       "      <td>205.05</td>\n",
       "      <td>64.35</td>\n",
       "      <td>1716.22</td>\n",
       "      <td>Quad 3</td>\n",
       "    </tr>\n",
       "    <tr>\n",
       "      <th>2022-09-30</th>\n",
       "      <td>3585.62</td>\n",
       "      <td>112.117</td>\n",
       "      <td>213.21</td>\n",
       "      <td>66.23</td>\n",
       "      <td>1660.61</td>\n",
       "      <td>Quad 4</td>\n",
       "    </tr>\n",
       "  </tbody>\n",
       "</table>\n",
       "</div>"
      ],
      "text/plain": [
       "            SPX Index  DXY Curncy  EHFI451 Index  EHFI453 Index  XAU Curncy  \\\n",
       "Date                                                                          \n",
       "2022-05-31    4132.15     101.752         198.99          62.37     1845.97   \n",
       "2022-06-30    3785.38     104.685         205.17          64.71     1809.95   \n",
       "2022-07-29    4130.29     105.903         202.77          63.38     1765.94   \n",
       "2022-08-31    3955.00     108.700         205.05          64.35     1716.22   \n",
       "2022-09-30    3585.62     112.117         213.21          66.23     1660.61   \n",
       "\n",
       "            regime  \n",
       "Date                \n",
       "2022-05-31  Quad 3  \n",
       "2022-06-30  Quad 3  \n",
       "2022-07-29  Quad 3  \n",
       "2022-08-31  Quad 3  \n",
       "2022-09-30  Quad 4  "
      ]
     },
     "execution_count": 6,
     "metadata": {},
     "output_type": "execute_result"
    }
   ],
   "source": [
    "data_df3.tail()"
   ]
  },
  {
   "cell_type": "code",
   "execution_count": 51,
   "metadata": {},
   "outputs": [
    {
     "data": {
      "text/plain": [
       "Quad 2    60\n",
       "Quad 1    54\n",
       "Quad 3    47\n",
       "Quad 4    13\n",
       "Name: regime, dtype: int64"
      ]
     },
     "execution_count": 51,
     "metadata": {},
     "output_type": "execute_result"
    }
   ],
   "source": [
    "# Returns df (monthly)\n",
    "ret_df = data_df3.copy()\n",
    "ret_df[assets] = ret_df[assets].pct_change()\n",
    "ret_df = ret_df.dropna()\n",
    "\n",
    "# Quick inspection\n",
    "ret_df.describe()\n",
    "ret_df.regime.value_counts()"
   ]
  },
  {
   "cell_type": "code",
   "execution_count": 50,
   "metadata": {},
   "outputs": [
    {
     "data": {
      "text/plain": [
       "SPX Index        0.187117\n",
       "DXY Curncy      -0.117718\n",
       "EHFI451 Index    0.158197\n",
       "EHFI453 Index   -0.046222\n",
       "XAU Curncy       0.245882\n",
       "dtype: float64"
      ]
     },
     "execution_count": 50,
     "metadata": {},
     "output_type": "execute_result"
    }
   ],
   "source": [
    "ret_df[ret_df.regime == 'Quad 4'].drop(columns=['regime']).mean() * 12"
   ]
  },
  {
   "cell_type": "code",
   "execution_count": 64,
   "metadata": {},
   "outputs": [
    {
     "data": {
      "text/plain": [
       "4"
      ]
     },
     "execution_count": 64,
     "metadata": {},
     "output_type": "execute_result"
    }
   ],
   "source": [
    "# Estimate distributions conditional on regime\n",
    "def sumstats(df, regime):\n",
    "    mu = mean_historical_return(df, returns_data=True, frequency=12, compounding=False)\n",
    "    S = CovarianceShrinkage(df,  returns_data=True, frequency=12).ledoit_wolf()\n",
    "    return dict(regime=regime, mean=mu, cov=S)\n",
    "\n",
    "\n",
    "li_ss = [sumstats(group.drop(columns=['regime']), name) for name, group in ret_df.groupby('regime')]\n",
    "len(li_ss)"
   ]
  },
  {
   "cell_type": "code",
   "execution_count": 251,
   "metadata": {},
   "outputs": [
    {
     "data": {
      "text/plain": [
       "{'regime': 'Quad 1',\n",
       " 'mean': SPX Index        0.126480\n",
       " DXY Curncy       0.014645\n",
       " EHFI451 Index   -0.005613\n",
       " EHFI453 Index   -0.066499\n",
       " XAU Curncy       0.128755\n",
       " dtype: float64,\n",
       " 'cov':                SPX Index  DXY Curncy  EHFI451 Index  EHFI453 Index  XAU Curncy\n",
       " SPX Index       0.014908   -0.003530      -0.003345      -0.001702   -0.000747\n",
       " DXY Curncy     -0.003530    0.006212       0.000303       0.001099   -0.001429\n",
       " EHFI451 Index  -0.003345    0.000303       0.004388       0.001017    0.002598\n",
       " EHFI453 Index  -0.001702    0.001099       0.001017       0.004717    0.002451\n",
       " XAU Curncy     -0.000747   -0.001429       0.002598       0.002451    0.016307}"
      ]
     },
     "execution_count": 251,
     "metadata": {},
     "output_type": "execute_result"
    }
   ],
   "source": [
    "li_ss[0]"
   ]
  },
  {
   "cell_type": "code",
   "execution_count": 67,
   "metadata": {},
   "outputs": [
    {
     "data": {
      "application/vnd.plotly.v1+json": {
       "config": {
        "plotlyServerURL": "https://plot.ly"
       },
       "data": [
        {
         "alignmentgroup": "True",
         "bingroup": "x",
         "hovertemplate": "regime=Quad 3<br>XAU Curncy=%{x}<br>count=%{y}<extra></extra>",
         "legendgroup": "Quad 3",
         "marker": {
          "color": "#636efa",
          "pattern": {
           "shape": ""
          }
         },
         "name": "Quad 3",
         "nbinsx": 30,
         "offsetgroup": "Quad 3",
         "orientation": "v",
         "showlegend": true,
         "type": "histogram",
         "x": [
          -0.05855846073662274,
          0.021221872368891503,
          0.05252085687495489,
          -0.17560390611615562,
          0.13283458021612637,
          0.01834433521262424,
          0.08757946278290141,
          -0.017567308307220086,
          -0.11509599507354262,
          0.06200924996458901,
          0.012241371311931593,
          -0.1035065507937144,
          0.1060763877794888,
          -0.005205354408952534,
          -0.03121551774202913,
          -0.0026016845007943434,
          -0.0582818951683185,
          0.019536136427459105,
          0.011443237660020644,
          0.04711183180358103,
          0.04752194343470162,
          -0.029849061926929044,
          -0.0025416581847790276,
          -0.02259501568531408,
          -0.008185034273339609,
          -0.04878767646510396,
          0.01018085240925748,
          -0.07858528951486698,
          -0.05717546672463936,
          -0.11044098573281447,
          0.05974743424623141,
          0.0664837306713344,
          -0.04551090469944885,
          -0.00608964010302071,
          -0.05311787014792335,
          -0.02975746198327789,
          0.005112982936002153,
          -0.0338770776961731,
          0.0076938115268432306,
          0.056186596073571904,
          0.0252419015565839,
          0.02379347745964222,
          -0.02443878731775051,
          -0.026864459943171326,
          -0.019512776480657856,
          -0.024315588828420664,
          -0.02815497695278435
         ],
         "xaxis": "x",
         "yaxis": "y"
        },
        {
         "alignmentgroup": "True",
         "hovertemplate": "regime=Quad 3<br>XAU Curncy=%{x}<extra></extra>",
         "legendgroup": "Quad 3",
         "marker": {
          "color": "#636efa"
         },
         "name": "Quad 3",
         "notched": true,
         "offsetgroup": "Quad 3",
         "showlegend": false,
         "type": "box",
         "x": [
          -0.05855846073662274,
          0.021221872368891503,
          0.05252085687495489,
          -0.17560390611615562,
          0.13283458021612637,
          0.01834433521262424,
          0.08757946278290141,
          -0.017567308307220086,
          -0.11509599507354262,
          0.06200924996458901,
          0.012241371311931593,
          -0.1035065507937144,
          0.1060763877794888,
          -0.005205354408952534,
          -0.03121551774202913,
          -0.0026016845007943434,
          -0.0582818951683185,
          0.019536136427459105,
          0.011443237660020644,
          0.04711183180358103,
          0.04752194343470162,
          -0.029849061926929044,
          -0.0025416581847790276,
          -0.02259501568531408,
          -0.008185034273339609,
          -0.04878767646510396,
          0.01018085240925748,
          -0.07858528951486698,
          -0.05717546672463936,
          -0.11044098573281447,
          0.05974743424623141,
          0.0664837306713344,
          -0.04551090469944885,
          -0.00608964010302071,
          -0.05311787014792335,
          -0.02975746198327789,
          0.005112982936002153,
          -0.0338770776961731,
          0.0076938115268432306,
          0.056186596073571904,
          0.0252419015565839,
          0.02379347745964222,
          -0.02443878731775051,
          -0.026864459943171326,
          -0.019512776480657856,
          -0.024315588828420664,
          -0.02815497695278435
         ],
         "xaxis": "x2",
         "yaxis": "y2"
        },
        {
         "alignmentgroup": "True",
         "bingroup": "x",
         "hovertemplate": "regime=Quad 2<br>XAU Curncy=%{x}<br>count=%{y}<extra></extra>",
         "legendgroup": "Quad 2",
         "marker": {
          "color": "#EF553B",
          "pattern": {
           "shape": ""
          }
         },
         "name": "Quad 2",
         "nbinsx": 30,
         "offsetgroup": "Quad 2",
         "orientation": "v",
         "showlegend": true,
         "type": "histogram",
         "x": [
          0.043063822097737736,
          -0.006637359781714203,
          -0.0932714212528476,
          -0.06368780787127781,
          -0.015883129295043985,
          0.0336570477247502,
          -0.0027738258216339906,
          0.057909896006244965,
          0.03173795408089708,
          0.023672516978387348,
          -0.05927958350921625,
          0.05589541857995428,
          -0.0205112515704029,
          0.08129751714604705,
          0.1278018499738791,
          0.05495006721720741,
          -0.02735995752266085,
          0.003930498799014304,
          -0.014127568076063746,
          -0.0664190294438386,
          0.034604854900529336,
          -0.01660021874889739,
          0.02440577630280716,
          -0.06824211328155771,
          -0.0018606049785279133,
          0.052740093580244674,
          0.1018234499780899,
          0.00030030761239219217,
          0.04956833598390187,
          -0.060802609912410155,
          0.005886085141839192,
          -0.0320016414995401,
          -0.07758133400326583,
          -0.023354384053653865,
          0.05498039215686257,
          0.03781627140485222,
          -0.005706917548174428,
          0.015273775216138263,
          0.001245781688586023,
          0.04019208043880673,
          0.04357076720011044,
          -0.002183543507261687,
          -0.03752725797454237,
          -0.010058485694715236,
          -0.05360307854439783,
          0.06538439907766724,
          -0.024657404083700984,
          -0.06148891835574921,
          -0.012698669004175156,
          0.03335825516057067,
          0.07778964801908272,
          -0.07052314147108951,
          0.02364750490893086,
          -0.00007165732365410626,
          -0.030754219816323536,
          0.014281083110102566,
          -0.005057811571286153,
          0.03090691855091432,
          -0.017603323857424025,
          0.05690595436839185
         ],
         "xaxis": "x",
         "yaxis": "y"
        },
        {
         "alignmentgroup": "True",
         "hovertemplate": "regime=Quad 2<br>XAU Curncy=%{x}<extra></extra>",
         "legendgroup": "Quad 2",
         "marker": {
          "color": "#EF553B"
         },
         "name": "Quad 2",
         "notched": true,
         "offsetgroup": "Quad 2",
         "showlegend": false,
         "type": "box",
         "x": [
          0.043063822097737736,
          -0.006637359781714203,
          -0.0932714212528476,
          -0.06368780787127781,
          -0.015883129295043985,
          0.0336570477247502,
          -0.0027738258216339906,
          0.057909896006244965,
          0.03173795408089708,
          0.023672516978387348,
          -0.05927958350921625,
          0.05589541857995428,
          -0.0205112515704029,
          0.08129751714604705,
          0.1278018499738791,
          0.05495006721720741,
          -0.02735995752266085,
          0.003930498799014304,
          -0.014127568076063746,
          -0.0664190294438386,
          0.034604854900529336,
          -0.01660021874889739,
          0.02440577630280716,
          -0.06824211328155771,
          -0.0018606049785279133,
          0.052740093580244674,
          0.1018234499780899,
          0.00030030761239219217,
          0.04956833598390187,
          -0.060802609912410155,
          0.005886085141839192,
          -0.0320016414995401,
          -0.07758133400326583,
          -0.023354384053653865,
          0.05498039215686257,
          0.03781627140485222,
          -0.005706917548174428,
          0.015273775216138263,
          0.001245781688586023,
          0.04019208043880673,
          0.04357076720011044,
          -0.002183543507261687,
          -0.03752725797454237,
          -0.010058485694715236,
          -0.05360307854439783,
          0.06538439907766724,
          -0.024657404083700984,
          -0.06148891835574921,
          -0.012698669004175156,
          0.03335825516057067,
          0.07778964801908272,
          -0.07052314147108951,
          0.02364750490893086,
          -0.00007165732365410626,
          -0.030754219816323536,
          0.014281083110102566,
          -0.005057811571286153,
          0.03090691855091432,
          -0.017603323857424025,
          0.05690595436839185
         ],
         "xaxis": "x2",
         "yaxis": "y2"
        },
        {
         "alignmentgroup": "True",
         "bingroup": "x",
         "hovertemplate": "regime=Quad 4<br>XAU Curncy=%{x}<br>count=%{y}<extra></extra>",
         "legendgroup": "Quad 4",
         "marker": {
          "color": "#00cc96",
          "pattern": {
           "shape": ""
          }
         },
         "name": "Quad 4",
         "nbinsx": 30,
         "offsetgroup": "Quad 4",
         "orientation": "v",
         "showlegend": true,
         "type": "histogram",
         "x": [
          0.070626651012621,
          0.05987914510583381,
          0.01559519318855429,
          -0.023792342304100544,
          -0.03473203609087938,
          0.09887944140998917,
          -0.046887009992313655,
          0.02580645161290329,
          -0.003207547169811309,
          0.030868014818496547,
          0.10774354144241105,
          -0.0020041905803042104,
          -0.032402605726538636
         ],
         "xaxis": "x",
         "yaxis": "y"
        },
        {
         "alignmentgroup": "True",
         "hovertemplate": "regime=Quad 4<br>XAU Curncy=%{x}<extra></extra>",
         "legendgroup": "Quad 4",
         "marker": {
          "color": "#00cc96"
         },
         "name": "Quad 4",
         "notched": true,
         "offsetgroup": "Quad 4",
         "showlegend": false,
         "type": "box",
         "x": [
          0.070626651012621,
          0.05987914510583381,
          0.01559519318855429,
          -0.023792342304100544,
          -0.03473203609087938,
          0.09887944140998917,
          -0.046887009992313655,
          0.02580645161290329,
          -0.003207547169811309,
          0.030868014818496547,
          0.10774354144241105,
          -0.0020041905803042104,
          -0.032402605726538636
         ],
         "xaxis": "x2",
         "yaxis": "y2"
        },
        {
         "alignmentgroup": "True",
         "bingroup": "x",
         "hovertemplate": "regime=Quad 1<br>XAU Curncy=%{x}<br>count=%{y}<extra></extra>",
         "legendgroup": "Quad 1",
         "marker": {
          "color": "#ab63fa",
          "pattern": {
           "shape": ""
          }
         },
         "name": "Quad 1",
         "nbinsx": 30,
         "offsetgroup": "Quad 1",
         "orientation": "v",
         "showlegend": true,
         "type": "histogram",
         "x": [
          0.059583149304898164,
          0.03756450972608172,
          0.12236835812329616,
          0.020740679847096155,
          -0.048869273886991915,
          0.057112616426757024,
          0.047378749649565455,
          0.039614561027837336,
          0.021428571428571352,
          -0.03858459328998276,
          0.03283014796803285,
          0.065758707966735,
          -0.06109592020632004,
          -0.029561418749534663,
          -0.004740225416474786,
          0.017629220990594163,
          0.08066769924913286,
          -0.055001207362574744,
          -0.024151403748825406,
          -0.002061019697942368,
          0.007736321776814714,
          0.0833415645989728,
          0.026707088205572216,
          -0.03190308448286061,
          -0.022246546863433747,
          0.021174120698125964,
          0.038693903304676924,
          -0.02825446482808891,
          -0.00735299863254546,
          0.0010863233465057132,
          0.02443934199352049,
          0.028392692661958874,
          -0.015278513796938342,
          0.00466907194615418,
          -0.006276971361318107,
          -0.011577940417261345,
          -0.037875121936232325,
          -0.021155995529299032,
          -0.021189136285784227,
          -0.006332700063326979,
          0.017458826686344908,
          0.005917549903571961,
          0.05002785697899248,
          0.03158601101765002,
          -0.0051207963329954476,
          -0.017418211953257323,
          -0.006785929834878468,
          0.01711579062176205,
          0.07963510470442259,
          0.010684260934340717,
          0.06722541607878663,
          -0.032781278364619415,
          0.028472533899111863,
          -0.032028352100290314
         ],
         "xaxis": "x",
         "yaxis": "y"
        },
        {
         "alignmentgroup": "True",
         "hovertemplate": "regime=Quad 1<br>XAU Curncy=%{x}<extra></extra>",
         "legendgroup": "Quad 1",
         "marker": {
          "color": "#ab63fa"
         },
         "name": "Quad 1",
         "notched": true,
         "offsetgroup": "Quad 1",
         "showlegend": false,
         "type": "box",
         "x": [
          0.059583149304898164,
          0.03756450972608172,
          0.12236835812329616,
          0.020740679847096155,
          -0.048869273886991915,
          0.057112616426757024,
          0.047378749649565455,
          0.039614561027837336,
          0.021428571428571352,
          -0.03858459328998276,
          0.03283014796803285,
          0.065758707966735,
          -0.06109592020632004,
          -0.029561418749534663,
          -0.004740225416474786,
          0.017629220990594163,
          0.08066769924913286,
          -0.055001207362574744,
          -0.024151403748825406,
          -0.002061019697942368,
          0.007736321776814714,
          0.0833415645989728,
          0.026707088205572216,
          -0.03190308448286061,
          -0.022246546863433747,
          0.021174120698125964,
          0.038693903304676924,
          -0.02825446482808891,
          -0.00735299863254546,
          0.0010863233465057132,
          0.02443934199352049,
          0.028392692661958874,
          -0.015278513796938342,
          0.00466907194615418,
          -0.006276971361318107,
          -0.011577940417261345,
          -0.037875121936232325,
          -0.021155995529299032,
          -0.021189136285784227,
          -0.006332700063326979,
          0.017458826686344908,
          0.005917549903571961,
          0.05002785697899248,
          0.03158601101765002,
          -0.0051207963329954476,
          -0.017418211953257323,
          -0.006785929834878468,
          0.01711579062176205,
          0.07963510470442259,
          0.010684260934340717,
          0.06722541607878663,
          -0.032781278364619415,
          0.028472533899111863,
          -0.032028352100290314
         ],
         "xaxis": "x2",
         "yaxis": "y2"
        }
       ],
       "layout": {
        "barmode": "relative",
        "height": 500,
        "legend": {
         "title": {
          "text": "regime"
         },
         "tracegroupgap": 0
        },
        "margin": {
         "t": 60
        },
        "paper_bgcolor": "rgba(0,0,0,0)",
        "plot_bgcolor": "rgba(0,0,0,0)",
        "template": {
         "data": {
          "bar": [
           {
            "error_x": {
             "color": "#2a3f5f"
            },
            "error_y": {
             "color": "#2a3f5f"
            },
            "marker": {
             "line": {
              "color": "#E5ECF6",
              "width": 0.5
             },
             "pattern": {
              "fillmode": "overlay",
              "size": 10,
              "solidity": 0.2
             }
            },
            "type": "bar"
           }
          ],
          "barpolar": [
           {
            "marker": {
             "line": {
              "color": "#E5ECF6",
              "width": 0.5
             },
             "pattern": {
              "fillmode": "overlay",
              "size": 10,
              "solidity": 0.2
             }
            },
            "type": "barpolar"
           }
          ],
          "carpet": [
           {
            "aaxis": {
             "endlinecolor": "#2a3f5f",
             "gridcolor": "white",
             "linecolor": "white",
             "minorgridcolor": "white",
             "startlinecolor": "#2a3f5f"
            },
            "baxis": {
             "endlinecolor": "#2a3f5f",
             "gridcolor": "white",
             "linecolor": "white",
             "minorgridcolor": "white",
             "startlinecolor": "#2a3f5f"
            },
            "type": "carpet"
           }
          ],
          "choropleth": [
           {
            "colorbar": {
             "outlinewidth": 0,
             "ticks": ""
            },
            "type": "choropleth"
           }
          ],
          "contour": [
           {
            "colorbar": {
             "outlinewidth": 0,
             "ticks": ""
            },
            "colorscale": [
             [
              0,
              "#0d0887"
             ],
             [
              0.1111111111111111,
              "#46039f"
             ],
             [
              0.2222222222222222,
              "#7201a8"
             ],
             [
              0.3333333333333333,
              "#9c179e"
             ],
             [
              0.4444444444444444,
              "#bd3786"
             ],
             [
              0.5555555555555556,
              "#d8576b"
             ],
             [
              0.6666666666666666,
              "#ed7953"
             ],
             [
              0.7777777777777778,
              "#fb9f3a"
             ],
             [
              0.8888888888888888,
              "#fdca26"
             ],
             [
              1,
              "#f0f921"
             ]
            ],
            "type": "contour"
           }
          ],
          "contourcarpet": [
           {
            "colorbar": {
             "outlinewidth": 0,
             "ticks": ""
            },
            "type": "contourcarpet"
           }
          ],
          "heatmap": [
           {
            "colorbar": {
             "outlinewidth": 0,
             "ticks": ""
            },
            "colorscale": [
             [
              0,
              "#0d0887"
             ],
             [
              0.1111111111111111,
              "#46039f"
             ],
             [
              0.2222222222222222,
              "#7201a8"
             ],
             [
              0.3333333333333333,
              "#9c179e"
             ],
             [
              0.4444444444444444,
              "#bd3786"
             ],
             [
              0.5555555555555556,
              "#d8576b"
             ],
             [
              0.6666666666666666,
              "#ed7953"
             ],
             [
              0.7777777777777778,
              "#fb9f3a"
             ],
             [
              0.8888888888888888,
              "#fdca26"
             ],
             [
              1,
              "#f0f921"
             ]
            ],
            "type": "heatmap"
           }
          ],
          "heatmapgl": [
           {
            "colorbar": {
             "outlinewidth": 0,
             "ticks": ""
            },
            "colorscale": [
             [
              0,
              "#0d0887"
             ],
             [
              0.1111111111111111,
              "#46039f"
             ],
             [
              0.2222222222222222,
              "#7201a8"
             ],
             [
              0.3333333333333333,
              "#9c179e"
             ],
             [
              0.4444444444444444,
              "#bd3786"
             ],
             [
              0.5555555555555556,
              "#d8576b"
             ],
             [
              0.6666666666666666,
              "#ed7953"
             ],
             [
              0.7777777777777778,
              "#fb9f3a"
             ],
             [
              0.8888888888888888,
              "#fdca26"
             ],
             [
              1,
              "#f0f921"
             ]
            ],
            "type": "heatmapgl"
           }
          ],
          "histogram": [
           {
            "marker": {
             "pattern": {
              "fillmode": "overlay",
              "size": 10,
              "solidity": 0.2
             }
            },
            "type": "histogram"
           }
          ],
          "histogram2d": [
           {
            "colorbar": {
             "outlinewidth": 0,
             "ticks": ""
            },
            "colorscale": [
             [
              0,
              "#0d0887"
             ],
             [
              0.1111111111111111,
              "#46039f"
             ],
             [
              0.2222222222222222,
              "#7201a8"
             ],
             [
              0.3333333333333333,
              "#9c179e"
             ],
             [
              0.4444444444444444,
              "#bd3786"
             ],
             [
              0.5555555555555556,
              "#d8576b"
             ],
             [
              0.6666666666666666,
              "#ed7953"
             ],
             [
              0.7777777777777778,
              "#fb9f3a"
             ],
             [
              0.8888888888888888,
              "#fdca26"
             ],
             [
              1,
              "#f0f921"
             ]
            ],
            "type": "histogram2d"
           }
          ],
          "histogram2dcontour": [
           {
            "colorbar": {
             "outlinewidth": 0,
             "ticks": ""
            },
            "colorscale": [
             [
              0,
              "#0d0887"
             ],
             [
              0.1111111111111111,
              "#46039f"
             ],
             [
              0.2222222222222222,
              "#7201a8"
             ],
             [
              0.3333333333333333,
              "#9c179e"
             ],
             [
              0.4444444444444444,
              "#bd3786"
             ],
             [
              0.5555555555555556,
              "#d8576b"
             ],
             [
              0.6666666666666666,
              "#ed7953"
             ],
             [
              0.7777777777777778,
              "#fb9f3a"
             ],
             [
              0.8888888888888888,
              "#fdca26"
             ],
             [
              1,
              "#f0f921"
             ]
            ],
            "type": "histogram2dcontour"
           }
          ],
          "mesh3d": [
           {
            "colorbar": {
             "outlinewidth": 0,
             "ticks": ""
            },
            "type": "mesh3d"
           }
          ],
          "parcoords": [
           {
            "line": {
             "colorbar": {
              "outlinewidth": 0,
              "ticks": ""
             }
            },
            "type": "parcoords"
           }
          ],
          "pie": [
           {
            "automargin": true,
            "type": "pie"
           }
          ],
          "scatter": [
           {
            "fillpattern": {
             "fillmode": "overlay",
             "size": 10,
             "solidity": 0.2
            },
            "type": "scatter"
           }
          ],
          "scatter3d": [
           {
            "line": {
             "colorbar": {
              "outlinewidth": 0,
              "ticks": ""
             }
            },
            "marker": {
             "colorbar": {
              "outlinewidth": 0,
              "ticks": ""
             }
            },
            "type": "scatter3d"
           }
          ],
          "scattercarpet": [
           {
            "marker": {
             "colorbar": {
              "outlinewidth": 0,
              "ticks": ""
             }
            },
            "type": "scattercarpet"
           }
          ],
          "scattergeo": [
           {
            "marker": {
             "colorbar": {
              "outlinewidth": 0,
              "ticks": ""
             }
            },
            "type": "scattergeo"
           }
          ],
          "scattergl": [
           {
            "marker": {
             "colorbar": {
              "outlinewidth": 0,
              "ticks": ""
             }
            },
            "type": "scattergl"
           }
          ],
          "scattermapbox": [
           {
            "marker": {
             "colorbar": {
              "outlinewidth": 0,
              "ticks": ""
             }
            },
            "type": "scattermapbox"
           }
          ],
          "scatterpolar": [
           {
            "marker": {
             "colorbar": {
              "outlinewidth": 0,
              "ticks": ""
             }
            },
            "type": "scatterpolar"
           }
          ],
          "scatterpolargl": [
           {
            "marker": {
             "colorbar": {
              "outlinewidth": 0,
              "ticks": ""
             }
            },
            "type": "scatterpolargl"
           }
          ],
          "scatterternary": [
           {
            "marker": {
             "colorbar": {
              "outlinewidth": 0,
              "ticks": ""
             }
            },
            "type": "scatterternary"
           }
          ],
          "surface": [
           {
            "colorbar": {
             "outlinewidth": 0,
             "ticks": ""
            },
            "colorscale": [
             [
              0,
              "#0d0887"
             ],
             [
              0.1111111111111111,
              "#46039f"
             ],
             [
              0.2222222222222222,
              "#7201a8"
             ],
             [
              0.3333333333333333,
              "#9c179e"
             ],
             [
              0.4444444444444444,
              "#bd3786"
             ],
             [
              0.5555555555555556,
              "#d8576b"
             ],
             [
              0.6666666666666666,
              "#ed7953"
             ],
             [
              0.7777777777777778,
              "#fb9f3a"
             ],
             [
              0.8888888888888888,
              "#fdca26"
             ],
             [
              1,
              "#f0f921"
             ]
            ],
            "type": "surface"
           }
          ],
          "table": [
           {
            "cells": {
             "fill": {
              "color": "#EBF0F8"
             },
             "line": {
              "color": "white"
             }
            },
            "header": {
             "fill": {
              "color": "#C8D4E3"
             },
             "line": {
              "color": "white"
             }
            },
            "type": "table"
           }
          ]
         },
         "layout": {
          "annotationdefaults": {
           "arrowcolor": "#2a3f5f",
           "arrowhead": 0,
           "arrowwidth": 1
          },
          "autotypenumbers": "strict",
          "coloraxis": {
           "colorbar": {
            "outlinewidth": 0,
            "ticks": ""
           }
          },
          "colorscale": {
           "diverging": [
            [
             0,
             "#8e0152"
            ],
            [
             0.1,
             "#c51b7d"
            ],
            [
             0.2,
             "#de77ae"
            ],
            [
             0.3,
             "#f1b6da"
            ],
            [
             0.4,
             "#fde0ef"
            ],
            [
             0.5,
             "#f7f7f7"
            ],
            [
             0.6,
             "#e6f5d0"
            ],
            [
             0.7,
             "#b8e186"
            ],
            [
             0.8,
             "#7fbc41"
            ],
            [
             0.9,
             "#4d9221"
            ],
            [
             1,
             "#276419"
            ]
           ],
           "sequential": [
            [
             0,
             "#0d0887"
            ],
            [
             0.1111111111111111,
             "#46039f"
            ],
            [
             0.2222222222222222,
             "#7201a8"
            ],
            [
             0.3333333333333333,
             "#9c179e"
            ],
            [
             0.4444444444444444,
             "#bd3786"
            ],
            [
             0.5555555555555556,
             "#d8576b"
            ],
            [
             0.6666666666666666,
             "#ed7953"
            ],
            [
             0.7777777777777778,
             "#fb9f3a"
            ],
            [
             0.8888888888888888,
             "#fdca26"
            ],
            [
             1,
             "#f0f921"
            ]
           ],
           "sequentialminus": [
            [
             0,
             "#0d0887"
            ],
            [
             0.1111111111111111,
             "#46039f"
            ],
            [
             0.2222222222222222,
             "#7201a8"
            ],
            [
             0.3333333333333333,
             "#9c179e"
            ],
            [
             0.4444444444444444,
             "#bd3786"
            ],
            [
             0.5555555555555556,
             "#d8576b"
            ],
            [
             0.6666666666666666,
             "#ed7953"
            ],
            [
             0.7777777777777778,
             "#fb9f3a"
            ],
            [
             0.8888888888888888,
             "#fdca26"
            ],
            [
             1,
             "#f0f921"
            ]
           ]
          },
          "colorway": [
           "#636efa",
           "#EF553B",
           "#00cc96",
           "#ab63fa",
           "#FFA15A",
           "#19d3f3",
           "#FF6692",
           "#B6E880",
           "#FF97FF",
           "#FECB52"
          ],
          "font": {
           "color": "#2a3f5f"
          },
          "geo": {
           "bgcolor": "white",
           "lakecolor": "white",
           "landcolor": "#E5ECF6",
           "showlakes": true,
           "showland": true,
           "subunitcolor": "white"
          },
          "hoverlabel": {
           "align": "left"
          },
          "hovermode": "closest",
          "mapbox": {
           "style": "light"
          },
          "paper_bgcolor": "white",
          "plot_bgcolor": "#E5ECF6",
          "polar": {
           "angularaxis": {
            "gridcolor": "white",
            "linecolor": "white",
            "ticks": ""
           },
           "bgcolor": "#E5ECF6",
           "radialaxis": {
            "gridcolor": "white",
            "linecolor": "white",
            "ticks": ""
           }
          },
          "scene": {
           "xaxis": {
            "backgroundcolor": "#E5ECF6",
            "gridcolor": "white",
            "gridwidth": 2,
            "linecolor": "white",
            "showbackground": true,
            "ticks": "",
            "zerolinecolor": "white"
           },
           "yaxis": {
            "backgroundcolor": "#E5ECF6",
            "gridcolor": "white",
            "gridwidth": 2,
            "linecolor": "white",
            "showbackground": true,
            "ticks": "",
            "zerolinecolor": "white"
           },
           "zaxis": {
            "backgroundcolor": "#E5ECF6",
            "gridcolor": "white",
            "gridwidth": 2,
            "linecolor": "white",
            "showbackground": true,
            "ticks": "",
            "zerolinecolor": "white"
           }
          },
          "shapedefaults": {
           "line": {
            "color": "#2a3f5f"
           }
          },
          "ternary": {
           "aaxis": {
            "gridcolor": "white",
            "linecolor": "white",
            "ticks": ""
           },
           "baxis": {
            "gridcolor": "white",
            "linecolor": "white",
            "ticks": ""
           },
           "bgcolor": "#E5ECF6",
           "caxis": {
            "gridcolor": "white",
            "linecolor": "white",
            "ticks": ""
           }
          },
          "title": {
           "x": 0.05
          },
          "xaxis": {
           "automargin": true,
           "gridcolor": "white",
           "linecolor": "white",
           "ticks": "",
           "title": {
            "standoff": 15
           },
           "zerolinecolor": "white",
           "zerolinewidth": 2
          },
          "yaxis": {
           "automargin": true,
           "gridcolor": "white",
           "linecolor": "white",
           "ticks": "",
           "title": {
            "standoff": 15
           },
           "zerolinecolor": "white",
           "zerolinewidth": 2
          }
         }
        },
        "xaxis": {
         "anchor": "y",
         "domain": [
          0,
          1
         ],
         "title": {
          "text": "XAU Curncy"
         }
        },
        "xaxis2": {
         "anchor": "y2",
         "domain": [
          0,
          1
         ],
         "matches": "x",
         "showgrid": true,
         "showticklabels": false
        },
        "yaxis": {
         "anchor": "x",
         "domain": [
          0,
          0.7326
         ],
         "title": {
          "text": "count"
         }
        },
        "yaxis2": {
         "anchor": "x2",
         "domain": [
          0.7426,
          1
         ],
         "matches": "y2",
         "showgrid": false,
         "showline": false,
         "showticklabels": false,
         "ticks": ""
        }
       }
      }
     },
     "metadata": {},
     "output_type": "display_data"
    }
   ],
   "source": [
    "# Plot asset returns conditional on regime\n",
    "fig_dic = {}\n",
    "\n",
    "for a in assets: \n",
    "    fig = px.histogram(ret_df, x=a, color=\"regime\",\n",
    "                   marginal=\"box\", # or violin, rug\n",
    "                   nbins=30,\n",
    "                   )\n",
    "    fig.update_layout(height=500, paper_bgcolor=\"rgba(0,0,0,0)\", plot_bgcolor=\"rgba(0,0,0,0)\")\n",
    "    fig_dic[a] = fig\n",
    "    \n",
    "fig.show()"
   ]
  },
  {
   "cell_type": "code",
   "execution_count": 68,
   "metadata": {},
   "outputs": [
    {
     "data": {
      "application/vnd.plotly.v1+json": {
       "config": {
        "plotlyServerURL": "https://plot.ly"
       },
       "data": [
        {
         "alignmentgroup": "True",
         "bingroup": "x",
         "hovertemplate": "regime=Quad 3<br>SPX Index=%{x}<br>count=%{y}<extra></extra>",
         "legendgroup": "Quad 3",
         "marker": {
          "color": "#636efa",
          "pattern": {
           "shape": ""
          }
         },
         "name": "Quad 3",
         "nbinsx": 30,
         "offsetgroup": "Quad 3",
         "orientation": "v",
         "showlegend": true,
         "type": "histogram",
         "x": [
          0.04754668481137059,
          0.010674153248796614,
          -0.09079145327128302,
          -0.16942453444905514,
          -0.0748490322580645,
          -0.0010473018791158362,
          0.028495357625034856,
          -0.01350092768460176,
          -0.07176201297902196,
          0.10772303830584562,
          -0.0050586451767333784,
          0.008540771155449933,
          0.043574717122160544,
          0.04058944994323421,
          0.03133237654501775,
          -0.007497497284287169,
          -0.06265067135938662,
          0.039554921279372435,
          0.012597639043871345,
          0.019763361656468303,
          0.024236090375236552,
          -0.01978940354140779,
          0.0028467029231815655,
          0.007068310525498056,
          0.050428063581991145,
          0.011060603026480154,
          0.035987799403174314,
          0.01808576399288797,
          0.020762783477406455,
          -0.01499932545960736,
          0.0494621112134872,
          -0.0312980133236046,
          0.029749474883188354,
          0.04459575986441089,
          0.02804946087194149,
          0.006932157358358504,
          0.0062007968638175814,
          0.021030282120013677,
          -0.12511932083595656,
          0.12684410293315374,
          0.04528177501261843,
          0.03577323877328009,
          -0.08795671914903935,
          0.00005324388360872234,
          -0.08391999322386645,
          0.09111634763220589,
          -0.04244011921681046
         ],
         "xaxis": "x",
         "yaxis": "y"
        },
        {
         "alignmentgroup": "True",
         "hovertemplate": "regime=Quad 3<br>SPX Index=%{x}<extra></extra>",
         "legendgroup": "Quad 3",
         "marker": {
          "color": "#636efa"
         },
         "name": "Quad 3",
         "notched": true,
         "offsetgroup": "Quad 3",
         "showlegend": false,
         "type": "box",
         "x": [
          0.04754668481137059,
          0.010674153248796614,
          -0.09079145327128302,
          -0.16942453444905514,
          -0.0748490322580645,
          -0.0010473018791158362,
          0.028495357625034856,
          -0.01350092768460176,
          -0.07176201297902196,
          0.10772303830584562,
          -0.0050586451767333784,
          0.008540771155449933,
          0.043574717122160544,
          0.04058944994323421,
          0.03133237654501775,
          -0.007497497284287169,
          -0.06265067135938662,
          0.039554921279372435,
          0.012597639043871345,
          0.019763361656468303,
          0.024236090375236552,
          -0.01978940354140779,
          0.0028467029231815655,
          0.007068310525498056,
          0.050428063581991145,
          0.011060603026480154,
          0.035987799403174314,
          0.01808576399288797,
          0.020762783477406455,
          -0.01499932545960736,
          0.0494621112134872,
          -0.0312980133236046,
          0.029749474883188354,
          0.04459575986441089,
          0.02804946087194149,
          0.006932157358358504,
          0.0062007968638175814,
          0.021030282120013677,
          -0.12511932083595656,
          0.12684410293315374,
          0.04528177501261843,
          0.03577323877328009,
          -0.08795671914903935,
          0.00005324388360872234,
          -0.08391999322386645,
          0.09111634763220589,
          -0.04244011921681046
         ],
         "xaxis": "x2",
         "yaxis": "y2"
        },
        {
         "alignmentgroup": "True",
         "bingroup": "x",
         "hovertemplate": "regime=Quad 2<br>SPX Index=%{x}<br>count=%{y}<extra></extra>",
         "legendgroup": "Quad 2",
         "marker": {
          "color": "#EF553B",
          "pattern": {
           "shape": ""
          }
         },
         "name": "Quad 2",
         "nbinsx": 30,
         "offsetgroup": "Quad 2",
         "orientation": "v",
         "showlegend": true,
         "type": "histogram",
         "x": [
          -0.08596238163926939,
          -0.009859374999999893,
          0.012190503242910378,
          0.017770597738287375,
          -0.036974262397991176,
          0.02851369346382726,
          0.05879636755425577,
          0.014759327193589966,
          -0.08197591620389488,
          0.06530007200033894,
          0.02264559015298473,
          0.031956582589494076,
          -0.018257508177222714,
          -0.02147443663678228,
          -0.05679109790447878,
          0.019058313448431896,
          -0.015079863077291922,
          0.03765532172769026,
          -0.0210117728564716,
          0.01974203993000856,
          -0.06258080462392579,
          -0.026442819620927094,
          0.08298307838940033,
          0.0005049630655584725,
          -0.017530198374358763,
          -0.05073534448173622,
          -0.004128355255019978,
          0.0659911087189411,
          0.00269936982337593,
          0.01532949208347456,
          -0.0012344825997834263,
          -0.01942562503747225,
          0.03417444676998316,
          0.018200754044233047,
          0.017884341374735824,
          0.037198260541408734,
          -0.00038923017041514463,
          0.00909121690255299,
          0.011576210049492719,
          0.028589803182446305,
          -0.001628089811129274,
          -0.08411046900964814,
          -0.0392279540954944,
          -0.0276657746060065,
          0.10754565805086314,
          0.03712140665943231,
          -0.011136640158463607,
          0.026091474971999817,
          0.04243863400810777,
          0.05242531255584737,
          0.005486502581813157,
          0.02221397632316946,
          0.02274810936591054,
          0.028990321391681118,
          -0.047569140421166334,
          0.06914387330123462,
          -0.00833373141847149,
          0.04361287497262989,
          -0.05258508910699977,
          -0.03136052086678265
         ],
         "xaxis": "x",
         "yaxis": "y"
        },
        {
         "alignmentgroup": "True",
         "hovertemplate": "regime=Quad 2<br>SPX Index=%{x}<extra></extra>",
         "legendgroup": "Quad 2",
         "marker": {
          "color": "#EF553B"
         },
         "name": "Quad 2",
         "notched": true,
         "offsetgroup": "Quad 2",
         "showlegend": false,
         "type": "box",
         "x": [
          -0.08596238163926939,
          -0.009859374999999893,
          0.012190503242910378,
          0.017770597738287375,
          -0.036974262397991176,
          0.02851369346382726,
          0.05879636755425577,
          0.014759327193589966,
          -0.08197591620389488,
          0.06530007200033894,
          0.02264559015298473,
          0.031956582589494076,
          -0.018257508177222714,
          -0.02147443663678228,
          -0.05679109790447878,
          0.019058313448431896,
          -0.015079863077291922,
          0.03765532172769026,
          -0.0210117728564716,
          0.01974203993000856,
          -0.06258080462392579,
          -0.026442819620927094,
          0.08298307838940033,
          0.0005049630655584725,
          -0.017530198374358763,
          -0.05073534448173622,
          -0.004128355255019978,
          0.0659911087189411,
          0.00269936982337593,
          0.01532949208347456,
          -0.0012344825997834263,
          -0.01942562503747225,
          0.03417444676998316,
          0.018200754044233047,
          0.017884341374735824,
          0.037198260541408734,
          -0.00038923017041514463,
          0.00909121690255299,
          0.011576210049492719,
          0.028589803182446305,
          -0.001628089811129274,
          -0.08411046900964814,
          -0.0392279540954944,
          -0.0276657746060065,
          0.10754565805086314,
          0.03712140665943231,
          -0.011136640158463607,
          0.026091474971999817,
          0.04243863400810777,
          0.05242531255584737,
          0.005486502581813157,
          0.02221397632316946,
          0.02274810936591054,
          0.028990321391681118,
          -0.047569140421166334,
          0.06914387330123462,
          -0.00833373141847149,
          0.04361287497262989,
          -0.05258508910699977,
          -0.03136052086678265
         ],
         "xaxis": "x2",
         "yaxis": "y2"
        },
        {
         "alignmentgroup": "True",
         "bingroup": "x",
         "hovertemplate": "regime=Quad 4<br>SPX Index=%{x}<br>count=%{y}<extra></extra>",
         "legendgroup": "Quad 4",
         "marker": {
          "color": "#00cc96",
          "pattern": {
           "shape": ""
          }
         },
         "name": "Quad 4",
         "nbinsx": 30,
         "offsetgroup": "Quad 4",
         "orientation": "v",
         "showlegend": true,
         "type": "histogram",
         "x": [
          0.007821565652057494,
          -0.0856573484638804,
          -0.1099312248752845,
          0.08540450829150159,
          0.09392507551355478,
          0.053081426656431674,
          0.00019583523728705643,
          0.07414175695078962,
          0.033570300157977906,
          0.018388403283502663,
          0.0551012969754443,
          0.07006468732421922,
          -0.09339570164348932
         ],
         "xaxis": "x",
         "yaxis": "y"
        },
        {
         "alignmentgroup": "True",
         "hovertemplate": "regime=Quad 4<br>SPX Index=%{x}<extra></extra>",
         "legendgroup": "Quad 4",
         "marker": {
          "color": "#00cc96"
         },
         "name": "Quad 4",
         "notched": true,
         "offsetgroup": "Quad 4",
         "showlegend": false,
         "type": "box",
         "x": [
          0.007821565652057494,
          -0.0856573484638804,
          -0.1099312248752845,
          0.08540450829150159,
          0.09392507551355478,
          0.053081426656431674,
          0.00019583523728705643,
          0.07414175695078962,
          0.033570300157977906,
          0.018388403283502663,
          0.0551012969754443,
          0.07006468732421922,
          -0.09339570164348932
         ],
         "xaxis": "x2",
         "yaxis": "y2"
        },
        {
         "alignmentgroup": "True",
         "bingroup": "x",
         "hovertemplate": "regime=Quad 1<br>SPX Index=%{x}<br>count=%{y}<extra></extra>",
         "legendgroup": "Quad 1",
         "marker": {
          "color": "#ab63fa",
          "pattern": {
           "shape": ""
          }
         },
         "name": "Quad 1",
         "nbinsx": 30,
         "offsetgroup": "Quad 1",
         "orientation": "v",
         "showlegend": true,
         "type": "histogram",
         "x": [
          0.03571323594250608,
          -0.019752525825859846,
          0.05735379270411123,
          -0.053882376699314394,
          0.06877783275606131,
          -0.0474491648511256,
          0.08755110403781474,
          0.0368559411146161,
          -0.0022902827780877377,
          0.023562833299184183,
          -0.035582895107013734,
          0.043117037568930705,
          -0.015513859147336717,
          0.023201456175308888,
          0.024533584400783015,
          -0.004188512062527794,
          -0.031040847054252363,
          0.054892505726845675,
          -0.017396056070325572,
          0.008520762709815388,
          0.010491438545008114,
          0.0009060735540973308,
          0.0356098072286859,
          -0.0012191755612808164,
          0.004813831992702466,
          0.019348768883515444,
          0.0005464923288669432,
          0.019302894827342154,
          0.022188174774546043,
          0.028082601368405458,
          0.009831619818853499,
          0.056178724645703726,
          -0.038947379604151844,
          -0.026884513768364315,
          0.002718801001185378,
          0.02160835331659139,
          0.004842400204046138,
          0.03602158646541875,
          0.030263218631604083,
          0.0042943009181395375,
          -0.06940335897981464,
          0.01785938179914015,
          -0.09177695576721734,
          0.07868440473103688,
          0.02972893014311606,
          0.01792428775107835,
          0.03931343494213935,
          -0.06577772648116154,
          0.06893018320821498,
          0.013128195366039375,
          -0.01809165274226776,
          0.017181167690656807,
          0.020431747482144935,
          0.03404706409091518
         ],
         "xaxis": "x",
         "yaxis": "y"
        },
        {
         "alignmentgroup": "True",
         "hovertemplate": "regime=Quad 1<br>SPX Index=%{x}<extra></extra>",
         "legendgroup": "Quad 1",
         "marker": {
          "color": "#ab63fa"
         },
         "name": "Quad 1",
         "notched": true,
         "offsetgroup": "Quad 1",
         "showlegend": false,
         "type": "box",
         "x": [
          0.03571323594250608,
          -0.019752525825859846,
          0.05735379270411123,
          -0.053882376699314394,
          0.06877783275606131,
          -0.0474491648511256,
          0.08755110403781474,
          0.0368559411146161,
          -0.0022902827780877377,
          0.023562833299184183,
          -0.035582895107013734,
          0.043117037568930705,
          -0.015513859147336717,
          0.023201456175308888,
          0.024533584400783015,
          -0.004188512062527794,
          -0.031040847054252363,
          0.054892505726845675,
          -0.017396056070325572,
          0.008520762709815388,
          0.010491438545008114,
          0.0009060735540973308,
          0.0356098072286859,
          -0.0012191755612808164,
          0.004813831992702466,
          0.019348768883515444,
          0.0005464923288669432,
          0.019302894827342154,
          0.022188174774546043,
          0.028082601368405458,
          0.009831619818853499,
          0.056178724645703726,
          -0.038947379604151844,
          -0.026884513768364315,
          0.002718801001185378,
          0.02160835331659139,
          0.004842400204046138,
          0.03602158646541875,
          0.030263218631604083,
          0.0042943009181395375,
          -0.06940335897981464,
          0.01785938179914015,
          -0.09177695576721734,
          0.07868440473103688,
          0.02972893014311606,
          0.01792428775107835,
          0.03931343494213935,
          -0.06577772648116154,
          0.06893018320821498,
          0.013128195366039375,
          -0.01809165274226776,
          0.017181167690656807,
          0.020431747482144935,
          0.03404706409091518
         ],
         "xaxis": "x2",
         "yaxis": "y2"
        }
       ],
       "layout": {
        "barmode": "relative",
        "height": 500,
        "legend": {
         "title": {
          "text": "regime"
         },
         "tracegroupgap": 0
        },
        "margin": {
         "t": 60
        },
        "paper_bgcolor": "rgba(0,0,0,0)",
        "plot_bgcolor": "rgba(0,0,0,0)",
        "template": {
         "data": {
          "bar": [
           {
            "error_x": {
             "color": "#2a3f5f"
            },
            "error_y": {
             "color": "#2a3f5f"
            },
            "marker": {
             "line": {
              "color": "#E5ECF6",
              "width": 0.5
             },
             "pattern": {
              "fillmode": "overlay",
              "size": 10,
              "solidity": 0.2
             }
            },
            "type": "bar"
           }
          ],
          "barpolar": [
           {
            "marker": {
             "line": {
              "color": "#E5ECF6",
              "width": 0.5
             },
             "pattern": {
              "fillmode": "overlay",
              "size": 10,
              "solidity": 0.2
             }
            },
            "type": "barpolar"
           }
          ],
          "carpet": [
           {
            "aaxis": {
             "endlinecolor": "#2a3f5f",
             "gridcolor": "white",
             "linecolor": "white",
             "minorgridcolor": "white",
             "startlinecolor": "#2a3f5f"
            },
            "baxis": {
             "endlinecolor": "#2a3f5f",
             "gridcolor": "white",
             "linecolor": "white",
             "minorgridcolor": "white",
             "startlinecolor": "#2a3f5f"
            },
            "type": "carpet"
           }
          ],
          "choropleth": [
           {
            "colorbar": {
             "outlinewidth": 0,
             "ticks": ""
            },
            "type": "choropleth"
           }
          ],
          "contour": [
           {
            "colorbar": {
             "outlinewidth": 0,
             "ticks": ""
            },
            "colorscale": [
             [
              0,
              "#0d0887"
             ],
             [
              0.1111111111111111,
              "#46039f"
             ],
             [
              0.2222222222222222,
              "#7201a8"
             ],
             [
              0.3333333333333333,
              "#9c179e"
             ],
             [
              0.4444444444444444,
              "#bd3786"
             ],
             [
              0.5555555555555556,
              "#d8576b"
             ],
             [
              0.6666666666666666,
              "#ed7953"
             ],
             [
              0.7777777777777778,
              "#fb9f3a"
             ],
             [
              0.8888888888888888,
              "#fdca26"
             ],
             [
              1,
              "#f0f921"
             ]
            ],
            "type": "contour"
           }
          ],
          "contourcarpet": [
           {
            "colorbar": {
             "outlinewidth": 0,
             "ticks": ""
            },
            "type": "contourcarpet"
           }
          ],
          "heatmap": [
           {
            "colorbar": {
             "outlinewidth": 0,
             "ticks": ""
            },
            "colorscale": [
             [
              0,
              "#0d0887"
             ],
             [
              0.1111111111111111,
              "#46039f"
             ],
             [
              0.2222222222222222,
              "#7201a8"
             ],
             [
              0.3333333333333333,
              "#9c179e"
             ],
             [
              0.4444444444444444,
              "#bd3786"
             ],
             [
              0.5555555555555556,
              "#d8576b"
             ],
             [
              0.6666666666666666,
              "#ed7953"
             ],
             [
              0.7777777777777778,
              "#fb9f3a"
             ],
             [
              0.8888888888888888,
              "#fdca26"
             ],
             [
              1,
              "#f0f921"
             ]
            ],
            "type": "heatmap"
           }
          ],
          "heatmapgl": [
           {
            "colorbar": {
             "outlinewidth": 0,
             "ticks": ""
            },
            "colorscale": [
             [
              0,
              "#0d0887"
             ],
             [
              0.1111111111111111,
              "#46039f"
             ],
             [
              0.2222222222222222,
              "#7201a8"
             ],
             [
              0.3333333333333333,
              "#9c179e"
             ],
             [
              0.4444444444444444,
              "#bd3786"
             ],
             [
              0.5555555555555556,
              "#d8576b"
             ],
             [
              0.6666666666666666,
              "#ed7953"
             ],
             [
              0.7777777777777778,
              "#fb9f3a"
             ],
             [
              0.8888888888888888,
              "#fdca26"
             ],
             [
              1,
              "#f0f921"
             ]
            ],
            "type": "heatmapgl"
           }
          ],
          "histogram": [
           {
            "marker": {
             "pattern": {
              "fillmode": "overlay",
              "size": 10,
              "solidity": 0.2
             }
            },
            "type": "histogram"
           }
          ],
          "histogram2d": [
           {
            "colorbar": {
             "outlinewidth": 0,
             "ticks": ""
            },
            "colorscale": [
             [
              0,
              "#0d0887"
             ],
             [
              0.1111111111111111,
              "#46039f"
             ],
             [
              0.2222222222222222,
              "#7201a8"
             ],
             [
              0.3333333333333333,
              "#9c179e"
             ],
             [
              0.4444444444444444,
              "#bd3786"
             ],
             [
              0.5555555555555556,
              "#d8576b"
             ],
             [
              0.6666666666666666,
              "#ed7953"
             ],
             [
              0.7777777777777778,
              "#fb9f3a"
             ],
             [
              0.8888888888888888,
              "#fdca26"
             ],
             [
              1,
              "#f0f921"
             ]
            ],
            "type": "histogram2d"
           }
          ],
          "histogram2dcontour": [
           {
            "colorbar": {
             "outlinewidth": 0,
             "ticks": ""
            },
            "colorscale": [
             [
              0,
              "#0d0887"
             ],
             [
              0.1111111111111111,
              "#46039f"
             ],
             [
              0.2222222222222222,
              "#7201a8"
             ],
             [
              0.3333333333333333,
              "#9c179e"
             ],
             [
              0.4444444444444444,
              "#bd3786"
             ],
             [
              0.5555555555555556,
              "#d8576b"
             ],
             [
              0.6666666666666666,
              "#ed7953"
             ],
             [
              0.7777777777777778,
              "#fb9f3a"
             ],
             [
              0.8888888888888888,
              "#fdca26"
             ],
             [
              1,
              "#f0f921"
             ]
            ],
            "type": "histogram2dcontour"
           }
          ],
          "mesh3d": [
           {
            "colorbar": {
             "outlinewidth": 0,
             "ticks": ""
            },
            "type": "mesh3d"
           }
          ],
          "parcoords": [
           {
            "line": {
             "colorbar": {
              "outlinewidth": 0,
              "ticks": ""
             }
            },
            "type": "parcoords"
           }
          ],
          "pie": [
           {
            "automargin": true,
            "type": "pie"
           }
          ],
          "scatter": [
           {
            "fillpattern": {
             "fillmode": "overlay",
             "size": 10,
             "solidity": 0.2
            },
            "type": "scatter"
           }
          ],
          "scatter3d": [
           {
            "line": {
             "colorbar": {
              "outlinewidth": 0,
              "ticks": ""
             }
            },
            "marker": {
             "colorbar": {
              "outlinewidth": 0,
              "ticks": ""
             }
            },
            "type": "scatter3d"
           }
          ],
          "scattercarpet": [
           {
            "marker": {
             "colorbar": {
              "outlinewidth": 0,
              "ticks": ""
             }
            },
            "type": "scattercarpet"
           }
          ],
          "scattergeo": [
           {
            "marker": {
             "colorbar": {
              "outlinewidth": 0,
              "ticks": ""
             }
            },
            "type": "scattergeo"
           }
          ],
          "scattergl": [
           {
            "marker": {
             "colorbar": {
              "outlinewidth": 0,
              "ticks": ""
             }
            },
            "type": "scattergl"
           }
          ],
          "scattermapbox": [
           {
            "marker": {
             "colorbar": {
              "outlinewidth": 0,
              "ticks": ""
             }
            },
            "type": "scattermapbox"
           }
          ],
          "scatterpolar": [
           {
            "marker": {
             "colorbar": {
              "outlinewidth": 0,
              "ticks": ""
             }
            },
            "type": "scatterpolar"
           }
          ],
          "scatterpolargl": [
           {
            "marker": {
             "colorbar": {
              "outlinewidth": 0,
              "ticks": ""
             }
            },
            "type": "scatterpolargl"
           }
          ],
          "scatterternary": [
           {
            "marker": {
             "colorbar": {
              "outlinewidth": 0,
              "ticks": ""
             }
            },
            "type": "scatterternary"
           }
          ],
          "surface": [
           {
            "colorbar": {
             "outlinewidth": 0,
             "ticks": ""
            },
            "colorscale": [
             [
              0,
              "#0d0887"
             ],
             [
              0.1111111111111111,
              "#46039f"
             ],
             [
              0.2222222222222222,
              "#7201a8"
             ],
             [
              0.3333333333333333,
              "#9c179e"
             ],
             [
              0.4444444444444444,
              "#bd3786"
             ],
             [
              0.5555555555555556,
              "#d8576b"
             ],
             [
              0.6666666666666666,
              "#ed7953"
             ],
             [
              0.7777777777777778,
              "#fb9f3a"
             ],
             [
              0.8888888888888888,
              "#fdca26"
             ],
             [
              1,
              "#f0f921"
             ]
            ],
            "type": "surface"
           }
          ],
          "table": [
           {
            "cells": {
             "fill": {
              "color": "#EBF0F8"
             },
             "line": {
              "color": "white"
             }
            },
            "header": {
             "fill": {
              "color": "#C8D4E3"
             },
             "line": {
              "color": "white"
             }
            },
            "type": "table"
           }
          ]
         },
         "layout": {
          "annotationdefaults": {
           "arrowcolor": "#2a3f5f",
           "arrowhead": 0,
           "arrowwidth": 1
          },
          "autotypenumbers": "strict",
          "coloraxis": {
           "colorbar": {
            "outlinewidth": 0,
            "ticks": ""
           }
          },
          "colorscale": {
           "diverging": [
            [
             0,
             "#8e0152"
            ],
            [
             0.1,
             "#c51b7d"
            ],
            [
             0.2,
             "#de77ae"
            ],
            [
             0.3,
             "#f1b6da"
            ],
            [
             0.4,
             "#fde0ef"
            ],
            [
             0.5,
             "#f7f7f7"
            ],
            [
             0.6,
             "#e6f5d0"
            ],
            [
             0.7,
             "#b8e186"
            ],
            [
             0.8,
             "#7fbc41"
            ],
            [
             0.9,
             "#4d9221"
            ],
            [
             1,
             "#276419"
            ]
           ],
           "sequential": [
            [
             0,
             "#0d0887"
            ],
            [
             0.1111111111111111,
             "#46039f"
            ],
            [
             0.2222222222222222,
             "#7201a8"
            ],
            [
             0.3333333333333333,
             "#9c179e"
            ],
            [
             0.4444444444444444,
             "#bd3786"
            ],
            [
             0.5555555555555556,
             "#d8576b"
            ],
            [
             0.6666666666666666,
             "#ed7953"
            ],
            [
             0.7777777777777778,
             "#fb9f3a"
            ],
            [
             0.8888888888888888,
             "#fdca26"
            ],
            [
             1,
             "#f0f921"
            ]
           ],
           "sequentialminus": [
            [
             0,
             "#0d0887"
            ],
            [
             0.1111111111111111,
             "#46039f"
            ],
            [
             0.2222222222222222,
             "#7201a8"
            ],
            [
             0.3333333333333333,
             "#9c179e"
            ],
            [
             0.4444444444444444,
             "#bd3786"
            ],
            [
             0.5555555555555556,
             "#d8576b"
            ],
            [
             0.6666666666666666,
             "#ed7953"
            ],
            [
             0.7777777777777778,
             "#fb9f3a"
            ],
            [
             0.8888888888888888,
             "#fdca26"
            ],
            [
             1,
             "#f0f921"
            ]
           ]
          },
          "colorway": [
           "#636efa",
           "#EF553B",
           "#00cc96",
           "#ab63fa",
           "#FFA15A",
           "#19d3f3",
           "#FF6692",
           "#B6E880",
           "#FF97FF",
           "#FECB52"
          ],
          "font": {
           "color": "#2a3f5f"
          },
          "geo": {
           "bgcolor": "white",
           "lakecolor": "white",
           "landcolor": "#E5ECF6",
           "showlakes": true,
           "showland": true,
           "subunitcolor": "white"
          },
          "hoverlabel": {
           "align": "left"
          },
          "hovermode": "closest",
          "mapbox": {
           "style": "light"
          },
          "paper_bgcolor": "white",
          "plot_bgcolor": "#E5ECF6",
          "polar": {
           "angularaxis": {
            "gridcolor": "white",
            "linecolor": "white",
            "ticks": ""
           },
           "bgcolor": "#E5ECF6",
           "radialaxis": {
            "gridcolor": "white",
            "linecolor": "white",
            "ticks": ""
           }
          },
          "scene": {
           "xaxis": {
            "backgroundcolor": "#E5ECF6",
            "gridcolor": "white",
            "gridwidth": 2,
            "linecolor": "white",
            "showbackground": true,
            "ticks": "",
            "zerolinecolor": "white"
           },
           "yaxis": {
            "backgroundcolor": "#E5ECF6",
            "gridcolor": "white",
            "gridwidth": 2,
            "linecolor": "white",
            "showbackground": true,
            "ticks": "",
            "zerolinecolor": "white"
           },
           "zaxis": {
            "backgroundcolor": "#E5ECF6",
            "gridcolor": "white",
            "gridwidth": 2,
            "linecolor": "white",
            "showbackground": true,
            "ticks": "",
            "zerolinecolor": "white"
           }
          },
          "shapedefaults": {
           "line": {
            "color": "#2a3f5f"
           }
          },
          "ternary": {
           "aaxis": {
            "gridcolor": "white",
            "linecolor": "white",
            "ticks": ""
           },
           "baxis": {
            "gridcolor": "white",
            "linecolor": "white",
            "ticks": ""
           },
           "bgcolor": "#E5ECF6",
           "caxis": {
            "gridcolor": "white",
            "linecolor": "white",
            "ticks": ""
           }
          },
          "title": {
           "x": 0.05
          },
          "xaxis": {
           "automargin": true,
           "gridcolor": "white",
           "linecolor": "white",
           "ticks": "",
           "title": {
            "standoff": 15
           },
           "zerolinecolor": "white",
           "zerolinewidth": 2
          },
          "yaxis": {
           "automargin": true,
           "gridcolor": "white",
           "linecolor": "white",
           "ticks": "",
           "title": {
            "standoff": 15
           },
           "zerolinecolor": "white",
           "zerolinewidth": 2
          }
         }
        },
        "xaxis": {
         "anchor": "y",
         "domain": [
          0,
          1
         ],
         "title": {
          "text": "SPX Index"
         }
        },
        "xaxis2": {
         "anchor": "y2",
         "domain": [
          0,
          1
         ],
         "matches": "x",
         "showgrid": true,
         "showticklabels": false
        },
        "yaxis": {
         "anchor": "x",
         "domain": [
          0,
          0.7326
         ],
         "title": {
          "text": "count"
         }
        },
        "yaxis2": {
         "anchor": "x2",
         "domain": [
          0.7426,
          1
         ],
         "matches": "y2",
         "showgrid": false,
         "showline": false,
         "showticklabels": false,
         "ticks": ""
        }
       }
      }
     },
     "metadata": {},
     "output_type": "display_data"
    }
   ],
   "source": [
    "fig_dic['SPX Index']"
   ]
  },
  {
   "cell_type": "code",
   "execution_count": 69,
   "metadata": {},
   "outputs": [
    {
     "data": {
      "text/plain": [
       "4"
      ]
     },
     "execution_count": 69,
     "metadata": {},
     "output_type": "execute_result"
    }
   ],
   "source": [
    "# Optimization conditional on regime\n",
    "def eff_front(dic):\n",
    "    ef = EfficientFrontier(dic['mean'], dic['cov'])\n",
    "    weights = ef.max_sharpe()\n",
    "    cleaned_weights = ef.clean_weights()\n",
    "    return dict(regime=dic['regime'], ef=ef, weights=cleaned_weights)\n",
    "\n",
    "li_eff = [eff_front(i) for i in li_ss]\n",
    "len(li_eff)"
   ]
  },
  {
   "cell_type": "code",
   "execution_count": 250,
   "metadata": {},
   "outputs": [
    {
     "name": "stdout",
     "output_type": "stream",
     "text": [
      "Expected annual return: 9.8%\n",
      "Annual volatility: 5.9%\n",
      "Sharpe Ratio: 1.32\n"
     ]
    },
    {
     "data": {
      "text/plain": [
       "(0.09760377692579476, 0.058727431651669736, 1.321422966120609)"
      ]
     },
     "execution_count": 250,
     "metadata": {},
     "output_type": "execute_result"
    }
   ],
   "source": [
    "li_eff[0]['ef'].portfolio_performance(verbose=True)"
   ]
  },
  {
   "cell_type": "code",
   "execution_count": null,
   "metadata": {},
   "outputs": [],
   "source": []
  },
  {
   "cell_type": "code",
   "execution_count": 89,
   "metadata": {},
   "outputs": [
    {
     "data": {
      "text/html": [
       "<div>\n",
       "<style scoped>\n",
       "    .dataframe tbody tr th:only-of-type {\n",
       "        vertical-align: middle;\n",
       "    }\n",
       "\n",
       "    .dataframe tbody tr th {\n",
       "        vertical-align: top;\n",
       "    }\n",
       "\n",
       "    .dataframe thead th {\n",
       "        text-align: right;\n",
       "    }\n",
       "</style>\n",
       "<table border=\"1\" class=\"dataframe\">\n",
       "  <thead>\n",
       "    <tr style=\"text-align: right;\">\n",
       "      <th></th>\n",
       "      <th>SPX Index</th>\n",
       "      <th>DXY Curncy</th>\n",
       "      <th>EHFI451 Index</th>\n",
       "      <th>EHFI453 Index</th>\n",
       "      <th>XAU Curncy</th>\n",
       "    </tr>\n",
       "    <tr>\n",
       "      <th>regime</th>\n",
       "      <th></th>\n",
       "      <th></th>\n",
       "      <th></th>\n",
       "      <th></th>\n",
       "      <th></th>\n",
       "    </tr>\n",
       "  </thead>\n",
       "  <tbody>\n",
       "    <tr>\n",
       "      <th>Quad 1</th>\n",
       "      <td>0.39711</td>\n",
       "      <td>0.26508</td>\n",
       "      <td>0.00000</td>\n",
       "      <td>0.0</td>\n",
       "      <td>0.33782</td>\n",
       "    </tr>\n",
       "    <tr>\n",
       "      <th>Quad 2</th>\n",
       "      <td>0.27739</td>\n",
       "      <td>0.44164</td>\n",
       "      <td>0.00000</td>\n",
       "      <td>0.0</td>\n",
       "      <td>0.28097</td>\n",
       "    </tr>\n",
       "    <tr>\n",
       "      <th>Quad 3</th>\n",
       "      <td>0.18706</td>\n",
       "      <td>0.41095</td>\n",
       "      <td>0.40199</td>\n",
       "      <td>0.0</td>\n",
       "      <td>0.00000</td>\n",
       "    </tr>\n",
       "    <tr>\n",
       "      <th>Quad 4</th>\n",
       "      <td>0.20973</td>\n",
       "      <td>0.00000</td>\n",
       "      <td>0.44985</td>\n",
       "      <td>0.0</td>\n",
       "      <td>0.34042</td>\n",
       "    </tr>\n",
       "  </tbody>\n",
       "</table>\n",
       "</div>"
      ],
      "text/plain": [
       "        SPX Index  DXY Curncy  EHFI451 Index  EHFI453 Index  XAU Curncy\n",
       "regime                                                                 \n",
       "Quad 1    0.39711     0.26508        0.00000            0.0     0.33782\n",
       "Quad 2    0.27739     0.44164        0.00000            0.0     0.28097\n",
       "Quad 3    0.18706     0.41095        0.40199            0.0     0.00000\n",
       "Quad 4    0.20973     0.00000        0.44985            0.0     0.34042"
      ]
     },
     "execution_count": 89,
     "metadata": {},
     "output_type": "execute_result"
    }
   ],
   "source": [
    "# Create regime weighting map\n",
    "rw_df = pd.DataFrame([dict(regime=i['regime'], **i['weights']) for i in li_eff])\n",
    "rw_df = rw_df.set_index('regime')\n",
    "rw_df"
   ]
  },
  {
   "cell_type": "code",
   "execution_count": 158,
   "metadata": {},
   "outputs": [
    {
     "name": "stdout",
     "output_type": "stream",
     "text": [
      "True\n"
     ]
    }
   ],
   "source": [
    "# Backtest cond allocations\n",
    "ts_regimes = ret_df[['regime']]\n",
    "ts_weights = rw_df.merge(ret_df[['regime']], how='right', left_index=True, right_on='regime').drop(columns=['regime'])\n",
    "\n",
    "# Porfolio weighted returns\n",
    "port_rets = ret_df.copy().drop(columns=['regime'])\n",
    "print(ts_weights.shape == port_rets.shape)\n",
    "port_rets['Portfolio'] = (port_rets * ts_weights).sum(axis=1)\n",
    "\n",
    "# Cum rets\n",
    "port_crets = port_rets.add(1).cumprod()\n",
    "# port_rets['cret_port'] = port_rets.ret_port.add(1).cumprod()"
   ]
  },
  {
   "cell_type": "code",
   "execution_count": 159,
   "metadata": {},
   "outputs": [
    {
     "data": {
      "application/vnd.plotly.v1+json": {
       "config": {
        "plotlyServerURL": "https://plot.ly"
       },
       "data": [
        {
         "hovertemplate": "variable=SPX Index<br>Date=%{x}<br>value=%{y}<extra></extra>",
         "legendgroup": "SPX Index",
         "line": {
          "color": "#636efa",
          "dash": "solid"
         },
         "marker": {
          "symbol": "circle"
         },
         "mode": "lines",
         "name": "SPX Index",
         "showlegend": true,
         "type": "scattergl",
         "x": [
          "2008-04-30T00:00:00",
          "2008-05-30T00:00:00",
          "2008-06-30T00:00:00",
          "2008-07-31T00:00:00",
          "2008-08-29T00:00:00",
          "2008-09-30T00:00:00",
          "2008-10-31T00:00:00",
          "2008-11-28T00:00:00",
          "2008-12-31T00:00:00",
          "2009-01-30T00:00:00",
          "2009-02-27T00:00:00",
          "2009-03-31T00:00:00",
          "2009-04-30T00:00:00",
          "2009-05-29T00:00:00",
          "2009-06-30T00:00:00",
          "2009-07-31T00:00:00",
          "2009-08-31T00:00:00",
          "2009-09-30T00:00:00",
          "2009-10-30T00:00:00",
          "2009-11-30T00:00:00",
          "2009-12-31T00:00:00",
          "2010-01-29T00:00:00",
          "2010-02-26T00:00:00",
          "2010-03-31T00:00:00",
          "2010-04-30T00:00:00",
          "2010-05-31T00:00:00",
          "2010-06-30T00:00:00",
          "2010-07-30T00:00:00",
          "2010-08-31T00:00:00",
          "2010-09-30T00:00:00",
          "2010-10-29T00:00:00",
          "2010-11-30T00:00:00",
          "2010-12-31T00:00:00",
          "2011-01-31T00:00:00",
          "2011-02-28T00:00:00",
          "2011-03-31T00:00:00",
          "2011-04-29T00:00:00",
          "2011-05-31T00:00:00",
          "2011-06-30T00:00:00",
          "2011-07-29T00:00:00",
          "2011-08-31T00:00:00",
          "2011-09-30T00:00:00",
          "2011-10-31T00:00:00",
          "2011-11-30T00:00:00",
          "2011-12-30T00:00:00",
          "2012-01-31T00:00:00",
          "2012-02-29T00:00:00",
          "2012-03-30T00:00:00",
          "2012-04-30T00:00:00",
          "2012-05-31T00:00:00",
          "2012-06-29T00:00:00",
          "2012-07-31T00:00:00",
          "2012-08-31T00:00:00",
          "2012-09-28T00:00:00",
          "2012-10-31T00:00:00",
          "2012-11-30T00:00:00",
          "2012-12-31T00:00:00",
          "2013-01-31T00:00:00",
          "2013-02-28T00:00:00",
          "2013-03-29T00:00:00",
          "2013-04-30T00:00:00",
          "2013-05-31T00:00:00",
          "2013-06-28T00:00:00",
          "2013-07-31T00:00:00",
          "2013-08-30T00:00:00",
          "2013-09-30T00:00:00",
          "2013-10-31T00:00:00",
          "2013-11-29T00:00:00",
          "2013-12-31T00:00:00",
          "2014-01-31T00:00:00",
          "2014-02-28T00:00:00",
          "2014-03-31T00:00:00",
          "2014-04-30T00:00:00",
          "2014-05-30T00:00:00",
          "2014-06-30T00:00:00",
          "2014-07-31T00:00:00",
          "2014-08-29T00:00:00",
          "2014-09-30T00:00:00",
          "2014-10-31T00:00:00",
          "2014-11-28T00:00:00",
          "2014-12-31T00:00:00",
          "2015-01-30T00:00:00",
          "2015-02-27T00:00:00",
          "2015-03-31T00:00:00",
          "2015-04-30T00:00:00",
          "2015-05-29T00:00:00",
          "2015-06-30T00:00:00",
          "2015-07-31T00:00:00",
          "2015-08-31T00:00:00",
          "2015-09-30T00:00:00",
          "2015-10-30T00:00:00",
          "2015-11-30T00:00:00",
          "2015-12-31T00:00:00",
          "2016-01-29T00:00:00",
          "2016-02-29T00:00:00",
          "2016-03-31T00:00:00",
          "2016-04-29T00:00:00",
          "2016-05-31T00:00:00",
          "2016-06-30T00:00:00",
          "2016-07-29T00:00:00",
          "2016-08-31T00:00:00",
          "2016-09-30T00:00:00",
          "2016-10-31T00:00:00",
          "2016-11-30T00:00:00",
          "2016-12-30T00:00:00",
          "2017-01-31T00:00:00",
          "2017-02-28T00:00:00",
          "2017-03-31T00:00:00",
          "2017-04-28T00:00:00",
          "2017-05-31T00:00:00",
          "2017-06-30T00:00:00",
          "2017-07-31T00:00:00",
          "2017-08-31T00:00:00",
          "2017-09-29T00:00:00",
          "2017-10-31T00:00:00",
          "2017-11-30T00:00:00",
          "2017-12-29T00:00:00",
          "2018-01-31T00:00:00",
          "2018-02-28T00:00:00",
          "2018-03-30T00:00:00",
          "2018-04-30T00:00:00",
          "2018-05-31T00:00:00",
          "2018-06-29T00:00:00",
          "2018-07-31T00:00:00",
          "2018-08-31T00:00:00",
          "2018-09-28T00:00:00",
          "2018-10-31T00:00:00",
          "2018-11-30T00:00:00",
          "2018-12-31T00:00:00",
          "2019-01-31T00:00:00",
          "2019-02-28T00:00:00",
          "2019-03-29T00:00:00",
          "2019-04-30T00:00:00",
          "2019-05-31T00:00:00",
          "2019-06-28T00:00:00",
          "2019-07-31T00:00:00",
          "2019-08-30T00:00:00",
          "2019-09-30T00:00:00",
          "2019-10-31T00:00:00",
          "2019-11-29T00:00:00",
          "2019-12-31T00:00:00",
          "2020-01-31T00:00:00",
          "2020-02-28T00:00:00",
          "2020-03-31T00:00:00",
          "2020-04-30T00:00:00",
          "2020-05-29T00:00:00",
          "2020-06-30T00:00:00",
          "2020-07-31T00:00:00",
          "2020-08-31T00:00:00",
          "2020-09-30T00:00:00",
          "2020-10-30T00:00:00",
          "2020-11-30T00:00:00",
          "2020-12-31T00:00:00",
          "2021-01-29T00:00:00",
          "2021-02-26T00:00:00",
          "2021-03-31T00:00:00",
          "2021-04-30T00:00:00",
          "2021-05-31T00:00:00",
          "2021-06-30T00:00:00",
          "2021-07-30T00:00:00",
          "2021-08-31T00:00:00",
          "2021-09-30T00:00:00",
          "2021-10-29T00:00:00",
          "2021-11-30T00:00:00",
          "2021-12-31T00:00:00",
          "2022-01-31T00:00:00",
          "2022-02-28T00:00:00",
          "2022-03-31T00:00:00",
          "2022-04-29T00:00:00",
          "2022-05-31T00:00:00",
          "2022-06-30T00:00:00",
          "2022-07-29T00:00:00",
          "2022-08-31T00:00:00",
          "2022-09-30T00:00:00"
         ],
         "xaxis": "x",
         "y": [
          1.0475466848113706,
          1.058728358660316,
          0.9677175474408406,
          0.9581764572465412,
          0.9698571104558855,
          0.8818023739321084,
          0.7324034172525893,
          0.6775837302487335,
          0.68288349587964,
          0.6243895063128448,
          0.5557496030845996,
          0.603213124669237,
          0.6598699629545625,
          0.6948968019959173,
          0.6950328872760262,
          0.7465638466772508,
          0.7716262190973008,
          0.7991834883193466,
          0.783397595826718,
          0.8283284191426626,
          0.8430483102744384,
          0.8118772208361682,
          0.8350268390413547,
          0.8841233839872985,
          0.8971724502910711,
          0.8236259166855672,
          0.7792469947833973,
          0.8328419142662732,
          0.7933242609813258,
          0.8627806758902243,
          0.8945792696756631,
          0.8925304301806907,
          0.9508127315339833,
          0.9723444469645417,
          1.0034172525894,
          1.002366371815226,
          1.0309291600514097,
          1.0170106600136084,
          0.9984425795720873,
          0.9770015876616011,
          0.9215165948438798,
          0.8553867090043092,
          0.9475315642246916,
          0.9427383382475237,
          0.9507900506539649,
          0.9922204581537761,
          1.0324941407726618,
          1.0648446359718753,
          1.0568609662054884,
          0.9906479171391845,
          1.0298329175171992,
          1.0428063808875778,
          1.0634157405307318,
          1.0891887805246838,
          1.067634384214107,
          1.0706736221365385,
          1.0782414757692593,
          1.1326151054660916,
          1.145142511529447,
          1.1863536705224158,
          1.2078097830195806,
          1.2328872760263094,
          1.214394798518182,
          1.2744613290995688,
          1.2345732214409917,
          1.2713011264837073,
          1.3279957662357298,
          1.3652453315188628,
          1.3974143796779313,
          1.3476903303848187,
          1.4057987449913056,
          1.4155439631057682,
          1.4243214636727903,
          1.45427534588342,
          1.4819913812655927,
          1.4596431541543808,
          1.5146064867316846,
          1.4911090950328867,
          1.5257049973538968,
          1.563136009677175,
          1.5565887956452704,
          1.5082709609132827,
          1.5910637332728501,
          1.5633854993573741,
          1.5767067362213645,
          1.5932486580479313,
          1.55977167914115,
          1.590564753912451,
          1.4910259318061534,
          1.4515990020412786,
          1.5720571558176453,
          1.57285098661828,
          1.5452785968095557,
          1.466878354880169,
          1.4608225599153244,
          1.5572238602857784,
          1.5614273833824748,
          1.5853632720949569,
          1.5867997278294392,
          1.6433053602479768,
          1.6413018825130408,
          1.6392757238980866,
          1.6074317683526116,
          1.662364859756558,
          1.692621153700763,
          1.7228925682316465,
          1.786981174869584,
          1.786285627882361,
          1.8025251379753524,
          1.823391547592046,
          1.8321690481590678,
          1.867619263627428,
          1.8686399032282446,
          1.9047100627504343,
          1.9469721025175775,
          2.001648143947985,
          2.0213275875103953,
          2.1348831934679064,
          2.0517350873213878,
          1.9965751871172597,
          2.002003477734936,
          2.045263476222877,
          2.055167460497467,
          2.1291978528766915,
          2.193634233008241,
          2.2030543585091107,
          2.0501549860134576,
          2.086769486656083,
          1.8952521357828687,
          2.04437892190217,
          2.1051561200574587,
          2.142889544114312,
          2.227133892795041,
          2.080638088757844,
          2.2240568534059126,
          2.253254706282604,
          2.2124896045966587,
          2.250502759507069,
          2.2964844635971877,
          2.3746730173130723,
          2.442564451500719,
          2.438587737204204,
          2.233476978906782,
          1.9540258562032213,
          2.2018825130415065,
          2.3015876616012707,
          2.3439101837151286,
          2.4730626748317843,
          2.6463370378770703,
          2.542526650034022,
          2.4721856808044156,
          2.7380585166704474,
          2.839699100325093,
          2.80807439328646,
          2.881341196038407,
          3.0036213805095646,
          3.161087170182204,
          3.178430483102745,
          3.2490360625992296,
          3.3229454902850244,
          3.4192787480154245,
          3.256626597111969,
          3.48180237393211,
          3.4527859680955633,
          3.603371890829366,
          3.4138882588644455,
          3.306826944885463,
          3.4251228547667667,
          3.1238602857790903,
          3.1240266122325564,
          2.861858320102822,
          3.1226203976714313,
          2.9900960157254115,
          2.710833900355335
         ],
         "yaxis": "y"
        },
        {
         "hovertemplate": "variable=DXY Curncy<br>Date=%{x}<br>value=%{y}<extra></extra>",
         "legendgroup": "DXY Curncy",
         "line": {
          "color": "#EF553B",
          "dash": "solid"
         },
         "marker": {
          "symbol": "circle"
         },
         "mode": "lines",
         "name": "DXY Curncy",
         "showlegend": true,
         "type": "scattergl",
         "x": [
          "2008-04-30T00:00:00",
          "2008-05-30T00:00:00",
          "2008-06-30T00:00:00",
          "2008-07-31T00:00:00",
          "2008-08-29T00:00:00",
          "2008-09-30T00:00:00",
          "2008-10-31T00:00:00",
          "2008-11-28T00:00:00",
          "2008-12-31T00:00:00",
          "2009-01-30T00:00:00",
          "2009-02-27T00:00:00",
          "2009-03-31T00:00:00",
          "2009-04-30T00:00:00",
          "2009-05-29T00:00:00",
          "2009-06-30T00:00:00",
          "2009-07-31T00:00:00",
          "2009-08-31T00:00:00",
          "2009-09-30T00:00:00",
          "2009-10-30T00:00:00",
          "2009-11-30T00:00:00",
          "2009-12-31T00:00:00",
          "2010-01-29T00:00:00",
          "2010-02-26T00:00:00",
          "2010-03-31T00:00:00",
          "2010-04-30T00:00:00",
          "2010-05-31T00:00:00",
          "2010-06-30T00:00:00",
          "2010-07-30T00:00:00",
          "2010-08-31T00:00:00",
          "2010-09-30T00:00:00",
          "2010-10-29T00:00:00",
          "2010-11-30T00:00:00",
          "2010-12-31T00:00:00",
          "2011-01-31T00:00:00",
          "2011-02-28T00:00:00",
          "2011-03-31T00:00:00",
          "2011-04-29T00:00:00",
          "2011-05-31T00:00:00",
          "2011-06-30T00:00:00",
          "2011-07-29T00:00:00",
          "2011-08-31T00:00:00",
          "2011-09-30T00:00:00",
          "2011-10-31T00:00:00",
          "2011-11-30T00:00:00",
          "2011-12-30T00:00:00",
          "2012-01-31T00:00:00",
          "2012-02-29T00:00:00",
          "2012-03-30T00:00:00",
          "2012-04-30T00:00:00",
          "2012-05-31T00:00:00",
          "2012-06-29T00:00:00",
          "2012-07-31T00:00:00",
          "2012-08-31T00:00:00",
          "2012-09-28T00:00:00",
          "2012-10-31T00:00:00",
          "2012-11-30T00:00:00",
          "2012-12-31T00:00:00",
          "2013-01-31T00:00:00",
          "2013-02-28T00:00:00",
          "2013-03-29T00:00:00",
          "2013-04-30T00:00:00",
          "2013-05-31T00:00:00",
          "2013-06-28T00:00:00",
          "2013-07-31T00:00:00",
          "2013-08-30T00:00:00",
          "2013-09-30T00:00:00",
          "2013-10-31T00:00:00",
          "2013-11-29T00:00:00",
          "2013-12-31T00:00:00",
          "2014-01-31T00:00:00",
          "2014-02-28T00:00:00",
          "2014-03-31T00:00:00",
          "2014-04-30T00:00:00",
          "2014-05-30T00:00:00",
          "2014-06-30T00:00:00",
          "2014-07-31T00:00:00",
          "2014-08-29T00:00:00",
          "2014-09-30T00:00:00",
          "2014-10-31T00:00:00",
          "2014-11-28T00:00:00",
          "2014-12-31T00:00:00",
          "2015-01-30T00:00:00",
          "2015-02-27T00:00:00",
          "2015-03-31T00:00:00",
          "2015-04-30T00:00:00",
          "2015-05-29T00:00:00",
          "2015-06-30T00:00:00",
          "2015-07-31T00:00:00",
          "2015-08-31T00:00:00",
          "2015-09-30T00:00:00",
          "2015-10-30T00:00:00",
          "2015-11-30T00:00:00",
          "2015-12-31T00:00:00",
          "2016-01-29T00:00:00",
          "2016-02-29T00:00:00",
          "2016-03-31T00:00:00",
          "2016-04-29T00:00:00",
          "2016-05-31T00:00:00",
          "2016-06-30T00:00:00",
          "2016-07-29T00:00:00",
          "2016-08-31T00:00:00",
          "2016-09-30T00:00:00",
          "2016-10-31T00:00:00",
          "2016-11-30T00:00:00",
          "2016-12-30T00:00:00",
          "2017-01-31T00:00:00",
          "2017-02-28T00:00:00",
          "2017-03-31T00:00:00",
          "2017-04-28T00:00:00",
          "2017-05-31T00:00:00",
          "2017-06-30T00:00:00",
          "2017-07-31T00:00:00",
          "2017-08-31T00:00:00",
          "2017-09-29T00:00:00",
          "2017-10-31T00:00:00",
          "2017-11-30T00:00:00",
          "2017-12-29T00:00:00",
          "2018-01-31T00:00:00",
          "2018-02-28T00:00:00",
          "2018-03-30T00:00:00",
          "2018-04-30T00:00:00",
          "2018-05-31T00:00:00",
          "2018-06-29T00:00:00",
          "2018-07-31T00:00:00",
          "2018-08-31T00:00:00",
          "2018-09-28T00:00:00",
          "2018-10-31T00:00:00",
          "2018-11-30T00:00:00",
          "2018-12-31T00:00:00",
          "2019-01-31T00:00:00",
          "2019-02-28T00:00:00",
          "2019-03-29T00:00:00",
          "2019-04-30T00:00:00",
          "2019-05-31T00:00:00",
          "2019-06-28T00:00:00",
          "2019-07-31T00:00:00",
          "2019-08-30T00:00:00",
          "2019-09-30T00:00:00",
          "2019-10-31T00:00:00",
          "2019-11-29T00:00:00",
          "2019-12-31T00:00:00",
          "2020-01-31T00:00:00",
          "2020-02-28T00:00:00",
          "2020-03-31T00:00:00",
          "2020-04-30T00:00:00",
          "2020-05-29T00:00:00",
          "2020-06-30T00:00:00",
          "2020-07-31T00:00:00",
          "2020-08-31T00:00:00",
          "2020-09-30T00:00:00",
          "2020-10-30T00:00:00",
          "2020-11-30T00:00:00",
          "2020-12-31T00:00:00",
          "2021-01-29T00:00:00",
          "2021-02-26T00:00:00",
          "2021-03-31T00:00:00",
          "2021-04-30T00:00:00",
          "2021-05-31T00:00:00",
          "2021-06-30T00:00:00",
          "2021-07-30T00:00:00",
          "2021-08-31T00:00:00",
          "2021-09-30T00:00:00",
          "2021-10-29T00:00:00",
          "2021-11-30T00:00:00",
          "2021-12-31T00:00:00",
          "2022-01-31T00:00:00",
          "2022-02-28T00:00:00",
          "2022-03-31T00:00:00",
          "2022-04-29T00:00:00",
          "2022-05-31T00:00:00",
          "2022-06-30T00:00:00",
          "2022-07-29T00:00:00",
          "2022-08-31T00:00:00",
          "2022-09-30T00:00:00"
         ],
         "xaxis": "x",
         "y": [
          1.009846522380992,
          1.01499958218434,
          1.0092058717027377,
          1.0198462438372187,
          1.0776997855212942,
          1.1064872844767548,
          1.1926269463246142,
          1.2049385810980187,
          1.1323918553800723,
          1.1977242973733313,
          1.2257040193866455,
          1.1897997270271015,
          1.1784351410824203,
          1.105094565610985,
          1.1160274087072775,
          1.0911534497646296,
          1.0887161917495325,
          1.06756079217849,
          1.0626444945823226,
          1.0428539594997344,
          1.0843709088883307,
          1.1066822651179622,
          1.1192167349098898,
          1.1291189660455128,
          1.140163226651067,
          1.2059274114927148,
          1.198002841146485,
          1.1356090359599997,
          1.1587699506977507,
          1.0963482911339504,
          1.0760981588256582,
          1.1308180830617516,
          1.1006378652405213,
          1.0826300103061182,
          1.070847608701706,
          1.0564747500069622,
          1.0157516503718547,
          1.039497507033229,
          1.0348318988329004,
          1.0291774602378754,
          1.0322414417425687,
          1.0940224506281149,
          1.0607782513021908,
          1.091668755744964,
          1.1166541321968735,
          1.1042589342915226,
          1.0965850533411312,
          1.1003036127127366,
          1.0971282136987814,
          1.156555527701177,
          1.1368346285618771,
          1.1508732347288364,
          1.130999136514302,
          1.113269825353053,
          1.1130469903345297,
          1.116305952480431,
          1.1109579120358752,
          1.103130832010249,
          1.1413191833096556,
          1.1556224060611109,
          1.138491964012143,
          1.1611793543355324,
          1.1578507562463427,
          1.13439737054678,
          1.1432411353444178,
          1.1172530013091542,
          1.1168908944040539,
          1.1236455809030375,
          1.1146625442188225,
          1.1324336369460448,
          1.1098715913205748,
          1.115567811481573,
          1.1068493913818545,
          1.1193142252304937,
          1.1110414751678215,
          1.134453079301411,
          1.1524470070471562,
          1.1968468844878961,
          1.2105094565610974,
          1.2305506810395241,
          1.2571933929416996,
          1.320353193504358,
          1.3271635887579722,
          1.3698364948051573,
          1.3175120470181876,
          1.3496420712514958,
          1.32983760898025,
          1.3556168351856481,
          1.3345589259352095,
          1.3418846271691585,
          1.3501852316091463,
          1.3950864878415632,
          1.3736525444973666,
          1.3872315534386217,
          1.3678031252611338,
          1.3173170663769802,
          1.296370574635803,
          1.3354920475752756,
          1.3390016991170153,
          1.3304643324698466,
          1.3373165092894341,
          1.3295312108297812,
          1.3710620874070354,
          1.4136096487563017,
          1.423497952703267,
          1.385922397704799,
          1.4083173170663768,
          1.3975933817999495,
          1.3794880365449427,
          1.3498509790813622,
          1.3318291969583016,
          1.2933205203197677,
          1.2906047185315168,
          1.2962870115038572,
          1.316843541962619,
          1.295883123032784,
          1.2830283279017292,
          1.241372106626556,
          1.2619843458399485,
          1.2530848722876797,
          1.279086933511601,
          1.3088632628617585,
          1.315701512492688,
          1.3168713963399346,
          1.3250327288933454,
          1.3249213113840839,
          1.3527060527561905,
          1.3547254951115568,
          1.3394195147767471,
          1.3311328375254172,
          1.3391966797582242,
          1.3548926213754495,
          1.3576084231637005,
          1.3613826912899365,
          1.3388206456644665,
          1.372050917801733,
          1.3776217932648118,
          1.3840422272360102,
          1.3558396702041728,
          1.3686666109579122,
          1.34242778752681,
          1.3563689033731654,
          1.366702877357177,
          1.379460182167628,
          1.379014512130582,
          1.369655441352609,
          1.3563828305618233,
          1.3000891340074097,
          1.283306871674884,
          1.307568034316593,
          1.309684966992563,
          1.279476894794017,
          1.2525695663073453,
          1.2615804573688758,
          1.2656889780228966,
          1.2984596529344588,
          1.2712737806746333,
          1.2510654299323138,
          1.2873736107629317,
          1.2837246873346149,
          1.2900197766078942,
          1.3123589872148411,
          1.3108687780284676,
          1.3369265480070196,
          1.3324141388819257,
          1.3445307930141226,
          1.3468566335199579,
          1.3692097713155627,
          1.4339294170078833,
          1.4171193002980422,
          1.4579677446310693,
          1.474931060416145,
          1.5138854070917251,
          1.5614746107350777
         ],
         "yaxis": "y"
        },
        {
         "hovertemplate": "variable=EHFI451 Index<br>Date=%{x}<br>value=%{y}<extra></extra>",
         "legendgroup": "EHFI451 Index",
         "line": {
          "color": "#00cc96",
          "dash": "solid"
         },
         "marker": {
          "symbol": "circle"
         },
         "mode": "lines",
         "name": "EHFI451 Index",
         "showlegend": true,
         "type": "scattergl",
         "x": [
          "2008-04-30T00:00:00",
          "2008-05-30T00:00:00",
          "2008-06-30T00:00:00",
          "2008-07-31T00:00:00",
          "2008-08-29T00:00:00",
          "2008-09-30T00:00:00",
          "2008-10-31T00:00:00",
          "2008-11-28T00:00:00",
          "2008-12-31T00:00:00",
          "2009-01-30T00:00:00",
          "2009-02-27T00:00:00",
          "2009-03-31T00:00:00",
          "2009-04-30T00:00:00",
          "2009-05-29T00:00:00",
          "2009-06-30T00:00:00",
          "2009-07-31T00:00:00",
          "2009-08-31T00:00:00",
          "2009-09-30T00:00:00",
          "2009-10-30T00:00:00",
          "2009-11-30T00:00:00",
          "2009-12-31T00:00:00",
          "2010-01-29T00:00:00",
          "2010-02-26T00:00:00",
          "2010-03-31T00:00:00",
          "2010-04-30T00:00:00",
          "2010-05-31T00:00:00",
          "2010-06-30T00:00:00",
          "2010-07-30T00:00:00",
          "2010-08-31T00:00:00",
          "2010-09-30T00:00:00",
          "2010-10-29T00:00:00",
          "2010-11-30T00:00:00",
          "2010-12-31T00:00:00",
          "2011-01-31T00:00:00",
          "2011-02-28T00:00:00",
          "2011-03-31T00:00:00",
          "2011-04-29T00:00:00",
          "2011-05-31T00:00:00",
          "2011-06-30T00:00:00",
          "2011-07-29T00:00:00",
          "2011-08-31T00:00:00",
          "2011-09-30T00:00:00",
          "2011-10-31T00:00:00",
          "2011-11-30T00:00:00",
          "2011-12-30T00:00:00",
          "2012-01-31T00:00:00",
          "2012-02-29T00:00:00",
          "2012-03-30T00:00:00",
          "2012-04-30T00:00:00",
          "2012-05-31T00:00:00",
          "2012-06-29T00:00:00",
          "2012-07-31T00:00:00",
          "2012-08-31T00:00:00",
          "2012-09-28T00:00:00",
          "2012-10-31T00:00:00",
          "2012-11-30T00:00:00",
          "2012-12-31T00:00:00",
          "2013-01-31T00:00:00",
          "2013-02-28T00:00:00",
          "2013-03-29T00:00:00",
          "2013-04-30T00:00:00",
          "2013-05-31T00:00:00",
          "2013-06-28T00:00:00",
          "2013-07-31T00:00:00",
          "2013-08-30T00:00:00",
          "2013-09-30T00:00:00",
          "2013-10-31T00:00:00",
          "2013-11-29T00:00:00",
          "2013-12-31T00:00:00",
          "2014-01-31T00:00:00",
          "2014-02-28T00:00:00",
          "2014-03-31T00:00:00",
          "2014-04-30T00:00:00",
          "2014-05-30T00:00:00",
          "2014-06-30T00:00:00",
          "2014-07-31T00:00:00",
          "2014-08-29T00:00:00",
          "2014-09-30T00:00:00",
          "2014-10-31T00:00:00",
          "2014-11-28T00:00:00",
          "2014-12-31T00:00:00",
          "2015-01-30T00:00:00",
          "2015-02-27T00:00:00",
          "2015-03-31T00:00:00",
          "2015-04-30T00:00:00",
          "2015-05-29T00:00:00",
          "2015-06-30T00:00:00",
          "2015-07-31T00:00:00",
          "2015-08-31T00:00:00",
          "2015-09-30T00:00:00",
          "2015-10-30T00:00:00",
          "2015-11-30T00:00:00",
          "2015-12-31T00:00:00",
          "2016-01-29T00:00:00",
          "2016-02-29T00:00:00",
          "2016-03-31T00:00:00",
          "2016-04-29T00:00:00",
          "2016-05-31T00:00:00",
          "2016-06-30T00:00:00",
          "2016-07-29T00:00:00",
          "2016-08-31T00:00:00",
          "2016-09-30T00:00:00",
          "2016-10-31T00:00:00",
          "2016-11-30T00:00:00",
          "2016-12-30T00:00:00",
          "2017-01-31T00:00:00",
          "2017-02-28T00:00:00",
          "2017-03-31T00:00:00",
          "2017-04-28T00:00:00",
          "2017-05-31T00:00:00",
          "2017-06-30T00:00:00",
          "2017-07-31T00:00:00",
          "2017-08-31T00:00:00",
          "2017-09-29T00:00:00",
          "2017-10-31T00:00:00",
          "2017-11-30T00:00:00",
          "2017-12-29T00:00:00",
          "2018-01-31T00:00:00",
          "2018-02-28T00:00:00",
          "2018-03-30T00:00:00",
          "2018-04-30T00:00:00",
          "2018-05-31T00:00:00",
          "2018-06-29T00:00:00",
          "2018-07-31T00:00:00",
          "2018-08-31T00:00:00",
          "2018-09-28T00:00:00",
          "2018-10-31T00:00:00",
          "2018-11-30T00:00:00",
          "2018-12-31T00:00:00",
          "2019-01-31T00:00:00",
          "2019-02-28T00:00:00",
          "2019-03-29T00:00:00",
          "2019-04-30T00:00:00",
          "2019-05-31T00:00:00",
          "2019-06-28T00:00:00",
          "2019-07-31T00:00:00",
          "2019-08-30T00:00:00",
          "2019-09-30T00:00:00",
          "2019-10-31T00:00:00",
          "2019-11-29T00:00:00",
          "2019-12-31T00:00:00",
          "2020-01-31T00:00:00",
          "2020-02-28T00:00:00",
          "2020-03-31T00:00:00",
          "2020-04-30T00:00:00",
          "2020-05-29T00:00:00",
          "2020-06-30T00:00:00",
          "2020-07-31T00:00:00",
          "2020-08-31T00:00:00",
          "2020-09-30T00:00:00",
          "2020-10-30T00:00:00",
          "2020-11-30T00:00:00",
          "2020-12-31T00:00:00",
          "2021-01-29T00:00:00",
          "2021-02-26T00:00:00",
          "2021-03-31T00:00:00",
          "2021-04-30T00:00:00",
          "2021-05-31T00:00:00",
          "2021-06-30T00:00:00",
          "2021-07-30T00:00:00",
          "2021-08-31T00:00:00",
          "2021-09-30T00:00:00",
          "2021-10-29T00:00:00",
          "2021-11-30T00:00:00",
          "2021-12-31T00:00:00",
          "2022-01-31T00:00:00",
          "2022-02-28T00:00:00",
          "2022-03-31T00:00:00",
          "2022-04-29T00:00:00",
          "2022-05-31T00:00:00",
          "2022-06-30T00:00:00",
          "2022-07-29T00:00:00",
          "2022-08-31T00:00:00",
          "2022-09-30T00:00:00"
         ],
         "xaxis": "x",
         "y": [
          0.9500991669972234,
          0.9791352637842128,
          1.0005553351844507,
          1.04379214597382,
          1.100833002776676,
          1.188813962713209,
          1.1745339151130505,
          1.2178500595001982,
          1.3393891312971045,
          1.3539865132883775,
          1.3527171757239191,
          1.340182467274891,
          1.3531138437128123,
          1.3663625545418483,
          1.3555731852439508,
          1.3562871876239586,
          1.3602538675128917,
          1.3798492661642205,
          1.378738595795319,
          1.4089646965489884,
          1.37929393097977,
          1.3830226100753669,
          1.393256644188814,
          1.3744545815152716,
          1.3947639825466083,
          1.4370487901626334,
          1.4591035303451008,
          1.4598968663228877,
          1.4857596191987303,
          1.5078936929789761,
          1.5168583895279644,
          1.5115430384767943,
          1.549781832606108,
          1.538595795319317,
          1.5477191590638628,
          1.5835779452598169,
          1.6067433558111852,
          1.5896072986909948,
          1.5852439508131684,
          1.6130900436334779,
          1.6833002776675912,
          1.7006743355811174,
          1.6841729472431561,
          1.724474414914715,
          1.7485124950416489,
          1.7379611265370871,
          1.7399444664815538,
          1.7516858389527954,
          1.7832606108687015,
          1.8339547798492644,
          1.8163427211424021,
          1.8215787385957938,
          1.8138833796112637,
          1.7891312971043223,
          1.7647758825862738,
          1.753589845299483,
          1.7532725109083682,
          1.727013090043632,
          1.7203490678302247,
          1.721142403808011,
          1.728837762792541,
          1.7502578341927792,
          1.7262197540658455,
          1.6979769932566429,
          1.7087663625545402,
          1.6868702895676302,
          1.6811582705275667,
          1.6889329631098753,
          1.6753669178897248,
          1.6813962713209027,
          1.6781435938119778,
          1.6698135660452185,
          1.659896866322886,
          1.6491868306227668,
          1.6541055136850438,
          1.6495834986116602,
          1.6456168187227271,
          1.6414914716382367,
          1.6527568425228063,
          1.6792542641808783,
          1.7017850059500175,
          1.7402618008726674,
          1.7176517255057493,
          1.7430384767949203,
          1.7223324077746902,
          1.7182070606902,
          1.7118603728679072,
          1.6936929789765942,
          1.7283617612058682,
          1.7305831019436702,
          1.7062276874256217,
          1.7118603728679067,
          1.683617612058704,
          1.7298690995636625,
          1.7162237207457332,
          1.6782229274097553,
          1.6685442284807588,
          1.6630702102340313,
          1.6779055930186406,
          1.660848869496229,
          1.6574375247917466,
          1.645061483538276,
          1.6367314557715167,
          1.6337961126537064,
          1.6360967869892875,
          1.613645378817927,
          1.5986513288377602,
          1.565013883379609,
          1.5557318524395058,
          1.54779849266164,
          1.5313764379214576,
          1.5058310194367295,
          1.5137643792145954,
          1.4900436334787763,
          1.4761602538675112,
          1.4607695358984514,
          1.4569615232050759,
          1.449662832209439,
          1.4491074970249884,
          1.4478381594605298,
          1.4061086870289552,
          1.4000793335977768,
          1.3887346291154288,
          1.3666005553351828,
          1.3587465291550955,
          1.3544625148750478,
          1.404918683062275,
          1.3920666402221322,
          1.4690202300674313,
          1.3980959936533102,
          1.3849266164220528,
          1.3795319317731038,
          1.3594605315351034,
          1.3773899246330803,
          1.3586671955573166,
          1.3471638238794112,
          1.3894486314954364,
          1.3657278857596173,
          1.349543831812771,
          1.3300277667592209,
          1.3094010313367694,
          1.3141610472034888,
          1.4359381197937304,
          1.7261404204680657,
          1.695755652518839,
          1.6896469654898822,
          1.7002776675922227,
          1.718127727092421,
          1.7169377231257408,
          1.690836969456562,
          1.6786989289964271,
          1.6214994049980138,
          1.6421261404204655,
          1.6375247917493032,
          1.6249107497024964,
          1.5851646172153881,
          1.5578738595795294,
          1.560253867512889,
          1.5355017850059476,
          1.5294724315747692,
          1.511860372867907,
          1.5198730662435518,
          1.5073383577945234,
          1.5222530741769111,
          1.4859182863942855,
          1.504641015470049,
          1.5112257040856778,
          1.5333597778659238,
          1.6240380801269314,
          1.5786592621975384,
          1.6276874256247496,
          1.6086473621578714,
          1.6267354224514057,
          1.6914716382387915
         ],
         "yaxis": "y"
        },
        {
         "hovertemplate": "variable=EHFI453 Index<br>Date=%{x}<br>value=%{y}<extra></extra>",
         "legendgroup": "EHFI453 Index",
         "line": {
          "color": "#ab63fa",
          "dash": "solid"
         },
         "marker": {
          "symbol": "circle"
         },
         "mode": "lines",
         "name": "EHFI453 Index",
         "showlegend": true,
         "type": "scattergl",
         "x": [
          "2008-04-30T00:00:00",
          "2008-05-30T00:00:00",
          "2008-06-30T00:00:00",
          "2008-07-31T00:00:00",
          "2008-08-29T00:00:00",
          "2008-09-30T00:00:00",
          "2008-10-31T00:00:00",
          "2008-11-28T00:00:00",
          "2008-12-31T00:00:00",
          "2009-01-30T00:00:00",
          "2009-02-27T00:00:00",
          "2009-03-31T00:00:00",
          "2009-04-30T00:00:00",
          "2009-05-29T00:00:00",
          "2009-06-30T00:00:00",
          "2009-07-31T00:00:00",
          "2009-08-31T00:00:00",
          "2009-09-30T00:00:00",
          "2009-10-30T00:00:00",
          "2009-11-30T00:00:00",
          "2009-12-31T00:00:00",
          "2010-01-29T00:00:00",
          "2010-02-26T00:00:00",
          "2010-03-31T00:00:00",
          "2010-04-30T00:00:00",
          "2010-05-31T00:00:00",
          "2010-06-30T00:00:00",
          "2010-07-30T00:00:00",
          "2010-08-31T00:00:00",
          "2010-09-30T00:00:00",
          "2010-10-29T00:00:00",
          "2010-11-30T00:00:00",
          "2010-12-31T00:00:00",
          "2011-01-31T00:00:00",
          "2011-02-28T00:00:00",
          "2011-03-31T00:00:00",
          "2011-04-29T00:00:00",
          "2011-05-31T00:00:00",
          "2011-06-30T00:00:00",
          "2011-07-29T00:00:00",
          "2011-08-31T00:00:00",
          "2011-09-30T00:00:00",
          "2011-10-31T00:00:00",
          "2011-11-30T00:00:00",
          "2011-12-30T00:00:00",
          "2012-01-31T00:00:00",
          "2012-02-29T00:00:00",
          "2012-03-30T00:00:00",
          "2012-04-30T00:00:00",
          "2012-05-31T00:00:00",
          "2012-06-29T00:00:00",
          "2012-07-31T00:00:00",
          "2012-08-31T00:00:00",
          "2012-09-28T00:00:00",
          "2012-10-31T00:00:00",
          "2012-11-30T00:00:00",
          "2012-12-31T00:00:00",
          "2013-01-31T00:00:00",
          "2013-02-28T00:00:00",
          "2013-03-29T00:00:00",
          "2013-04-30T00:00:00",
          "2013-05-31T00:00:00",
          "2013-06-28T00:00:00",
          "2013-07-31T00:00:00",
          "2013-08-30T00:00:00",
          "2013-09-30T00:00:00",
          "2013-10-31T00:00:00",
          "2013-11-29T00:00:00",
          "2013-12-31T00:00:00",
          "2014-01-31T00:00:00",
          "2014-02-28T00:00:00",
          "2014-03-31T00:00:00",
          "2014-04-30T00:00:00",
          "2014-05-30T00:00:00",
          "2014-06-30T00:00:00",
          "2014-07-31T00:00:00",
          "2014-08-29T00:00:00",
          "2014-09-30T00:00:00",
          "2014-10-31T00:00:00",
          "2014-11-28T00:00:00",
          "2014-12-31T00:00:00",
          "2015-01-30T00:00:00",
          "2015-02-27T00:00:00",
          "2015-03-31T00:00:00",
          "2015-04-30T00:00:00",
          "2015-05-29T00:00:00",
          "2015-06-30T00:00:00",
          "2015-07-31T00:00:00",
          "2015-08-31T00:00:00",
          "2015-09-30T00:00:00",
          "2015-10-30T00:00:00",
          "2015-11-30T00:00:00",
          "2015-12-31T00:00:00",
          "2016-01-29T00:00:00",
          "2016-02-29T00:00:00",
          "2016-03-31T00:00:00",
          "2016-04-29T00:00:00",
          "2016-05-31T00:00:00",
          "2016-06-30T00:00:00",
          "2016-07-29T00:00:00",
          "2016-08-31T00:00:00",
          "2016-09-30T00:00:00",
          "2016-10-31T00:00:00",
          "2016-11-30T00:00:00",
          "2016-12-30T00:00:00",
          "2017-01-31T00:00:00",
          "2017-02-28T00:00:00",
          "2017-03-31T00:00:00",
          "2017-04-28T00:00:00",
          "2017-05-31T00:00:00",
          "2017-06-30T00:00:00",
          "2017-07-31T00:00:00",
          "2017-08-31T00:00:00",
          "2017-09-29T00:00:00",
          "2017-10-31T00:00:00",
          "2017-11-30T00:00:00",
          "2017-12-29T00:00:00",
          "2018-01-31T00:00:00",
          "2018-02-28T00:00:00",
          "2018-03-30T00:00:00",
          "2018-04-30T00:00:00",
          "2018-05-31T00:00:00",
          "2018-06-29T00:00:00",
          "2018-07-31T00:00:00",
          "2018-08-31T00:00:00",
          "2018-09-28T00:00:00",
          "2018-10-31T00:00:00",
          "2018-11-30T00:00:00",
          "2018-12-31T00:00:00",
          "2019-01-31T00:00:00",
          "2019-02-28T00:00:00",
          "2019-03-29T00:00:00",
          "2019-04-30T00:00:00",
          "2019-05-31T00:00:00",
          "2019-06-28T00:00:00",
          "2019-07-31T00:00:00",
          "2019-08-30T00:00:00",
          "2019-09-30T00:00:00",
          "2019-10-31T00:00:00",
          "2019-11-29T00:00:00",
          "2019-12-31T00:00:00",
          "2020-01-31T00:00:00",
          "2020-02-28T00:00:00",
          "2020-03-31T00:00:00",
          "2020-04-30T00:00:00",
          "2020-05-29T00:00:00",
          "2020-06-30T00:00:00",
          "2020-07-31T00:00:00",
          "2020-08-31T00:00:00",
          "2020-09-30T00:00:00",
          "2020-10-30T00:00:00",
          "2020-11-30T00:00:00",
          "2020-12-31T00:00:00",
          "2021-01-29T00:00:00",
          "2021-02-26T00:00:00",
          "2021-03-31T00:00:00",
          "2021-04-30T00:00:00",
          "2021-05-31T00:00:00",
          "2021-06-30T00:00:00",
          "2021-07-30T00:00:00",
          "2021-08-31T00:00:00",
          "2021-09-30T00:00:00",
          "2021-10-29T00:00:00",
          "2021-11-30T00:00:00",
          "2021-12-31T00:00:00",
          "2022-01-31T00:00:00",
          "2022-02-28T00:00:00",
          "2022-03-31T00:00:00",
          "2022-04-29T00:00:00",
          "2022-05-31T00:00:00",
          "2022-06-30T00:00:00",
          "2022-07-29T00:00:00",
          "2022-08-31T00:00:00",
          "2022-09-30T00:00:00"
         ],
         "xaxis": "x",
         "y": [
          0.9900059370670888,
          0.9832772610330498,
          0.9547793390065308,
          0.9834751632693449,
          0.9907975460122699,
          1.0499703146645556,
          1.121413021967148,
          1.1212151197308529,
          1.1139916881060754,
          1.130615475954878,
          1.1146843459331088,
          1.113299030279042,
          1.081832574708094,
          1.0851969127251138,
          1.0298832376805858,
          1.0374035226598062,
          1.0402731050860876,
          1.0190975658024937,
          1.0451217098753218,
          1.0917276865228578,
          1.0435384919849595,
          0.9998020977637049,
          1.0064318226795963,
          0.9914902038393035,
          1.0088066495151395,
          1.0641203245596675,
          1.081337819117356,
          1.0372056204235105,
          1.066890955867801,
          1.0501682169008508,
          1.0332475756976054,
          1.0573916485256285,
          1.044528003166436,
          1.021472392638037,
          1.0084108450425489,
          1.0071244805066295,
          0.9903027904215315,
          0.9740748070453193,
          0.9577478725509596,
          0.9683356421927565,
          1.2349099544824853,
          1.314466653473184,
          1.246388284187611,
          1.2462893330694635,
          1.2158123886799919,
          1.1808826439738767,
          1.160201860281021,
          1.1096378389075794,
          1.078270334454779,
          1.1337819117356023,
          1.079358796754403,
          1.0754997031466451,
          1.0592717197704329,
          1.028398970908371,
          1.009697209578468,
          0.9694241044923804,
          0.9579457747872547,
          0.9326142885414601,
          0.9236097367900253,
          0.9194537898278247,
          0.9305363150603599,
          0.9220265188996632,
          0.9216307144270727,
          0.8946170591727682,
          0.8931327924005538,
          0.8868988719572527,
          0.8718583019988122,
          0.8659212349099542,
          0.8527607361963188,
          0.8530575895507616,
          0.8483079358796752,
          0.8325747080942012,
          0.8283198100138528,
          0.8231743518701758,
          0.8294082723134768,
          0.8152582624183651,
          0.8138729467642981,
          0.8021967148228771,
          0.7803285177122499,
          0.8063526617850779,
          0.8253512764694239,
          0.8248565208786858,
          0.8044725905402729,
          0.8072432218484066,
          0.7861666336829604,
          0.7803285177122499,
          0.7762715218681968,
          0.7502473777953687,
          0.8050662972491585,
          0.799228181278448,
          0.7711260637245198,
          0.772115574905996,
          0.7468830397783491,
          0.7729071838511772,
          0.7650900455175139,
          0.7349099544824853,
          0.7275875717395603,
          0.7159113397981394,
          0.6952305561052838,
          0.678112012665743,
          0.678112012665743,
          0.6605976647536116,
          0.6432812190777755,
          0.6445675836136947,
          0.6587175935088064,
          0.640411636651494,
          0.6363546408074411,
          0.6233920443301009,
          0.615772808232733,
          0.6094399366712844,
          0.6030081139916881,
          0.5936077577676628,
          0.5859885216702949,
          0.5870769839699189,
          0.5839105481891946,
          0.570255293884821,
          0.5650108846229963,
          0.5686720759944588,
          0.5670888581040967,
          0.5604591331882052,
          0.5634276667326342,
          0.5587769641796954,
          0.5534336037997231,
          0.554522066099347,
          0.5406689095586781,
          0.535523451415001,
          0.5343360379972294,
          0.5265188996635662,
          0.532554917870572,
          0.5199881258658223,
          0.5245398773006135,
          0.5229566594102514,
          0.5220660993469226,
          0.5129625964773402,
          0.5207797348110034,
          0.5123688897684544,
          0.5156342766673263,
          0.5071244805066297,
          0.4941618840292895,
          0.48258460320601626,
          0.4771422917078963,
          0.4840688699782308,
          0.545814367702355,
          0.7501484266772216,
          0.7212547001781121,
          0.7071046902830002,
          0.7125470017811202,
          0.7070057391648525,
          0.702552938848209,
          0.6777162081931526,
          0.6664357807243222,
          0.6349693251533743,
          0.6434791213140709,
          0.6390263209974274,
          0.6350682762715221,
          0.6267563823471207,
          0.6199287551949338,
          0.6189392440134575,
          0.611221056797942,
          0.6037007718187217,
          0.594696220067287,
          0.5930140510587771,
          0.5916287354047103,
          0.5882643973876907,
          0.5771818721551555,
          0.5702552938848211,
          0.5846032060162282,
          0.6003364338017022,
          0.6369483475163271,
          0.6171581238868,
          0.6403126855333466,
          0.6271521868197113,
          0.6367504452800318,
          0.6553532554917874
         ],
         "yaxis": "y"
        },
        {
         "hovertemplate": "variable=XAU Curncy<br>Date=%{x}<br>value=%{y}<extra></extra>",
         "legendgroup": "XAU Curncy",
         "line": {
          "color": "#FFA15A",
          "dash": "solid"
         },
         "marker": {
          "symbol": "circle"
         },
         "mode": "lines",
         "name": "XAU Curncy",
         "showlegend": true,
         "type": "scattergl",
         "x": [
          "2008-04-30T00:00:00",
          "2008-05-30T00:00:00",
          "2008-06-30T00:00:00",
          "2008-07-31T00:00:00",
          "2008-08-29T00:00:00",
          "2008-09-30T00:00:00",
          "2008-10-31T00:00:00",
          "2008-11-28T00:00:00",
          "2008-12-31T00:00:00",
          "2009-01-30T00:00:00",
          "2009-02-27T00:00:00",
          "2009-03-31T00:00:00",
          "2009-04-30T00:00:00",
          "2009-05-29T00:00:00",
          "2009-06-30T00:00:00",
          "2009-07-31T00:00:00",
          "2009-08-31T00:00:00",
          "2009-09-30T00:00:00",
          "2009-10-30T00:00:00",
          "2009-11-30T00:00:00",
          "2009-12-31T00:00:00",
          "2010-01-29T00:00:00",
          "2010-02-26T00:00:00",
          "2010-03-31T00:00:00",
          "2010-04-30T00:00:00",
          "2010-05-31T00:00:00",
          "2010-06-30T00:00:00",
          "2010-07-30T00:00:00",
          "2010-08-31T00:00:00",
          "2010-09-30T00:00:00",
          "2010-10-29T00:00:00",
          "2010-11-30T00:00:00",
          "2010-12-31T00:00:00",
          "2011-01-31T00:00:00",
          "2011-02-28T00:00:00",
          "2011-03-31T00:00:00",
          "2011-04-29T00:00:00",
          "2011-05-31T00:00:00",
          "2011-06-30T00:00:00",
          "2011-07-29T00:00:00",
          "2011-08-31T00:00:00",
          "2011-09-30T00:00:00",
          "2011-10-31T00:00:00",
          "2011-11-30T00:00:00",
          "2011-12-30T00:00:00",
          "2012-01-31T00:00:00",
          "2012-02-29T00:00:00",
          "2012-03-30T00:00:00",
          "2012-04-30T00:00:00",
          "2012-05-31T00:00:00",
          "2012-06-29T00:00:00",
          "2012-07-31T00:00:00",
          "2012-08-31T00:00:00",
          "2012-09-28T00:00:00",
          "2012-10-31T00:00:00",
          "2012-11-30T00:00:00",
          "2012-12-31T00:00:00",
          "2013-01-31T00:00:00",
          "2013-02-28T00:00:00",
          "2013-03-29T00:00:00",
          "2013-04-30T00:00:00",
          "2013-05-31T00:00:00",
          "2013-06-28T00:00:00",
          "2013-07-31T00:00:00",
          "2013-08-30T00:00:00",
          "2013-09-30T00:00:00",
          "2013-10-31T00:00:00",
          "2013-11-29T00:00:00",
          "2013-12-31T00:00:00",
          "2014-01-31T00:00:00",
          "2014-02-28T00:00:00",
          "2014-03-31T00:00:00",
          "2014-04-30T00:00:00",
          "2014-05-30T00:00:00",
          "2014-06-30T00:00:00",
          "2014-07-31T00:00:00",
          "2014-08-29T00:00:00",
          "2014-09-30T00:00:00",
          "2014-10-31T00:00:00",
          "2014-11-28T00:00:00",
          "2014-12-31T00:00:00",
          "2015-01-30T00:00:00",
          "2015-02-27T00:00:00",
          "2015-03-31T00:00:00",
          "2015-04-30T00:00:00",
          "2015-05-29T00:00:00",
          "2015-06-30T00:00:00",
          "2015-07-31T00:00:00",
          "2015-08-31T00:00:00",
          "2015-09-30T00:00:00",
          "2015-10-30T00:00:00",
          "2015-11-30T00:00:00",
          "2015-12-31T00:00:00",
          "2016-01-29T00:00:00",
          "2016-02-29T00:00:00",
          "2016-03-31T00:00:00",
          "2016-04-29T00:00:00",
          "2016-05-31T00:00:00",
          "2016-06-30T00:00:00",
          "2016-07-29T00:00:00",
          "2016-08-31T00:00:00",
          "2016-09-30T00:00:00",
          "2016-10-31T00:00:00",
          "2016-11-30T00:00:00",
          "2016-12-30T00:00:00",
          "2017-01-31T00:00:00",
          "2017-02-28T00:00:00",
          "2017-03-31T00:00:00",
          "2017-04-28T00:00:00",
          "2017-05-31T00:00:00",
          "2017-06-30T00:00:00",
          "2017-07-31T00:00:00",
          "2017-08-31T00:00:00",
          "2017-09-29T00:00:00",
          "2017-10-31T00:00:00",
          "2017-11-30T00:00:00",
          "2017-12-29T00:00:00",
          "2018-01-31T00:00:00",
          "2018-02-28T00:00:00",
          "2018-03-30T00:00:00",
          "2018-04-30T00:00:00",
          "2018-05-31T00:00:00",
          "2018-06-29T00:00:00",
          "2018-07-31T00:00:00",
          "2018-08-31T00:00:00",
          "2018-09-28T00:00:00",
          "2018-10-31T00:00:00",
          "2018-11-30T00:00:00",
          "2018-12-31T00:00:00",
          "2019-01-31T00:00:00",
          "2019-02-28T00:00:00",
          "2019-03-29T00:00:00",
          "2019-04-30T00:00:00",
          "2019-05-31T00:00:00",
          "2019-06-28T00:00:00",
          "2019-07-31T00:00:00",
          "2019-08-30T00:00:00",
          "2019-09-30T00:00:00",
          "2019-10-31T00:00:00",
          "2019-11-29T00:00:00",
          "2019-12-31T00:00:00",
          "2020-01-31T00:00:00",
          "2020-02-28T00:00:00",
          "2020-03-31T00:00:00",
          "2020-04-30T00:00:00",
          "2020-05-29T00:00:00",
          "2020-06-30T00:00:00",
          "2020-07-31T00:00:00",
          "2020-08-31T00:00:00",
          "2020-09-30T00:00:00",
          "2020-10-30T00:00:00",
          "2020-11-30T00:00:00",
          "2020-12-31T00:00:00",
          "2021-01-29T00:00:00",
          "2021-02-26T00:00:00",
          "2021-03-31T00:00:00",
          "2021-04-30T00:00:00",
          "2021-05-31T00:00:00",
          "2021-06-30T00:00:00",
          "2021-07-30T00:00:00",
          "2021-08-31T00:00:00",
          "2021-09-30T00:00:00",
          "2021-10-29T00:00:00",
          "2021-11-30T00:00:00",
          "2021-12-31T00:00:00",
          "2022-01-31T00:00:00",
          "2022-02-28T00:00:00",
          "2022-03-31T00:00:00",
          "2022-04-29T00:00:00",
          "2022-05-31T00:00:00",
          "2022-06-30T00:00:00",
          "2022-07-29T00:00:00",
          "2022-08-31T00:00:00",
          "2022-09-30T00:00:00"
         ],
         "xaxis": "x",
         "y": [
          0.9414415392633773,
          0.9614206914523974,
          1.0028231410701873,
          0.9961670430854758,
          0.9032531271716467,
          0.9506927553856842,
          0.7837473940236273,
          0.8878561501042388,
          0.9505624565670601,
          1.007481323835997,
          1.0231931897150799,
          0.9988490271021542,
          0.9641569666435024,
          1.0594922689367614,
          1.0098158443363443,
          1.0358756080611533,
          1.03255298818624,
          1.0940757470465596,
          1.1351741660875603,
          1.274083564975677,
          1.1929399756775534,
          1.1739923558026402,
          1.2135054725503815,
          1.2101394197359272,
          1.2802184676858923,
          1.3208499826268236,
          1.348245309242529,
          1.2823575399583038,
          1.3555963342599022,
          1.4198227936066707,
          1.4760684503127166,
          1.5076984885337033,
          1.5433895066018062,
          1.4518980194579563,
          1.5330524669909653,
          1.5611752953439881,
          1.697902189020152,
          1.668074617790131,
          1.633860319666434,
          1.766689107018762,
          1.9924752432244603,
          1.7631493224461423,
          1.872480889506601,
          1.8954026233495471,
          1.6992160354412778,
          1.8794627345378723,
          1.8696794649061836,
          1.8113164523974972,
          1.8066039784572607,
          1.7013116747741475,
          1.734548731758164,
          1.75439758512856,
          1.8370504690757454,
          1.924350677553855,
          1.8669106150104222,
          1.86216556636553,
          1.8200899061848492,
          1.8051924079221668,
          1.7171212647671983,
          1.7346030229325906,
          1.5982887421820695,
          1.506905837387073,
          1.3404816712995125,
          1.4205720118137584,
          1.5150169388464199,
          1.4460671473245297,
          1.4372611188325215,
          1.3609168693537166,
          1.308406445448227,
          1.3513616226546201,
          1.4402254169562185,
          1.3973679638637932,
          1.404512682418345,
          1.3569318971507982,
          1.4314953961084074,
          1.3923297428769967,
          1.3978022932592067,
          1.312402275886031,
          1.2736058026407218,
          1.2675686240444743,
          1.2899148714384978,
          1.3939693363446823,
          1.3172993398193178,
          1.2854847116052803,
          1.2828353022932582,
          1.2927597289784563,
          1.2744961779013193,
          1.1898453787352319,
          1.23101980542043,
          1.2105846073662259,
          1.2401298644892276,
          1.1555007817929108,
          1.153350851285614,
          1.2141786831132722,
          1.3378105455177194,
          1.338212300208477,
          1.4045452571230008,
          1.3191452397498251,
          1.4290848679638626,
          1.467251563585822,
          1.4204417129951343,
          1.4288025538568436,
          1.3830785267546897,
          1.2757774496177892,
          1.2459824530924242,
          1.3144870569840152,
          1.3641960562890882,
          1.3564107018763016,
          1.3771282140375245,
          1.3788438151494076,
          1.3481693015983305,
          1.3767156011118817,
          1.4299861014593451,
          1.389582609451006,
          1.3793650104239037,
          1.3808634468380803,
          1.4146108408617075,
          1.4547754517025693,
          1.4325486448922844,
          1.4392373175816522,
          1.4302032661570518,
          1.413644457956913,
          1.3601025017373158,
          1.3313281792911729,
          1.3031184850590671,
          1.294866226546211,
          1.3174730715774827,
          1.3252692842251548,
          1.3915696664350226,
          1.4355238012508666,
          1.4281727762334935,
          1.4032965601111866,
          1.3937738881167459,
          1.4176294301598313,
          1.5305224982626804,
          1.546874999999998,
          1.650864315496871,
          1.5967468728283511,
          1.6422103022932573,
          1.5896130125086847,
          1.6535028665740077,
          1.7255472550382192,
          1.7217794475330073,
          1.7350264940931186,
          1.8325117268936741,
          1.8787678075052099,
          1.936761640027795,
          2.1454351980542015,
          2.141135337039608,
          2.060784398888114,
          2.0400560284920055,
          1.9307027449617762,
          2.0569405837387045,
          2.0062217685892954,
          1.8828613620569814,
          1.8589515288394693,
          1.9209629082696293,
          2.0703939367616373,
          1.9243832522585105,
          1.969890114662958,
          1.9697489576094485,
          1.9091708651841532,
          1.9364358929812346,
          1.9266417651146603,
          1.986188325225849,
          1.9512248088950637,
          2.06226111883252,
          2.1113294822793582,
          2.059731150104237,
          2.0043975851285594,
          1.9652862230715753,
          1.917499131341207,
          1.8635119874913113,
          1.803129343293952
         ],
         "yaxis": "y"
        },
        {
         "hovertemplate": "variable=Portfolio<br>Date=%{x}<br>value=%{y}<extra></extra>",
         "legendgroup": "Portfolio",
         "line": {
          "color": "#19d3f3",
          "dash": "solid"
         },
         "marker": {
          "symbol": "circle"
         },
         "mode": "lines",
         "name": "Portfolio",
         "showlegend": true,
         "type": "scattergl",
         "x": [
          "2008-04-30T00:00:00",
          "2008-05-30T00:00:00",
          "2008-06-30T00:00:00",
          "2008-07-31T00:00:00",
          "2008-08-29T00:00:00",
          "2008-09-30T00:00:00",
          "2008-10-31T00:00:00",
          "2008-11-28T00:00:00",
          "2008-12-31T00:00:00",
          "2009-01-30T00:00:00",
          "2009-02-27T00:00:00",
          "2009-03-31T00:00:00",
          "2009-04-30T00:00:00",
          "2009-05-29T00:00:00",
          "2009-06-30T00:00:00",
          "2009-07-31T00:00:00",
          "2009-08-31T00:00:00",
          "2009-09-30T00:00:00",
          "2009-10-30T00:00:00",
          "2009-11-30T00:00:00",
          "2009-12-31T00:00:00",
          "2010-01-29T00:00:00",
          "2010-02-26T00:00:00",
          "2010-03-31T00:00:00",
          "2010-04-30T00:00:00",
          "2010-05-31T00:00:00",
          "2010-06-30T00:00:00",
          "2010-07-30T00:00:00",
          "2010-08-31T00:00:00",
          "2010-09-30T00:00:00",
          "2010-10-29T00:00:00",
          "2010-11-30T00:00:00",
          "2010-12-31T00:00:00",
          "2011-01-31T00:00:00",
          "2011-02-28T00:00:00",
          "2011-03-31T00:00:00",
          "2011-04-29T00:00:00",
          "2011-05-31T00:00:00",
          "2011-06-30T00:00:00",
          "2011-07-29T00:00:00",
          "2011-08-31T00:00:00",
          "2011-09-30T00:00:00",
          "2011-10-31T00:00:00",
          "2011-11-30T00:00:00",
          "2011-12-30T00:00:00",
          "2012-01-31T00:00:00",
          "2012-02-29T00:00:00",
          "2012-03-30T00:00:00",
          "2012-04-30T00:00:00",
          "2012-05-31T00:00:00",
          "2012-06-29T00:00:00",
          "2012-07-31T00:00:00",
          "2012-08-31T00:00:00",
          "2012-09-28T00:00:00",
          "2012-10-31T00:00:00",
          "2012-11-30T00:00:00",
          "2012-12-31T00:00:00",
          "2013-01-31T00:00:00",
          "2013-02-28T00:00:00",
          "2013-03-29T00:00:00",
          "2013-04-30T00:00:00",
          "2013-05-31T00:00:00",
          "2013-06-28T00:00:00",
          "2013-07-31T00:00:00",
          "2013-08-30T00:00:00",
          "2013-09-30T00:00:00",
          "2013-10-31T00:00:00",
          "2013-11-29T00:00:00",
          "2013-12-31T00:00:00",
          "2014-01-31T00:00:00",
          "2014-02-28T00:00:00",
          "2014-03-31T00:00:00",
          "2014-04-30T00:00:00",
          "2014-05-30T00:00:00",
          "2014-06-30T00:00:00",
          "2014-07-31T00:00:00",
          "2014-08-29T00:00:00",
          "2014-09-30T00:00:00",
          "2014-10-31T00:00:00",
          "2014-11-28T00:00:00",
          "2014-12-31T00:00:00",
          "2015-01-30T00:00:00",
          "2015-02-27T00:00:00",
          "2015-03-31T00:00:00",
          "2015-04-30T00:00:00",
          "2015-05-29T00:00:00",
          "2015-06-30T00:00:00",
          "2015-07-31T00:00:00",
          "2015-08-31T00:00:00",
          "2015-09-30T00:00:00",
          "2015-10-30T00:00:00",
          "2015-11-30T00:00:00",
          "2015-12-31T00:00:00",
          "2016-01-29T00:00:00",
          "2016-02-29T00:00:00",
          "2016-03-31T00:00:00",
          "2016-04-29T00:00:00",
          "2016-05-31T00:00:00",
          "2016-06-30T00:00:00",
          "2016-07-29T00:00:00",
          "2016-08-31T00:00:00",
          "2016-09-30T00:00:00",
          "2016-10-31T00:00:00",
          "2016-11-30T00:00:00",
          "2016-12-30T00:00:00",
          "2017-01-31T00:00:00",
          "2017-02-28T00:00:00",
          "2017-03-31T00:00:00",
          "2017-04-28T00:00:00",
          "2017-05-31T00:00:00",
          "2017-06-30T00:00:00",
          "2017-07-31T00:00:00",
          "2017-08-31T00:00:00",
          "2017-09-29T00:00:00",
          "2017-10-31T00:00:00",
          "2017-11-30T00:00:00",
          "2017-12-29T00:00:00",
          "2018-01-31T00:00:00",
          "2018-02-28T00:00:00",
          "2018-03-30T00:00:00",
          "2018-04-30T00:00:00",
          "2018-05-31T00:00:00",
          "2018-06-29T00:00:00",
          "2018-07-31T00:00:00",
          "2018-08-31T00:00:00",
          "2018-09-28T00:00:00",
          "2018-10-31T00:00:00",
          "2018-11-30T00:00:00",
          "2018-12-31T00:00:00",
          "2019-01-31T00:00:00",
          "2019-02-28T00:00:00",
          "2019-03-29T00:00:00",
          "2019-04-30T00:00:00",
          "2019-05-31T00:00:00",
          "2019-06-28T00:00:00",
          "2019-07-31T00:00:00",
          "2019-08-30T00:00:00",
          "2019-09-30T00:00:00",
          "2019-10-31T00:00:00",
          "2019-11-29T00:00:00",
          "2019-12-31T00:00:00",
          "2020-01-31T00:00:00",
          "2020-02-28T00:00:00",
          "2020-03-31T00:00:00",
          "2020-04-30T00:00:00",
          "2020-05-29T00:00:00",
          "2020-06-30T00:00:00",
          "2020-07-31T00:00:00",
          "2020-08-31T00:00:00",
          "2020-09-30T00:00:00",
          "2020-10-30T00:00:00",
          "2020-11-30T00:00:00",
          "2020-12-31T00:00:00",
          "2021-01-29T00:00:00",
          "2021-02-26T00:00:00",
          "2021-03-31T00:00:00",
          "2021-04-30T00:00:00",
          "2021-05-31T00:00:00",
          "2021-06-30T00:00:00",
          "2021-07-30T00:00:00",
          "2021-08-31T00:00:00",
          "2021-09-30T00:00:00",
          "2021-10-29T00:00:00",
          "2021-11-30T00:00:00",
          "2021-12-31T00:00:00",
          "2022-01-31T00:00:00",
          "2022-02-28T00:00:00",
          "2022-03-31T00:00:00",
          "2022-04-29T00:00:00",
          "2022-05-31T00:00:00",
          "2022-06-30T00:00:00",
          "2022-07-29T00:00:00",
          "2022-08-31T00:00:00",
          "2022-09-30T00:00:00"
         ],
         "xaxis": "x",
         "y": [
          0.9928808753744975,
          1.0091432458038712,
          0.9947464202682995,
          0.9948026803367328,
          0.9970193774505824,
          1.0230632709840588,
          1.0184298754911603,
          1.0235894353350985,
          1.0958316121823075,
          1.103855126596354,
          1.0837995291181013,
          1.0899165423161874,
          1.103230978250874,
          1.157507639358448,
          1.1349681796541908,
          1.1628563070484719,
          1.1713038121271315,
          1.2054585135157354,
          1.209828757512133,
          1.2814233169682396,
          1.2873397847113859,
          1.2800894130456375,
          1.3087226107155057,
          1.334160981182123,
          1.367094545153553,
          1.3830235783224245,
          1.3607118848366906,
          1.356626454311218,
          1.3645730187772365,
          1.4143708470156704,
          1.4470743343911905,
          1.475739293567925,
          1.4948914333219128,
          1.4685814572651879,
          1.4976049552076214,
          1.5029992780710426,
          1.4960408375216119,
          1.5002212116439062,
          1.481003793845779,
          1.5024371746979088,
          1.5346945263830734,
          1.5582078972878268,
          1.5640708615579357,
          1.5963537132665604,
          1.6228638296944033,
          1.6247522197273836,
          1.6331937393242115,
          1.6494722085785762,
          1.6571547255037873,
          1.6935588899449383,
          1.6876846595449533,
          1.7021820449477703,
          1.6935045397484154,
          1.6809829654317914,
          1.665423205772907,
          1.6640704432102678,
          1.6628734079191714,
          1.6637331708199399,
          1.688263532325628,
          1.7086364094385553,
          1.7070793420174184,
          1.736191409609459,
          1.719689380704108,
          1.7099752274649358,
          1.7098102244230355,
          1.6945452847213662,
          1.706149002235553,
          1.7225131949960104,
          1.7125281220293496,
          1.7145600951429407,
          1.772950281347534,
          1.775450931520045,
          1.7675695469225432,
          1.7781186221671441,
          1.8091677467410736,
          1.8045286851690405,
          1.8380109155720423,
          1.80752291254504,
          1.811595451623277,
          1.8342944886141608,
          1.8526951463158705,
          1.905018618360564,
          1.9137533962371722,
          1.9012303012937946,
          1.8870889697383402,
          1.912081985102144,
          1.8809562672284883,
          1.8722583282013123,
          1.845116723420156,
          1.8274499641148725,
          1.8870391883065305,
          1.8788364179897472,
          1.8559695123696058,
          1.8654547491341156,
          1.9051496159807564,
          1.9091286635031488,
          1.9237402405953727,
          1.9246948288671482,
          1.9809168666000718,
          2.023453233980024,
          2.0034282748943393,
          2.000904629411171,
          1.9997353735020236,
          2.0025086875407503,
          2.005664902179767,
          2.0232164128221997,
          2.080028451258532,
          2.069473546571721,
          2.071733390603281,
          2.05945405014221,
          2.0406249244331254,
          2.0552604387431965,
          2.0814279305763645,
          2.0799450115941243,
          2.1018484902455397,
          2.1171910192269907,
          2.1373695734851017,
          2.187158254106463,
          2.151668796452711,
          2.128068993743949,
          2.1375595493654735,
          2.1607318212962436,
          2.140232788353545,
          2.1560562041392366,
          2.17007606843196,
          2.169085878832233,
          2.1341551994860204,
          2.1544018045780313,
          2.1058414431799366,
          2.1906579174816074,
          2.2162482428477976,
          2.225867959890616,
          2.2566977279180667,
          2.212461958492589,
          2.3228241063460913,
          2.358600539489652,
          2.397758039833581,
          2.3905265279376113,
          2.420003443992627,
          2.432607801734074,
          2.4587743337184107,
          2.499041423066717,
          2.447610842189115,
          2.598562576812169,
          2.6414871203378416,
          2.6526692656115016,
          2.6982819068303994,
          2.8411751476294724,
          2.8801015959230942,
          2.8424408491044724,
          2.8146266173591212,
          2.8275309569444866,
          2.882329911536822,
          2.8626146061450286,
          2.8379939388987694,
          2.89372890647735,
          2.9361749961785524,
          2.984205197622844,
          2.981711115790132,
          3.0166047569622334,
          3.0473354894597064,
          3.004098801666905,
          3.0722644594489688,
          3.087767845689391,
          3.14733417321805,
          3.0984988278589585,
          3.1234533422047255,
          3.1840477281276627,
          3.2692020155812997,
          3.2167638690903444,
          3.2445312710072547,
          3.300088233853389,
          3.324623791117106,
          3.282346154617056
         ],
         "yaxis": "y"
        }
       ],
       "layout": {
        "legend": {
         "title": {
          "text": "variable"
         },
         "tracegroupgap": 0
        },
        "margin": {
         "t": 60
        },
        "template": {
         "data": {
          "bar": [
           {
            "error_x": {
             "color": "#2a3f5f"
            },
            "error_y": {
             "color": "#2a3f5f"
            },
            "marker": {
             "line": {
              "color": "#E5ECF6",
              "width": 0.5
             },
             "pattern": {
              "fillmode": "overlay",
              "size": 10,
              "solidity": 0.2
             }
            },
            "type": "bar"
           }
          ],
          "barpolar": [
           {
            "marker": {
             "line": {
              "color": "#E5ECF6",
              "width": 0.5
             },
             "pattern": {
              "fillmode": "overlay",
              "size": 10,
              "solidity": 0.2
             }
            },
            "type": "barpolar"
           }
          ],
          "carpet": [
           {
            "aaxis": {
             "endlinecolor": "#2a3f5f",
             "gridcolor": "white",
             "linecolor": "white",
             "minorgridcolor": "white",
             "startlinecolor": "#2a3f5f"
            },
            "baxis": {
             "endlinecolor": "#2a3f5f",
             "gridcolor": "white",
             "linecolor": "white",
             "minorgridcolor": "white",
             "startlinecolor": "#2a3f5f"
            },
            "type": "carpet"
           }
          ],
          "choropleth": [
           {
            "colorbar": {
             "outlinewidth": 0,
             "ticks": ""
            },
            "type": "choropleth"
           }
          ],
          "contour": [
           {
            "colorbar": {
             "outlinewidth": 0,
             "ticks": ""
            },
            "colorscale": [
             [
              0,
              "#0d0887"
             ],
             [
              0.1111111111111111,
              "#46039f"
             ],
             [
              0.2222222222222222,
              "#7201a8"
             ],
             [
              0.3333333333333333,
              "#9c179e"
             ],
             [
              0.4444444444444444,
              "#bd3786"
             ],
             [
              0.5555555555555556,
              "#d8576b"
             ],
             [
              0.6666666666666666,
              "#ed7953"
             ],
             [
              0.7777777777777778,
              "#fb9f3a"
             ],
             [
              0.8888888888888888,
              "#fdca26"
             ],
             [
              1,
              "#f0f921"
             ]
            ],
            "type": "contour"
           }
          ],
          "contourcarpet": [
           {
            "colorbar": {
             "outlinewidth": 0,
             "ticks": ""
            },
            "type": "contourcarpet"
           }
          ],
          "heatmap": [
           {
            "colorbar": {
             "outlinewidth": 0,
             "ticks": ""
            },
            "colorscale": [
             [
              0,
              "#0d0887"
             ],
             [
              0.1111111111111111,
              "#46039f"
             ],
             [
              0.2222222222222222,
              "#7201a8"
             ],
             [
              0.3333333333333333,
              "#9c179e"
             ],
             [
              0.4444444444444444,
              "#bd3786"
             ],
             [
              0.5555555555555556,
              "#d8576b"
             ],
             [
              0.6666666666666666,
              "#ed7953"
             ],
             [
              0.7777777777777778,
              "#fb9f3a"
             ],
             [
              0.8888888888888888,
              "#fdca26"
             ],
             [
              1,
              "#f0f921"
             ]
            ],
            "type": "heatmap"
           }
          ],
          "heatmapgl": [
           {
            "colorbar": {
             "outlinewidth": 0,
             "ticks": ""
            },
            "colorscale": [
             [
              0,
              "#0d0887"
             ],
             [
              0.1111111111111111,
              "#46039f"
             ],
             [
              0.2222222222222222,
              "#7201a8"
             ],
             [
              0.3333333333333333,
              "#9c179e"
             ],
             [
              0.4444444444444444,
              "#bd3786"
             ],
             [
              0.5555555555555556,
              "#d8576b"
             ],
             [
              0.6666666666666666,
              "#ed7953"
             ],
             [
              0.7777777777777778,
              "#fb9f3a"
             ],
             [
              0.8888888888888888,
              "#fdca26"
             ],
             [
              1,
              "#f0f921"
             ]
            ],
            "type": "heatmapgl"
           }
          ],
          "histogram": [
           {
            "marker": {
             "pattern": {
              "fillmode": "overlay",
              "size": 10,
              "solidity": 0.2
             }
            },
            "type": "histogram"
           }
          ],
          "histogram2d": [
           {
            "colorbar": {
             "outlinewidth": 0,
             "ticks": ""
            },
            "colorscale": [
             [
              0,
              "#0d0887"
             ],
             [
              0.1111111111111111,
              "#46039f"
             ],
             [
              0.2222222222222222,
              "#7201a8"
             ],
             [
              0.3333333333333333,
              "#9c179e"
             ],
             [
              0.4444444444444444,
              "#bd3786"
             ],
             [
              0.5555555555555556,
              "#d8576b"
             ],
             [
              0.6666666666666666,
              "#ed7953"
             ],
             [
              0.7777777777777778,
              "#fb9f3a"
             ],
             [
              0.8888888888888888,
              "#fdca26"
             ],
             [
              1,
              "#f0f921"
             ]
            ],
            "type": "histogram2d"
           }
          ],
          "histogram2dcontour": [
           {
            "colorbar": {
             "outlinewidth": 0,
             "ticks": ""
            },
            "colorscale": [
             [
              0,
              "#0d0887"
             ],
             [
              0.1111111111111111,
              "#46039f"
             ],
             [
              0.2222222222222222,
              "#7201a8"
             ],
             [
              0.3333333333333333,
              "#9c179e"
             ],
             [
              0.4444444444444444,
              "#bd3786"
             ],
             [
              0.5555555555555556,
              "#d8576b"
             ],
             [
              0.6666666666666666,
              "#ed7953"
             ],
             [
              0.7777777777777778,
              "#fb9f3a"
             ],
             [
              0.8888888888888888,
              "#fdca26"
             ],
             [
              1,
              "#f0f921"
             ]
            ],
            "type": "histogram2dcontour"
           }
          ],
          "mesh3d": [
           {
            "colorbar": {
             "outlinewidth": 0,
             "ticks": ""
            },
            "type": "mesh3d"
           }
          ],
          "parcoords": [
           {
            "line": {
             "colorbar": {
              "outlinewidth": 0,
              "ticks": ""
             }
            },
            "type": "parcoords"
           }
          ],
          "pie": [
           {
            "automargin": true,
            "type": "pie"
           }
          ],
          "scatter": [
           {
            "fillpattern": {
             "fillmode": "overlay",
             "size": 10,
             "solidity": 0.2
            },
            "type": "scatter"
           }
          ],
          "scatter3d": [
           {
            "line": {
             "colorbar": {
              "outlinewidth": 0,
              "ticks": ""
             }
            },
            "marker": {
             "colorbar": {
              "outlinewidth": 0,
              "ticks": ""
             }
            },
            "type": "scatter3d"
           }
          ],
          "scattercarpet": [
           {
            "marker": {
             "colorbar": {
              "outlinewidth": 0,
              "ticks": ""
             }
            },
            "type": "scattercarpet"
           }
          ],
          "scattergeo": [
           {
            "marker": {
             "colorbar": {
              "outlinewidth": 0,
              "ticks": ""
             }
            },
            "type": "scattergeo"
           }
          ],
          "scattergl": [
           {
            "marker": {
             "colorbar": {
              "outlinewidth": 0,
              "ticks": ""
             }
            },
            "type": "scattergl"
           }
          ],
          "scattermapbox": [
           {
            "marker": {
             "colorbar": {
              "outlinewidth": 0,
              "ticks": ""
             }
            },
            "type": "scattermapbox"
           }
          ],
          "scatterpolar": [
           {
            "marker": {
             "colorbar": {
              "outlinewidth": 0,
              "ticks": ""
             }
            },
            "type": "scatterpolar"
           }
          ],
          "scatterpolargl": [
           {
            "marker": {
             "colorbar": {
              "outlinewidth": 0,
              "ticks": ""
             }
            },
            "type": "scatterpolargl"
           }
          ],
          "scatterternary": [
           {
            "marker": {
             "colorbar": {
              "outlinewidth": 0,
              "ticks": ""
             }
            },
            "type": "scatterternary"
           }
          ],
          "surface": [
           {
            "colorbar": {
             "outlinewidth": 0,
             "ticks": ""
            },
            "colorscale": [
             [
              0,
              "#0d0887"
             ],
             [
              0.1111111111111111,
              "#46039f"
             ],
             [
              0.2222222222222222,
              "#7201a8"
             ],
             [
              0.3333333333333333,
              "#9c179e"
             ],
             [
              0.4444444444444444,
              "#bd3786"
             ],
             [
              0.5555555555555556,
              "#d8576b"
             ],
             [
              0.6666666666666666,
              "#ed7953"
             ],
             [
              0.7777777777777778,
              "#fb9f3a"
             ],
             [
              0.8888888888888888,
              "#fdca26"
             ],
             [
              1,
              "#f0f921"
             ]
            ],
            "type": "surface"
           }
          ],
          "table": [
           {
            "cells": {
             "fill": {
              "color": "#EBF0F8"
             },
             "line": {
              "color": "white"
             }
            },
            "header": {
             "fill": {
              "color": "#C8D4E3"
             },
             "line": {
              "color": "white"
             }
            },
            "type": "table"
           }
          ]
         },
         "layout": {
          "annotationdefaults": {
           "arrowcolor": "#2a3f5f",
           "arrowhead": 0,
           "arrowwidth": 1
          },
          "autotypenumbers": "strict",
          "coloraxis": {
           "colorbar": {
            "outlinewidth": 0,
            "ticks": ""
           }
          },
          "colorscale": {
           "diverging": [
            [
             0,
             "#8e0152"
            ],
            [
             0.1,
             "#c51b7d"
            ],
            [
             0.2,
             "#de77ae"
            ],
            [
             0.3,
             "#f1b6da"
            ],
            [
             0.4,
             "#fde0ef"
            ],
            [
             0.5,
             "#f7f7f7"
            ],
            [
             0.6,
             "#e6f5d0"
            ],
            [
             0.7,
             "#b8e186"
            ],
            [
             0.8,
             "#7fbc41"
            ],
            [
             0.9,
             "#4d9221"
            ],
            [
             1,
             "#276419"
            ]
           ],
           "sequential": [
            [
             0,
             "#0d0887"
            ],
            [
             0.1111111111111111,
             "#46039f"
            ],
            [
             0.2222222222222222,
             "#7201a8"
            ],
            [
             0.3333333333333333,
             "#9c179e"
            ],
            [
             0.4444444444444444,
             "#bd3786"
            ],
            [
             0.5555555555555556,
             "#d8576b"
            ],
            [
             0.6666666666666666,
             "#ed7953"
            ],
            [
             0.7777777777777778,
             "#fb9f3a"
            ],
            [
             0.8888888888888888,
             "#fdca26"
            ],
            [
             1,
             "#f0f921"
            ]
           ],
           "sequentialminus": [
            [
             0,
             "#0d0887"
            ],
            [
             0.1111111111111111,
             "#46039f"
            ],
            [
             0.2222222222222222,
             "#7201a8"
            ],
            [
             0.3333333333333333,
             "#9c179e"
            ],
            [
             0.4444444444444444,
             "#bd3786"
            ],
            [
             0.5555555555555556,
             "#d8576b"
            ],
            [
             0.6666666666666666,
             "#ed7953"
            ],
            [
             0.7777777777777778,
             "#fb9f3a"
            ],
            [
             0.8888888888888888,
             "#fdca26"
            ],
            [
             1,
             "#f0f921"
            ]
           ]
          },
          "colorway": [
           "#636efa",
           "#EF553B",
           "#00cc96",
           "#ab63fa",
           "#FFA15A",
           "#19d3f3",
           "#FF6692",
           "#B6E880",
           "#FF97FF",
           "#FECB52"
          ],
          "font": {
           "color": "#2a3f5f"
          },
          "geo": {
           "bgcolor": "white",
           "lakecolor": "white",
           "landcolor": "#E5ECF6",
           "showlakes": true,
           "showland": true,
           "subunitcolor": "white"
          },
          "hoverlabel": {
           "align": "left"
          },
          "hovermode": "closest",
          "mapbox": {
           "style": "light"
          },
          "paper_bgcolor": "white",
          "plot_bgcolor": "#E5ECF6",
          "polar": {
           "angularaxis": {
            "gridcolor": "white",
            "linecolor": "white",
            "ticks": ""
           },
           "bgcolor": "#E5ECF6",
           "radialaxis": {
            "gridcolor": "white",
            "linecolor": "white",
            "ticks": ""
           }
          },
          "scene": {
           "xaxis": {
            "backgroundcolor": "#E5ECF6",
            "gridcolor": "white",
            "gridwidth": 2,
            "linecolor": "white",
            "showbackground": true,
            "ticks": "",
            "zerolinecolor": "white"
           },
           "yaxis": {
            "backgroundcolor": "#E5ECF6",
            "gridcolor": "white",
            "gridwidth": 2,
            "linecolor": "white",
            "showbackground": true,
            "ticks": "",
            "zerolinecolor": "white"
           },
           "zaxis": {
            "backgroundcolor": "#E5ECF6",
            "gridcolor": "white",
            "gridwidth": 2,
            "linecolor": "white",
            "showbackground": true,
            "ticks": "",
            "zerolinecolor": "white"
           }
          },
          "shapedefaults": {
           "line": {
            "color": "#2a3f5f"
           }
          },
          "ternary": {
           "aaxis": {
            "gridcolor": "white",
            "linecolor": "white",
            "ticks": ""
           },
           "baxis": {
            "gridcolor": "white",
            "linecolor": "white",
            "ticks": ""
           },
           "bgcolor": "#E5ECF6",
           "caxis": {
            "gridcolor": "white",
            "linecolor": "white",
            "ticks": ""
           }
          },
          "title": {
           "x": 0.05
          },
          "xaxis": {
           "automargin": true,
           "gridcolor": "white",
           "linecolor": "white",
           "ticks": "",
           "title": {
            "standoff": 15
           },
           "zerolinecolor": "white",
           "zerolinewidth": 2
          },
          "yaxis": {
           "automargin": true,
           "gridcolor": "white",
           "linecolor": "white",
           "ticks": "",
           "title": {
            "standoff": 15
           },
           "zerolinecolor": "white",
           "zerolinewidth": 2
          }
         }
        },
        "xaxis": {
         "anchor": "y",
         "domain": [
          0,
          1
         ],
         "title": {
          "text": "Date"
         }
        },
        "yaxis": {
         "anchor": "x",
         "domain": [
          0,
          1
         ],
         "title": {
          "text": "value"
         }
        }
       }
      }
     },
     "metadata": {},
     "output_type": "display_data"
    }
   ],
   "source": [
    "port_crets.plot()"
   ]
  },
  {
   "cell_type": "code",
   "execution_count": 195,
   "metadata": {},
   "outputs": [],
   "source": [
    "ts_regimes1 = ts_regimes.copy()\n",
    "ts_regimes1['regime_start'] = ts_regimes[ts_regimes.regime != ts_regimes.regime.shift(1)]\n",
    "ts_regimes1['regime_end'] = ts_regimes[ts_regimes.regime != ts_regimes.regime.shift(-1)]"
   ]
  },
  {
   "cell_type": "code",
   "execution_count": 239,
   "metadata": {},
   "outputs": [],
   "source": [
    "regime_li = []\n",
    "\n",
    "for i in list(zip(ts_regimes[ts_regimes.regime != ts_regimes.regime.shift(1)].reset_index().to_records(), \\\n",
    "    ts_regimes[ts_regimes.regime != ts_regimes.regime.shift(-1)].reset_index().to_records())):\n",
    "    regime_li += [(i[0][2], pd.Timestamp(i[0][1]).replace(day=1).strftime('%Y-%m-%d'), i[1][1])]\n",
    "\n",
    "\n",
    "fillcolors_regimes = {\n",
    "    'Quad 1': \"green\",\n",
    "    'Quad 2': \"blue\",\n",
    "    'Quad 3': \"yellow\",\n",
    "    'Quad 4': \"LightSalmon\",\n",
    "}"
   ]
  },
  {
   "cell_type": "code",
   "execution_count": 242,
   "metadata": {},
   "outputs": [
    {
     "data": {
      "application/vnd.plotly.v1+json": {
       "config": {
        "plotlyServerURL": "https://plot.ly"
       },
       "data": [
        {
         "hovertemplate": "variable=SPX Index<br>Date=%{x}<br>value=%{y}<extra></extra>",
         "legendgroup": "SPX Index",
         "line": {
          "color": "#636efa",
          "dash": "solid"
         },
         "marker": {
          "symbol": "circle"
         },
         "mode": "lines",
         "name": "SPX Index",
         "showlegend": true,
         "type": "scattergl",
         "x": [
          "2008-04-30T00:00:00",
          "2008-05-30T00:00:00",
          "2008-06-30T00:00:00",
          "2008-07-31T00:00:00",
          "2008-08-29T00:00:00",
          "2008-09-30T00:00:00",
          "2008-10-31T00:00:00",
          "2008-11-28T00:00:00",
          "2008-12-31T00:00:00",
          "2009-01-30T00:00:00",
          "2009-02-27T00:00:00",
          "2009-03-31T00:00:00",
          "2009-04-30T00:00:00",
          "2009-05-29T00:00:00",
          "2009-06-30T00:00:00",
          "2009-07-31T00:00:00",
          "2009-08-31T00:00:00",
          "2009-09-30T00:00:00",
          "2009-10-30T00:00:00",
          "2009-11-30T00:00:00",
          "2009-12-31T00:00:00",
          "2010-01-29T00:00:00",
          "2010-02-26T00:00:00",
          "2010-03-31T00:00:00",
          "2010-04-30T00:00:00",
          "2010-05-31T00:00:00",
          "2010-06-30T00:00:00",
          "2010-07-30T00:00:00",
          "2010-08-31T00:00:00",
          "2010-09-30T00:00:00",
          "2010-10-29T00:00:00",
          "2010-11-30T00:00:00",
          "2010-12-31T00:00:00",
          "2011-01-31T00:00:00",
          "2011-02-28T00:00:00",
          "2011-03-31T00:00:00",
          "2011-04-29T00:00:00",
          "2011-05-31T00:00:00",
          "2011-06-30T00:00:00",
          "2011-07-29T00:00:00",
          "2011-08-31T00:00:00",
          "2011-09-30T00:00:00",
          "2011-10-31T00:00:00",
          "2011-11-30T00:00:00",
          "2011-12-30T00:00:00",
          "2012-01-31T00:00:00",
          "2012-02-29T00:00:00",
          "2012-03-30T00:00:00",
          "2012-04-30T00:00:00",
          "2012-05-31T00:00:00",
          "2012-06-29T00:00:00",
          "2012-07-31T00:00:00",
          "2012-08-31T00:00:00",
          "2012-09-28T00:00:00",
          "2012-10-31T00:00:00",
          "2012-11-30T00:00:00",
          "2012-12-31T00:00:00",
          "2013-01-31T00:00:00",
          "2013-02-28T00:00:00",
          "2013-03-29T00:00:00",
          "2013-04-30T00:00:00",
          "2013-05-31T00:00:00",
          "2013-06-28T00:00:00",
          "2013-07-31T00:00:00",
          "2013-08-30T00:00:00",
          "2013-09-30T00:00:00",
          "2013-10-31T00:00:00",
          "2013-11-29T00:00:00",
          "2013-12-31T00:00:00",
          "2014-01-31T00:00:00",
          "2014-02-28T00:00:00",
          "2014-03-31T00:00:00",
          "2014-04-30T00:00:00",
          "2014-05-30T00:00:00",
          "2014-06-30T00:00:00",
          "2014-07-31T00:00:00",
          "2014-08-29T00:00:00",
          "2014-09-30T00:00:00",
          "2014-10-31T00:00:00",
          "2014-11-28T00:00:00",
          "2014-12-31T00:00:00",
          "2015-01-30T00:00:00",
          "2015-02-27T00:00:00",
          "2015-03-31T00:00:00",
          "2015-04-30T00:00:00",
          "2015-05-29T00:00:00",
          "2015-06-30T00:00:00",
          "2015-07-31T00:00:00",
          "2015-08-31T00:00:00",
          "2015-09-30T00:00:00",
          "2015-10-30T00:00:00",
          "2015-11-30T00:00:00",
          "2015-12-31T00:00:00",
          "2016-01-29T00:00:00",
          "2016-02-29T00:00:00",
          "2016-03-31T00:00:00",
          "2016-04-29T00:00:00",
          "2016-05-31T00:00:00",
          "2016-06-30T00:00:00",
          "2016-07-29T00:00:00",
          "2016-08-31T00:00:00",
          "2016-09-30T00:00:00",
          "2016-10-31T00:00:00",
          "2016-11-30T00:00:00",
          "2016-12-30T00:00:00",
          "2017-01-31T00:00:00",
          "2017-02-28T00:00:00",
          "2017-03-31T00:00:00",
          "2017-04-28T00:00:00",
          "2017-05-31T00:00:00",
          "2017-06-30T00:00:00",
          "2017-07-31T00:00:00",
          "2017-08-31T00:00:00",
          "2017-09-29T00:00:00",
          "2017-10-31T00:00:00",
          "2017-11-30T00:00:00",
          "2017-12-29T00:00:00",
          "2018-01-31T00:00:00",
          "2018-02-28T00:00:00",
          "2018-03-30T00:00:00",
          "2018-04-30T00:00:00",
          "2018-05-31T00:00:00",
          "2018-06-29T00:00:00",
          "2018-07-31T00:00:00",
          "2018-08-31T00:00:00",
          "2018-09-28T00:00:00",
          "2018-10-31T00:00:00",
          "2018-11-30T00:00:00",
          "2018-12-31T00:00:00",
          "2019-01-31T00:00:00",
          "2019-02-28T00:00:00",
          "2019-03-29T00:00:00",
          "2019-04-30T00:00:00",
          "2019-05-31T00:00:00",
          "2019-06-28T00:00:00",
          "2019-07-31T00:00:00",
          "2019-08-30T00:00:00",
          "2019-09-30T00:00:00",
          "2019-10-31T00:00:00",
          "2019-11-29T00:00:00",
          "2019-12-31T00:00:00",
          "2020-01-31T00:00:00",
          "2020-02-28T00:00:00",
          "2020-03-31T00:00:00",
          "2020-04-30T00:00:00",
          "2020-05-29T00:00:00",
          "2020-06-30T00:00:00",
          "2020-07-31T00:00:00",
          "2020-08-31T00:00:00",
          "2020-09-30T00:00:00",
          "2020-10-30T00:00:00",
          "2020-11-30T00:00:00",
          "2020-12-31T00:00:00",
          "2021-01-29T00:00:00",
          "2021-02-26T00:00:00",
          "2021-03-31T00:00:00",
          "2021-04-30T00:00:00",
          "2021-05-31T00:00:00",
          "2021-06-30T00:00:00",
          "2021-07-30T00:00:00",
          "2021-08-31T00:00:00",
          "2021-09-30T00:00:00",
          "2021-10-29T00:00:00",
          "2021-11-30T00:00:00",
          "2021-12-31T00:00:00",
          "2022-01-31T00:00:00",
          "2022-02-28T00:00:00",
          "2022-03-31T00:00:00",
          "2022-04-29T00:00:00",
          "2022-05-31T00:00:00",
          "2022-06-30T00:00:00",
          "2022-07-29T00:00:00",
          "2022-08-31T00:00:00",
          "2022-09-30T00:00:00"
         ],
         "xaxis": "x",
         "y": [
          1.0475466848113706,
          1.058728358660316,
          0.9677175474408406,
          0.9581764572465412,
          0.9698571104558855,
          0.8818023739321084,
          0.7324034172525893,
          0.6775837302487335,
          0.68288349587964,
          0.6243895063128448,
          0.5557496030845996,
          0.603213124669237,
          0.6598699629545625,
          0.6948968019959173,
          0.6950328872760262,
          0.7465638466772508,
          0.7716262190973008,
          0.7991834883193466,
          0.783397595826718,
          0.8283284191426626,
          0.8430483102744384,
          0.8118772208361682,
          0.8350268390413547,
          0.8841233839872985,
          0.8971724502910711,
          0.8236259166855672,
          0.7792469947833973,
          0.8328419142662732,
          0.7933242609813258,
          0.8627806758902243,
          0.8945792696756631,
          0.8925304301806907,
          0.9508127315339833,
          0.9723444469645417,
          1.0034172525894,
          1.002366371815226,
          1.0309291600514097,
          1.0170106600136084,
          0.9984425795720873,
          0.9770015876616011,
          0.9215165948438798,
          0.8553867090043092,
          0.9475315642246916,
          0.9427383382475237,
          0.9507900506539649,
          0.9922204581537761,
          1.0324941407726618,
          1.0648446359718753,
          1.0568609662054884,
          0.9906479171391845,
          1.0298329175171992,
          1.0428063808875778,
          1.0634157405307318,
          1.0891887805246838,
          1.067634384214107,
          1.0706736221365385,
          1.0782414757692593,
          1.1326151054660916,
          1.145142511529447,
          1.1863536705224158,
          1.2078097830195806,
          1.2328872760263094,
          1.214394798518182,
          1.2744613290995688,
          1.2345732214409917,
          1.2713011264837073,
          1.3279957662357298,
          1.3652453315188628,
          1.3974143796779313,
          1.3476903303848187,
          1.4057987449913056,
          1.4155439631057682,
          1.4243214636727903,
          1.45427534588342,
          1.4819913812655927,
          1.4596431541543808,
          1.5146064867316846,
          1.4911090950328867,
          1.5257049973538968,
          1.563136009677175,
          1.5565887956452704,
          1.5082709609132827,
          1.5910637332728501,
          1.5633854993573741,
          1.5767067362213645,
          1.5932486580479313,
          1.55977167914115,
          1.590564753912451,
          1.4910259318061534,
          1.4515990020412786,
          1.5720571558176453,
          1.57285098661828,
          1.5452785968095557,
          1.466878354880169,
          1.4608225599153244,
          1.5572238602857784,
          1.5614273833824748,
          1.5853632720949569,
          1.5867997278294392,
          1.6433053602479768,
          1.6413018825130408,
          1.6392757238980866,
          1.6074317683526116,
          1.662364859756558,
          1.692621153700763,
          1.7228925682316465,
          1.786981174869584,
          1.786285627882361,
          1.8025251379753524,
          1.823391547592046,
          1.8321690481590678,
          1.867619263627428,
          1.8686399032282446,
          1.9047100627504343,
          1.9469721025175775,
          2.001648143947985,
          2.0213275875103953,
          2.1348831934679064,
          2.0517350873213878,
          1.9965751871172597,
          2.002003477734936,
          2.045263476222877,
          2.055167460497467,
          2.1291978528766915,
          2.193634233008241,
          2.2030543585091107,
          2.0501549860134576,
          2.086769486656083,
          1.8952521357828687,
          2.04437892190217,
          2.1051561200574587,
          2.142889544114312,
          2.227133892795041,
          2.080638088757844,
          2.2240568534059126,
          2.253254706282604,
          2.2124896045966587,
          2.250502759507069,
          2.2964844635971877,
          2.3746730173130723,
          2.442564451500719,
          2.438587737204204,
          2.233476978906782,
          1.9540258562032213,
          2.2018825130415065,
          2.3015876616012707,
          2.3439101837151286,
          2.4730626748317843,
          2.6463370378770703,
          2.542526650034022,
          2.4721856808044156,
          2.7380585166704474,
          2.839699100325093,
          2.80807439328646,
          2.881341196038407,
          3.0036213805095646,
          3.161087170182204,
          3.178430483102745,
          3.2490360625992296,
          3.3229454902850244,
          3.4192787480154245,
          3.256626597111969,
          3.48180237393211,
          3.4527859680955633,
          3.603371890829366,
          3.4138882588644455,
          3.306826944885463,
          3.4251228547667667,
          3.1238602857790903,
          3.1240266122325564,
          2.861858320102822,
          3.1226203976714313,
          2.9900960157254115,
          2.710833900355335
         ],
         "yaxis": "y"
        },
        {
         "hovertemplate": "variable=DXY Curncy<br>Date=%{x}<br>value=%{y}<extra></extra>",
         "legendgroup": "DXY Curncy",
         "line": {
          "color": "#EF553B",
          "dash": "solid"
         },
         "marker": {
          "symbol": "circle"
         },
         "mode": "lines",
         "name": "DXY Curncy",
         "showlegend": true,
         "type": "scattergl",
         "x": [
          "2008-04-30T00:00:00",
          "2008-05-30T00:00:00",
          "2008-06-30T00:00:00",
          "2008-07-31T00:00:00",
          "2008-08-29T00:00:00",
          "2008-09-30T00:00:00",
          "2008-10-31T00:00:00",
          "2008-11-28T00:00:00",
          "2008-12-31T00:00:00",
          "2009-01-30T00:00:00",
          "2009-02-27T00:00:00",
          "2009-03-31T00:00:00",
          "2009-04-30T00:00:00",
          "2009-05-29T00:00:00",
          "2009-06-30T00:00:00",
          "2009-07-31T00:00:00",
          "2009-08-31T00:00:00",
          "2009-09-30T00:00:00",
          "2009-10-30T00:00:00",
          "2009-11-30T00:00:00",
          "2009-12-31T00:00:00",
          "2010-01-29T00:00:00",
          "2010-02-26T00:00:00",
          "2010-03-31T00:00:00",
          "2010-04-30T00:00:00",
          "2010-05-31T00:00:00",
          "2010-06-30T00:00:00",
          "2010-07-30T00:00:00",
          "2010-08-31T00:00:00",
          "2010-09-30T00:00:00",
          "2010-10-29T00:00:00",
          "2010-11-30T00:00:00",
          "2010-12-31T00:00:00",
          "2011-01-31T00:00:00",
          "2011-02-28T00:00:00",
          "2011-03-31T00:00:00",
          "2011-04-29T00:00:00",
          "2011-05-31T00:00:00",
          "2011-06-30T00:00:00",
          "2011-07-29T00:00:00",
          "2011-08-31T00:00:00",
          "2011-09-30T00:00:00",
          "2011-10-31T00:00:00",
          "2011-11-30T00:00:00",
          "2011-12-30T00:00:00",
          "2012-01-31T00:00:00",
          "2012-02-29T00:00:00",
          "2012-03-30T00:00:00",
          "2012-04-30T00:00:00",
          "2012-05-31T00:00:00",
          "2012-06-29T00:00:00",
          "2012-07-31T00:00:00",
          "2012-08-31T00:00:00",
          "2012-09-28T00:00:00",
          "2012-10-31T00:00:00",
          "2012-11-30T00:00:00",
          "2012-12-31T00:00:00",
          "2013-01-31T00:00:00",
          "2013-02-28T00:00:00",
          "2013-03-29T00:00:00",
          "2013-04-30T00:00:00",
          "2013-05-31T00:00:00",
          "2013-06-28T00:00:00",
          "2013-07-31T00:00:00",
          "2013-08-30T00:00:00",
          "2013-09-30T00:00:00",
          "2013-10-31T00:00:00",
          "2013-11-29T00:00:00",
          "2013-12-31T00:00:00",
          "2014-01-31T00:00:00",
          "2014-02-28T00:00:00",
          "2014-03-31T00:00:00",
          "2014-04-30T00:00:00",
          "2014-05-30T00:00:00",
          "2014-06-30T00:00:00",
          "2014-07-31T00:00:00",
          "2014-08-29T00:00:00",
          "2014-09-30T00:00:00",
          "2014-10-31T00:00:00",
          "2014-11-28T00:00:00",
          "2014-12-31T00:00:00",
          "2015-01-30T00:00:00",
          "2015-02-27T00:00:00",
          "2015-03-31T00:00:00",
          "2015-04-30T00:00:00",
          "2015-05-29T00:00:00",
          "2015-06-30T00:00:00",
          "2015-07-31T00:00:00",
          "2015-08-31T00:00:00",
          "2015-09-30T00:00:00",
          "2015-10-30T00:00:00",
          "2015-11-30T00:00:00",
          "2015-12-31T00:00:00",
          "2016-01-29T00:00:00",
          "2016-02-29T00:00:00",
          "2016-03-31T00:00:00",
          "2016-04-29T00:00:00",
          "2016-05-31T00:00:00",
          "2016-06-30T00:00:00",
          "2016-07-29T00:00:00",
          "2016-08-31T00:00:00",
          "2016-09-30T00:00:00",
          "2016-10-31T00:00:00",
          "2016-11-30T00:00:00",
          "2016-12-30T00:00:00",
          "2017-01-31T00:00:00",
          "2017-02-28T00:00:00",
          "2017-03-31T00:00:00",
          "2017-04-28T00:00:00",
          "2017-05-31T00:00:00",
          "2017-06-30T00:00:00",
          "2017-07-31T00:00:00",
          "2017-08-31T00:00:00",
          "2017-09-29T00:00:00",
          "2017-10-31T00:00:00",
          "2017-11-30T00:00:00",
          "2017-12-29T00:00:00",
          "2018-01-31T00:00:00",
          "2018-02-28T00:00:00",
          "2018-03-30T00:00:00",
          "2018-04-30T00:00:00",
          "2018-05-31T00:00:00",
          "2018-06-29T00:00:00",
          "2018-07-31T00:00:00",
          "2018-08-31T00:00:00",
          "2018-09-28T00:00:00",
          "2018-10-31T00:00:00",
          "2018-11-30T00:00:00",
          "2018-12-31T00:00:00",
          "2019-01-31T00:00:00",
          "2019-02-28T00:00:00",
          "2019-03-29T00:00:00",
          "2019-04-30T00:00:00",
          "2019-05-31T00:00:00",
          "2019-06-28T00:00:00",
          "2019-07-31T00:00:00",
          "2019-08-30T00:00:00",
          "2019-09-30T00:00:00",
          "2019-10-31T00:00:00",
          "2019-11-29T00:00:00",
          "2019-12-31T00:00:00",
          "2020-01-31T00:00:00",
          "2020-02-28T00:00:00",
          "2020-03-31T00:00:00",
          "2020-04-30T00:00:00",
          "2020-05-29T00:00:00",
          "2020-06-30T00:00:00",
          "2020-07-31T00:00:00",
          "2020-08-31T00:00:00",
          "2020-09-30T00:00:00",
          "2020-10-30T00:00:00",
          "2020-11-30T00:00:00",
          "2020-12-31T00:00:00",
          "2021-01-29T00:00:00",
          "2021-02-26T00:00:00",
          "2021-03-31T00:00:00",
          "2021-04-30T00:00:00",
          "2021-05-31T00:00:00",
          "2021-06-30T00:00:00",
          "2021-07-30T00:00:00",
          "2021-08-31T00:00:00",
          "2021-09-30T00:00:00",
          "2021-10-29T00:00:00",
          "2021-11-30T00:00:00",
          "2021-12-31T00:00:00",
          "2022-01-31T00:00:00",
          "2022-02-28T00:00:00",
          "2022-03-31T00:00:00",
          "2022-04-29T00:00:00",
          "2022-05-31T00:00:00",
          "2022-06-30T00:00:00",
          "2022-07-29T00:00:00",
          "2022-08-31T00:00:00",
          "2022-09-30T00:00:00"
         ],
         "xaxis": "x",
         "y": [
          1.009846522380992,
          1.01499958218434,
          1.0092058717027377,
          1.0198462438372187,
          1.0776997855212942,
          1.1064872844767548,
          1.1926269463246142,
          1.2049385810980187,
          1.1323918553800723,
          1.1977242973733313,
          1.2257040193866455,
          1.1897997270271015,
          1.1784351410824203,
          1.105094565610985,
          1.1160274087072775,
          1.0911534497646296,
          1.0887161917495325,
          1.06756079217849,
          1.0626444945823226,
          1.0428539594997344,
          1.0843709088883307,
          1.1066822651179622,
          1.1192167349098898,
          1.1291189660455128,
          1.140163226651067,
          1.2059274114927148,
          1.198002841146485,
          1.1356090359599997,
          1.1587699506977507,
          1.0963482911339504,
          1.0760981588256582,
          1.1308180830617516,
          1.1006378652405213,
          1.0826300103061182,
          1.070847608701706,
          1.0564747500069622,
          1.0157516503718547,
          1.039497507033229,
          1.0348318988329004,
          1.0291774602378754,
          1.0322414417425687,
          1.0940224506281149,
          1.0607782513021908,
          1.091668755744964,
          1.1166541321968735,
          1.1042589342915226,
          1.0965850533411312,
          1.1003036127127366,
          1.0971282136987814,
          1.156555527701177,
          1.1368346285618771,
          1.1508732347288364,
          1.130999136514302,
          1.113269825353053,
          1.1130469903345297,
          1.116305952480431,
          1.1109579120358752,
          1.103130832010249,
          1.1413191833096556,
          1.1556224060611109,
          1.138491964012143,
          1.1611793543355324,
          1.1578507562463427,
          1.13439737054678,
          1.1432411353444178,
          1.1172530013091542,
          1.1168908944040539,
          1.1236455809030375,
          1.1146625442188225,
          1.1324336369460448,
          1.1098715913205748,
          1.115567811481573,
          1.1068493913818545,
          1.1193142252304937,
          1.1110414751678215,
          1.134453079301411,
          1.1524470070471562,
          1.1968468844878961,
          1.2105094565610974,
          1.2305506810395241,
          1.2571933929416996,
          1.320353193504358,
          1.3271635887579722,
          1.3698364948051573,
          1.3175120470181876,
          1.3496420712514958,
          1.32983760898025,
          1.3556168351856481,
          1.3345589259352095,
          1.3418846271691585,
          1.3501852316091463,
          1.3950864878415632,
          1.3736525444973666,
          1.3872315534386217,
          1.3678031252611338,
          1.3173170663769802,
          1.296370574635803,
          1.3354920475752756,
          1.3390016991170153,
          1.3304643324698466,
          1.3373165092894341,
          1.3295312108297812,
          1.3710620874070354,
          1.4136096487563017,
          1.423497952703267,
          1.385922397704799,
          1.4083173170663768,
          1.3975933817999495,
          1.3794880365449427,
          1.3498509790813622,
          1.3318291969583016,
          1.2933205203197677,
          1.2906047185315168,
          1.2962870115038572,
          1.316843541962619,
          1.295883123032784,
          1.2830283279017292,
          1.241372106626556,
          1.2619843458399485,
          1.2530848722876797,
          1.279086933511601,
          1.3088632628617585,
          1.315701512492688,
          1.3168713963399346,
          1.3250327288933454,
          1.3249213113840839,
          1.3527060527561905,
          1.3547254951115568,
          1.3394195147767471,
          1.3311328375254172,
          1.3391966797582242,
          1.3548926213754495,
          1.3576084231637005,
          1.3613826912899365,
          1.3388206456644665,
          1.372050917801733,
          1.3776217932648118,
          1.3840422272360102,
          1.3558396702041728,
          1.3686666109579122,
          1.34242778752681,
          1.3563689033731654,
          1.366702877357177,
          1.379460182167628,
          1.379014512130582,
          1.369655441352609,
          1.3563828305618233,
          1.3000891340074097,
          1.283306871674884,
          1.307568034316593,
          1.309684966992563,
          1.279476894794017,
          1.2525695663073453,
          1.2615804573688758,
          1.2656889780228966,
          1.2984596529344588,
          1.2712737806746333,
          1.2510654299323138,
          1.2873736107629317,
          1.2837246873346149,
          1.2900197766078942,
          1.3123589872148411,
          1.3108687780284676,
          1.3369265480070196,
          1.3324141388819257,
          1.3445307930141226,
          1.3468566335199579,
          1.3692097713155627,
          1.4339294170078833,
          1.4171193002980422,
          1.4579677446310693,
          1.474931060416145,
          1.5138854070917251,
          1.5614746107350777
         ],
         "yaxis": "y"
        },
        {
         "hovertemplate": "variable=EHFI451 Index<br>Date=%{x}<br>value=%{y}<extra></extra>",
         "legendgroup": "EHFI451 Index",
         "line": {
          "color": "#00cc96",
          "dash": "solid"
         },
         "marker": {
          "symbol": "circle"
         },
         "mode": "lines",
         "name": "EHFI451 Index",
         "showlegend": true,
         "type": "scattergl",
         "x": [
          "2008-04-30T00:00:00",
          "2008-05-30T00:00:00",
          "2008-06-30T00:00:00",
          "2008-07-31T00:00:00",
          "2008-08-29T00:00:00",
          "2008-09-30T00:00:00",
          "2008-10-31T00:00:00",
          "2008-11-28T00:00:00",
          "2008-12-31T00:00:00",
          "2009-01-30T00:00:00",
          "2009-02-27T00:00:00",
          "2009-03-31T00:00:00",
          "2009-04-30T00:00:00",
          "2009-05-29T00:00:00",
          "2009-06-30T00:00:00",
          "2009-07-31T00:00:00",
          "2009-08-31T00:00:00",
          "2009-09-30T00:00:00",
          "2009-10-30T00:00:00",
          "2009-11-30T00:00:00",
          "2009-12-31T00:00:00",
          "2010-01-29T00:00:00",
          "2010-02-26T00:00:00",
          "2010-03-31T00:00:00",
          "2010-04-30T00:00:00",
          "2010-05-31T00:00:00",
          "2010-06-30T00:00:00",
          "2010-07-30T00:00:00",
          "2010-08-31T00:00:00",
          "2010-09-30T00:00:00",
          "2010-10-29T00:00:00",
          "2010-11-30T00:00:00",
          "2010-12-31T00:00:00",
          "2011-01-31T00:00:00",
          "2011-02-28T00:00:00",
          "2011-03-31T00:00:00",
          "2011-04-29T00:00:00",
          "2011-05-31T00:00:00",
          "2011-06-30T00:00:00",
          "2011-07-29T00:00:00",
          "2011-08-31T00:00:00",
          "2011-09-30T00:00:00",
          "2011-10-31T00:00:00",
          "2011-11-30T00:00:00",
          "2011-12-30T00:00:00",
          "2012-01-31T00:00:00",
          "2012-02-29T00:00:00",
          "2012-03-30T00:00:00",
          "2012-04-30T00:00:00",
          "2012-05-31T00:00:00",
          "2012-06-29T00:00:00",
          "2012-07-31T00:00:00",
          "2012-08-31T00:00:00",
          "2012-09-28T00:00:00",
          "2012-10-31T00:00:00",
          "2012-11-30T00:00:00",
          "2012-12-31T00:00:00",
          "2013-01-31T00:00:00",
          "2013-02-28T00:00:00",
          "2013-03-29T00:00:00",
          "2013-04-30T00:00:00",
          "2013-05-31T00:00:00",
          "2013-06-28T00:00:00",
          "2013-07-31T00:00:00",
          "2013-08-30T00:00:00",
          "2013-09-30T00:00:00",
          "2013-10-31T00:00:00",
          "2013-11-29T00:00:00",
          "2013-12-31T00:00:00",
          "2014-01-31T00:00:00",
          "2014-02-28T00:00:00",
          "2014-03-31T00:00:00",
          "2014-04-30T00:00:00",
          "2014-05-30T00:00:00",
          "2014-06-30T00:00:00",
          "2014-07-31T00:00:00",
          "2014-08-29T00:00:00",
          "2014-09-30T00:00:00",
          "2014-10-31T00:00:00",
          "2014-11-28T00:00:00",
          "2014-12-31T00:00:00",
          "2015-01-30T00:00:00",
          "2015-02-27T00:00:00",
          "2015-03-31T00:00:00",
          "2015-04-30T00:00:00",
          "2015-05-29T00:00:00",
          "2015-06-30T00:00:00",
          "2015-07-31T00:00:00",
          "2015-08-31T00:00:00",
          "2015-09-30T00:00:00",
          "2015-10-30T00:00:00",
          "2015-11-30T00:00:00",
          "2015-12-31T00:00:00",
          "2016-01-29T00:00:00",
          "2016-02-29T00:00:00",
          "2016-03-31T00:00:00",
          "2016-04-29T00:00:00",
          "2016-05-31T00:00:00",
          "2016-06-30T00:00:00",
          "2016-07-29T00:00:00",
          "2016-08-31T00:00:00",
          "2016-09-30T00:00:00",
          "2016-10-31T00:00:00",
          "2016-11-30T00:00:00",
          "2016-12-30T00:00:00",
          "2017-01-31T00:00:00",
          "2017-02-28T00:00:00",
          "2017-03-31T00:00:00",
          "2017-04-28T00:00:00",
          "2017-05-31T00:00:00",
          "2017-06-30T00:00:00",
          "2017-07-31T00:00:00",
          "2017-08-31T00:00:00",
          "2017-09-29T00:00:00",
          "2017-10-31T00:00:00",
          "2017-11-30T00:00:00",
          "2017-12-29T00:00:00",
          "2018-01-31T00:00:00",
          "2018-02-28T00:00:00",
          "2018-03-30T00:00:00",
          "2018-04-30T00:00:00",
          "2018-05-31T00:00:00",
          "2018-06-29T00:00:00",
          "2018-07-31T00:00:00",
          "2018-08-31T00:00:00",
          "2018-09-28T00:00:00",
          "2018-10-31T00:00:00",
          "2018-11-30T00:00:00",
          "2018-12-31T00:00:00",
          "2019-01-31T00:00:00",
          "2019-02-28T00:00:00",
          "2019-03-29T00:00:00",
          "2019-04-30T00:00:00",
          "2019-05-31T00:00:00",
          "2019-06-28T00:00:00",
          "2019-07-31T00:00:00",
          "2019-08-30T00:00:00",
          "2019-09-30T00:00:00",
          "2019-10-31T00:00:00",
          "2019-11-29T00:00:00",
          "2019-12-31T00:00:00",
          "2020-01-31T00:00:00",
          "2020-02-28T00:00:00",
          "2020-03-31T00:00:00",
          "2020-04-30T00:00:00",
          "2020-05-29T00:00:00",
          "2020-06-30T00:00:00",
          "2020-07-31T00:00:00",
          "2020-08-31T00:00:00",
          "2020-09-30T00:00:00",
          "2020-10-30T00:00:00",
          "2020-11-30T00:00:00",
          "2020-12-31T00:00:00",
          "2021-01-29T00:00:00",
          "2021-02-26T00:00:00",
          "2021-03-31T00:00:00",
          "2021-04-30T00:00:00",
          "2021-05-31T00:00:00",
          "2021-06-30T00:00:00",
          "2021-07-30T00:00:00",
          "2021-08-31T00:00:00",
          "2021-09-30T00:00:00",
          "2021-10-29T00:00:00",
          "2021-11-30T00:00:00",
          "2021-12-31T00:00:00",
          "2022-01-31T00:00:00",
          "2022-02-28T00:00:00",
          "2022-03-31T00:00:00",
          "2022-04-29T00:00:00",
          "2022-05-31T00:00:00",
          "2022-06-30T00:00:00",
          "2022-07-29T00:00:00",
          "2022-08-31T00:00:00",
          "2022-09-30T00:00:00"
         ],
         "xaxis": "x",
         "y": [
          0.9500991669972234,
          0.9791352637842128,
          1.0005553351844507,
          1.04379214597382,
          1.100833002776676,
          1.188813962713209,
          1.1745339151130505,
          1.2178500595001982,
          1.3393891312971045,
          1.3539865132883775,
          1.3527171757239191,
          1.340182467274891,
          1.3531138437128123,
          1.3663625545418483,
          1.3555731852439508,
          1.3562871876239586,
          1.3602538675128917,
          1.3798492661642205,
          1.378738595795319,
          1.4089646965489884,
          1.37929393097977,
          1.3830226100753669,
          1.393256644188814,
          1.3744545815152716,
          1.3947639825466083,
          1.4370487901626334,
          1.4591035303451008,
          1.4598968663228877,
          1.4857596191987303,
          1.5078936929789761,
          1.5168583895279644,
          1.5115430384767943,
          1.549781832606108,
          1.538595795319317,
          1.5477191590638628,
          1.5835779452598169,
          1.6067433558111852,
          1.5896072986909948,
          1.5852439508131684,
          1.6130900436334779,
          1.6833002776675912,
          1.7006743355811174,
          1.6841729472431561,
          1.724474414914715,
          1.7485124950416489,
          1.7379611265370871,
          1.7399444664815538,
          1.7516858389527954,
          1.7832606108687015,
          1.8339547798492644,
          1.8163427211424021,
          1.8215787385957938,
          1.8138833796112637,
          1.7891312971043223,
          1.7647758825862738,
          1.753589845299483,
          1.7532725109083682,
          1.727013090043632,
          1.7203490678302247,
          1.721142403808011,
          1.728837762792541,
          1.7502578341927792,
          1.7262197540658455,
          1.6979769932566429,
          1.7087663625545402,
          1.6868702895676302,
          1.6811582705275667,
          1.6889329631098753,
          1.6753669178897248,
          1.6813962713209027,
          1.6781435938119778,
          1.6698135660452185,
          1.659896866322886,
          1.6491868306227668,
          1.6541055136850438,
          1.6495834986116602,
          1.6456168187227271,
          1.6414914716382367,
          1.6527568425228063,
          1.6792542641808783,
          1.7017850059500175,
          1.7402618008726674,
          1.7176517255057493,
          1.7430384767949203,
          1.7223324077746902,
          1.7182070606902,
          1.7118603728679072,
          1.6936929789765942,
          1.7283617612058682,
          1.7305831019436702,
          1.7062276874256217,
          1.7118603728679067,
          1.683617612058704,
          1.7298690995636625,
          1.7162237207457332,
          1.6782229274097553,
          1.6685442284807588,
          1.6630702102340313,
          1.6779055930186406,
          1.660848869496229,
          1.6574375247917466,
          1.645061483538276,
          1.6367314557715167,
          1.6337961126537064,
          1.6360967869892875,
          1.613645378817927,
          1.5986513288377602,
          1.565013883379609,
          1.5557318524395058,
          1.54779849266164,
          1.5313764379214576,
          1.5058310194367295,
          1.5137643792145954,
          1.4900436334787763,
          1.4761602538675112,
          1.4607695358984514,
          1.4569615232050759,
          1.449662832209439,
          1.4491074970249884,
          1.4478381594605298,
          1.4061086870289552,
          1.4000793335977768,
          1.3887346291154288,
          1.3666005553351828,
          1.3587465291550955,
          1.3544625148750478,
          1.404918683062275,
          1.3920666402221322,
          1.4690202300674313,
          1.3980959936533102,
          1.3849266164220528,
          1.3795319317731038,
          1.3594605315351034,
          1.3773899246330803,
          1.3586671955573166,
          1.3471638238794112,
          1.3894486314954364,
          1.3657278857596173,
          1.349543831812771,
          1.3300277667592209,
          1.3094010313367694,
          1.3141610472034888,
          1.4359381197937304,
          1.7261404204680657,
          1.695755652518839,
          1.6896469654898822,
          1.7002776675922227,
          1.718127727092421,
          1.7169377231257408,
          1.690836969456562,
          1.6786989289964271,
          1.6214994049980138,
          1.6421261404204655,
          1.6375247917493032,
          1.6249107497024964,
          1.5851646172153881,
          1.5578738595795294,
          1.560253867512889,
          1.5355017850059476,
          1.5294724315747692,
          1.511860372867907,
          1.5198730662435518,
          1.5073383577945234,
          1.5222530741769111,
          1.4859182863942855,
          1.504641015470049,
          1.5112257040856778,
          1.5333597778659238,
          1.6240380801269314,
          1.5786592621975384,
          1.6276874256247496,
          1.6086473621578714,
          1.6267354224514057,
          1.6914716382387915
         ],
         "yaxis": "y"
        },
        {
         "hovertemplate": "variable=EHFI453 Index<br>Date=%{x}<br>value=%{y}<extra></extra>",
         "legendgroup": "EHFI453 Index",
         "line": {
          "color": "#ab63fa",
          "dash": "solid"
         },
         "marker": {
          "symbol": "circle"
         },
         "mode": "lines",
         "name": "EHFI453 Index",
         "showlegend": true,
         "type": "scattergl",
         "x": [
          "2008-04-30T00:00:00",
          "2008-05-30T00:00:00",
          "2008-06-30T00:00:00",
          "2008-07-31T00:00:00",
          "2008-08-29T00:00:00",
          "2008-09-30T00:00:00",
          "2008-10-31T00:00:00",
          "2008-11-28T00:00:00",
          "2008-12-31T00:00:00",
          "2009-01-30T00:00:00",
          "2009-02-27T00:00:00",
          "2009-03-31T00:00:00",
          "2009-04-30T00:00:00",
          "2009-05-29T00:00:00",
          "2009-06-30T00:00:00",
          "2009-07-31T00:00:00",
          "2009-08-31T00:00:00",
          "2009-09-30T00:00:00",
          "2009-10-30T00:00:00",
          "2009-11-30T00:00:00",
          "2009-12-31T00:00:00",
          "2010-01-29T00:00:00",
          "2010-02-26T00:00:00",
          "2010-03-31T00:00:00",
          "2010-04-30T00:00:00",
          "2010-05-31T00:00:00",
          "2010-06-30T00:00:00",
          "2010-07-30T00:00:00",
          "2010-08-31T00:00:00",
          "2010-09-30T00:00:00",
          "2010-10-29T00:00:00",
          "2010-11-30T00:00:00",
          "2010-12-31T00:00:00",
          "2011-01-31T00:00:00",
          "2011-02-28T00:00:00",
          "2011-03-31T00:00:00",
          "2011-04-29T00:00:00",
          "2011-05-31T00:00:00",
          "2011-06-30T00:00:00",
          "2011-07-29T00:00:00",
          "2011-08-31T00:00:00",
          "2011-09-30T00:00:00",
          "2011-10-31T00:00:00",
          "2011-11-30T00:00:00",
          "2011-12-30T00:00:00",
          "2012-01-31T00:00:00",
          "2012-02-29T00:00:00",
          "2012-03-30T00:00:00",
          "2012-04-30T00:00:00",
          "2012-05-31T00:00:00",
          "2012-06-29T00:00:00",
          "2012-07-31T00:00:00",
          "2012-08-31T00:00:00",
          "2012-09-28T00:00:00",
          "2012-10-31T00:00:00",
          "2012-11-30T00:00:00",
          "2012-12-31T00:00:00",
          "2013-01-31T00:00:00",
          "2013-02-28T00:00:00",
          "2013-03-29T00:00:00",
          "2013-04-30T00:00:00",
          "2013-05-31T00:00:00",
          "2013-06-28T00:00:00",
          "2013-07-31T00:00:00",
          "2013-08-30T00:00:00",
          "2013-09-30T00:00:00",
          "2013-10-31T00:00:00",
          "2013-11-29T00:00:00",
          "2013-12-31T00:00:00",
          "2014-01-31T00:00:00",
          "2014-02-28T00:00:00",
          "2014-03-31T00:00:00",
          "2014-04-30T00:00:00",
          "2014-05-30T00:00:00",
          "2014-06-30T00:00:00",
          "2014-07-31T00:00:00",
          "2014-08-29T00:00:00",
          "2014-09-30T00:00:00",
          "2014-10-31T00:00:00",
          "2014-11-28T00:00:00",
          "2014-12-31T00:00:00",
          "2015-01-30T00:00:00",
          "2015-02-27T00:00:00",
          "2015-03-31T00:00:00",
          "2015-04-30T00:00:00",
          "2015-05-29T00:00:00",
          "2015-06-30T00:00:00",
          "2015-07-31T00:00:00",
          "2015-08-31T00:00:00",
          "2015-09-30T00:00:00",
          "2015-10-30T00:00:00",
          "2015-11-30T00:00:00",
          "2015-12-31T00:00:00",
          "2016-01-29T00:00:00",
          "2016-02-29T00:00:00",
          "2016-03-31T00:00:00",
          "2016-04-29T00:00:00",
          "2016-05-31T00:00:00",
          "2016-06-30T00:00:00",
          "2016-07-29T00:00:00",
          "2016-08-31T00:00:00",
          "2016-09-30T00:00:00",
          "2016-10-31T00:00:00",
          "2016-11-30T00:00:00",
          "2016-12-30T00:00:00",
          "2017-01-31T00:00:00",
          "2017-02-28T00:00:00",
          "2017-03-31T00:00:00",
          "2017-04-28T00:00:00",
          "2017-05-31T00:00:00",
          "2017-06-30T00:00:00",
          "2017-07-31T00:00:00",
          "2017-08-31T00:00:00",
          "2017-09-29T00:00:00",
          "2017-10-31T00:00:00",
          "2017-11-30T00:00:00",
          "2017-12-29T00:00:00",
          "2018-01-31T00:00:00",
          "2018-02-28T00:00:00",
          "2018-03-30T00:00:00",
          "2018-04-30T00:00:00",
          "2018-05-31T00:00:00",
          "2018-06-29T00:00:00",
          "2018-07-31T00:00:00",
          "2018-08-31T00:00:00",
          "2018-09-28T00:00:00",
          "2018-10-31T00:00:00",
          "2018-11-30T00:00:00",
          "2018-12-31T00:00:00",
          "2019-01-31T00:00:00",
          "2019-02-28T00:00:00",
          "2019-03-29T00:00:00",
          "2019-04-30T00:00:00",
          "2019-05-31T00:00:00",
          "2019-06-28T00:00:00",
          "2019-07-31T00:00:00",
          "2019-08-30T00:00:00",
          "2019-09-30T00:00:00",
          "2019-10-31T00:00:00",
          "2019-11-29T00:00:00",
          "2019-12-31T00:00:00",
          "2020-01-31T00:00:00",
          "2020-02-28T00:00:00",
          "2020-03-31T00:00:00",
          "2020-04-30T00:00:00",
          "2020-05-29T00:00:00",
          "2020-06-30T00:00:00",
          "2020-07-31T00:00:00",
          "2020-08-31T00:00:00",
          "2020-09-30T00:00:00",
          "2020-10-30T00:00:00",
          "2020-11-30T00:00:00",
          "2020-12-31T00:00:00",
          "2021-01-29T00:00:00",
          "2021-02-26T00:00:00",
          "2021-03-31T00:00:00",
          "2021-04-30T00:00:00",
          "2021-05-31T00:00:00",
          "2021-06-30T00:00:00",
          "2021-07-30T00:00:00",
          "2021-08-31T00:00:00",
          "2021-09-30T00:00:00",
          "2021-10-29T00:00:00",
          "2021-11-30T00:00:00",
          "2021-12-31T00:00:00",
          "2022-01-31T00:00:00",
          "2022-02-28T00:00:00",
          "2022-03-31T00:00:00",
          "2022-04-29T00:00:00",
          "2022-05-31T00:00:00",
          "2022-06-30T00:00:00",
          "2022-07-29T00:00:00",
          "2022-08-31T00:00:00",
          "2022-09-30T00:00:00"
         ],
         "xaxis": "x",
         "y": [
          0.9900059370670888,
          0.9832772610330498,
          0.9547793390065308,
          0.9834751632693449,
          0.9907975460122699,
          1.0499703146645556,
          1.121413021967148,
          1.1212151197308529,
          1.1139916881060754,
          1.130615475954878,
          1.1146843459331088,
          1.113299030279042,
          1.081832574708094,
          1.0851969127251138,
          1.0298832376805858,
          1.0374035226598062,
          1.0402731050860876,
          1.0190975658024937,
          1.0451217098753218,
          1.0917276865228578,
          1.0435384919849595,
          0.9998020977637049,
          1.0064318226795963,
          0.9914902038393035,
          1.0088066495151395,
          1.0641203245596675,
          1.081337819117356,
          1.0372056204235105,
          1.066890955867801,
          1.0501682169008508,
          1.0332475756976054,
          1.0573916485256285,
          1.044528003166436,
          1.021472392638037,
          1.0084108450425489,
          1.0071244805066295,
          0.9903027904215315,
          0.9740748070453193,
          0.9577478725509596,
          0.9683356421927565,
          1.2349099544824853,
          1.314466653473184,
          1.246388284187611,
          1.2462893330694635,
          1.2158123886799919,
          1.1808826439738767,
          1.160201860281021,
          1.1096378389075794,
          1.078270334454779,
          1.1337819117356023,
          1.079358796754403,
          1.0754997031466451,
          1.0592717197704329,
          1.028398970908371,
          1.009697209578468,
          0.9694241044923804,
          0.9579457747872547,
          0.9326142885414601,
          0.9236097367900253,
          0.9194537898278247,
          0.9305363150603599,
          0.9220265188996632,
          0.9216307144270727,
          0.8946170591727682,
          0.8931327924005538,
          0.8868988719572527,
          0.8718583019988122,
          0.8659212349099542,
          0.8527607361963188,
          0.8530575895507616,
          0.8483079358796752,
          0.8325747080942012,
          0.8283198100138528,
          0.8231743518701758,
          0.8294082723134768,
          0.8152582624183651,
          0.8138729467642981,
          0.8021967148228771,
          0.7803285177122499,
          0.8063526617850779,
          0.8253512764694239,
          0.8248565208786858,
          0.8044725905402729,
          0.8072432218484066,
          0.7861666336829604,
          0.7803285177122499,
          0.7762715218681968,
          0.7502473777953687,
          0.8050662972491585,
          0.799228181278448,
          0.7711260637245198,
          0.772115574905996,
          0.7468830397783491,
          0.7729071838511772,
          0.7650900455175139,
          0.7349099544824853,
          0.7275875717395603,
          0.7159113397981394,
          0.6952305561052838,
          0.678112012665743,
          0.678112012665743,
          0.6605976647536116,
          0.6432812190777755,
          0.6445675836136947,
          0.6587175935088064,
          0.640411636651494,
          0.6363546408074411,
          0.6233920443301009,
          0.615772808232733,
          0.6094399366712844,
          0.6030081139916881,
          0.5936077577676628,
          0.5859885216702949,
          0.5870769839699189,
          0.5839105481891946,
          0.570255293884821,
          0.5650108846229963,
          0.5686720759944588,
          0.5670888581040967,
          0.5604591331882052,
          0.5634276667326342,
          0.5587769641796954,
          0.5534336037997231,
          0.554522066099347,
          0.5406689095586781,
          0.535523451415001,
          0.5343360379972294,
          0.5265188996635662,
          0.532554917870572,
          0.5199881258658223,
          0.5245398773006135,
          0.5229566594102514,
          0.5220660993469226,
          0.5129625964773402,
          0.5207797348110034,
          0.5123688897684544,
          0.5156342766673263,
          0.5071244805066297,
          0.4941618840292895,
          0.48258460320601626,
          0.4771422917078963,
          0.4840688699782308,
          0.545814367702355,
          0.7501484266772216,
          0.7212547001781121,
          0.7071046902830002,
          0.7125470017811202,
          0.7070057391648525,
          0.702552938848209,
          0.6777162081931526,
          0.6664357807243222,
          0.6349693251533743,
          0.6434791213140709,
          0.6390263209974274,
          0.6350682762715221,
          0.6267563823471207,
          0.6199287551949338,
          0.6189392440134575,
          0.611221056797942,
          0.6037007718187217,
          0.594696220067287,
          0.5930140510587771,
          0.5916287354047103,
          0.5882643973876907,
          0.5771818721551555,
          0.5702552938848211,
          0.5846032060162282,
          0.6003364338017022,
          0.6369483475163271,
          0.6171581238868,
          0.6403126855333466,
          0.6271521868197113,
          0.6367504452800318,
          0.6553532554917874
         ],
         "yaxis": "y"
        },
        {
         "hovertemplate": "variable=XAU Curncy<br>Date=%{x}<br>value=%{y}<extra></extra>",
         "legendgroup": "XAU Curncy",
         "line": {
          "color": "#FFA15A",
          "dash": "solid"
         },
         "marker": {
          "symbol": "circle"
         },
         "mode": "lines",
         "name": "XAU Curncy",
         "showlegend": true,
         "type": "scattergl",
         "x": [
          "2008-04-30T00:00:00",
          "2008-05-30T00:00:00",
          "2008-06-30T00:00:00",
          "2008-07-31T00:00:00",
          "2008-08-29T00:00:00",
          "2008-09-30T00:00:00",
          "2008-10-31T00:00:00",
          "2008-11-28T00:00:00",
          "2008-12-31T00:00:00",
          "2009-01-30T00:00:00",
          "2009-02-27T00:00:00",
          "2009-03-31T00:00:00",
          "2009-04-30T00:00:00",
          "2009-05-29T00:00:00",
          "2009-06-30T00:00:00",
          "2009-07-31T00:00:00",
          "2009-08-31T00:00:00",
          "2009-09-30T00:00:00",
          "2009-10-30T00:00:00",
          "2009-11-30T00:00:00",
          "2009-12-31T00:00:00",
          "2010-01-29T00:00:00",
          "2010-02-26T00:00:00",
          "2010-03-31T00:00:00",
          "2010-04-30T00:00:00",
          "2010-05-31T00:00:00",
          "2010-06-30T00:00:00",
          "2010-07-30T00:00:00",
          "2010-08-31T00:00:00",
          "2010-09-30T00:00:00",
          "2010-10-29T00:00:00",
          "2010-11-30T00:00:00",
          "2010-12-31T00:00:00",
          "2011-01-31T00:00:00",
          "2011-02-28T00:00:00",
          "2011-03-31T00:00:00",
          "2011-04-29T00:00:00",
          "2011-05-31T00:00:00",
          "2011-06-30T00:00:00",
          "2011-07-29T00:00:00",
          "2011-08-31T00:00:00",
          "2011-09-30T00:00:00",
          "2011-10-31T00:00:00",
          "2011-11-30T00:00:00",
          "2011-12-30T00:00:00",
          "2012-01-31T00:00:00",
          "2012-02-29T00:00:00",
          "2012-03-30T00:00:00",
          "2012-04-30T00:00:00",
          "2012-05-31T00:00:00",
          "2012-06-29T00:00:00",
          "2012-07-31T00:00:00",
          "2012-08-31T00:00:00",
          "2012-09-28T00:00:00",
          "2012-10-31T00:00:00",
          "2012-11-30T00:00:00",
          "2012-12-31T00:00:00",
          "2013-01-31T00:00:00",
          "2013-02-28T00:00:00",
          "2013-03-29T00:00:00",
          "2013-04-30T00:00:00",
          "2013-05-31T00:00:00",
          "2013-06-28T00:00:00",
          "2013-07-31T00:00:00",
          "2013-08-30T00:00:00",
          "2013-09-30T00:00:00",
          "2013-10-31T00:00:00",
          "2013-11-29T00:00:00",
          "2013-12-31T00:00:00",
          "2014-01-31T00:00:00",
          "2014-02-28T00:00:00",
          "2014-03-31T00:00:00",
          "2014-04-30T00:00:00",
          "2014-05-30T00:00:00",
          "2014-06-30T00:00:00",
          "2014-07-31T00:00:00",
          "2014-08-29T00:00:00",
          "2014-09-30T00:00:00",
          "2014-10-31T00:00:00",
          "2014-11-28T00:00:00",
          "2014-12-31T00:00:00",
          "2015-01-30T00:00:00",
          "2015-02-27T00:00:00",
          "2015-03-31T00:00:00",
          "2015-04-30T00:00:00",
          "2015-05-29T00:00:00",
          "2015-06-30T00:00:00",
          "2015-07-31T00:00:00",
          "2015-08-31T00:00:00",
          "2015-09-30T00:00:00",
          "2015-10-30T00:00:00",
          "2015-11-30T00:00:00",
          "2015-12-31T00:00:00",
          "2016-01-29T00:00:00",
          "2016-02-29T00:00:00",
          "2016-03-31T00:00:00",
          "2016-04-29T00:00:00",
          "2016-05-31T00:00:00",
          "2016-06-30T00:00:00",
          "2016-07-29T00:00:00",
          "2016-08-31T00:00:00",
          "2016-09-30T00:00:00",
          "2016-10-31T00:00:00",
          "2016-11-30T00:00:00",
          "2016-12-30T00:00:00",
          "2017-01-31T00:00:00",
          "2017-02-28T00:00:00",
          "2017-03-31T00:00:00",
          "2017-04-28T00:00:00",
          "2017-05-31T00:00:00",
          "2017-06-30T00:00:00",
          "2017-07-31T00:00:00",
          "2017-08-31T00:00:00",
          "2017-09-29T00:00:00",
          "2017-10-31T00:00:00",
          "2017-11-30T00:00:00",
          "2017-12-29T00:00:00",
          "2018-01-31T00:00:00",
          "2018-02-28T00:00:00",
          "2018-03-30T00:00:00",
          "2018-04-30T00:00:00",
          "2018-05-31T00:00:00",
          "2018-06-29T00:00:00",
          "2018-07-31T00:00:00",
          "2018-08-31T00:00:00",
          "2018-09-28T00:00:00",
          "2018-10-31T00:00:00",
          "2018-11-30T00:00:00",
          "2018-12-31T00:00:00",
          "2019-01-31T00:00:00",
          "2019-02-28T00:00:00",
          "2019-03-29T00:00:00",
          "2019-04-30T00:00:00",
          "2019-05-31T00:00:00",
          "2019-06-28T00:00:00",
          "2019-07-31T00:00:00",
          "2019-08-30T00:00:00",
          "2019-09-30T00:00:00",
          "2019-10-31T00:00:00",
          "2019-11-29T00:00:00",
          "2019-12-31T00:00:00",
          "2020-01-31T00:00:00",
          "2020-02-28T00:00:00",
          "2020-03-31T00:00:00",
          "2020-04-30T00:00:00",
          "2020-05-29T00:00:00",
          "2020-06-30T00:00:00",
          "2020-07-31T00:00:00",
          "2020-08-31T00:00:00",
          "2020-09-30T00:00:00",
          "2020-10-30T00:00:00",
          "2020-11-30T00:00:00",
          "2020-12-31T00:00:00",
          "2021-01-29T00:00:00",
          "2021-02-26T00:00:00",
          "2021-03-31T00:00:00",
          "2021-04-30T00:00:00",
          "2021-05-31T00:00:00",
          "2021-06-30T00:00:00",
          "2021-07-30T00:00:00",
          "2021-08-31T00:00:00",
          "2021-09-30T00:00:00",
          "2021-10-29T00:00:00",
          "2021-11-30T00:00:00",
          "2021-12-31T00:00:00",
          "2022-01-31T00:00:00",
          "2022-02-28T00:00:00",
          "2022-03-31T00:00:00",
          "2022-04-29T00:00:00",
          "2022-05-31T00:00:00",
          "2022-06-30T00:00:00",
          "2022-07-29T00:00:00",
          "2022-08-31T00:00:00",
          "2022-09-30T00:00:00"
         ],
         "xaxis": "x",
         "y": [
          0.9414415392633773,
          0.9614206914523974,
          1.0028231410701873,
          0.9961670430854758,
          0.9032531271716467,
          0.9506927553856842,
          0.7837473940236273,
          0.8878561501042388,
          0.9505624565670601,
          1.007481323835997,
          1.0231931897150799,
          0.9988490271021542,
          0.9641569666435024,
          1.0594922689367614,
          1.0098158443363443,
          1.0358756080611533,
          1.03255298818624,
          1.0940757470465596,
          1.1351741660875603,
          1.274083564975677,
          1.1929399756775534,
          1.1739923558026402,
          1.2135054725503815,
          1.2101394197359272,
          1.2802184676858923,
          1.3208499826268236,
          1.348245309242529,
          1.2823575399583038,
          1.3555963342599022,
          1.4198227936066707,
          1.4760684503127166,
          1.5076984885337033,
          1.5433895066018062,
          1.4518980194579563,
          1.5330524669909653,
          1.5611752953439881,
          1.697902189020152,
          1.668074617790131,
          1.633860319666434,
          1.766689107018762,
          1.9924752432244603,
          1.7631493224461423,
          1.872480889506601,
          1.8954026233495471,
          1.6992160354412778,
          1.8794627345378723,
          1.8696794649061836,
          1.8113164523974972,
          1.8066039784572607,
          1.7013116747741475,
          1.734548731758164,
          1.75439758512856,
          1.8370504690757454,
          1.924350677553855,
          1.8669106150104222,
          1.86216556636553,
          1.8200899061848492,
          1.8051924079221668,
          1.7171212647671983,
          1.7346030229325906,
          1.5982887421820695,
          1.506905837387073,
          1.3404816712995125,
          1.4205720118137584,
          1.5150169388464199,
          1.4460671473245297,
          1.4372611188325215,
          1.3609168693537166,
          1.308406445448227,
          1.3513616226546201,
          1.4402254169562185,
          1.3973679638637932,
          1.404512682418345,
          1.3569318971507982,
          1.4314953961084074,
          1.3923297428769967,
          1.3978022932592067,
          1.312402275886031,
          1.2736058026407218,
          1.2675686240444743,
          1.2899148714384978,
          1.3939693363446823,
          1.3172993398193178,
          1.2854847116052803,
          1.2828353022932582,
          1.2927597289784563,
          1.2744961779013193,
          1.1898453787352319,
          1.23101980542043,
          1.2105846073662259,
          1.2401298644892276,
          1.1555007817929108,
          1.153350851285614,
          1.2141786831132722,
          1.3378105455177194,
          1.338212300208477,
          1.4045452571230008,
          1.3191452397498251,
          1.4290848679638626,
          1.467251563585822,
          1.4204417129951343,
          1.4288025538568436,
          1.3830785267546897,
          1.2757774496177892,
          1.2459824530924242,
          1.3144870569840152,
          1.3641960562890882,
          1.3564107018763016,
          1.3771282140375245,
          1.3788438151494076,
          1.3481693015983305,
          1.3767156011118817,
          1.4299861014593451,
          1.389582609451006,
          1.3793650104239037,
          1.3808634468380803,
          1.4146108408617075,
          1.4547754517025693,
          1.4325486448922844,
          1.4392373175816522,
          1.4302032661570518,
          1.413644457956913,
          1.3601025017373158,
          1.3313281792911729,
          1.3031184850590671,
          1.294866226546211,
          1.3174730715774827,
          1.3252692842251548,
          1.3915696664350226,
          1.4355238012508666,
          1.4281727762334935,
          1.4032965601111866,
          1.3937738881167459,
          1.4176294301598313,
          1.5305224982626804,
          1.546874999999998,
          1.650864315496871,
          1.5967468728283511,
          1.6422103022932573,
          1.5896130125086847,
          1.6535028665740077,
          1.7255472550382192,
          1.7217794475330073,
          1.7350264940931186,
          1.8325117268936741,
          1.8787678075052099,
          1.936761640027795,
          2.1454351980542015,
          2.141135337039608,
          2.060784398888114,
          2.0400560284920055,
          1.9307027449617762,
          2.0569405837387045,
          2.0062217685892954,
          1.8828613620569814,
          1.8589515288394693,
          1.9209629082696293,
          2.0703939367616373,
          1.9243832522585105,
          1.969890114662958,
          1.9697489576094485,
          1.9091708651841532,
          1.9364358929812346,
          1.9266417651146603,
          1.986188325225849,
          1.9512248088950637,
          2.06226111883252,
          2.1113294822793582,
          2.059731150104237,
          2.0043975851285594,
          1.9652862230715753,
          1.917499131341207,
          1.8635119874913113,
          1.803129343293952
         ],
         "yaxis": "y"
        },
        {
         "hovertemplate": "variable=Portfolio<br>Date=%{x}<br>value=%{y}<extra></extra>",
         "legendgroup": "Portfolio",
         "line": {
          "color": "#19d3f3",
          "dash": "solid"
         },
         "marker": {
          "symbol": "circle"
         },
         "mode": "lines",
         "name": "Portfolio",
         "showlegend": true,
         "type": "scattergl",
         "x": [
          "2008-04-30T00:00:00",
          "2008-05-30T00:00:00",
          "2008-06-30T00:00:00",
          "2008-07-31T00:00:00",
          "2008-08-29T00:00:00",
          "2008-09-30T00:00:00",
          "2008-10-31T00:00:00",
          "2008-11-28T00:00:00",
          "2008-12-31T00:00:00",
          "2009-01-30T00:00:00",
          "2009-02-27T00:00:00",
          "2009-03-31T00:00:00",
          "2009-04-30T00:00:00",
          "2009-05-29T00:00:00",
          "2009-06-30T00:00:00",
          "2009-07-31T00:00:00",
          "2009-08-31T00:00:00",
          "2009-09-30T00:00:00",
          "2009-10-30T00:00:00",
          "2009-11-30T00:00:00",
          "2009-12-31T00:00:00",
          "2010-01-29T00:00:00",
          "2010-02-26T00:00:00",
          "2010-03-31T00:00:00",
          "2010-04-30T00:00:00",
          "2010-05-31T00:00:00",
          "2010-06-30T00:00:00",
          "2010-07-30T00:00:00",
          "2010-08-31T00:00:00",
          "2010-09-30T00:00:00",
          "2010-10-29T00:00:00",
          "2010-11-30T00:00:00",
          "2010-12-31T00:00:00",
          "2011-01-31T00:00:00",
          "2011-02-28T00:00:00",
          "2011-03-31T00:00:00",
          "2011-04-29T00:00:00",
          "2011-05-31T00:00:00",
          "2011-06-30T00:00:00",
          "2011-07-29T00:00:00",
          "2011-08-31T00:00:00",
          "2011-09-30T00:00:00",
          "2011-10-31T00:00:00",
          "2011-11-30T00:00:00",
          "2011-12-30T00:00:00",
          "2012-01-31T00:00:00",
          "2012-02-29T00:00:00",
          "2012-03-30T00:00:00",
          "2012-04-30T00:00:00",
          "2012-05-31T00:00:00",
          "2012-06-29T00:00:00",
          "2012-07-31T00:00:00",
          "2012-08-31T00:00:00",
          "2012-09-28T00:00:00",
          "2012-10-31T00:00:00",
          "2012-11-30T00:00:00",
          "2012-12-31T00:00:00",
          "2013-01-31T00:00:00",
          "2013-02-28T00:00:00",
          "2013-03-29T00:00:00",
          "2013-04-30T00:00:00",
          "2013-05-31T00:00:00",
          "2013-06-28T00:00:00",
          "2013-07-31T00:00:00",
          "2013-08-30T00:00:00",
          "2013-09-30T00:00:00",
          "2013-10-31T00:00:00",
          "2013-11-29T00:00:00",
          "2013-12-31T00:00:00",
          "2014-01-31T00:00:00",
          "2014-02-28T00:00:00",
          "2014-03-31T00:00:00",
          "2014-04-30T00:00:00",
          "2014-05-30T00:00:00",
          "2014-06-30T00:00:00",
          "2014-07-31T00:00:00",
          "2014-08-29T00:00:00",
          "2014-09-30T00:00:00",
          "2014-10-31T00:00:00",
          "2014-11-28T00:00:00",
          "2014-12-31T00:00:00",
          "2015-01-30T00:00:00",
          "2015-02-27T00:00:00",
          "2015-03-31T00:00:00",
          "2015-04-30T00:00:00",
          "2015-05-29T00:00:00",
          "2015-06-30T00:00:00",
          "2015-07-31T00:00:00",
          "2015-08-31T00:00:00",
          "2015-09-30T00:00:00",
          "2015-10-30T00:00:00",
          "2015-11-30T00:00:00",
          "2015-12-31T00:00:00",
          "2016-01-29T00:00:00",
          "2016-02-29T00:00:00",
          "2016-03-31T00:00:00",
          "2016-04-29T00:00:00",
          "2016-05-31T00:00:00",
          "2016-06-30T00:00:00",
          "2016-07-29T00:00:00",
          "2016-08-31T00:00:00",
          "2016-09-30T00:00:00",
          "2016-10-31T00:00:00",
          "2016-11-30T00:00:00",
          "2016-12-30T00:00:00",
          "2017-01-31T00:00:00",
          "2017-02-28T00:00:00",
          "2017-03-31T00:00:00",
          "2017-04-28T00:00:00",
          "2017-05-31T00:00:00",
          "2017-06-30T00:00:00",
          "2017-07-31T00:00:00",
          "2017-08-31T00:00:00",
          "2017-09-29T00:00:00",
          "2017-10-31T00:00:00",
          "2017-11-30T00:00:00",
          "2017-12-29T00:00:00",
          "2018-01-31T00:00:00",
          "2018-02-28T00:00:00",
          "2018-03-30T00:00:00",
          "2018-04-30T00:00:00",
          "2018-05-31T00:00:00",
          "2018-06-29T00:00:00",
          "2018-07-31T00:00:00",
          "2018-08-31T00:00:00",
          "2018-09-28T00:00:00",
          "2018-10-31T00:00:00",
          "2018-11-30T00:00:00",
          "2018-12-31T00:00:00",
          "2019-01-31T00:00:00",
          "2019-02-28T00:00:00",
          "2019-03-29T00:00:00",
          "2019-04-30T00:00:00",
          "2019-05-31T00:00:00",
          "2019-06-28T00:00:00",
          "2019-07-31T00:00:00",
          "2019-08-30T00:00:00",
          "2019-09-30T00:00:00",
          "2019-10-31T00:00:00",
          "2019-11-29T00:00:00",
          "2019-12-31T00:00:00",
          "2020-01-31T00:00:00",
          "2020-02-28T00:00:00",
          "2020-03-31T00:00:00",
          "2020-04-30T00:00:00",
          "2020-05-29T00:00:00",
          "2020-06-30T00:00:00",
          "2020-07-31T00:00:00",
          "2020-08-31T00:00:00",
          "2020-09-30T00:00:00",
          "2020-10-30T00:00:00",
          "2020-11-30T00:00:00",
          "2020-12-31T00:00:00",
          "2021-01-29T00:00:00",
          "2021-02-26T00:00:00",
          "2021-03-31T00:00:00",
          "2021-04-30T00:00:00",
          "2021-05-31T00:00:00",
          "2021-06-30T00:00:00",
          "2021-07-30T00:00:00",
          "2021-08-31T00:00:00",
          "2021-09-30T00:00:00",
          "2021-10-29T00:00:00",
          "2021-11-30T00:00:00",
          "2021-12-31T00:00:00",
          "2022-01-31T00:00:00",
          "2022-02-28T00:00:00",
          "2022-03-31T00:00:00",
          "2022-04-29T00:00:00",
          "2022-05-31T00:00:00",
          "2022-06-30T00:00:00",
          "2022-07-29T00:00:00",
          "2022-08-31T00:00:00",
          "2022-09-30T00:00:00"
         ],
         "xaxis": "x",
         "y": [
          0.9928808753744975,
          1.0091432458038712,
          0.9947464202682995,
          0.9948026803367328,
          0.9970193774505824,
          1.0230632709840588,
          1.0184298754911603,
          1.0235894353350985,
          1.0958316121823075,
          1.103855126596354,
          1.0837995291181013,
          1.0899165423161874,
          1.103230978250874,
          1.157507639358448,
          1.1349681796541908,
          1.1628563070484719,
          1.1713038121271315,
          1.2054585135157354,
          1.209828757512133,
          1.2814233169682396,
          1.2873397847113859,
          1.2800894130456375,
          1.3087226107155057,
          1.334160981182123,
          1.367094545153553,
          1.3830235783224245,
          1.3607118848366906,
          1.356626454311218,
          1.3645730187772365,
          1.4143708470156704,
          1.4470743343911905,
          1.475739293567925,
          1.4948914333219128,
          1.4685814572651879,
          1.4976049552076214,
          1.5029992780710426,
          1.4960408375216119,
          1.5002212116439062,
          1.481003793845779,
          1.5024371746979088,
          1.5346945263830734,
          1.5582078972878268,
          1.5640708615579357,
          1.5963537132665604,
          1.6228638296944033,
          1.6247522197273836,
          1.6331937393242115,
          1.6494722085785762,
          1.6571547255037873,
          1.6935588899449383,
          1.6876846595449533,
          1.7021820449477703,
          1.6935045397484154,
          1.6809829654317914,
          1.665423205772907,
          1.6640704432102678,
          1.6628734079191714,
          1.6637331708199399,
          1.688263532325628,
          1.7086364094385553,
          1.7070793420174184,
          1.736191409609459,
          1.719689380704108,
          1.7099752274649358,
          1.7098102244230355,
          1.6945452847213662,
          1.706149002235553,
          1.7225131949960104,
          1.7125281220293496,
          1.7145600951429407,
          1.772950281347534,
          1.775450931520045,
          1.7675695469225432,
          1.7781186221671441,
          1.8091677467410736,
          1.8045286851690405,
          1.8380109155720423,
          1.80752291254504,
          1.811595451623277,
          1.8342944886141608,
          1.8526951463158705,
          1.905018618360564,
          1.9137533962371722,
          1.9012303012937946,
          1.8870889697383402,
          1.912081985102144,
          1.8809562672284883,
          1.8722583282013123,
          1.845116723420156,
          1.8274499641148725,
          1.8870391883065305,
          1.8788364179897472,
          1.8559695123696058,
          1.8654547491341156,
          1.9051496159807564,
          1.9091286635031488,
          1.9237402405953727,
          1.9246948288671482,
          1.9809168666000718,
          2.023453233980024,
          2.0034282748943393,
          2.000904629411171,
          1.9997353735020236,
          2.0025086875407503,
          2.005664902179767,
          2.0232164128221997,
          2.080028451258532,
          2.069473546571721,
          2.071733390603281,
          2.05945405014221,
          2.0406249244331254,
          2.0552604387431965,
          2.0814279305763645,
          2.0799450115941243,
          2.1018484902455397,
          2.1171910192269907,
          2.1373695734851017,
          2.187158254106463,
          2.151668796452711,
          2.128068993743949,
          2.1375595493654735,
          2.1607318212962436,
          2.140232788353545,
          2.1560562041392366,
          2.17007606843196,
          2.169085878832233,
          2.1341551994860204,
          2.1544018045780313,
          2.1058414431799366,
          2.1906579174816074,
          2.2162482428477976,
          2.225867959890616,
          2.2566977279180667,
          2.212461958492589,
          2.3228241063460913,
          2.358600539489652,
          2.397758039833581,
          2.3905265279376113,
          2.420003443992627,
          2.432607801734074,
          2.4587743337184107,
          2.499041423066717,
          2.447610842189115,
          2.598562576812169,
          2.6414871203378416,
          2.6526692656115016,
          2.6982819068303994,
          2.8411751476294724,
          2.8801015959230942,
          2.8424408491044724,
          2.8146266173591212,
          2.8275309569444866,
          2.882329911536822,
          2.8626146061450286,
          2.8379939388987694,
          2.89372890647735,
          2.9361749961785524,
          2.984205197622844,
          2.981711115790132,
          3.0166047569622334,
          3.0473354894597064,
          3.004098801666905,
          3.0722644594489688,
          3.087767845689391,
          3.14733417321805,
          3.0984988278589585,
          3.1234533422047255,
          3.1840477281276627,
          3.2692020155812997,
          3.2167638690903444,
          3.2445312710072547,
          3.300088233853389,
          3.324623791117106,
          3.282346154617056
         ],
         "yaxis": "y"
        }
       ],
       "layout": {
        "legend": {
         "title": {
          "text": "variable"
         },
         "tracegroupgap": 0
        },
        "margin": {
         "t": 60
        },
        "shapes": [
         {
          "fillcolor": "yellow",
          "layer": "below",
          "line": {
           "width": 0
          },
          "opacity": 0.2,
          "type": "rect",
          "x0": "2008-04-01",
          "x1": "2008-05-30",
          "xref": "x",
          "y0": 0,
          "y1": 1,
          "yref": "y domain"
         },
         {
          "fillcolor": "blue",
          "layer": "below",
          "line": {
           "width": 0
          },
          "opacity": 0.2,
          "type": "rect",
          "x0": "2008-06-01",
          "x1": "2008-08-29",
          "xref": "x",
          "y0": 0,
          "y1": 1,
          "yref": "y domain"
         },
         {
          "fillcolor": "yellow",
          "layer": "below",
          "line": {
           "width": 0
          },
          "opacity": 0.2,
          "type": "rect",
          "x0": "2008-09-01",
          "x1": "2008-11-28",
          "xref": "x",
          "y0": 0,
          "y1": 1,
          "yref": "y domain"
         },
         {
          "fillcolor": "LightSalmon",
          "layer": "below",
          "line": {
           "width": 0
          },
          "opacity": 0.2,
          "type": "rect",
          "x0": "2008-12-01",
          "x1": "2009-08-31",
          "xref": "x",
          "y0": 0,
          "y1": 1,
          "yref": "y domain"
         },
         {
          "fillcolor": "green",
          "layer": "below",
          "line": {
           "width": 0
          },
          "opacity": 0.2,
          "type": "rect",
          "x0": "2009-09-01",
          "x1": "2009-11-30",
          "xref": "x",
          "y0": 0,
          "y1": 1,
          "yref": "y domain"
         },
         {
          "fillcolor": "blue",
          "layer": "below",
          "line": {
           "width": 0
          },
          "opacity": 0.2,
          "type": "rect",
          "x0": "2009-12-01",
          "x1": "2010-05-31",
          "xref": "x",
          "y0": 0,
          "y1": 1,
          "yref": "y domain"
         },
         {
          "fillcolor": "green",
          "layer": "below",
          "line": {
           "width": 0
          },
          "opacity": 0.2,
          "type": "rect",
          "x0": "2010-06-01",
          "x1": "2010-11-30",
          "xref": "x",
          "y0": 0,
          "y1": 1,
          "yref": "y domain"
         },
         {
          "fillcolor": "blue",
          "layer": "below",
          "line": {
           "width": 0
          },
          "opacity": 0.2,
          "type": "rect",
          "x0": "2010-12-01",
          "x1": "2011-02-28",
          "xref": "x",
          "y0": 0,
          "y1": 1,
          "yref": "y domain"
         },
         {
          "fillcolor": "yellow",
          "layer": "below",
          "line": {
           "width": 0
          },
          "opacity": 0.2,
          "type": "rect",
          "x0": "2011-03-01",
          "x1": "2011-05-31",
          "xref": "x",
          "y0": 0,
          "y1": 1,
          "yref": "y domain"
         },
         {
          "fillcolor": "blue",
          "layer": "below",
          "line": {
           "width": 0
          },
          "opacity": 0.2,
          "type": "rect",
          "x0": "2011-06-01",
          "x1": "2011-08-31",
          "xref": "x",
          "y0": 0,
          "y1": 1,
          "yref": "y domain"
         },
         {
          "fillcolor": "yellow",
          "layer": "below",
          "line": {
           "width": 0
          },
          "opacity": 0.2,
          "type": "rect",
          "x0": "2011-09-01",
          "x1": "2013-11-29",
          "xref": "x",
          "y0": 0,
          "y1": 1,
          "yref": "y domain"
         },
         {
          "fillcolor": "green",
          "layer": "below",
          "line": {
           "width": 0
          },
          "opacity": 0.2,
          "type": "rect",
          "x0": "2013-12-01",
          "x1": "2014-02-28",
          "xref": "x",
          "y0": 0,
          "y1": 1,
          "yref": "y domain"
         },
         {
          "fillcolor": "yellow",
          "layer": "below",
          "line": {
           "width": 0
          },
          "opacity": 0.2,
          "type": "rect",
          "x0": "2014-03-01",
          "x1": "2014-05-30",
          "xref": "x",
          "y0": 0,
          "y1": 1,
          "yref": "y domain"
         },
         {
          "fillcolor": "blue",
          "layer": "below",
          "line": {
           "width": 0
          },
          "opacity": 0.2,
          "type": "rect",
          "x0": "2014-06-01",
          "x1": "2014-08-29",
          "xref": "x",
          "y0": 0,
          "y1": 1,
          "yref": "y domain"
         },
         {
          "fillcolor": "green",
          "layer": "below",
          "line": {
           "width": 0
          },
          "opacity": 0.2,
          "type": "rect",
          "x0": "2014-09-01",
          "x1": "2015-05-29",
          "xref": "x",
          "y0": 0,
          "y1": 1,
          "yref": "y domain"
         },
         {
          "fillcolor": "blue",
          "layer": "below",
          "line": {
           "width": 0
          },
          "opacity": 0.2,
          "type": "rect",
          "x0": "2015-06-01",
          "x1": "2016-05-31",
          "xref": "x",
          "y0": 0,
          "y1": 1,
          "yref": "y domain"
         },
         {
          "fillcolor": "green",
          "layer": "below",
          "line": {
           "width": 0
          },
          "opacity": 0.2,
          "type": "rect",
          "x0": "2016-06-01",
          "x1": "2016-08-31",
          "xref": "x",
          "y0": 0,
          "y1": 1,
          "yref": "y domain"
         },
         {
          "fillcolor": "blue",
          "layer": "below",
          "line": {
           "width": 0
          },
          "opacity": 0.2,
          "type": "rect",
          "x0": "2016-09-01",
          "x1": "2017-05-31",
          "xref": "x",
          "y0": 0,
          "y1": 1,
          "yref": "y domain"
         },
         {
          "fillcolor": "green",
          "layer": "below",
          "line": {
           "width": 0
          },
          "opacity": 0.2,
          "type": "rect",
          "x0": "2017-06-01",
          "x1": "2019-11-29",
          "xref": "x",
          "y0": 0,
          "y1": 1,
          "yref": "y domain"
         },
         {
          "fillcolor": "blue",
          "layer": "below",
          "line": {
           "width": 0
          },
          "opacity": 0.2,
          "type": "rect",
          "x0": "2019-12-01",
          "x1": "2020-02-28",
          "xref": "x",
          "y0": 0,
          "y1": 1,
          "yref": "y domain"
         },
         {
          "fillcolor": "yellow",
          "layer": "below",
          "line": {
           "width": 0
          },
          "opacity": 0.2,
          "type": "rect",
          "x0": "2020-03-01",
          "x1": "2020-05-29",
          "xref": "x",
          "y0": 0,
          "y1": 1,
          "yref": "y domain"
         },
         {
          "fillcolor": "LightSalmon",
          "layer": "below",
          "line": {
           "width": 0
          },
          "opacity": 0.2,
          "type": "rect",
          "x0": "2020-06-01",
          "x1": "2020-08-31",
          "xref": "x",
          "y0": 0,
          "y1": 1,
          "yref": "y domain"
         },
         {
          "fillcolor": "blue",
          "layer": "below",
          "line": {
           "width": 0
          },
          "opacity": 0.2,
          "type": "rect",
          "x0": "2020-09-01",
          "x1": "2022-02-28",
          "xref": "x",
          "y0": 0,
          "y1": 1,
          "yref": "y domain"
         },
         {
          "fillcolor": "yellow",
          "layer": "below",
          "line": {
           "width": 0
          },
          "opacity": 0.2,
          "type": "rect",
          "x0": "2022-03-01",
          "x1": "2022-08-31",
          "xref": "x",
          "y0": 0,
          "y1": 1,
          "yref": "y domain"
         },
         {
          "fillcolor": "LightSalmon",
          "layer": "below",
          "line": {
           "width": 0
          },
          "opacity": 0.2,
          "type": "rect",
          "x0": "2022-09-01",
          "x1": "2022-09-30",
          "xref": "x",
          "y0": 0,
          "y1": 1,
          "yref": "y domain"
         }
        ],
        "template": {
         "data": {
          "bar": [
           {
            "error_x": {
             "color": "#2a3f5f"
            },
            "error_y": {
             "color": "#2a3f5f"
            },
            "marker": {
             "line": {
              "color": "#E5ECF6",
              "width": 0.5
             },
             "pattern": {
              "fillmode": "overlay",
              "size": 10,
              "solidity": 0.2
             }
            },
            "type": "bar"
           }
          ],
          "barpolar": [
           {
            "marker": {
             "line": {
              "color": "#E5ECF6",
              "width": 0.5
             },
             "pattern": {
              "fillmode": "overlay",
              "size": 10,
              "solidity": 0.2
             }
            },
            "type": "barpolar"
           }
          ],
          "carpet": [
           {
            "aaxis": {
             "endlinecolor": "#2a3f5f",
             "gridcolor": "white",
             "linecolor": "white",
             "minorgridcolor": "white",
             "startlinecolor": "#2a3f5f"
            },
            "baxis": {
             "endlinecolor": "#2a3f5f",
             "gridcolor": "white",
             "linecolor": "white",
             "minorgridcolor": "white",
             "startlinecolor": "#2a3f5f"
            },
            "type": "carpet"
           }
          ],
          "choropleth": [
           {
            "colorbar": {
             "outlinewidth": 0,
             "ticks": ""
            },
            "type": "choropleth"
           }
          ],
          "contour": [
           {
            "colorbar": {
             "outlinewidth": 0,
             "ticks": ""
            },
            "colorscale": [
             [
              0,
              "#0d0887"
             ],
             [
              0.1111111111111111,
              "#46039f"
             ],
             [
              0.2222222222222222,
              "#7201a8"
             ],
             [
              0.3333333333333333,
              "#9c179e"
             ],
             [
              0.4444444444444444,
              "#bd3786"
             ],
             [
              0.5555555555555556,
              "#d8576b"
             ],
             [
              0.6666666666666666,
              "#ed7953"
             ],
             [
              0.7777777777777778,
              "#fb9f3a"
             ],
             [
              0.8888888888888888,
              "#fdca26"
             ],
             [
              1,
              "#f0f921"
             ]
            ],
            "type": "contour"
           }
          ],
          "contourcarpet": [
           {
            "colorbar": {
             "outlinewidth": 0,
             "ticks": ""
            },
            "type": "contourcarpet"
           }
          ],
          "heatmap": [
           {
            "colorbar": {
             "outlinewidth": 0,
             "ticks": ""
            },
            "colorscale": [
             [
              0,
              "#0d0887"
             ],
             [
              0.1111111111111111,
              "#46039f"
             ],
             [
              0.2222222222222222,
              "#7201a8"
             ],
             [
              0.3333333333333333,
              "#9c179e"
             ],
             [
              0.4444444444444444,
              "#bd3786"
             ],
             [
              0.5555555555555556,
              "#d8576b"
             ],
             [
              0.6666666666666666,
              "#ed7953"
             ],
             [
              0.7777777777777778,
              "#fb9f3a"
             ],
             [
              0.8888888888888888,
              "#fdca26"
             ],
             [
              1,
              "#f0f921"
             ]
            ],
            "type": "heatmap"
           }
          ],
          "heatmapgl": [
           {
            "colorbar": {
             "outlinewidth": 0,
             "ticks": ""
            },
            "colorscale": [
             [
              0,
              "#0d0887"
             ],
             [
              0.1111111111111111,
              "#46039f"
             ],
             [
              0.2222222222222222,
              "#7201a8"
             ],
             [
              0.3333333333333333,
              "#9c179e"
             ],
             [
              0.4444444444444444,
              "#bd3786"
             ],
             [
              0.5555555555555556,
              "#d8576b"
             ],
             [
              0.6666666666666666,
              "#ed7953"
             ],
             [
              0.7777777777777778,
              "#fb9f3a"
             ],
             [
              0.8888888888888888,
              "#fdca26"
             ],
             [
              1,
              "#f0f921"
             ]
            ],
            "type": "heatmapgl"
           }
          ],
          "histogram": [
           {
            "marker": {
             "pattern": {
              "fillmode": "overlay",
              "size": 10,
              "solidity": 0.2
             }
            },
            "type": "histogram"
           }
          ],
          "histogram2d": [
           {
            "colorbar": {
             "outlinewidth": 0,
             "ticks": ""
            },
            "colorscale": [
             [
              0,
              "#0d0887"
             ],
             [
              0.1111111111111111,
              "#46039f"
             ],
             [
              0.2222222222222222,
              "#7201a8"
             ],
             [
              0.3333333333333333,
              "#9c179e"
             ],
             [
              0.4444444444444444,
              "#bd3786"
             ],
             [
              0.5555555555555556,
              "#d8576b"
             ],
             [
              0.6666666666666666,
              "#ed7953"
             ],
             [
              0.7777777777777778,
              "#fb9f3a"
             ],
             [
              0.8888888888888888,
              "#fdca26"
             ],
             [
              1,
              "#f0f921"
             ]
            ],
            "type": "histogram2d"
           }
          ],
          "histogram2dcontour": [
           {
            "colorbar": {
             "outlinewidth": 0,
             "ticks": ""
            },
            "colorscale": [
             [
              0,
              "#0d0887"
             ],
             [
              0.1111111111111111,
              "#46039f"
             ],
             [
              0.2222222222222222,
              "#7201a8"
             ],
             [
              0.3333333333333333,
              "#9c179e"
             ],
             [
              0.4444444444444444,
              "#bd3786"
             ],
             [
              0.5555555555555556,
              "#d8576b"
             ],
             [
              0.6666666666666666,
              "#ed7953"
             ],
             [
              0.7777777777777778,
              "#fb9f3a"
             ],
             [
              0.8888888888888888,
              "#fdca26"
             ],
             [
              1,
              "#f0f921"
             ]
            ],
            "type": "histogram2dcontour"
           }
          ],
          "mesh3d": [
           {
            "colorbar": {
             "outlinewidth": 0,
             "ticks": ""
            },
            "type": "mesh3d"
           }
          ],
          "parcoords": [
           {
            "line": {
             "colorbar": {
              "outlinewidth": 0,
              "ticks": ""
             }
            },
            "type": "parcoords"
           }
          ],
          "pie": [
           {
            "automargin": true,
            "type": "pie"
           }
          ],
          "scatter": [
           {
            "fillpattern": {
             "fillmode": "overlay",
             "size": 10,
             "solidity": 0.2
            },
            "type": "scatter"
           }
          ],
          "scatter3d": [
           {
            "line": {
             "colorbar": {
              "outlinewidth": 0,
              "ticks": ""
             }
            },
            "marker": {
             "colorbar": {
              "outlinewidth": 0,
              "ticks": ""
             }
            },
            "type": "scatter3d"
           }
          ],
          "scattercarpet": [
           {
            "marker": {
             "colorbar": {
              "outlinewidth": 0,
              "ticks": ""
             }
            },
            "type": "scattercarpet"
           }
          ],
          "scattergeo": [
           {
            "marker": {
             "colorbar": {
              "outlinewidth": 0,
              "ticks": ""
             }
            },
            "type": "scattergeo"
           }
          ],
          "scattergl": [
           {
            "marker": {
             "colorbar": {
              "outlinewidth": 0,
              "ticks": ""
             }
            },
            "type": "scattergl"
           }
          ],
          "scattermapbox": [
           {
            "marker": {
             "colorbar": {
              "outlinewidth": 0,
              "ticks": ""
             }
            },
            "type": "scattermapbox"
           }
          ],
          "scatterpolar": [
           {
            "marker": {
             "colorbar": {
              "outlinewidth": 0,
              "ticks": ""
             }
            },
            "type": "scatterpolar"
           }
          ],
          "scatterpolargl": [
           {
            "marker": {
             "colorbar": {
              "outlinewidth": 0,
              "ticks": ""
             }
            },
            "type": "scatterpolargl"
           }
          ],
          "scatterternary": [
           {
            "marker": {
             "colorbar": {
              "outlinewidth": 0,
              "ticks": ""
             }
            },
            "type": "scatterternary"
           }
          ],
          "surface": [
           {
            "colorbar": {
             "outlinewidth": 0,
             "ticks": ""
            },
            "colorscale": [
             [
              0,
              "#0d0887"
             ],
             [
              0.1111111111111111,
              "#46039f"
             ],
             [
              0.2222222222222222,
              "#7201a8"
             ],
             [
              0.3333333333333333,
              "#9c179e"
             ],
             [
              0.4444444444444444,
              "#bd3786"
             ],
             [
              0.5555555555555556,
              "#d8576b"
             ],
             [
              0.6666666666666666,
              "#ed7953"
             ],
             [
              0.7777777777777778,
              "#fb9f3a"
             ],
             [
              0.8888888888888888,
              "#fdca26"
             ],
             [
              1,
              "#f0f921"
             ]
            ],
            "type": "surface"
           }
          ],
          "table": [
           {
            "cells": {
             "fill": {
              "color": "#EBF0F8"
             },
             "line": {
              "color": "white"
             }
            },
            "header": {
             "fill": {
              "color": "#C8D4E3"
             },
             "line": {
              "color": "white"
             }
            },
            "type": "table"
           }
          ]
         },
         "layout": {
          "annotationdefaults": {
           "arrowcolor": "#2a3f5f",
           "arrowhead": 0,
           "arrowwidth": 1
          },
          "autotypenumbers": "strict",
          "coloraxis": {
           "colorbar": {
            "outlinewidth": 0,
            "ticks": ""
           }
          },
          "colorscale": {
           "diverging": [
            [
             0,
             "#8e0152"
            ],
            [
             0.1,
             "#c51b7d"
            ],
            [
             0.2,
             "#de77ae"
            ],
            [
             0.3,
             "#f1b6da"
            ],
            [
             0.4,
             "#fde0ef"
            ],
            [
             0.5,
             "#f7f7f7"
            ],
            [
             0.6,
             "#e6f5d0"
            ],
            [
             0.7,
             "#b8e186"
            ],
            [
             0.8,
             "#7fbc41"
            ],
            [
             0.9,
             "#4d9221"
            ],
            [
             1,
             "#276419"
            ]
           ],
           "sequential": [
            [
             0,
             "#0d0887"
            ],
            [
             0.1111111111111111,
             "#46039f"
            ],
            [
             0.2222222222222222,
             "#7201a8"
            ],
            [
             0.3333333333333333,
             "#9c179e"
            ],
            [
             0.4444444444444444,
             "#bd3786"
            ],
            [
             0.5555555555555556,
             "#d8576b"
            ],
            [
             0.6666666666666666,
             "#ed7953"
            ],
            [
             0.7777777777777778,
             "#fb9f3a"
            ],
            [
             0.8888888888888888,
             "#fdca26"
            ],
            [
             1,
             "#f0f921"
            ]
           ],
           "sequentialminus": [
            [
             0,
             "#0d0887"
            ],
            [
             0.1111111111111111,
             "#46039f"
            ],
            [
             0.2222222222222222,
             "#7201a8"
            ],
            [
             0.3333333333333333,
             "#9c179e"
            ],
            [
             0.4444444444444444,
             "#bd3786"
            ],
            [
             0.5555555555555556,
             "#d8576b"
            ],
            [
             0.6666666666666666,
             "#ed7953"
            ],
            [
             0.7777777777777778,
             "#fb9f3a"
            ],
            [
             0.8888888888888888,
             "#fdca26"
            ],
            [
             1,
             "#f0f921"
            ]
           ]
          },
          "colorway": [
           "#636efa",
           "#EF553B",
           "#00cc96",
           "#ab63fa",
           "#FFA15A",
           "#19d3f3",
           "#FF6692",
           "#B6E880",
           "#FF97FF",
           "#FECB52"
          ],
          "font": {
           "color": "#2a3f5f"
          },
          "geo": {
           "bgcolor": "white",
           "lakecolor": "white",
           "landcolor": "#E5ECF6",
           "showlakes": true,
           "showland": true,
           "subunitcolor": "white"
          },
          "hoverlabel": {
           "align": "left"
          },
          "hovermode": "closest",
          "mapbox": {
           "style": "light"
          },
          "paper_bgcolor": "white",
          "plot_bgcolor": "#E5ECF6",
          "polar": {
           "angularaxis": {
            "gridcolor": "white",
            "linecolor": "white",
            "ticks": ""
           },
           "bgcolor": "#E5ECF6",
           "radialaxis": {
            "gridcolor": "white",
            "linecolor": "white",
            "ticks": ""
           }
          },
          "scene": {
           "xaxis": {
            "backgroundcolor": "#E5ECF6",
            "gridcolor": "white",
            "gridwidth": 2,
            "linecolor": "white",
            "showbackground": true,
            "ticks": "",
            "zerolinecolor": "white"
           },
           "yaxis": {
            "backgroundcolor": "#E5ECF6",
            "gridcolor": "white",
            "gridwidth": 2,
            "linecolor": "white",
            "showbackground": true,
            "ticks": "",
            "zerolinecolor": "white"
           },
           "zaxis": {
            "backgroundcolor": "#E5ECF6",
            "gridcolor": "white",
            "gridwidth": 2,
            "linecolor": "white",
            "showbackground": true,
            "ticks": "",
            "zerolinecolor": "white"
           }
          },
          "shapedefaults": {
           "line": {
            "color": "#2a3f5f"
           }
          },
          "ternary": {
           "aaxis": {
            "gridcolor": "white",
            "linecolor": "white",
            "ticks": ""
           },
           "baxis": {
            "gridcolor": "white",
            "linecolor": "white",
            "ticks": ""
           },
           "bgcolor": "#E5ECF6",
           "caxis": {
            "gridcolor": "white",
            "linecolor": "white",
            "ticks": ""
           }
          },
          "title": {
           "x": 0.05
          },
          "xaxis": {
           "automargin": true,
           "gridcolor": "white",
           "linecolor": "white",
           "ticks": "",
           "title": {
            "standoff": 15
           },
           "zerolinecolor": "white",
           "zerolinewidth": 2
          },
          "yaxis": {
           "automargin": true,
           "gridcolor": "white",
           "linecolor": "white",
           "ticks": "",
           "title": {
            "standoff": 15
           },
           "zerolinecolor": "white",
           "zerolinewidth": 2
          }
         }
        },
        "xaxis": {
         "anchor": "y",
         "domain": [
          0,
          1
         ],
         "title": {
          "text": "Date"
         }
        },
        "yaxis": {
         "anchor": "x",
         "domain": [
          0,
          1
         ],
         "title": {
          "text": "value"
         }
        }
       }
      }
     },
     "metadata": {},
     "output_type": "display_data"
    }
   ],
   "source": [
    "# Create figure w/ regimes\n",
    "fig = port_crets.plot()\n",
    "\n",
    "for i in regime_li:\n",
    "    start = i[1]\n",
    "    end = i[2].astype(str)[:10]\n",
    "\n",
    "    # Add shape regions\n",
    "    fig.add_vrect(\n",
    "        x0=start, x1=end,\n",
    "        fillcolor=fillcolors_regimes[i[0]], opacity=0.2,\n",
    "        layer=\"below\", line_width=0,\n",
    "    )\n",
    "\n",
    "fig.show()"
   ]
  },
  {
   "cell_type": "code",
   "execution_count": 246,
   "metadata": {},
   "outputs": [
    {
     "data": {
      "application/vnd.plotly.v1+json": {
       "config": {
        "plotlyServerURL": "https://plot.ly"
       },
       "data": [
        {
         "alignmentgroup": "True",
         "hovertemplate": "variable=SPX Index<br>Date=%{x}<br>value=%{y}<extra></extra>",
         "legendgroup": "SPX Index",
         "marker": {
          "color": "#636efa",
          "pattern": {
           "shape": ""
          }
         },
         "name": "SPX Index",
         "offsetgroup": "SPX Index",
         "orientation": "v",
         "showlegend": true,
         "textposition": "auto",
         "type": "bar",
         "x": [
          "2008-04-30T00:00:00",
          "2008-05-30T00:00:00",
          "2008-06-30T00:00:00",
          "2008-07-31T00:00:00",
          "2008-08-29T00:00:00",
          "2008-09-30T00:00:00",
          "2008-10-31T00:00:00",
          "2008-11-28T00:00:00",
          "2008-12-31T00:00:00",
          "2009-01-30T00:00:00",
          "2009-02-27T00:00:00",
          "2009-03-31T00:00:00",
          "2009-04-30T00:00:00",
          "2009-05-29T00:00:00",
          "2009-06-30T00:00:00",
          "2009-07-31T00:00:00",
          "2009-08-31T00:00:00",
          "2009-09-30T00:00:00",
          "2009-10-30T00:00:00",
          "2009-11-30T00:00:00",
          "2009-12-31T00:00:00",
          "2010-01-29T00:00:00",
          "2010-02-26T00:00:00",
          "2010-03-31T00:00:00",
          "2010-04-30T00:00:00",
          "2010-05-31T00:00:00",
          "2010-06-30T00:00:00",
          "2010-07-30T00:00:00",
          "2010-08-31T00:00:00",
          "2010-09-30T00:00:00",
          "2010-10-29T00:00:00",
          "2010-11-30T00:00:00",
          "2010-12-31T00:00:00",
          "2011-01-31T00:00:00",
          "2011-02-28T00:00:00",
          "2011-03-31T00:00:00",
          "2011-04-29T00:00:00",
          "2011-05-31T00:00:00",
          "2011-06-30T00:00:00",
          "2011-07-29T00:00:00",
          "2011-08-31T00:00:00",
          "2011-09-30T00:00:00",
          "2011-10-31T00:00:00",
          "2011-11-30T00:00:00",
          "2011-12-30T00:00:00",
          "2012-01-31T00:00:00",
          "2012-02-29T00:00:00",
          "2012-03-30T00:00:00",
          "2012-04-30T00:00:00",
          "2012-05-31T00:00:00",
          "2012-06-29T00:00:00",
          "2012-07-31T00:00:00",
          "2012-08-31T00:00:00",
          "2012-09-28T00:00:00",
          "2012-10-31T00:00:00",
          "2012-11-30T00:00:00",
          "2012-12-31T00:00:00",
          "2013-01-31T00:00:00",
          "2013-02-28T00:00:00",
          "2013-03-29T00:00:00",
          "2013-04-30T00:00:00",
          "2013-05-31T00:00:00",
          "2013-06-28T00:00:00",
          "2013-07-31T00:00:00",
          "2013-08-30T00:00:00",
          "2013-09-30T00:00:00",
          "2013-10-31T00:00:00",
          "2013-11-29T00:00:00",
          "2013-12-31T00:00:00",
          "2014-01-31T00:00:00",
          "2014-02-28T00:00:00",
          "2014-03-31T00:00:00",
          "2014-04-30T00:00:00",
          "2014-05-30T00:00:00",
          "2014-06-30T00:00:00",
          "2014-07-31T00:00:00",
          "2014-08-29T00:00:00",
          "2014-09-30T00:00:00",
          "2014-10-31T00:00:00",
          "2014-11-28T00:00:00",
          "2014-12-31T00:00:00",
          "2015-01-30T00:00:00",
          "2015-02-27T00:00:00",
          "2015-03-31T00:00:00",
          "2015-04-30T00:00:00",
          "2015-05-29T00:00:00",
          "2015-06-30T00:00:00",
          "2015-07-31T00:00:00",
          "2015-08-31T00:00:00",
          "2015-09-30T00:00:00",
          "2015-10-30T00:00:00",
          "2015-11-30T00:00:00",
          "2015-12-31T00:00:00",
          "2016-01-29T00:00:00",
          "2016-02-29T00:00:00",
          "2016-03-31T00:00:00",
          "2016-04-29T00:00:00",
          "2016-05-31T00:00:00",
          "2016-06-30T00:00:00",
          "2016-07-29T00:00:00",
          "2016-08-31T00:00:00",
          "2016-09-30T00:00:00",
          "2016-10-31T00:00:00",
          "2016-11-30T00:00:00",
          "2016-12-30T00:00:00",
          "2017-01-31T00:00:00",
          "2017-02-28T00:00:00",
          "2017-03-31T00:00:00",
          "2017-04-28T00:00:00",
          "2017-05-31T00:00:00",
          "2017-06-30T00:00:00",
          "2017-07-31T00:00:00",
          "2017-08-31T00:00:00",
          "2017-09-29T00:00:00",
          "2017-10-31T00:00:00",
          "2017-11-30T00:00:00",
          "2017-12-29T00:00:00",
          "2018-01-31T00:00:00",
          "2018-02-28T00:00:00",
          "2018-03-30T00:00:00",
          "2018-04-30T00:00:00",
          "2018-05-31T00:00:00",
          "2018-06-29T00:00:00",
          "2018-07-31T00:00:00",
          "2018-08-31T00:00:00",
          "2018-09-28T00:00:00",
          "2018-10-31T00:00:00",
          "2018-11-30T00:00:00",
          "2018-12-31T00:00:00",
          "2019-01-31T00:00:00",
          "2019-02-28T00:00:00",
          "2019-03-29T00:00:00",
          "2019-04-30T00:00:00",
          "2019-05-31T00:00:00",
          "2019-06-28T00:00:00",
          "2019-07-31T00:00:00",
          "2019-08-30T00:00:00",
          "2019-09-30T00:00:00",
          "2019-10-31T00:00:00",
          "2019-11-29T00:00:00",
          "2019-12-31T00:00:00",
          "2020-01-31T00:00:00",
          "2020-02-28T00:00:00",
          "2020-03-31T00:00:00",
          "2020-04-30T00:00:00",
          "2020-05-29T00:00:00",
          "2020-06-30T00:00:00",
          "2020-07-31T00:00:00",
          "2020-08-31T00:00:00",
          "2020-09-30T00:00:00",
          "2020-10-30T00:00:00",
          "2020-11-30T00:00:00",
          "2020-12-31T00:00:00",
          "2021-01-29T00:00:00",
          "2021-02-26T00:00:00",
          "2021-03-31T00:00:00",
          "2021-04-30T00:00:00",
          "2021-05-31T00:00:00",
          "2021-06-30T00:00:00",
          "2021-07-30T00:00:00",
          "2021-08-31T00:00:00",
          "2021-09-30T00:00:00",
          "2021-10-29T00:00:00",
          "2021-11-30T00:00:00",
          "2021-12-31T00:00:00",
          "2022-01-31T00:00:00",
          "2022-02-28T00:00:00",
          "2022-03-31T00:00:00",
          "2022-04-29T00:00:00",
          "2022-05-31T00:00:00",
          "2022-06-30T00:00:00",
          "2022-07-29T00:00:00",
          "2022-08-31T00:00:00",
          "2022-09-30T00:00:00"
         ],
         "xaxis": "x",
         "y": [
          0.04754668481137059,
          0.010674153248796614,
          -0.08596238163926939,
          -0.009859374999999893,
          0.012190503242910378,
          -0.09079145327128302,
          -0.16942453444905514,
          -0.0748490322580645,
          0.007821565652057494,
          -0.0856573484638804,
          -0.1099312248752845,
          0.08540450829150159,
          0.09392507551355478,
          0.053081426656431674,
          0.00019583523728705643,
          0.07414175695078962,
          0.033570300157977906,
          0.03571323594250608,
          -0.019752525825859846,
          0.05735379270411123,
          0.017770597738287375,
          -0.036974262397991176,
          0.02851369346382726,
          0.05879636755425577,
          0.014759327193589966,
          -0.08197591620389488,
          -0.053882376699314394,
          0.06877783275606131,
          -0.0474491648511256,
          0.08755110403781474,
          0.0368559411146161,
          -0.0022902827780877377,
          0.06530007200033894,
          0.02264559015298473,
          0.031956582589494076,
          -0.0010473018791158362,
          0.028495357625034856,
          -0.01350092768460176,
          -0.018257508177222714,
          -0.02147443663678228,
          -0.05679109790447878,
          -0.07176201297902196,
          0.10772303830584562,
          -0.0050586451767333784,
          0.008540771155449933,
          0.043574717122160544,
          0.04058944994323421,
          0.03133237654501775,
          -0.007497497284287169,
          -0.06265067135938662,
          0.039554921279372435,
          0.012597639043871345,
          0.019763361656468303,
          0.024236090375236552,
          -0.01978940354140779,
          0.0028467029231815655,
          0.007068310525498056,
          0.050428063581991145,
          0.011060603026480154,
          0.035987799403174314,
          0.01808576399288797,
          0.020762783477406455,
          -0.01499932545960736,
          0.0494621112134872,
          -0.0312980133236046,
          0.029749474883188354,
          0.04459575986441089,
          0.02804946087194149,
          0.023562833299184183,
          -0.035582895107013734,
          0.043117037568930705,
          0.006932157358358504,
          0.0062007968638175814,
          0.021030282120013677,
          0.019058313448431896,
          -0.015079863077291922,
          0.03765532172769026,
          -0.015513859147336717,
          0.023201456175308888,
          0.024533584400783015,
          -0.004188512062527794,
          -0.031040847054252363,
          0.054892505726845675,
          -0.017396056070325572,
          0.008520762709815388,
          0.010491438545008114,
          -0.0210117728564716,
          0.01974203993000856,
          -0.06258080462392579,
          -0.026442819620927094,
          0.08298307838940033,
          0.0005049630655584725,
          -0.017530198374358763,
          -0.05073534448173622,
          -0.004128355255019978,
          0.0659911087189411,
          0.00269936982337593,
          0.01532949208347456,
          0.0009060735540973308,
          0.0356098072286859,
          -0.0012191755612808164,
          -0.0012344825997834263,
          -0.01942562503747225,
          0.03417444676998316,
          0.018200754044233047,
          0.017884341374735824,
          0.037198260541408734,
          -0.00038923017041514463,
          0.00909121690255299,
          0.011576210049492719,
          0.004813831992702466,
          0.019348768883515444,
          0.0005464923288669432,
          0.019302894827342154,
          0.022188174774546043,
          0.028082601368405458,
          0.009831619818853499,
          0.056178724645703726,
          -0.038947379604151844,
          -0.026884513768364315,
          0.002718801001185378,
          0.02160835331659139,
          0.004842400204046138,
          0.03602158646541875,
          0.030263218631604083,
          0.0042943009181395375,
          -0.06940335897981464,
          0.01785938179914015,
          -0.09177695576721734,
          0.07868440473103688,
          0.02972893014311606,
          0.01792428775107835,
          0.03931343494213935,
          -0.06577772648116154,
          0.06893018320821498,
          0.013128195366039375,
          -0.01809165274226776,
          0.017181167690656807,
          0.020431747482144935,
          0.03404706409091518,
          0.028589803182446305,
          -0.001628089811129274,
          -0.08411046900964814,
          -0.12511932083595656,
          0.12684410293315374,
          0.04528177501261843,
          0.018388403283502663,
          0.0551012969754443,
          0.07006468732421922,
          -0.0392279540954944,
          -0.0276657746060065,
          0.10754565805086314,
          0.03712140665943231,
          -0.011136640158463607,
          0.026091474971999817,
          0.04243863400810777,
          0.05242531255584737,
          0.005486502581813157,
          0.02221397632316946,
          0.02274810936591054,
          0.028990321391681118,
          -0.047569140421166334,
          0.06914387330123462,
          -0.00833373141847149,
          0.04361287497262989,
          -0.05258508910699977,
          -0.03136052086678265,
          0.03577323877328009,
          -0.08795671914903935,
          0.00005324388360872234,
          -0.08391999322386645,
          0.09111634763220589,
          -0.04244011921681046,
          -0.09339570164348932
         ],
         "yaxis": "y"
        },
        {
         "alignmentgroup": "True",
         "hovertemplate": "variable=DXY Curncy<br>Date=%{x}<br>value=%{y}<extra></extra>",
         "legendgroup": "DXY Curncy",
         "marker": {
          "color": "#EF553B",
          "pattern": {
           "shape": ""
          }
         },
         "name": "DXY Curncy",
         "offsetgroup": "DXY Curncy",
         "orientation": "v",
         "showlegend": true,
         "textposition": "auto",
         "type": "bar",
         "x": [
          "2008-04-30T00:00:00",
          "2008-05-30T00:00:00",
          "2008-06-30T00:00:00",
          "2008-07-31T00:00:00",
          "2008-08-29T00:00:00",
          "2008-09-30T00:00:00",
          "2008-10-31T00:00:00",
          "2008-11-28T00:00:00",
          "2008-12-31T00:00:00",
          "2009-01-30T00:00:00",
          "2009-02-27T00:00:00",
          "2009-03-31T00:00:00",
          "2009-04-30T00:00:00",
          "2009-05-29T00:00:00",
          "2009-06-30T00:00:00",
          "2009-07-31T00:00:00",
          "2009-08-31T00:00:00",
          "2009-09-30T00:00:00",
          "2009-10-30T00:00:00",
          "2009-11-30T00:00:00",
          "2009-12-31T00:00:00",
          "2010-01-29T00:00:00",
          "2010-02-26T00:00:00",
          "2010-03-31T00:00:00",
          "2010-04-30T00:00:00",
          "2010-05-31T00:00:00",
          "2010-06-30T00:00:00",
          "2010-07-30T00:00:00",
          "2010-08-31T00:00:00",
          "2010-09-30T00:00:00",
          "2010-10-29T00:00:00",
          "2010-11-30T00:00:00",
          "2010-12-31T00:00:00",
          "2011-01-31T00:00:00",
          "2011-02-28T00:00:00",
          "2011-03-31T00:00:00",
          "2011-04-29T00:00:00",
          "2011-05-31T00:00:00",
          "2011-06-30T00:00:00",
          "2011-07-29T00:00:00",
          "2011-08-31T00:00:00",
          "2011-09-30T00:00:00",
          "2011-10-31T00:00:00",
          "2011-11-30T00:00:00",
          "2011-12-30T00:00:00",
          "2012-01-31T00:00:00",
          "2012-02-29T00:00:00",
          "2012-03-30T00:00:00",
          "2012-04-30T00:00:00",
          "2012-05-31T00:00:00",
          "2012-06-29T00:00:00",
          "2012-07-31T00:00:00",
          "2012-08-31T00:00:00",
          "2012-09-28T00:00:00",
          "2012-10-31T00:00:00",
          "2012-11-30T00:00:00",
          "2012-12-31T00:00:00",
          "2013-01-31T00:00:00",
          "2013-02-28T00:00:00",
          "2013-03-29T00:00:00",
          "2013-04-30T00:00:00",
          "2013-05-31T00:00:00",
          "2013-06-28T00:00:00",
          "2013-07-31T00:00:00",
          "2013-08-30T00:00:00",
          "2013-09-30T00:00:00",
          "2013-10-31T00:00:00",
          "2013-11-29T00:00:00",
          "2013-12-31T00:00:00",
          "2014-01-31T00:00:00",
          "2014-02-28T00:00:00",
          "2014-03-31T00:00:00",
          "2014-04-30T00:00:00",
          "2014-05-30T00:00:00",
          "2014-06-30T00:00:00",
          "2014-07-31T00:00:00",
          "2014-08-29T00:00:00",
          "2014-09-30T00:00:00",
          "2014-10-31T00:00:00",
          "2014-11-28T00:00:00",
          "2014-12-31T00:00:00",
          "2015-01-30T00:00:00",
          "2015-02-27T00:00:00",
          "2015-03-31T00:00:00",
          "2015-04-30T00:00:00",
          "2015-05-29T00:00:00",
          "2015-06-30T00:00:00",
          "2015-07-31T00:00:00",
          "2015-08-31T00:00:00",
          "2015-09-30T00:00:00",
          "2015-10-30T00:00:00",
          "2015-11-30T00:00:00",
          "2015-12-31T00:00:00",
          "2016-01-29T00:00:00",
          "2016-02-29T00:00:00",
          "2016-03-31T00:00:00",
          "2016-04-29T00:00:00",
          "2016-05-31T00:00:00",
          "2016-06-30T00:00:00",
          "2016-07-29T00:00:00",
          "2016-08-31T00:00:00",
          "2016-09-30T00:00:00",
          "2016-10-31T00:00:00",
          "2016-11-30T00:00:00",
          "2016-12-30T00:00:00",
          "2017-01-31T00:00:00",
          "2017-02-28T00:00:00",
          "2017-03-31T00:00:00",
          "2017-04-28T00:00:00",
          "2017-05-31T00:00:00",
          "2017-06-30T00:00:00",
          "2017-07-31T00:00:00",
          "2017-08-31T00:00:00",
          "2017-09-29T00:00:00",
          "2017-10-31T00:00:00",
          "2017-11-30T00:00:00",
          "2017-12-29T00:00:00",
          "2018-01-31T00:00:00",
          "2018-02-28T00:00:00",
          "2018-03-30T00:00:00",
          "2018-04-30T00:00:00",
          "2018-05-31T00:00:00",
          "2018-06-29T00:00:00",
          "2018-07-31T00:00:00",
          "2018-08-31T00:00:00",
          "2018-09-28T00:00:00",
          "2018-10-31T00:00:00",
          "2018-11-30T00:00:00",
          "2018-12-31T00:00:00",
          "2019-01-31T00:00:00",
          "2019-02-28T00:00:00",
          "2019-03-29T00:00:00",
          "2019-04-30T00:00:00",
          "2019-05-31T00:00:00",
          "2019-06-28T00:00:00",
          "2019-07-31T00:00:00",
          "2019-08-30T00:00:00",
          "2019-09-30T00:00:00",
          "2019-10-31T00:00:00",
          "2019-11-29T00:00:00",
          "2019-12-31T00:00:00",
          "2020-01-31T00:00:00",
          "2020-02-28T00:00:00",
          "2020-03-31T00:00:00",
          "2020-04-30T00:00:00",
          "2020-05-29T00:00:00",
          "2020-06-30T00:00:00",
          "2020-07-31T00:00:00",
          "2020-08-31T00:00:00",
          "2020-09-30T00:00:00",
          "2020-10-30T00:00:00",
          "2020-11-30T00:00:00",
          "2020-12-31T00:00:00",
          "2021-01-29T00:00:00",
          "2021-02-26T00:00:00",
          "2021-03-31T00:00:00",
          "2021-04-30T00:00:00",
          "2021-05-31T00:00:00",
          "2021-06-30T00:00:00",
          "2021-07-30T00:00:00",
          "2021-08-31T00:00:00",
          "2021-09-30T00:00:00",
          "2021-10-29T00:00:00",
          "2021-11-30T00:00:00",
          "2021-12-31T00:00:00",
          "2022-01-31T00:00:00",
          "2022-02-28T00:00:00",
          "2022-03-31T00:00:00",
          "2022-04-29T00:00:00",
          "2022-05-31T00:00:00",
          "2022-06-30T00:00:00",
          "2022-07-29T00:00:00",
          "2022-08-31T00:00:00",
          "2022-09-30T00:00:00"
         ],
         "xaxis": "x",
         "y": [
          0.00984652238099204,
          0.005102814822987467,
          -0.0057080914941205485,
          0.010543311759104723,
          0.0567277097245551,
          0.026711983561856112,
          0.07784966267243987,
          0.010323123095068443,
          -0.06020782042835504,
          0.057694199832734716,
          0.023360736752752853,
          -0.02929279156440312,
          -0.009551679737797025,
          -0.06223556385468132,
          0.009893129001361078,
          -0.02228794628929409,
          -0.0022336528520555676,
          -0.019431510003581787,
          -0.004605168747472521,
          -0.018623853211009123,
          0.03981089491045542,
          0.020575391728743897,
          0.011326168483048349,
          0.008847465219880002,
          0.009781308203717698,
          0.057679622798231245,
          -0.006571349378666658,
          -0.05208151687417906,
          0.020395148333925972,
          -0.053868897382274405,
          -0.01847052845528452,
          0.050850309321046616,
          -0.026688835519428356,
          -0.016361289669484358,
          -0.010883128577860779,
          -0.013421945922043377,
          -0.03854621195143482,
          0.023377620555852685,
          -0.004488330341113178,
          -0.005464113158284212,
          0.0029771167977048485,
          0.059851316162283785,
          -0.030387127162552652,
          0.029120604994354427,
          0.022887323943661997,
          -0.011100301828431802,
          -0.006949349207950761,
          0.0033910359805429113,
          -0.002885929826338063,
          0.05416624352594712,
          -0.01705140710234465,
          0.012348855158219818,
          -0.017268711804925396,
          -0.01567579548812925,
          -0.00020016263213873398,
          0.002927964564121366,
          -0.004790837523236835,
          -0.007045343429151862,
          0.034618152436022065,
          0.012532184651429468,
          -0.014823563440030885,
          0.01992758055440036,
          -0.0028665667166417608,
          -0.02025596612779057,
          0.0077960025536512045,
          -0.022731979485180354,
          -0.0003241046608745135,
          0.006047758588440866,
          -0.007994546355974297,
          0.01594302492659483,
          -0.019923503585000835,
          0.005132323599904565,
          -0.007815230961298214,
          0.011261544656113953,
          -0.00739090943025289,
          0.021071764337198262,
          0.015861323904930336,
          0.03852661091506748,
          0.011415471979147274,
          0.016556024713232143,
          0.021651048032957698,
          0.05023873090429709,
          0.005158010210539743,
          0.03215346352827586,
          -0.0381975863436258,
          0.024386892177589825,
          -0.014673862569267393,
          0.01938524375556372,
          -0.015533820991205705,
          0.005489230255468325,
          0.0061857810067462715,
          0.033255626843810004,
          -0.015363881401617263,
          0.009885330170027684,
          -0.014005180410818552,
          -0.03691032572726072,
          -0.015900873279343752,
          0.030177692787005217,
          0.0026279838566705127,
          -0.006375919203686187,
          0.005150214592274827,
          -0.005821582553998117,
          0.031237233273624376,
          0.031032556249682708,
          0.0069950738916255695,
          -0.02639663438019757,
          0.016158855213441736,
          -0.0076147151898735554,
          -0.012954658694569021,
          -0.021484098939929308,
          -0.013350941994593524,
          -0.028914125569916793,
          -0.0020998675468162364,
          0.004402814347994832,
          0.015858008509175514,
          -0.01591716727303505,
          -0.009919717991982546,
          -0.03246710954800047,
          0.016604400166044142,
          -0.007051968260624819,
          0.020750439015715605,
          0.02327936324735136,
          0.005224571446812654,
          0.0008891711654492873,
          0.0061975167629080286,
          -0.00008408660920744548,
          0.020970861539755248,
          0.001492890751284559,
          -0.011298215313759408,
          -0.006186767595894871,
          0.006057879428320367,
          0.011720415570369402,
          0.0020044406068828735,
          0.002780085967234003,
          -0.016572890025575493,
          0.02482055549776363,
          0.004060254171911026,
          0.004660520037203186,
          -0.020376948388460048,
          0.009460514421891553,
          -0.019171084631587565,
          0.010385002438037638,
          0.00761885203819701,
          0.009334365956059187,
          -0.0003230756804780688,
          -0.006786781934232988,
          -0.009690474253640224,
          -0.04150280826770447,
          -0.012908547493813538,
          0.018905191873588967,
          0.00161898472615718,
          -0.023065143878006733,
          -0.021029944812722468,
          0.00719392463613433,
          0.0032566457652565273,
          0.02589157010970622,
          -0.02093701733310449,
          -0.01589614373356718,
          0.029021808102060787,
          -0.0028343935263317466,
          0.0049037689587085875,
          0.01731695204370265,
          -0.0011355194736283325,
          0.0198782444248482,
          -0.003375210950684382,
          0.009093759799310153,
          0.0017298529107103722,
          0.01659652351949714,
          0.04726788184555297,
          -0.01172311308384899,
          0.028824986241056783,
          0.011634904714142413,
          0.02641096097372131,
          0.03143514259429625
         ],
         "yaxis": "y"
        },
        {
         "alignmentgroup": "True",
         "hovertemplate": "variable=EHFI451 Index<br>Date=%{x}<br>value=%{y}<extra></extra>",
         "legendgroup": "EHFI451 Index",
         "marker": {
          "color": "#00cc96",
          "pattern": {
           "shape": ""
          }
         },
         "name": "EHFI451 Index",
         "offsetgroup": "EHFI451 Index",
         "orientation": "v",
         "showlegend": true,
         "textposition": "auto",
         "type": "bar",
         "x": [
          "2008-04-30T00:00:00",
          "2008-05-30T00:00:00",
          "2008-06-30T00:00:00",
          "2008-07-31T00:00:00",
          "2008-08-29T00:00:00",
          "2008-09-30T00:00:00",
          "2008-10-31T00:00:00",
          "2008-11-28T00:00:00",
          "2008-12-31T00:00:00",
          "2009-01-30T00:00:00",
          "2009-02-27T00:00:00",
          "2009-03-31T00:00:00",
          "2009-04-30T00:00:00",
          "2009-05-29T00:00:00",
          "2009-06-30T00:00:00",
          "2009-07-31T00:00:00",
          "2009-08-31T00:00:00",
          "2009-09-30T00:00:00",
          "2009-10-30T00:00:00",
          "2009-11-30T00:00:00",
          "2009-12-31T00:00:00",
          "2010-01-29T00:00:00",
          "2010-02-26T00:00:00",
          "2010-03-31T00:00:00",
          "2010-04-30T00:00:00",
          "2010-05-31T00:00:00",
          "2010-06-30T00:00:00",
          "2010-07-30T00:00:00",
          "2010-08-31T00:00:00",
          "2010-09-30T00:00:00",
          "2010-10-29T00:00:00",
          "2010-11-30T00:00:00",
          "2010-12-31T00:00:00",
          "2011-01-31T00:00:00",
          "2011-02-28T00:00:00",
          "2011-03-31T00:00:00",
          "2011-04-29T00:00:00",
          "2011-05-31T00:00:00",
          "2011-06-30T00:00:00",
          "2011-07-29T00:00:00",
          "2011-08-31T00:00:00",
          "2011-09-30T00:00:00",
          "2011-10-31T00:00:00",
          "2011-11-30T00:00:00",
          "2011-12-30T00:00:00",
          "2012-01-31T00:00:00",
          "2012-02-29T00:00:00",
          "2012-03-30T00:00:00",
          "2012-04-30T00:00:00",
          "2012-05-31T00:00:00",
          "2012-06-29T00:00:00",
          "2012-07-31T00:00:00",
          "2012-08-31T00:00:00",
          "2012-09-28T00:00:00",
          "2012-10-31T00:00:00",
          "2012-11-30T00:00:00",
          "2012-12-31T00:00:00",
          "2013-01-31T00:00:00",
          "2013-02-28T00:00:00",
          "2013-03-29T00:00:00",
          "2013-04-30T00:00:00",
          "2013-05-31T00:00:00",
          "2013-06-28T00:00:00",
          "2013-07-31T00:00:00",
          "2013-08-30T00:00:00",
          "2013-09-30T00:00:00",
          "2013-10-31T00:00:00",
          "2013-11-29T00:00:00",
          "2013-12-31T00:00:00",
          "2014-01-31T00:00:00",
          "2014-02-28T00:00:00",
          "2014-03-31T00:00:00",
          "2014-04-30T00:00:00",
          "2014-05-30T00:00:00",
          "2014-06-30T00:00:00",
          "2014-07-31T00:00:00",
          "2014-08-29T00:00:00",
          "2014-09-30T00:00:00",
          "2014-10-31T00:00:00",
          "2014-11-28T00:00:00",
          "2014-12-31T00:00:00",
          "2015-01-30T00:00:00",
          "2015-02-27T00:00:00",
          "2015-03-31T00:00:00",
          "2015-04-30T00:00:00",
          "2015-05-29T00:00:00",
          "2015-06-30T00:00:00",
          "2015-07-31T00:00:00",
          "2015-08-31T00:00:00",
          "2015-09-30T00:00:00",
          "2015-10-30T00:00:00",
          "2015-11-30T00:00:00",
          "2015-12-31T00:00:00",
          "2016-01-29T00:00:00",
          "2016-02-29T00:00:00",
          "2016-03-31T00:00:00",
          "2016-04-29T00:00:00",
          "2016-05-31T00:00:00",
          "2016-06-30T00:00:00",
          "2016-07-29T00:00:00",
          "2016-08-31T00:00:00",
          "2016-09-30T00:00:00",
          "2016-10-31T00:00:00",
          "2016-11-30T00:00:00",
          "2016-12-30T00:00:00",
          "2017-01-31T00:00:00",
          "2017-02-28T00:00:00",
          "2017-03-31T00:00:00",
          "2017-04-28T00:00:00",
          "2017-05-31T00:00:00",
          "2017-06-30T00:00:00",
          "2017-07-31T00:00:00",
          "2017-08-31T00:00:00",
          "2017-09-29T00:00:00",
          "2017-10-31T00:00:00",
          "2017-11-30T00:00:00",
          "2017-12-29T00:00:00",
          "2018-01-31T00:00:00",
          "2018-02-28T00:00:00",
          "2018-03-30T00:00:00",
          "2018-04-30T00:00:00",
          "2018-05-31T00:00:00",
          "2018-06-29T00:00:00",
          "2018-07-31T00:00:00",
          "2018-08-31T00:00:00",
          "2018-09-28T00:00:00",
          "2018-10-31T00:00:00",
          "2018-11-30T00:00:00",
          "2018-12-31T00:00:00",
          "2019-01-31T00:00:00",
          "2019-02-28T00:00:00",
          "2019-03-29T00:00:00",
          "2019-04-30T00:00:00",
          "2019-05-31T00:00:00",
          "2019-06-28T00:00:00",
          "2019-07-31T00:00:00",
          "2019-08-30T00:00:00",
          "2019-09-30T00:00:00",
          "2019-10-31T00:00:00",
          "2019-11-29T00:00:00",
          "2019-12-31T00:00:00",
          "2020-01-31T00:00:00",
          "2020-02-28T00:00:00",
          "2020-03-31T00:00:00",
          "2020-04-30T00:00:00",
          "2020-05-29T00:00:00",
          "2020-06-30T00:00:00",
          "2020-07-31T00:00:00",
          "2020-08-31T00:00:00",
          "2020-09-30T00:00:00",
          "2020-10-30T00:00:00",
          "2020-11-30T00:00:00",
          "2020-12-31T00:00:00",
          "2021-01-29T00:00:00",
          "2021-02-26T00:00:00",
          "2021-03-31T00:00:00",
          "2021-04-30T00:00:00",
          "2021-05-31T00:00:00",
          "2021-06-30T00:00:00",
          "2021-07-30T00:00:00",
          "2021-08-31T00:00:00",
          "2021-09-30T00:00:00",
          "2021-10-29T00:00:00",
          "2021-11-30T00:00:00",
          "2021-12-31T00:00:00",
          "2022-01-31T00:00:00",
          "2022-02-28T00:00:00",
          "2022-03-31T00:00:00",
          "2022-04-29T00:00:00",
          "2022-05-31T00:00:00",
          "2022-06-30T00:00:00",
          "2022-07-29T00:00:00",
          "2022-08-31T00:00:00",
          "2022-09-30T00:00:00"
         ],
         "xaxis": "x",
         "y": [
          -0.04990083300277659,
          0.030561122244489036,
          0.021876519202722378,
          0.04321281319378367,
          0.054647716044690986,
          0.07992216777169214,
          -0.012012012012011852,
          0.036879432624113306,
          0.09979805875838732,
          0.01089853698987131,
          -0.0009374816898106708,
          -0.00926631869098582,
          0.009648967027762856,
          0.009791275797373267,
          -0.007896417581141457,
          0.0005267162170070616,
          0.002924660739354268,
          0.014405692289746863,
          -0.00080492152015188,
          0.021923010529949938,
          -0.021058558558558427,
          0.0027033245139767015,
          0.0073997590776113675,
          -0.013495046122309562,
          0.014776334776334776,
          0.030316819293555453,
          0.01534724522468811,
          0.0005437146585474117,
          0.017715465710248735,
          0.014897479709525818,
          0.005945178092281678,
          -0.003504184100418306,
          0.025297853356426758,
          -0.007217814179677484,
          0.0059296689697845295,
          0.023168793889999595,
          0.014628525624968525,
          -0.010665086653829037,
          -0.002744921894495267,
          0.01756580922830553,
          0.04352530369350305,
          0.010321425205014556,
          -0.009702850212249925,
          0.02392953035941403,
          0.013939366057873714,
          -0.0060344827586207295,
          0.001141187748208372,
          0.006748130585445988,
          0.018025362318840443,
          0.028427796067265643,
          -0.009603322230393174,
          0.0028827254859140616,
          -0.004224554679674308,
          -0.013645906228131444,
          -0.013612983327421113,
          -0.006338503034389764,
          -0.00018096272167933414,
          -0.014977375565610851,
          -0.0038586981487436223,
          0.0004611482591652116,
          0.004471076284858322,
          0.01238986784140983,
          -0.013734022300788684,
          -0.016361046003952384,
          0.00635424940428897,
          -0.012813965365151558,
          -0.003386163758641758,
          0.004624604785050224,
          -0.008032317159096136,
          0.0035988256463679313,
          -0.0019345097669151157,
          -0.004963834917033116,
          -0.005938806537438279,
          -0.006452229603785331,
          0.0029824898980181924,
          -0.0027338129496402575,
          -0.002404655412879375,
          -0.002506869787398225,
          0.006862887245662419,
          0.016032256516104182,
          0.013417111541550453,
          0.022609668546921036,
          -0.012992341356674042,
          0.014779917786707397,
          -0.011879295434891524,
          -0.0023952095808382756,
          -0.0036937852063902987,
          -0.010612661043655547,
          0.020469342826361814,
          0.0012852290461762284,
          -0.014073530760062347,
          0.003301250755568086,
          -0.016498285290573733,
          0.027471491848082286,
          -0.007888099059848663,
          -0.02214209772107434,
          -0.005767230783776167,
          -0.003280715100798748,
          0.008920478939083099,
          -0.01016548463356981,
          -0.0020539765942202415,
          -0.0074669730040205495,
          -0.00506365740740744,
          -0.0017934176724346829,
          0.0014081771389724551,
          -0.013722542792028225,
          -0.009292035398230203,
          -0.02104113939754837,
          -0.005930957570842055,
          -0.0050994390617031815,
          -0.01060994361865708,
          -0.01668134486867323,
          0.00526842632105784,
          -0.01567003825795299,
          -0.009317431583430902,
          -0.010426183694308588,
          -0.002606853853255764,
          -0.00500952899537177,
          -0.0003830788595194923,
          -0.000875944377532023,
          -0.028821917808219077,
          -0.004287971112615807,
          -0.008102901178603683,
          -0.015938303341902382,
          -0.005747126436781547,
          -0.0031529164477142047,
          0.037251801089439596,
          -0.009147890902930778,
          0.055280104861229695,
          -0.048279958956634395,
          -0.009419508596720139,
          -0.0038952855588016977,
          -0.014549427799183223,
          0.013188608776844024,
          -0.013592904043313037,
          -0.008466658881233102,
          0.03138802190683698,
          -0.0170720566404019,
          -0.011850130699970873,
          -0.01446123096819707,
          -0.015508499850879764,
          0.0036352620418054205,
          0.09266525807425285,
          0.20209944751381226,
          -0.01760272083831238,
          -0.003602339181286607,
          0.006291670579397168,
          0.010498320268756967,
          -0.0006926167059150279,
          -0.015201922188337491,
          -0.00717871721484542,
          -0.03407372400756148,
          0.012720778903077656,
          -0.0028020677327407206,
          -0.007703115159149232,
          -0.024460501904110865,
          -0.017216355537760908,
          0.0015277282680652426,
          -0.015864137895967745,
          -0.003926633944717262,
          -0.011515120078842256,
          0.00529988980427154,
          -0.008247207432926285,
          0.009894736842105178,
          -0.02386908484469452,
          0.01260010678056589,
          0.004376252240852141,
          0.014646438133235407,
          0.059137003311258374,
          -0.027941966684578157,
          0.03105683702698614,
          -0.011697616610615524,
          0.01124426690338809,
          0.03979517190929038
         ],
         "yaxis": "y"
        },
        {
         "alignmentgroup": "True",
         "hovertemplate": "variable=EHFI453 Index<br>Date=%{x}<br>value=%{y}<extra></extra>",
         "legendgroup": "EHFI453 Index",
         "marker": {
          "color": "#ab63fa",
          "pattern": {
           "shape": ""
          }
         },
         "name": "EHFI453 Index",
         "offsetgroup": "EHFI453 Index",
         "orientation": "v",
         "showlegend": true,
         "textposition": "auto",
         "type": "bar",
         "x": [
          "2008-04-30T00:00:00",
          "2008-05-30T00:00:00",
          "2008-06-30T00:00:00",
          "2008-07-31T00:00:00",
          "2008-08-29T00:00:00",
          "2008-09-30T00:00:00",
          "2008-10-31T00:00:00",
          "2008-11-28T00:00:00",
          "2008-12-31T00:00:00",
          "2009-01-30T00:00:00",
          "2009-02-27T00:00:00",
          "2009-03-31T00:00:00",
          "2009-04-30T00:00:00",
          "2009-05-29T00:00:00",
          "2009-06-30T00:00:00",
          "2009-07-31T00:00:00",
          "2009-08-31T00:00:00",
          "2009-09-30T00:00:00",
          "2009-10-30T00:00:00",
          "2009-11-30T00:00:00",
          "2009-12-31T00:00:00",
          "2010-01-29T00:00:00",
          "2010-02-26T00:00:00",
          "2010-03-31T00:00:00",
          "2010-04-30T00:00:00",
          "2010-05-31T00:00:00",
          "2010-06-30T00:00:00",
          "2010-07-30T00:00:00",
          "2010-08-31T00:00:00",
          "2010-09-30T00:00:00",
          "2010-10-29T00:00:00",
          "2010-11-30T00:00:00",
          "2010-12-31T00:00:00",
          "2011-01-31T00:00:00",
          "2011-02-28T00:00:00",
          "2011-03-31T00:00:00",
          "2011-04-29T00:00:00",
          "2011-05-31T00:00:00",
          "2011-06-30T00:00:00",
          "2011-07-29T00:00:00",
          "2011-08-31T00:00:00",
          "2011-09-30T00:00:00",
          "2011-10-31T00:00:00",
          "2011-11-30T00:00:00",
          "2011-12-30T00:00:00",
          "2012-01-31T00:00:00",
          "2012-02-29T00:00:00",
          "2012-03-30T00:00:00",
          "2012-04-30T00:00:00",
          "2012-05-31T00:00:00",
          "2012-06-29T00:00:00",
          "2012-07-31T00:00:00",
          "2012-08-31T00:00:00",
          "2012-09-28T00:00:00",
          "2012-10-31T00:00:00",
          "2012-11-30T00:00:00",
          "2012-12-31T00:00:00",
          "2013-01-31T00:00:00",
          "2013-02-28T00:00:00",
          "2013-03-29T00:00:00",
          "2013-04-30T00:00:00",
          "2013-05-31T00:00:00",
          "2013-06-28T00:00:00",
          "2013-07-31T00:00:00",
          "2013-08-30T00:00:00",
          "2013-09-30T00:00:00",
          "2013-10-31T00:00:00",
          "2013-11-29T00:00:00",
          "2013-12-31T00:00:00",
          "2014-01-31T00:00:00",
          "2014-02-28T00:00:00",
          "2014-03-31T00:00:00",
          "2014-04-30T00:00:00",
          "2014-05-30T00:00:00",
          "2014-06-30T00:00:00",
          "2014-07-31T00:00:00",
          "2014-08-29T00:00:00",
          "2014-09-30T00:00:00",
          "2014-10-31T00:00:00",
          "2014-11-28T00:00:00",
          "2014-12-31T00:00:00",
          "2015-01-30T00:00:00",
          "2015-02-27T00:00:00",
          "2015-03-31T00:00:00",
          "2015-04-30T00:00:00",
          "2015-05-29T00:00:00",
          "2015-06-30T00:00:00",
          "2015-07-31T00:00:00",
          "2015-08-31T00:00:00",
          "2015-09-30T00:00:00",
          "2015-10-30T00:00:00",
          "2015-11-30T00:00:00",
          "2015-12-31T00:00:00",
          "2016-01-29T00:00:00",
          "2016-02-29T00:00:00",
          "2016-03-31T00:00:00",
          "2016-04-29T00:00:00",
          "2016-05-31T00:00:00",
          "2016-06-30T00:00:00",
          "2016-07-29T00:00:00",
          "2016-08-31T00:00:00",
          "2016-09-30T00:00:00",
          "2016-10-31T00:00:00",
          "2016-11-30T00:00:00",
          "2016-12-30T00:00:00",
          "2017-01-31T00:00:00",
          "2017-02-28T00:00:00",
          "2017-03-31T00:00:00",
          "2017-04-28T00:00:00",
          "2017-05-31T00:00:00",
          "2017-06-30T00:00:00",
          "2017-07-31T00:00:00",
          "2017-08-31T00:00:00",
          "2017-09-29T00:00:00",
          "2017-10-31T00:00:00",
          "2017-11-30T00:00:00",
          "2017-12-29T00:00:00",
          "2018-01-31T00:00:00",
          "2018-02-28T00:00:00",
          "2018-03-30T00:00:00",
          "2018-04-30T00:00:00",
          "2018-05-31T00:00:00",
          "2018-06-29T00:00:00",
          "2018-07-31T00:00:00",
          "2018-08-31T00:00:00",
          "2018-09-28T00:00:00",
          "2018-10-31T00:00:00",
          "2018-11-30T00:00:00",
          "2018-12-31T00:00:00",
          "2019-01-31T00:00:00",
          "2019-02-28T00:00:00",
          "2019-03-29T00:00:00",
          "2019-04-30T00:00:00",
          "2019-05-31T00:00:00",
          "2019-06-28T00:00:00",
          "2019-07-31T00:00:00",
          "2019-08-30T00:00:00",
          "2019-09-30T00:00:00",
          "2019-10-31T00:00:00",
          "2019-11-29T00:00:00",
          "2019-12-31T00:00:00",
          "2020-01-31T00:00:00",
          "2020-02-28T00:00:00",
          "2020-03-31T00:00:00",
          "2020-04-30T00:00:00",
          "2020-05-29T00:00:00",
          "2020-06-30T00:00:00",
          "2020-07-31T00:00:00",
          "2020-08-31T00:00:00",
          "2020-09-30T00:00:00",
          "2020-10-30T00:00:00",
          "2020-11-30T00:00:00",
          "2020-12-31T00:00:00",
          "2021-01-29T00:00:00",
          "2021-02-26T00:00:00",
          "2021-03-31T00:00:00",
          "2021-04-30T00:00:00",
          "2021-05-31T00:00:00",
          "2021-06-30T00:00:00",
          "2021-07-30T00:00:00",
          "2021-08-31T00:00:00",
          "2021-09-30T00:00:00",
          "2021-10-29T00:00:00",
          "2021-11-30T00:00:00",
          "2021-12-31T00:00:00",
          "2022-01-31T00:00:00",
          "2022-02-28T00:00:00",
          "2022-03-31T00:00:00",
          "2022-04-29T00:00:00",
          "2022-05-31T00:00:00",
          "2022-06-30T00:00:00",
          "2022-07-29T00:00:00",
          "2022-08-31T00:00:00",
          "2022-09-30T00:00:00"
         ],
         "xaxis": "x",
         "y": [
          -0.009994062932911163,
          -0.006796601699150306,
          -0.02898259031900985,
          0.03005492797181053,
          0.007445417043968172,
          0.059722360930789975,
          0.06804259730468387,
          -0.00017647577869939202,
          -0.006442502868237665,
          0.014922721620181267,
          -0.014090670400840222,
          -0.0012427873945850543,
          -0.028264154297395816,
          0.0031098509100888627,
          -0.05097109510349229,
          0.007302075326671931,
          0.0027661198016024624,
          -0.020355750023780095,
          0.02553645985047104,
          0.044593826926718316,
          -0.04414030635366628,
          -0.04191162526076231,
          0.006631037212984747,
          -0.014846131157211562,
          0.017465069860279403,
          0.05483079941147628,
          0.016180026036823447,
          -0.04081259150805283,
          0.028620492272467102,
          -0.01567427193470594,
          -0.016112315085272666,
          0.02336717104003072,
          -0.012165450121654486,
          -0.022072754831375496,
          -0.012786980528916136,
          -0.001275635364537342,
          -0.01670269208095898,
          -0.016386890487609884,
          -0.016761479073547303,
          0.011054861039363484,
          0.2752912323727774,
          0.06442307692307692,
          -0.05179162902740142,
          -0.00007939028262937686,
          -0.024454148471615755,
          -0.02872955155855783,
          -0.01751298810122337,
          -0.043582089552238856,
          -0.02826823613340468,
          0.05148205928237126,
          -0.048001396404259045,
          -0.003575357535753554,
          -0.015088784616800077,
          -0.02914525922466127,
          -0.018185317040315563,
          -0.039886319090552846,
          -0.01184035929366134,
          -0.02644354922012193,
          -0.0096551724137931,
          -0.004499678594386158,
          0.012053379250968721,
          -0.009145044661846069,
          -0.00042927666881309445,
          -0.02931071505260907,
          -0.0016591085056961719,
          -0.006979836029248898,
          -0.01695860760905943,
          -0.006809669731017931,
          -0.015198263055650751,
          0.00034810860988621073,
          -0.005567799559215714,
          -0.018546599790038587,
          -0.005110530068932806,
          -0.0062119221120534585,
          0.007573025604038941,
          -0.017060367454068137,
          -0.001699235344095218,
          -0.014346504559270556,
          -0.02726039225360788,
          0.033350240933299524,
          0.023561173150079773,
          -0.0005994485073731459,
          -0.02471209213051828,
          0.003444034440344357,
          -0.026109340524638314,
          -0.007426054122089409,
          -0.005199086989601809,
          -0.033524537922243636,
          0.07306779213927728,
          -0.007251720747295964,
          -0.03516156988981045,
          0.001283202874374334,
          -0.0326797385620915,
          0.03484366719660836,
          -0.010113941876840449,
          -0.03944645628556642,
          -0.009963646155917494,
          -0.016047871617027143,
          -0.02888735314443658,
          -0.024622829490464015,
          0,
          -0.025828104479789782,
          -0.026213301378070653,
          0.0019996923550222867,
          0.02195271722443959,
          -0.027790295929097097,
          -0.006334981458590794,
          -0.02037008241331051,
          -0.012222222222222245,
          -0.010284428732122652,
          -0.010553661308654094,
          -0.015589104036757395,
          -0.012835472578763163,
          0.0018574805808848627,
          -0.005393561436035754,
          -0.023385866802236865,
          -0.009196598993579719,
          0.006479859894921169,
          -0.0027840612493473804,
          -0.011690804397138432,
          0.005296610169491567,
          -0.00825430277485073,
          -0.009562599610412614,
          0.0019667441444661815,
          -0.024982155603140543,
          -0.009516837481698404,
          -0.0022172949002217113,
          -0.014629629629629659,
          0.011464010524337542,
          -0.023597175771088885,
          0.008753568030447134,
          -0.0030182984342576047,
          -0.0017029328287606615,
          -0.0174374526156178,
          0.015239197530864113,
          -0.01615048451453549,
          0.006373117033603659,
          -0.016503550182306648,
          -0.02556097560975612,
          -0.02342811373648368,
          -0.011277424646298995,
          0.014516798009124976,
          0.12755519215044964,
          0.37436548223350274,
          -0.03851734599657042,
          -0.019618603374948695,
          0.007696613490064452,
          -0.007776697680877742,
          -0.00629811056682994,
          -0.035352112676056424,
          -0.01664476565922035,
          -0.04721603563474375,
          0.01340190119993756,
          -0.00691988313086267,
          -0.006193868070609954,
          -0.013088189467123756,
          -0.010893590148405519,
          -0.0015961691939345712,
          -0.012470023980815204,
          -0.012303707301279054,
          -0.014915587608588687,
          -0.002828618968386043,
          -0.002336058735191049,
          -0.005686569660478313,
          -0.01883936080740123,
          -0.012000685753471574,
          0.025160506680548256,
          0.026912660798916743,
          0.06098566012856432,
          -0.031070374398011635,
          0.037518037518037506,
          -0.02055323752124849,
          0.015304512464499709,
          0.029215229215229455
         ],
         "yaxis": "y"
        },
        {
         "alignmentgroup": "True",
         "hovertemplate": "variable=XAU Curncy<br>Date=%{x}<br>value=%{y}<extra></extra>",
         "legendgroup": "XAU Curncy",
         "marker": {
          "color": "#FFA15A",
          "pattern": {
           "shape": ""
          }
         },
         "name": "XAU Curncy",
         "offsetgroup": "XAU Curncy",
         "orientation": "v",
         "showlegend": true,
         "textposition": "auto",
         "type": "bar",
         "x": [
          "2008-04-30T00:00:00",
          "2008-05-30T00:00:00",
          "2008-06-30T00:00:00",
          "2008-07-31T00:00:00",
          "2008-08-29T00:00:00",
          "2008-09-30T00:00:00",
          "2008-10-31T00:00:00",
          "2008-11-28T00:00:00",
          "2008-12-31T00:00:00",
          "2009-01-30T00:00:00",
          "2009-02-27T00:00:00",
          "2009-03-31T00:00:00",
          "2009-04-30T00:00:00",
          "2009-05-29T00:00:00",
          "2009-06-30T00:00:00",
          "2009-07-31T00:00:00",
          "2009-08-31T00:00:00",
          "2009-09-30T00:00:00",
          "2009-10-30T00:00:00",
          "2009-11-30T00:00:00",
          "2009-12-31T00:00:00",
          "2010-01-29T00:00:00",
          "2010-02-26T00:00:00",
          "2010-03-31T00:00:00",
          "2010-04-30T00:00:00",
          "2010-05-31T00:00:00",
          "2010-06-30T00:00:00",
          "2010-07-30T00:00:00",
          "2010-08-31T00:00:00",
          "2010-09-30T00:00:00",
          "2010-10-29T00:00:00",
          "2010-11-30T00:00:00",
          "2010-12-31T00:00:00",
          "2011-01-31T00:00:00",
          "2011-02-28T00:00:00",
          "2011-03-31T00:00:00",
          "2011-04-29T00:00:00",
          "2011-05-31T00:00:00",
          "2011-06-30T00:00:00",
          "2011-07-29T00:00:00",
          "2011-08-31T00:00:00",
          "2011-09-30T00:00:00",
          "2011-10-31T00:00:00",
          "2011-11-30T00:00:00",
          "2011-12-30T00:00:00",
          "2012-01-31T00:00:00",
          "2012-02-29T00:00:00",
          "2012-03-30T00:00:00",
          "2012-04-30T00:00:00",
          "2012-05-31T00:00:00",
          "2012-06-29T00:00:00",
          "2012-07-31T00:00:00",
          "2012-08-31T00:00:00",
          "2012-09-28T00:00:00",
          "2012-10-31T00:00:00",
          "2012-11-30T00:00:00",
          "2012-12-31T00:00:00",
          "2013-01-31T00:00:00",
          "2013-02-28T00:00:00",
          "2013-03-29T00:00:00",
          "2013-04-30T00:00:00",
          "2013-05-31T00:00:00",
          "2013-06-28T00:00:00",
          "2013-07-31T00:00:00",
          "2013-08-30T00:00:00",
          "2013-09-30T00:00:00",
          "2013-10-31T00:00:00",
          "2013-11-29T00:00:00",
          "2013-12-31T00:00:00",
          "2014-01-31T00:00:00",
          "2014-02-28T00:00:00",
          "2014-03-31T00:00:00",
          "2014-04-30T00:00:00",
          "2014-05-30T00:00:00",
          "2014-06-30T00:00:00",
          "2014-07-31T00:00:00",
          "2014-08-29T00:00:00",
          "2014-09-30T00:00:00",
          "2014-10-31T00:00:00",
          "2014-11-28T00:00:00",
          "2014-12-31T00:00:00",
          "2015-01-30T00:00:00",
          "2015-02-27T00:00:00",
          "2015-03-31T00:00:00",
          "2015-04-30T00:00:00",
          "2015-05-29T00:00:00",
          "2015-06-30T00:00:00",
          "2015-07-31T00:00:00",
          "2015-08-31T00:00:00",
          "2015-09-30T00:00:00",
          "2015-10-30T00:00:00",
          "2015-11-30T00:00:00",
          "2015-12-31T00:00:00",
          "2016-01-29T00:00:00",
          "2016-02-29T00:00:00",
          "2016-03-31T00:00:00",
          "2016-04-29T00:00:00",
          "2016-05-31T00:00:00",
          "2016-06-30T00:00:00",
          "2016-07-29T00:00:00",
          "2016-08-31T00:00:00",
          "2016-09-30T00:00:00",
          "2016-10-31T00:00:00",
          "2016-11-30T00:00:00",
          "2016-12-30T00:00:00",
          "2017-01-31T00:00:00",
          "2017-02-28T00:00:00",
          "2017-03-31T00:00:00",
          "2017-04-28T00:00:00",
          "2017-05-31T00:00:00",
          "2017-06-30T00:00:00",
          "2017-07-31T00:00:00",
          "2017-08-31T00:00:00",
          "2017-09-29T00:00:00",
          "2017-10-31T00:00:00",
          "2017-11-30T00:00:00",
          "2017-12-29T00:00:00",
          "2018-01-31T00:00:00",
          "2018-02-28T00:00:00",
          "2018-03-30T00:00:00",
          "2018-04-30T00:00:00",
          "2018-05-31T00:00:00",
          "2018-06-29T00:00:00",
          "2018-07-31T00:00:00",
          "2018-08-31T00:00:00",
          "2018-09-28T00:00:00",
          "2018-10-31T00:00:00",
          "2018-11-30T00:00:00",
          "2018-12-31T00:00:00",
          "2019-01-31T00:00:00",
          "2019-02-28T00:00:00",
          "2019-03-29T00:00:00",
          "2019-04-30T00:00:00",
          "2019-05-31T00:00:00",
          "2019-06-28T00:00:00",
          "2019-07-31T00:00:00",
          "2019-08-30T00:00:00",
          "2019-09-30T00:00:00",
          "2019-10-31T00:00:00",
          "2019-11-29T00:00:00",
          "2019-12-31T00:00:00",
          "2020-01-31T00:00:00",
          "2020-02-28T00:00:00",
          "2020-03-31T00:00:00",
          "2020-04-30T00:00:00",
          "2020-05-29T00:00:00",
          "2020-06-30T00:00:00",
          "2020-07-31T00:00:00",
          "2020-08-31T00:00:00",
          "2020-09-30T00:00:00",
          "2020-10-30T00:00:00",
          "2020-11-30T00:00:00",
          "2020-12-31T00:00:00",
          "2021-01-29T00:00:00",
          "2021-02-26T00:00:00",
          "2021-03-31T00:00:00",
          "2021-04-30T00:00:00",
          "2021-05-31T00:00:00",
          "2021-06-30T00:00:00",
          "2021-07-30T00:00:00",
          "2021-08-31T00:00:00",
          "2021-09-30T00:00:00",
          "2021-10-29T00:00:00",
          "2021-11-30T00:00:00",
          "2021-12-31T00:00:00",
          "2022-01-31T00:00:00",
          "2022-02-28T00:00:00",
          "2022-03-31T00:00:00",
          "2022-04-29T00:00:00",
          "2022-05-31T00:00:00",
          "2022-06-30T00:00:00",
          "2022-07-29T00:00:00",
          "2022-08-31T00:00:00",
          "2022-09-30T00:00:00"
         ],
         "xaxis": "x",
         "y": [
          -0.05855846073662274,
          0.021221872368891503,
          0.043063822097737736,
          -0.006637359781714203,
          -0.0932714212528476,
          0.05252085687495489,
          -0.17560390611615562,
          0.13283458021612637,
          0.070626651012621,
          0.05987914510583381,
          0.01559519318855429,
          -0.023792342304100544,
          -0.03473203609087938,
          0.09887944140998917,
          -0.046887009992313655,
          0.02580645161290329,
          -0.003207547169811309,
          0.059583149304898164,
          0.03756450972608172,
          0.12236835812329616,
          -0.06368780787127781,
          -0.015883129295043985,
          0.0336570477247502,
          -0.0027738258216339906,
          0.057909896006244965,
          0.03173795408089708,
          0.020740679847096155,
          -0.048869273886991915,
          0.057112616426757024,
          0.047378749649565455,
          0.039614561027837336,
          0.021428571428571352,
          0.023672516978387348,
          -0.05927958350921625,
          0.05589541857995428,
          0.01834433521262424,
          0.08757946278290141,
          -0.017567308307220086,
          -0.0205112515704029,
          0.08129751714604705,
          0.1278018499738791,
          -0.11509599507354262,
          0.06200924996458901,
          0.012241371311931593,
          -0.1035065507937144,
          0.1060763877794888,
          -0.005205354408952534,
          -0.03121551774202913,
          -0.0026016845007943434,
          -0.0582818951683185,
          0.019536136427459105,
          0.011443237660020644,
          0.04711183180358103,
          0.04752194343470162,
          -0.029849061926929044,
          -0.0025416581847790276,
          -0.02259501568531408,
          -0.008185034273339609,
          -0.04878767646510396,
          0.01018085240925748,
          -0.07858528951486698,
          -0.05717546672463936,
          -0.11044098573281447,
          0.05974743424623141,
          0.0664837306713344,
          -0.04551090469944885,
          -0.00608964010302071,
          -0.05311787014792335,
          -0.03858459328998276,
          0.03283014796803285,
          0.065758707966735,
          -0.02975746198327789,
          0.005112982936002153,
          -0.0338770776961731,
          0.05495006721720741,
          -0.02735995752266085,
          0.003930498799014304,
          -0.06109592020632004,
          -0.029561418749534663,
          -0.004740225416474786,
          0.017629220990594163,
          0.08066769924913286,
          -0.055001207362574744,
          -0.024151403748825406,
          -0.002061019697942368,
          0.007736321776814714,
          -0.014127568076063746,
          -0.0664190294438386,
          0.034604854900529336,
          -0.01660021874889739,
          0.02440577630280716,
          -0.06824211328155771,
          -0.0018606049785279133,
          0.052740093580244674,
          0.1018234499780899,
          0.00030030761239219217,
          0.04956833598390187,
          -0.060802609912410155,
          0.0833415645989728,
          0.026707088205572216,
          -0.03190308448286061,
          0.005886085141839192,
          -0.0320016414995401,
          -0.07758133400326583,
          -0.023354384053653865,
          0.05498039215686257,
          0.03781627140485222,
          -0.005706917548174428,
          0.015273775216138263,
          0.001245781688586023,
          -0.022246546863433747,
          0.021174120698125964,
          0.038693903304676924,
          -0.02825446482808891,
          -0.00735299863254546,
          0.0010863233465057132,
          0.02443934199352049,
          0.028392692661958874,
          -0.015278513796938342,
          0.00466907194615418,
          -0.006276971361318107,
          -0.011577940417261345,
          -0.037875121936232325,
          -0.021155995529299032,
          -0.021189136285784227,
          -0.006332700063326979,
          0.017458826686344908,
          0.005917549903571961,
          0.05002785697899248,
          0.03158601101765002,
          -0.0051207963329954476,
          -0.017418211953257323,
          -0.006785929834878468,
          0.01711579062176205,
          0.07963510470442259,
          0.010684260934340717,
          0.06722541607878663,
          -0.032781278364619415,
          0.028472533899111863,
          -0.032028352100290314,
          0.04019208043880673,
          0.04357076720011044,
          -0.002183543507261687,
          0.0076938115268432306,
          0.056186596073571904,
          0.0252419015565839,
          0.030868014818496547,
          0.10774354144241105,
          -0.0020041905803042104,
          -0.03752725797454237,
          -0.010058485694715236,
          -0.05360307854439783,
          0.06538439907766724,
          -0.024657404083700984,
          -0.06148891835574921,
          -0.012698669004175156,
          0.03335825516057067,
          0.07778964801908272,
          -0.07052314147108951,
          0.02364750490893086,
          -0.00007165732365410626,
          -0.030754219816323536,
          0.014281083110102566,
          -0.005057811571286153,
          0.03090691855091432,
          -0.017603323857424025,
          0.05690595436839185,
          0.02379347745964222,
          -0.02443878731775051,
          -0.026864459943171326,
          -0.019512776480657856,
          -0.024315588828420664,
          -0.02815497695278435,
          -0.032402605726538636
         ],
         "yaxis": "y"
        }
       ],
       "layout": {
        "barmode": "relative",
        "legend": {
         "title": {
          "text": "variable"
         },
         "tracegroupgap": 0
        },
        "margin": {
         "t": 60
        },
        "shapes": [
         {
          "fillcolor": "yellow",
          "layer": "below",
          "line": {
           "width": 0
          },
          "opacity": 0.2,
          "type": "rect",
          "x0": "2008-04-01",
          "x1": "2008-05-30",
          "xref": "x",
          "y0": 0,
          "y1": 1,
          "yref": "y domain"
         },
         {
          "fillcolor": "blue",
          "layer": "below",
          "line": {
           "width": 0
          },
          "opacity": 0.2,
          "type": "rect",
          "x0": "2008-06-01",
          "x1": "2008-08-29",
          "xref": "x",
          "y0": 0,
          "y1": 1,
          "yref": "y domain"
         },
         {
          "fillcolor": "yellow",
          "layer": "below",
          "line": {
           "width": 0
          },
          "opacity": 0.2,
          "type": "rect",
          "x0": "2008-09-01",
          "x1": "2008-11-28",
          "xref": "x",
          "y0": 0,
          "y1": 1,
          "yref": "y domain"
         },
         {
          "fillcolor": "LightSalmon",
          "layer": "below",
          "line": {
           "width": 0
          },
          "opacity": 0.2,
          "type": "rect",
          "x0": "2008-12-01",
          "x1": "2009-08-31",
          "xref": "x",
          "y0": 0,
          "y1": 1,
          "yref": "y domain"
         },
         {
          "fillcolor": "green",
          "layer": "below",
          "line": {
           "width": 0
          },
          "opacity": 0.2,
          "type": "rect",
          "x0": "2009-09-01",
          "x1": "2009-11-30",
          "xref": "x",
          "y0": 0,
          "y1": 1,
          "yref": "y domain"
         },
         {
          "fillcolor": "blue",
          "layer": "below",
          "line": {
           "width": 0
          },
          "opacity": 0.2,
          "type": "rect",
          "x0": "2009-12-01",
          "x1": "2010-05-31",
          "xref": "x",
          "y0": 0,
          "y1": 1,
          "yref": "y domain"
         },
         {
          "fillcolor": "green",
          "layer": "below",
          "line": {
           "width": 0
          },
          "opacity": 0.2,
          "type": "rect",
          "x0": "2010-06-01",
          "x1": "2010-11-30",
          "xref": "x",
          "y0": 0,
          "y1": 1,
          "yref": "y domain"
         },
         {
          "fillcolor": "blue",
          "layer": "below",
          "line": {
           "width": 0
          },
          "opacity": 0.2,
          "type": "rect",
          "x0": "2010-12-01",
          "x1": "2011-02-28",
          "xref": "x",
          "y0": 0,
          "y1": 1,
          "yref": "y domain"
         },
         {
          "fillcolor": "yellow",
          "layer": "below",
          "line": {
           "width": 0
          },
          "opacity": 0.2,
          "type": "rect",
          "x0": "2011-03-01",
          "x1": "2011-05-31",
          "xref": "x",
          "y0": 0,
          "y1": 1,
          "yref": "y domain"
         },
         {
          "fillcolor": "blue",
          "layer": "below",
          "line": {
           "width": 0
          },
          "opacity": 0.2,
          "type": "rect",
          "x0": "2011-06-01",
          "x1": "2011-08-31",
          "xref": "x",
          "y0": 0,
          "y1": 1,
          "yref": "y domain"
         },
         {
          "fillcolor": "yellow",
          "layer": "below",
          "line": {
           "width": 0
          },
          "opacity": 0.2,
          "type": "rect",
          "x0": "2011-09-01",
          "x1": "2013-11-29",
          "xref": "x",
          "y0": 0,
          "y1": 1,
          "yref": "y domain"
         },
         {
          "fillcolor": "green",
          "layer": "below",
          "line": {
           "width": 0
          },
          "opacity": 0.2,
          "type": "rect",
          "x0": "2013-12-01",
          "x1": "2014-02-28",
          "xref": "x",
          "y0": 0,
          "y1": 1,
          "yref": "y domain"
         },
         {
          "fillcolor": "yellow",
          "layer": "below",
          "line": {
           "width": 0
          },
          "opacity": 0.2,
          "type": "rect",
          "x0": "2014-03-01",
          "x1": "2014-05-30",
          "xref": "x",
          "y0": 0,
          "y1": 1,
          "yref": "y domain"
         },
         {
          "fillcolor": "blue",
          "layer": "below",
          "line": {
           "width": 0
          },
          "opacity": 0.2,
          "type": "rect",
          "x0": "2014-06-01",
          "x1": "2014-08-29",
          "xref": "x",
          "y0": 0,
          "y1": 1,
          "yref": "y domain"
         },
         {
          "fillcolor": "green",
          "layer": "below",
          "line": {
           "width": 0
          },
          "opacity": 0.2,
          "type": "rect",
          "x0": "2014-09-01",
          "x1": "2015-05-29",
          "xref": "x",
          "y0": 0,
          "y1": 1,
          "yref": "y domain"
         },
         {
          "fillcolor": "blue",
          "layer": "below",
          "line": {
           "width": 0
          },
          "opacity": 0.2,
          "type": "rect",
          "x0": "2015-06-01",
          "x1": "2016-05-31",
          "xref": "x",
          "y0": 0,
          "y1": 1,
          "yref": "y domain"
         },
         {
          "fillcolor": "green",
          "layer": "below",
          "line": {
           "width": 0
          },
          "opacity": 0.2,
          "type": "rect",
          "x0": "2016-06-01",
          "x1": "2016-08-31",
          "xref": "x",
          "y0": 0,
          "y1": 1,
          "yref": "y domain"
         },
         {
          "fillcolor": "blue",
          "layer": "below",
          "line": {
           "width": 0
          },
          "opacity": 0.2,
          "type": "rect",
          "x0": "2016-09-01",
          "x1": "2017-05-31",
          "xref": "x",
          "y0": 0,
          "y1": 1,
          "yref": "y domain"
         },
         {
          "fillcolor": "green",
          "layer": "below",
          "line": {
           "width": 0
          },
          "opacity": 0.2,
          "type": "rect",
          "x0": "2017-06-01",
          "x1": "2019-11-29",
          "xref": "x",
          "y0": 0,
          "y1": 1,
          "yref": "y domain"
         },
         {
          "fillcolor": "blue",
          "layer": "below",
          "line": {
           "width": 0
          },
          "opacity": 0.2,
          "type": "rect",
          "x0": "2019-12-01",
          "x1": "2020-02-28",
          "xref": "x",
          "y0": 0,
          "y1": 1,
          "yref": "y domain"
         },
         {
          "fillcolor": "yellow",
          "layer": "below",
          "line": {
           "width": 0
          },
          "opacity": 0.2,
          "type": "rect",
          "x0": "2020-03-01",
          "x1": "2020-05-29",
          "xref": "x",
          "y0": 0,
          "y1": 1,
          "yref": "y domain"
         },
         {
          "fillcolor": "LightSalmon",
          "layer": "below",
          "line": {
           "width": 0
          },
          "opacity": 0.2,
          "type": "rect",
          "x0": "2020-06-01",
          "x1": "2020-08-31",
          "xref": "x",
          "y0": 0,
          "y1": 1,
          "yref": "y domain"
         },
         {
          "fillcolor": "blue",
          "layer": "below",
          "line": {
           "width": 0
          },
          "opacity": 0.2,
          "type": "rect",
          "x0": "2020-09-01",
          "x1": "2022-02-28",
          "xref": "x",
          "y0": 0,
          "y1": 1,
          "yref": "y domain"
         },
         {
          "fillcolor": "yellow",
          "layer": "below",
          "line": {
           "width": 0
          },
          "opacity": 0.2,
          "type": "rect",
          "x0": "2022-03-01",
          "x1": "2022-08-31",
          "xref": "x",
          "y0": 0,
          "y1": 1,
          "yref": "y domain"
         },
         {
          "fillcolor": "LightSalmon",
          "layer": "below",
          "line": {
           "width": 0
          },
          "opacity": 0.2,
          "type": "rect",
          "x0": "2022-09-01",
          "x1": "2022-09-30",
          "xref": "x",
          "y0": 0,
          "y1": 1,
          "yref": "y domain"
         }
        ],
        "template": {
         "data": {
          "bar": [
           {
            "error_x": {
             "color": "#2a3f5f"
            },
            "error_y": {
             "color": "#2a3f5f"
            },
            "marker": {
             "line": {
              "color": "#E5ECF6",
              "width": 0.5
             },
             "pattern": {
              "fillmode": "overlay",
              "size": 10,
              "solidity": 0.2
             }
            },
            "type": "bar"
           }
          ],
          "barpolar": [
           {
            "marker": {
             "line": {
              "color": "#E5ECF6",
              "width": 0.5
             },
             "pattern": {
              "fillmode": "overlay",
              "size": 10,
              "solidity": 0.2
             }
            },
            "type": "barpolar"
           }
          ],
          "carpet": [
           {
            "aaxis": {
             "endlinecolor": "#2a3f5f",
             "gridcolor": "white",
             "linecolor": "white",
             "minorgridcolor": "white",
             "startlinecolor": "#2a3f5f"
            },
            "baxis": {
             "endlinecolor": "#2a3f5f",
             "gridcolor": "white",
             "linecolor": "white",
             "minorgridcolor": "white",
             "startlinecolor": "#2a3f5f"
            },
            "type": "carpet"
           }
          ],
          "choropleth": [
           {
            "colorbar": {
             "outlinewidth": 0,
             "ticks": ""
            },
            "type": "choropleth"
           }
          ],
          "contour": [
           {
            "colorbar": {
             "outlinewidth": 0,
             "ticks": ""
            },
            "colorscale": [
             [
              0,
              "#0d0887"
             ],
             [
              0.1111111111111111,
              "#46039f"
             ],
             [
              0.2222222222222222,
              "#7201a8"
             ],
             [
              0.3333333333333333,
              "#9c179e"
             ],
             [
              0.4444444444444444,
              "#bd3786"
             ],
             [
              0.5555555555555556,
              "#d8576b"
             ],
             [
              0.6666666666666666,
              "#ed7953"
             ],
             [
              0.7777777777777778,
              "#fb9f3a"
             ],
             [
              0.8888888888888888,
              "#fdca26"
             ],
             [
              1,
              "#f0f921"
             ]
            ],
            "type": "contour"
           }
          ],
          "contourcarpet": [
           {
            "colorbar": {
             "outlinewidth": 0,
             "ticks": ""
            },
            "type": "contourcarpet"
           }
          ],
          "heatmap": [
           {
            "colorbar": {
             "outlinewidth": 0,
             "ticks": ""
            },
            "colorscale": [
             [
              0,
              "#0d0887"
             ],
             [
              0.1111111111111111,
              "#46039f"
             ],
             [
              0.2222222222222222,
              "#7201a8"
             ],
             [
              0.3333333333333333,
              "#9c179e"
             ],
             [
              0.4444444444444444,
              "#bd3786"
             ],
             [
              0.5555555555555556,
              "#d8576b"
             ],
             [
              0.6666666666666666,
              "#ed7953"
             ],
             [
              0.7777777777777778,
              "#fb9f3a"
             ],
             [
              0.8888888888888888,
              "#fdca26"
             ],
             [
              1,
              "#f0f921"
             ]
            ],
            "type": "heatmap"
           }
          ],
          "heatmapgl": [
           {
            "colorbar": {
             "outlinewidth": 0,
             "ticks": ""
            },
            "colorscale": [
             [
              0,
              "#0d0887"
             ],
             [
              0.1111111111111111,
              "#46039f"
             ],
             [
              0.2222222222222222,
              "#7201a8"
             ],
             [
              0.3333333333333333,
              "#9c179e"
             ],
             [
              0.4444444444444444,
              "#bd3786"
             ],
             [
              0.5555555555555556,
              "#d8576b"
             ],
             [
              0.6666666666666666,
              "#ed7953"
             ],
             [
              0.7777777777777778,
              "#fb9f3a"
             ],
             [
              0.8888888888888888,
              "#fdca26"
             ],
             [
              1,
              "#f0f921"
             ]
            ],
            "type": "heatmapgl"
           }
          ],
          "histogram": [
           {
            "marker": {
             "pattern": {
              "fillmode": "overlay",
              "size": 10,
              "solidity": 0.2
             }
            },
            "type": "histogram"
           }
          ],
          "histogram2d": [
           {
            "colorbar": {
             "outlinewidth": 0,
             "ticks": ""
            },
            "colorscale": [
             [
              0,
              "#0d0887"
             ],
             [
              0.1111111111111111,
              "#46039f"
             ],
             [
              0.2222222222222222,
              "#7201a8"
             ],
             [
              0.3333333333333333,
              "#9c179e"
             ],
             [
              0.4444444444444444,
              "#bd3786"
             ],
             [
              0.5555555555555556,
              "#d8576b"
             ],
             [
              0.6666666666666666,
              "#ed7953"
             ],
             [
              0.7777777777777778,
              "#fb9f3a"
             ],
             [
              0.8888888888888888,
              "#fdca26"
             ],
             [
              1,
              "#f0f921"
             ]
            ],
            "type": "histogram2d"
           }
          ],
          "histogram2dcontour": [
           {
            "colorbar": {
             "outlinewidth": 0,
             "ticks": ""
            },
            "colorscale": [
             [
              0,
              "#0d0887"
             ],
             [
              0.1111111111111111,
              "#46039f"
             ],
             [
              0.2222222222222222,
              "#7201a8"
             ],
             [
              0.3333333333333333,
              "#9c179e"
             ],
             [
              0.4444444444444444,
              "#bd3786"
             ],
             [
              0.5555555555555556,
              "#d8576b"
             ],
             [
              0.6666666666666666,
              "#ed7953"
             ],
             [
              0.7777777777777778,
              "#fb9f3a"
             ],
             [
              0.8888888888888888,
              "#fdca26"
             ],
             [
              1,
              "#f0f921"
             ]
            ],
            "type": "histogram2dcontour"
           }
          ],
          "mesh3d": [
           {
            "colorbar": {
             "outlinewidth": 0,
             "ticks": ""
            },
            "type": "mesh3d"
           }
          ],
          "parcoords": [
           {
            "line": {
             "colorbar": {
              "outlinewidth": 0,
              "ticks": ""
             }
            },
            "type": "parcoords"
           }
          ],
          "pie": [
           {
            "automargin": true,
            "type": "pie"
           }
          ],
          "scatter": [
           {
            "fillpattern": {
             "fillmode": "overlay",
             "size": 10,
             "solidity": 0.2
            },
            "type": "scatter"
           }
          ],
          "scatter3d": [
           {
            "line": {
             "colorbar": {
              "outlinewidth": 0,
              "ticks": ""
             }
            },
            "marker": {
             "colorbar": {
              "outlinewidth": 0,
              "ticks": ""
             }
            },
            "type": "scatter3d"
           }
          ],
          "scattercarpet": [
           {
            "marker": {
             "colorbar": {
              "outlinewidth": 0,
              "ticks": ""
             }
            },
            "type": "scattercarpet"
           }
          ],
          "scattergeo": [
           {
            "marker": {
             "colorbar": {
              "outlinewidth": 0,
              "ticks": ""
             }
            },
            "type": "scattergeo"
           }
          ],
          "scattergl": [
           {
            "marker": {
             "colorbar": {
              "outlinewidth": 0,
              "ticks": ""
             }
            },
            "type": "scattergl"
           }
          ],
          "scattermapbox": [
           {
            "marker": {
             "colorbar": {
              "outlinewidth": 0,
              "ticks": ""
             }
            },
            "type": "scattermapbox"
           }
          ],
          "scatterpolar": [
           {
            "marker": {
             "colorbar": {
              "outlinewidth": 0,
              "ticks": ""
             }
            },
            "type": "scatterpolar"
           }
          ],
          "scatterpolargl": [
           {
            "marker": {
             "colorbar": {
              "outlinewidth": 0,
              "ticks": ""
             }
            },
            "type": "scatterpolargl"
           }
          ],
          "scatterternary": [
           {
            "marker": {
             "colorbar": {
              "outlinewidth": 0,
              "ticks": ""
             }
            },
            "type": "scatterternary"
           }
          ],
          "surface": [
           {
            "colorbar": {
             "outlinewidth": 0,
             "ticks": ""
            },
            "colorscale": [
             [
              0,
              "#0d0887"
             ],
             [
              0.1111111111111111,
              "#46039f"
             ],
             [
              0.2222222222222222,
              "#7201a8"
             ],
             [
              0.3333333333333333,
              "#9c179e"
             ],
             [
              0.4444444444444444,
              "#bd3786"
             ],
             [
              0.5555555555555556,
              "#d8576b"
             ],
             [
              0.6666666666666666,
              "#ed7953"
             ],
             [
              0.7777777777777778,
              "#fb9f3a"
             ],
             [
              0.8888888888888888,
              "#fdca26"
             ],
             [
              1,
              "#f0f921"
             ]
            ],
            "type": "surface"
           }
          ],
          "table": [
           {
            "cells": {
             "fill": {
              "color": "#EBF0F8"
             },
             "line": {
              "color": "white"
             }
            },
            "header": {
             "fill": {
              "color": "#C8D4E3"
             },
             "line": {
              "color": "white"
             }
            },
            "type": "table"
           }
          ]
         },
         "layout": {
          "annotationdefaults": {
           "arrowcolor": "#2a3f5f",
           "arrowhead": 0,
           "arrowwidth": 1
          },
          "autotypenumbers": "strict",
          "coloraxis": {
           "colorbar": {
            "outlinewidth": 0,
            "ticks": ""
           }
          },
          "colorscale": {
           "diverging": [
            [
             0,
             "#8e0152"
            ],
            [
             0.1,
             "#c51b7d"
            ],
            [
             0.2,
             "#de77ae"
            ],
            [
             0.3,
             "#f1b6da"
            ],
            [
             0.4,
             "#fde0ef"
            ],
            [
             0.5,
             "#f7f7f7"
            ],
            [
             0.6,
             "#e6f5d0"
            ],
            [
             0.7,
             "#b8e186"
            ],
            [
             0.8,
             "#7fbc41"
            ],
            [
             0.9,
             "#4d9221"
            ],
            [
             1,
             "#276419"
            ]
           ],
           "sequential": [
            [
             0,
             "#0d0887"
            ],
            [
             0.1111111111111111,
             "#46039f"
            ],
            [
             0.2222222222222222,
             "#7201a8"
            ],
            [
             0.3333333333333333,
             "#9c179e"
            ],
            [
             0.4444444444444444,
             "#bd3786"
            ],
            [
             0.5555555555555556,
             "#d8576b"
            ],
            [
             0.6666666666666666,
             "#ed7953"
            ],
            [
             0.7777777777777778,
             "#fb9f3a"
            ],
            [
             0.8888888888888888,
             "#fdca26"
            ],
            [
             1,
             "#f0f921"
            ]
           ],
           "sequentialminus": [
            [
             0,
             "#0d0887"
            ],
            [
             0.1111111111111111,
             "#46039f"
            ],
            [
             0.2222222222222222,
             "#7201a8"
            ],
            [
             0.3333333333333333,
             "#9c179e"
            ],
            [
             0.4444444444444444,
             "#bd3786"
            ],
            [
             0.5555555555555556,
             "#d8576b"
            ],
            [
             0.6666666666666666,
             "#ed7953"
            ],
            [
             0.7777777777777778,
             "#fb9f3a"
            ],
            [
             0.8888888888888888,
             "#fdca26"
            ],
            [
             1,
             "#f0f921"
            ]
           ]
          },
          "colorway": [
           "#636efa",
           "#EF553B",
           "#00cc96",
           "#ab63fa",
           "#FFA15A",
           "#19d3f3",
           "#FF6692",
           "#B6E880",
           "#FF97FF",
           "#FECB52"
          ],
          "font": {
           "color": "#2a3f5f"
          },
          "geo": {
           "bgcolor": "white",
           "lakecolor": "white",
           "landcolor": "#E5ECF6",
           "showlakes": true,
           "showland": true,
           "subunitcolor": "white"
          },
          "hoverlabel": {
           "align": "left"
          },
          "hovermode": "closest",
          "mapbox": {
           "style": "light"
          },
          "paper_bgcolor": "white",
          "plot_bgcolor": "#E5ECF6",
          "polar": {
           "angularaxis": {
            "gridcolor": "white",
            "linecolor": "white",
            "ticks": ""
           },
           "bgcolor": "#E5ECF6",
           "radialaxis": {
            "gridcolor": "white",
            "linecolor": "white",
            "ticks": ""
           }
          },
          "scene": {
           "xaxis": {
            "backgroundcolor": "#E5ECF6",
            "gridcolor": "white",
            "gridwidth": 2,
            "linecolor": "white",
            "showbackground": true,
            "ticks": "",
            "zerolinecolor": "white"
           },
           "yaxis": {
            "backgroundcolor": "#E5ECF6",
            "gridcolor": "white",
            "gridwidth": 2,
            "linecolor": "white",
            "showbackground": true,
            "ticks": "",
            "zerolinecolor": "white"
           },
           "zaxis": {
            "backgroundcolor": "#E5ECF6",
            "gridcolor": "white",
            "gridwidth": 2,
            "linecolor": "white",
            "showbackground": true,
            "ticks": "",
            "zerolinecolor": "white"
           }
          },
          "shapedefaults": {
           "line": {
            "color": "#2a3f5f"
           }
          },
          "ternary": {
           "aaxis": {
            "gridcolor": "white",
            "linecolor": "white",
            "ticks": ""
           },
           "baxis": {
            "gridcolor": "white",
            "linecolor": "white",
            "ticks": ""
           },
           "bgcolor": "#E5ECF6",
           "caxis": {
            "gridcolor": "white",
            "linecolor": "white",
            "ticks": ""
           }
          },
          "title": {
           "x": 0.05
          },
          "xaxis": {
           "automargin": true,
           "gridcolor": "white",
           "linecolor": "white",
           "ticks": "",
           "title": {
            "standoff": 15
           },
           "zerolinecolor": "white",
           "zerolinewidth": 2
          },
          "yaxis": {
           "automargin": true,
           "gridcolor": "white",
           "linecolor": "white",
           "ticks": "",
           "title": {
            "standoff": 15
           },
           "zerolinecolor": "white",
           "zerolinewidth": 2
          }
         }
        },
        "xaxis": {
         "anchor": "y",
         "domain": [
          0,
          1
         ],
         "title": {
          "text": "Date"
         }
        },
        "yaxis": {
         "anchor": "x",
         "domain": [
          0,
          1
         ],
         "title": {
          "text": "value"
         }
        }
       }
      }
     },
     "metadata": {},
     "output_type": "display_data"
    }
   ],
   "source": [
    "# Returns regime cond\n",
    "fig = ret_df.drop(columns=['regime']).plot.bar()\n",
    "\n",
    "for i in regime_li:\n",
    "    start = i[1]\n",
    "    end = i[2].astype(str)[:10]\n",
    "\n",
    "    # Add shape regions\n",
    "    fig.add_vrect(\n",
    "        x0=start, x1=end,\n",
    "        fillcolor=fillcolors_regimes[i[0]], opacity=0.2,\n",
    "        layer=\"below\", line_width=0,\n",
    "    )\n",
    "\n",
    "fig.show()"
   ]
  },
  {
   "cell_type": "code",
   "execution_count": 247,
   "metadata": {},
   "outputs": [
    {
     "data": {
      "application/vnd.plotly.v1+json": {
       "config": {
        "plotlyServerURL": "https://plot.ly"
       },
       "data": [
        {
         "hovertemplate": "variable=EHPIUS Index<br>Date=%{x}<br>value=%{y}<extra></extra>",
         "legendgroup": "EHPIUS Index",
         "line": {
          "color": "#636efa",
          "dash": "solid"
         },
         "marker": {
          "symbol": "circle"
         },
         "mode": "lines",
         "name": "EHPIUS Index",
         "orientation": "v",
         "showlegend": true,
         "type": "scatter",
         "x": [
          "2008-03-31T00:00:00",
          "2008-06-30T00:00:00",
          "2008-09-30T00:00:00",
          "2008-12-31T00:00:00",
          "2009-03-31T00:00:00",
          "2009-06-30T00:00:00",
          "2009-09-30T00:00:00",
          "2009-12-31T00:00:00",
          "2010-03-31T00:00:00",
          "2010-06-30T00:00:00",
          "2010-09-30T00:00:00",
          "2010-12-31T00:00:00",
          "2011-03-31T00:00:00",
          "2011-06-30T00:00:00",
          "2011-09-30T00:00:00",
          "2013-12-31T00:00:00",
          "2014-03-31T00:00:00",
          "2014-06-30T00:00:00",
          "2014-09-30T00:00:00",
          "2014-12-31T00:00:00",
          "2015-03-31T00:00:00",
          "2015-06-30T00:00:00",
          "2015-09-30T00:00:00",
          "2015-12-31T00:00:00",
          "2016-03-31T00:00:00",
          "2016-06-30T00:00:00",
          "2016-09-30T00:00:00",
          "2017-06-30T00:00:00",
          "2019-12-31T00:00:00",
          "2020-03-31T00:00:00",
          "2020-06-30T00:00:00",
          "2020-09-30T00:00:00",
          "2020-12-31T00:00:00",
          "2021-03-31T00:00:00",
          "2021-06-30T00:00:00",
          "2021-09-30T00:00:00",
          "2021-12-31T00:00:00",
          "2022-03-31T00:00:00",
          "2022-06-30T00:00:00",
          "2022-09-30T00:00:00"
         ],
         "xaxis": "x",
         "y": [
          0.12999999999999945,
          0.27000000000000046,
          0.9299999999999997,
          -3.67,
          -1.7,
          -1.0599999999999998,
          -0.5,
          3.0599999999999996,
          0.9000000000000001,
          -0.56,
          -0.6400000000000001,
          0.14000000000000012,
          0.8599999999999999,
          1.3400000000000003,
          0.2999999999999998,
          -0.3400000000000001,
          0.16999999999999993,
          0.6699999999999999,
          -0.2699999999999998,
          -0.53,
          -1.34,
          0.04000000000000001,
          0.16,
          0.33999999999999997,
          0.6300000000000001,
          -0.07000000000000006,
          0.09999999999999987,
          -0.6299999999999999,
          0.33999999999999986,
          0.03000000000000025,
          -1.77,
          0.8999999999999999,
          0.040000000000000036,
          0.6299999999999999,
          2.97,
          0.5,
          1.2999999999999998,
          1.2999999999999998,
          0.7000000000000002,
          -0.33999999999999986
         ],
         "yaxis": "y"
        },
        {
         "hovertemplate": "variable=GDP CQOQ Index<br>Date=%{x}<br>value=%{y}<extra></extra>",
         "legendgroup": "GDP CQOQ Index",
         "line": {
          "color": "#EF553B",
          "dash": "solid"
         },
         "marker": {
          "symbol": "circle"
         },
         "mode": "lines",
         "name": "GDP CQOQ Index",
         "orientation": "v",
         "showlegend": true,
         "type": "scatter",
         "x": [
          "2008-03-31T00:00:00",
          "2008-06-30T00:00:00",
          "2008-09-30T00:00:00",
          "2008-12-31T00:00:00",
          "2009-03-31T00:00:00",
          "2009-06-30T00:00:00",
          "2009-09-30T00:00:00",
          "2009-12-31T00:00:00",
          "2010-03-31T00:00:00",
          "2010-06-30T00:00:00",
          "2010-09-30T00:00:00",
          "2010-12-31T00:00:00",
          "2011-03-31T00:00:00",
          "2011-06-30T00:00:00",
          "2011-09-30T00:00:00",
          "2013-12-31T00:00:00",
          "2014-03-31T00:00:00",
          "2014-06-30T00:00:00",
          "2014-09-30T00:00:00",
          "2014-12-31T00:00:00",
          "2015-03-31T00:00:00",
          "2015-06-30T00:00:00",
          "2015-09-30T00:00:00",
          "2015-12-31T00:00:00",
          "2016-03-31T00:00:00",
          "2016-06-30T00:00:00",
          "2016-09-30T00:00:00",
          "2017-06-30T00:00:00",
          "2019-12-31T00:00:00",
          "2020-03-31T00:00:00",
          "2020-06-30T00:00:00",
          "2020-09-30T00:00:00",
          "2020-12-31T00:00:00",
          "2021-03-31T00:00:00",
          "2021-06-30T00:00:00",
          "2021-09-30T00:00:00",
          "2021-12-31T00:00:00",
          "2022-03-31T00:00:00",
          "2022-06-30T00:00:00",
          "2022-09-30T00:00:00"
         ],
         "xaxis": "x",
         "y": [
          -1.6,
          2.3,
          -2.1,
          -8.5,
          -4.6,
          -0.7,
          1.5,
          4.3,
          2,
          3.9,
          3.1,
          2.1,
          -1,
          2.7,
          -0.2,
          2.9,
          -1.4,
          5.2,
          4.7,
          1.8,
          3.3,
          2.3,
          1.3,
          0.6,
          2.4,
          1.2,
          2.4,
          2,
          1.8,
          -4.6,
          -29.9,
          35.3,
          3.9,
          6.3,
          7,
          2.7,
          7,
          -1.6,
          -0.6,
          -0.6
         ],
         "yaxis": "y"
        }
       ],
       "layout": {
        "legend": {
         "title": {
          "text": "variable"
         },
         "tracegroupgap": 0
        },
        "margin": {
         "t": 60
        },
        "shapes": [
         {
          "fillcolor": "yellow",
          "layer": "below",
          "line": {
           "width": 0
          },
          "opacity": 0.2,
          "type": "rect",
          "x0": "2008-04-01",
          "x1": "2008-05-30",
          "xref": "x",
          "y0": 0,
          "y1": 1,
          "yref": "y domain"
         },
         {
          "fillcolor": "blue",
          "layer": "below",
          "line": {
           "width": 0
          },
          "opacity": 0.2,
          "type": "rect",
          "x0": "2008-06-01",
          "x1": "2008-08-29",
          "xref": "x",
          "y0": 0,
          "y1": 1,
          "yref": "y domain"
         },
         {
          "fillcolor": "yellow",
          "layer": "below",
          "line": {
           "width": 0
          },
          "opacity": 0.2,
          "type": "rect",
          "x0": "2008-09-01",
          "x1": "2008-11-28",
          "xref": "x",
          "y0": 0,
          "y1": 1,
          "yref": "y domain"
         },
         {
          "fillcolor": "LightSalmon",
          "layer": "below",
          "line": {
           "width": 0
          },
          "opacity": 0.2,
          "type": "rect",
          "x0": "2008-12-01",
          "x1": "2009-08-31",
          "xref": "x",
          "y0": 0,
          "y1": 1,
          "yref": "y domain"
         },
         {
          "fillcolor": "green",
          "layer": "below",
          "line": {
           "width": 0
          },
          "opacity": 0.2,
          "type": "rect",
          "x0": "2009-09-01",
          "x1": "2009-11-30",
          "xref": "x",
          "y0": 0,
          "y1": 1,
          "yref": "y domain"
         },
         {
          "fillcolor": "blue",
          "layer": "below",
          "line": {
           "width": 0
          },
          "opacity": 0.2,
          "type": "rect",
          "x0": "2009-12-01",
          "x1": "2010-05-31",
          "xref": "x",
          "y0": 0,
          "y1": 1,
          "yref": "y domain"
         },
         {
          "fillcolor": "green",
          "layer": "below",
          "line": {
           "width": 0
          },
          "opacity": 0.2,
          "type": "rect",
          "x0": "2010-06-01",
          "x1": "2010-11-30",
          "xref": "x",
          "y0": 0,
          "y1": 1,
          "yref": "y domain"
         },
         {
          "fillcolor": "blue",
          "layer": "below",
          "line": {
           "width": 0
          },
          "opacity": 0.2,
          "type": "rect",
          "x0": "2010-12-01",
          "x1": "2011-02-28",
          "xref": "x",
          "y0": 0,
          "y1": 1,
          "yref": "y domain"
         },
         {
          "fillcolor": "yellow",
          "layer": "below",
          "line": {
           "width": 0
          },
          "opacity": 0.2,
          "type": "rect",
          "x0": "2011-03-01",
          "x1": "2011-05-31",
          "xref": "x",
          "y0": 0,
          "y1": 1,
          "yref": "y domain"
         },
         {
          "fillcolor": "blue",
          "layer": "below",
          "line": {
           "width": 0
          },
          "opacity": 0.2,
          "type": "rect",
          "x0": "2011-06-01",
          "x1": "2011-08-31",
          "xref": "x",
          "y0": 0,
          "y1": 1,
          "yref": "y domain"
         },
         {
          "fillcolor": "yellow",
          "layer": "below",
          "line": {
           "width": 0
          },
          "opacity": 0.2,
          "type": "rect",
          "x0": "2011-09-01",
          "x1": "2013-11-29",
          "xref": "x",
          "y0": 0,
          "y1": 1,
          "yref": "y domain"
         },
         {
          "fillcolor": "green",
          "layer": "below",
          "line": {
           "width": 0
          },
          "opacity": 0.2,
          "type": "rect",
          "x0": "2013-12-01",
          "x1": "2014-02-28",
          "xref": "x",
          "y0": 0,
          "y1": 1,
          "yref": "y domain"
         },
         {
          "fillcolor": "yellow",
          "layer": "below",
          "line": {
           "width": 0
          },
          "opacity": 0.2,
          "type": "rect",
          "x0": "2014-03-01",
          "x1": "2014-05-30",
          "xref": "x",
          "y0": 0,
          "y1": 1,
          "yref": "y domain"
         },
         {
          "fillcolor": "blue",
          "layer": "below",
          "line": {
           "width": 0
          },
          "opacity": 0.2,
          "type": "rect",
          "x0": "2014-06-01",
          "x1": "2014-08-29",
          "xref": "x",
          "y0": 0,
          "y1": 1,
          "yref": "y domain"
         },
         {
          "fillcolor": "green",
          "layer": "below",
          "line": {
           "width": 0
          },
          "opacity": 0.2,
          "type": "rect",
          "x0": "2014-09-01",
          "x1": "2015-05-29",
          "xref": "x",
          "y0": 0,
          "y1": 1,
          "yref": "y domain"
         },
         {
          "fillcolor": "blue",
          "layer": "below",
          "line": {
           "width": 0
          },
          "opacity": 0.2,
          "type": "rect",
          "x0": "2015-06-01",
          "x1": "2016-05-31",
          "xref": "x",
          "y0": 0,
          "y1": 1,
          "yref": "y domain"
         },
         {
          "fillcolor": "green",
          "layer": "below",
          "line": {
           "width": 0
          },
          "opacity": 0.2,
          "type": "rect",
          "x0": "2016-06-01",
          "x1": "2016-08-31",
          "xref": "x",
          "y0": 0,
          "y1": 1,
          "yref": "y domain"
         },
         {
          "fillcolor": "blue",
          "layer": "below",
          "line": {
           "width": 0
          },
          "opacity": 0.2,
          "type": "rect",
          "x0": "2016-09-01",
          "x1": "2017-05-31",
          "xref": "x",
          "y0": 0,
          "y1": 1,
          "yref": "y domain"
         },
         {
          "fillcolor": "green",
          "layer": "below",
          "line": {
           "width": 0
          },
          "opacity": 0.2,
          "type": "rect",
          "x0": "2017-06-01",
          "x1": "2019-11-29",
          "xref": "x",
          "y0": 0,
          "y1": 1,
          "yref": "y domain"
         },
         {
          "fillcolor": "blue",
          "layer": "below",
          "line": {
           "width": 0
          },
          "opacity": 0.2,
          "type": "rect",
          "x0": "2019-12-01",
          "x1": "2020-02-28",
          "xref": "x",
          "y0": 0,
          "y1": 1,
          "yref": "y domain"
         },
         {
          "fillcolor": "yellow",
          "layer": "below",
          "line": {
           "width": 0
          },
          "opacity": 0.2,
          "type": "rect",
          "x0": "2020-03-01",
          "x1": "2020-05-29",
          "xref": "x",
          "y0": 0,
          "y1": 1,
          "yref": "y domain"
         },
         {
          "fillcolor": "LightSalmon",
          "layer": "below",
          "line": {
           "width": 0
          },
          "opacity": 0.2,
          "type": "rect",
          "x0": "2020-06-01",
          "x1": "2020-08-31",
          "xref": "x",
          "y0": 0,
          "y1": 1,
          "yref": "y domain"
         },
         {
          "fillcolor": "blue",
          "layer": "below",
          "line": {
           "width": 0
          },
          "opacity": 0.2,
          "type": "rect",
          "x0": "2020-09-01",
          "x1": "2022-02-28",
          "xref": "x",
          "y0": 0,
          "y1": 1,
          "yref": "y domain"
         },
         {
          "fillcolor": "yellow",
          "layer": "below",
          "line": {
           "width": 0
          },
          "opacity": 0.2,
          "type": "rect",
          "x0": "2022-03-01",
          "x1": "2022-08-31",
          "xref": "x",
          "y0": 0,
          "y1": 1,
          "yref": "y domain"
         },
         {
          "fillcolor": "LightSalmon",
          "layer": "below",
          "line": {
           "width": 0
          },
          "opacity": 0.2,
          "type": "rect",
          "x0": "2022-09-01",
          "x1": "2022-09-30",
          "xref": "x",
          "y0": 0,
          "y1": 1,
          "yref": "y domain"
         }
        ],
        "template": {
         "data": {
          "bar": [
           {
            "error_x": {
             "color": "#2a3f5f"
            },
            "error_y": {
             "color": "#2a3f5f"
            },
            "marker": {
             "line": {
              "color": "#E5ECF6",
              "width": 0.5
             },
             "pattern": {
              "fillmode": "overlay",
              "size": 10,
              "solidity": 0.2
             }
            },
            "type": "bar"
           }
          ],
          "barpolar": [
           {
            "marker": {
             "line": {
              "color": "#E5ECF6",
              "width": 0.5
             },
             "pattern": {
              "fillmode": "overlay",
              "size": 10,
              "solidity": 0.2
             }
            },
            "type": "barpolar"
           }
          ],
          "carpet": [
           {
            "aaxis": {
             "endlinecolor": "#2a3f5f",
             "gridcolor": "white",
             "linecolor": "white",
             "minorgridcolor": "white",
             "startlinecolor": "#2a3f5f"
            },
            "baxis": {
             "endlinecolor": "#2a3f5f",
             "gridcolor": "white",
             "linecolor": "white",
             "minorgridcolor": "white",
             "startlinecolor": "#2a3f5f"
            },
            "type": "carpet"
           }
          ],
          "choropleth": [
           {
            "colorbar": {
             "outlinewidth": 0,
             "ticks": ""
            },
            "type": "choropleth"
           }
          ],
          "contour": [
           {
            "colorbar": {
             "outlinewidth": 0,
             "ticks": ""
            },
            "colorscale": [
             [
              0,
              "#0d0887"
             ],
             [
              0.1111111111111111,
              "#46039f"
             ],
             [
              0.2222222222222222,
              "#7201a8"
             ],
             [
              0.3333333333333333,
              "#9c179e"
             ],
             [
              0.4444444444444444,
              "#bd3786"
             ],
             [
              0.5555555555555556,
              "#d8576b"
             ],
             [
              0.6666666666666666,
              "#ed7953"
             ],
             [
              0.7777777777777778,
              "#fb9f3a"
             ],
             [
              0.8888888888888888,
              "#fdca26"
             ],
             [
              1,
              "#f0f921"
             ]
            ],
            "type": "contour"
           }
          ],
          "contourcarpet": [
           {
            "colorbar": {
             "outlinewidth": 0,
             "ticks": ""
            },
            "type": "contourcarpet"
           }
          ],
          "heatmap": [
           {
            "colorbar": {
             "outlinewidth": 0,
             "ticks": ""
            },
            "colorscale": [
             [
              0,
              "#0d0887"
             ],
             [
              0.1111111111111111,
              "#46039f"
             ],
             [
              0.2222222222222222,
              "#7201a8"
             ],
             [
              0.3333333333333333,
              "#9c179e"
             ],
             [
              0.4444444444444444,
              "#bd3786"
             ],
             [
              0.5555555555555556,
              "#d8576b"
             ],
             [
              0.6666666666666666,
              "#ed7953"
             ],
             [
              0.7777777777777778,
              "#fb9f3a"
             ],
             [
              0.8888888888888888,
              "#fdca26"
             ],
             [
              1,
              "#f0f921"
             ]
            ],
            "type": "heatmap"
           }
          ],
          "heatmapgl": [
           {
            "colorbar": {
             "outlinewidth": 0,
             "ticks": ""
            },
            "colorscale": [
             [
              0,
              "#0d0887"
             ],
             [
              0.1111111111111111,
              "#46039f"
             ],
             [
              0.2222222222222222,
              "#7201a8"
             ],
             [
              0.3333333333333333,
              "#9c179e"
             ],
             [
              0.4444444444444444,
              "#bd3786"
             ],
             [
              0.5555555555555556,
              "#d8576b"
             ],
             [
              0.6666666666666666,
              "#ed7953"
             ],
             [
              0.7777777777777778,
              "#fb9f3a"
             ],
             [
              0.8888888888888888,
              "#fdca26"
             ],
             [
              1,
              "#f0f921"
             ]
            ],
            "type": "heatmapgl"
           }
          ],
          "histogram": [
           {
            "marker": {
             "pattern": {
              "fillmode": "overlay",
              "size": 10,
              "solidity": 0.2
             }
            },
            "type": "histogram"
           }
          ],
          "histogram2d": [
           {
            "colorbar": {
             "outlinewidth": 0,
             "ticks": ""
            },
            "colorscale": [
             [
              0,
              "#0d0887"
             ],
             [
              0.1111111111111111,
              "#46039f"
             ],
             [
              0.2222222222222222,
              "#7201a8"
             ],
             [
              0.3333333333333333,
              "#9c179e"
             ],
             [
              0.4444444444444444,
              "#bd3786"
             ],
             [
              0.5555555555555556,
              "#d8576b"
             ],
             [
              0.6666666666666666,
              "#ed7953"
             ],
             [
              0.7777777777777778,
              "#fb9f3a"
             ],
             [
              0.8888888888888888,
              "#fdca26"
             ],
             [
              1,
              "#f0f921"
             ]
            ],
            "type": "histogram2d"
           }
          ],
          "histogram2dcontour": [
           {
            "colorbar": {
             "outlinewidth": 0,
             "ticks": ""
            },
            "colorscale": [
             [
              0,
              "#0d0887"
             ],
             [
              0.1111111111111111,
              "#46039f"
             ],
             [
              0.2222222222222222,
              "#7201a8"
             ],
             [
              0.3333333333333333,
              "#9c179e"
             ],
             [
              0.4444444444444444,
              "#bd3786"
             ],
             [
              0.5555555555555556,
              "#d8576b"
             ],
             [
              0.6666666666666666,
              "#ed7953"
             ],
             [
              0.7777777777777778,
              "#fb9f3a"
             ],
             [
              0.8888888888888888,
              "#fdca26"
             ],
             [
              1,
              "#f0f921"
             ]
            ],
            "type": "histogram2dcontour"
           }
          ],
          "mesh3d": [
           {
            "colorbar": {
             "outlinewidth": 0,
             "ticks": ""
            },
            "type": "mesh3d"
           }
          ],
          "parcoords": [
           {
            "line": {
             "colorbar": {
              "outlinewidth": 0,
              "ticks": ""
             }
            },
            "type": "parcoords"
           }
          ],
          "pie": [
           {
            "automargin": true,
            "type": "pie"
           }
          ],
          "scatter": [
           {
            "fillpattern": {
             "fillmode": "overlay",
             "size": 10,
             "solidity": 0.2
            },
            "type": "scatter"
           }
          ],
          "scatter3d": [
           {
            "line": {
             "colorbar": {
              "outlinewidth": 0,
              "ticks": ""
             }
            },
            "marker": {
             "colorbar": {
              "outlinewidth": 0,
              "ticks": ""
             }
            },
            "type": "scatter3d"
           }
          ],
          "scattercarpet": [
           {
            "marker": {
             "colorbar": {
              "outlinewidth": 0,
              "ticks": ""
             }
            },
            "type": "scattercarpet"
           }
          ],
          "scattergeo": [
           {
            "marker": {
             "colorbar": {
              "outlinewidth": 0,
              "ticks": ""
             }
            },
            "type": "scattergeo"
           }
          ],
          "scattergl": [
           {
            "marker": {
             "colorbar": {
              "outlinewidth": 0,
              "ticks": ""
             }
            },
            "type": "scattergl"
           }
          ],
          "scattermapbox": [
           {
            "marker": {
             "colorbar": {
              "outlinewidth": 0,
              "ticks": ""
             }
            },
            "type": "scattermapbox"
           }
          ],
          "scatterpolar": [
           {
            "marker": {
             "colorbar": {
              "outlinewidth": 0,
              "ticks": ""
             }
            },
            "type": "scatterpolar"
           }
          ],
          "scatterpolargl": [
           {
            "marker": {
             "colorbar": {
              "outlinewidth": 0,
              "ticks": ""
             }
            },
            "type": "scatterpolargl"
           }
          ],
          "scatterternary": [
           {
            "marker": {
             "colorbar": {
              "outlinewidth": 0,
              "ticks": ""
             }
            },
            "type": "scatterternary"
           }
          ],
          "surface": [
           {
            "colorbar": {
             "outlinewidth": 0,
             "ticks": ""
            },
            "colorscale": [
             [
              0,
              "#0d0887"
             ],
             [
              0.1111111111111111,
              "#46039f"
             ],
             [
              0.2222222222222222,
              "#7201a8"
             ],
             [
              0.3333333333333333,
              "#9c179e"
             ],
             [
              0.4444444444444444,
              "#bd3786"
             ],
             [
              0.5555555555555556,
              "#d8576b"
             ],
             [
              0.6666666666666666,
              "#ed7953"
             ],
             [
              0.7777777777777778,
              "#fb9f3a"
             ],
             [
              0.8888888888888888,
              "#fdca26"
             ],
             [
              1,
              "#f0f921"
             ]
            ],
            "type": "surface"
           }
          ],
          "table": [
           {
            "cells": {
             "fill": {
              "color": "#EBF0F8"
             },
             "line": {
              "color": "white"
             }
            },
            "header": {
             "fill": {
              "color": "#C8D4E3"
             },
             "line": {
              "color": "white"
             }
            },
            "type": "table"
           }
          ]
         },
         "layout": {
          "annotationdefaults": {
           "arrowcolor": "#2a3f5f",
           "arrowhead": 0,
           "arrowwidth": 1
          },
          "autotypenumbers": "strict",
          "coloraxis": {
           "colorbar": {
            "outlinewidth": 0,
            "ticks": ""
           }
          },
          "colorscale": {
           "diverging": [
            [
             0,
             "#8e0152"
            ],
            [
             0.1,
             "#c51b7d"
            ],
            [
             0.2,
             "#de77ae"
            ],
            [
             0.3,
             "#f1b6da"
            ],
            [
             0.4,
             "#fde0ef"
            ],
            [
             0.5,
             "#f7f7f7"
            ],
            [
             0.6,
             "#e6f5d0"
            ],
            [
             0.7,
             "#b8e186"
            ],
            [
             0.8,
             "#7fbc41"
            ],
            [
             0.9,
             "#4d9221"
            ],
            [
             1,
             "#276419"
            ]
           ],
           "sequential": [
            [
             0,
             "#0d0887"
            ],
            [
             0.1111111111111111,
             "#46039f"
            ],
            [
             0.2222222222222222,
             "#7201a8"
            ],
            [
             0.3333333333333333,
             "#9c179e"
            ],
            [
             0.4444444444444444,
             "#bd3786"
            ],
            [
             0.5555555555555556,
             "#d8576b"
            ],
            [
             0.6666666666666666,
             "#ed7953"
            ],
            [
             0.7777777777777778,
             "#fb9f3a"
            ],
            [
             0.8888888888888888,
             "#fdca26"
            ],
            [
             1,
             "#f0f921"
            ]
           ],
           "sequentialminus": [
            [
             0,
             "#0d0887"
            ],
            [
             0.1111111111111111,
             "#46039f"
            ],
            [
             0.2222222222222222,
             "#7201a8"
            ],
            [
             0.3333333333333333,
             "#9c179e"
            ],
            [
             0.4444444444444444,
             "#bd3786"
            ],
            [
             0.5555555555555556,
             "#d8576b"
            ],
            [
             0.6666666666666666,
             "#ed7953"
            ],
            [
             0.7777777777777778,
             "#fb9f3a"
            ],
            [
             0.8888888888888888,
             "#fdca26"
            ],
            [
             1,
             "#f0f921"
            ]
           ]
          },
          "colorway": [
           "#636efa",
           "#EF553B",
           "#00cc96",
           "#ab63fa",
           "#FFA15A",
           "#19d3f3",
           "#FF6692",
           "#B6E880",
           "#FF97FF",
           "#FECB52"
          ],
          "font": {
           "color": "#2a3f5f"
          },
          "geo": {
           "bgcolor": "white",
           "lakecolor": "white",
           "landcolor": "#E5ECF6",
           "showlakes": true,
           "showland": true,
           "subunitcolor": "white"
          },
          "hoverlabel": {
           "align": "left"
          },
          "hovermode": "closest",
          "mapbox": {
           "style": "light"
          },
          "paper_bgcolor": "white",
          "plot_bgcolor": "#E5ECF6",
          "polar": {
           "angularaxis": {
            "gridcolor": "white",
            "linecolor": "white",
            "ticks": ""
           },
           "bgcolor": "#E5ECF6",
           "radialaxis": {
            "gridcolor": "white",
            "linecolor": "white",
            "ticks": ""
           }
          },
          "scene": {
           "xaxis": {
            "backgroundcolor": "#E5ECF6",
            "gridcolor": "white",
            "gridwidth": 2,
            "linecolor": "white",
            "showbackground": true,
            "ticks": "",
            "zerolinecolor": "white"
           },
           "yaxis": {
            "backgroundcolor": "#E5ECF6",
            "gridcolor": "white",
            "gridwidth": 2,
            "linecolor": "white",
            "showbackground": true,
            "ticks": "",
            "zerolinecolor": "white"
           },
           "zaxis": {
            "backgroundcolor": "#E5ECF6",
            "gridcolor": "white",
            "gridwidth": 2,
            "linecolor": "white",
            "showbackground": true,
            "ticks": "",
            "zerolinecolor": "white"
           }
          },
          "shapedefaults": {
           "line": {
            "color": "#2a3f5f"
           }
          },
          "ternary": {
           "aaxis": {
            "gridcolor": "white",
            "linecolor": "white",
            "ticks": ""
           },
           "baxis": {
            "gridcolor": "white",
            "linecolor": "white",
            "ticks": ""
           },
           "bgcolor": "#E5ECF6",
           "caxis": {
            "gridcolor": "white",
            "linecolor": "white",
            "ticks": ""
           }
          },
          "title": {
           "x": 0.05
          },
          "xaxis": {
           "automargin": true,
           "gridcolor": "white",
           "linecolor": "white",
           "ticks": "",
           "title": {
            "standoff": 15
           },
           "zerolinecolor": "white",
           "zerolinewidth": 2
          },
          "yaxis": {
           "automargin": true,
           "gridcolor": "white",
           "linecolor": "white",
           "ticks": "",
           "title": {
            "standoff": 15
           },
           "zerolinecolor": "white",
           "zerolinewidth": 2
          }
         }
        },
        "xaxis": {
         "anchor": "y",
         "domain": [
          0,
          1
         ],
         "title": {
          "text": "Date"
         }
        },
        "yaxis": {
         "anchor": "x",
         "domain": [
          0,
          1
         ],
         "title": {
          "text": "value"
         }
        }
       }
      }
     },
     "metadata": {},
     "output_type": "display_data"
    }
   ],
   "source": [
    "fig = feat_df[['EHPIUS Index','GDP CQOQ Index']].plot()\n",
    "\n",
    "for i in regime_li:\n",
    "    start = i[1]\n",
    "    end = i[2].astype(str)[:10]\n",
    "\n",
    "    # Add shape regions\n",
    "    fig.add_vrect(\n",
    "        x0=start, x1=end,\n",
    "        fillcolor=fillcolors_regimes[i[0]], opacity=0.2,\n",
    "        layer=\"below\", line_width=0,\n",
    "    )\n",
    "\n",
    "fig.show()"
   ]
  },
  {
   "cell_type": "code",
   "execution_count": null,
   "metadata": {},
   "outputs": [],
   "source": []
  },
  {
   "cell_type": "code",
   "execution_count": null,
   "metadata": {},
   "outputs": [],
   "source": []
  },
  {
   "cell_type": "code",
   "execution_count": null,
   "metadata": {},
   "outputs": [],
   "source": []
  },
  {
   "cell_type": "code",
   "execution_count": null,
   "metadata": {},
   "outputs": [],
   "source": []
  },
  {
   "cell_type": "code",
   "execution_count": 129,
   "metadata": {},
   "outputs": [
    {
     "data": {
      "image/png": "[encoded data removed]",
      "text/plain": [
       "<Figure size 1000x800 with 3 Axes>"
      ]
     },
     "metadata": {},
     "output_type": "display_data"
    }
   ],
   "source": [
    "# Tearsheet report \n",
    "qs.plots.snapshot(port_rets.Portfolio, title='Portfolio Performance')"
   ]
  },
  {
   "cell_type": "code",
   "execution_count": null,
   "metadata": {},
   "outputs": [],
   "source": [
    "# port_rets.index = port_rets.index.tz_localize('America/New_York').tz_convert('America/New_York')\n",
    "qs.reports.html(port_rets.Portfolio, \"SPY\")"
   ]
  },
  {
   "cell_type": "code",
   "execution_count": 147,
   "metadata": {},
   "outputs": [
    {
     "data": {
      "text/plain": [
       "DatetimeIndex(['2008-04-30 00:00:00-04:00', '2008-05-30 00:00:00-04:00',\n",
       "               '2008-06-30 00:00:00-04:00', '2008-07-31 00:00:00-04:00',\n",
       "               '2008-08-29 00:00:00-04:00', '2008-09-30 00:00:00-04:00',\n",
       "               '2008-10-31 00:00:00-04:00', '2008-11-28 00:00:00-05:00',\n",
       "               '2008-12-31 00:00:00-05:00', '2009-01-30 00:00:00-05:00',\n",
       "               ...\n",
       "               '2021-12-31 00:00:00-05:00', '2022-01-31 00:00:00-05:00',\n",
       "               '2022-02-28 00:00:00-05:00', '2022-03-31 00:00:00-04:00',\n",
       "               '2022-04-29 00:00:00-04:00', '2022-05-31 00:00:00-04:00',\n",
       "               '2022-06-30 00:00:00-04:00', '2022-07-29 00:00:00-04:00',\n",
       "               '2022-08-31 00:00:00-04:00', '2022-09-30 00:00:00-04:00'],\n",
       "              dtype='datetime64[ns, America/New_York]', name='Date', length=174, freq=None)"
      ]
     },
     "execution_count": 147,
     "metadata": {},
     "output_type": "execute_result"
    }
   ],
   "source": [
    "port_rets.index"
   ]
  },
  {
   "cell_type": "code",
   "execution_count": 148,
   "metadata": {},
   "outputs": [
    {
     "data": {
      "text/plain": [
       "datetime64[ns, America/New_York]"
      ]
     },
     "execution_count": 148,
     "metadata": {},
     "output_type": "execute_result"
    }
   ],
   "source": [
    "port_rets.index.dtype"
   ]
  },
  {
   "cell_type": "code",
   "execution_count": 157,
   "metadata": {},
   "outputs": [
    {
     "data": {
      "application/vnd.plotly.v1+json": {
       "config": {
        "plotlyServerURL": "https://plot.ly"
       },
       "data": [
        {
         "hovertemplate": "variable=SPX Index<br>Date=%{x}<br>value=%{y}<extra></extra>",
         "legendgroup": "SPX Index",
         "line": {
          "color": "#636efa",
          "dash": "solid"
         },
         "marker": {
          "symbol": "circle"
         },
         "mode": "lines",
         "name": "SPX Index",
         "orientation": "v",
         "showlegend": true,
         "type": "scatter",
         "x": [
          "2008-04-30T00:00:00",
          "2008-05-30T00:00:00",
          "2008-06-30T00:00:00",
          "2008-07-31T00:00:00",
          "2008-08-29T00:00:00",
          "2008-09-30T00:00:00",
          "2008-10-31T00:00:00",
          "2008-11-28T00:00:00",
          "2008-12-31T00:00:00",
          "2009-01-30T00:00:00",
          "2009-02-27T00:00:00",
          "2009-03-31T00:00:00",
          "2009-04-30T00:00:00",
          "2009-05-29T00:00:00",
          "2009-06-30T00:00:00",
          "2009-07-31T00:00:00",
          "2009-08-31T00:00:00",
          "2009-09-30T00:00:00",
          "2009-10-30T00:00:00",
          "2009-11-30T00:00:00",
          "2009-12-31T00:00:00",
          "2010-01-29T00:00:00",
          "2010-02-26T00:00:00",
          "2010-03-31T00:00:00",
          "2010-04-30T00:00:00",
          "2010-05-31T00:00:00",
          "2010-06-30T00:00:00",
          "2010-07-30T00:00:00",
          "2010-08-31T00:00:00",
          "2010-09-30T00:00:00",
          "2010-10-29T00:00:00",
          "2010-11-30T00:00:00",
          "2010-12-31T00:00:00",
          "2011-01-31T00:00:00",
          "2011-02-28T00:00:00",
          "2011-03-31T00:00:00",
          "2011-04-29T00:00:00",
          "2011-05-31T00:00:00",
          "2011-06-30T00:00:00",
          "2011-07-29T00:00:00",
          "2011-08-31T00:00:00",
          "2011-09-30T00:00:00",
          "2011-10-31T00:00:00",
          "2011-11-30T00:00:00",
          "2011-12-30T00:00:00",
          "2012-01-31T00:00:00",
          "2012-02-29T00:00:00",
          "2012-03-30T00:00:00",
          "2012-04-30T00:00:00",
          "2012-05-31T00:00:00",
          "2012-06-29T00:00:00",
          "2012-07-31T00:00:00",
          "2012-08-31T00:00:00",
          "2012-09-28T00:00:00",
          "2012-10-31T00:00:00",
          "2012-11-30T00:00:00",
          "2012-12-31T00:00:00",
          "2013-01-31T00:00:00",
          "2013-02-28T00:00:00",
          "2013-03-29T00:00:00",
          "2013-04-30T00:00:00",
          "2013-05-31T00:00:00",
          "2013-06-28T00:00:00",
          "2013-07-31T00:00:00",
          "2013-08-30T00:00:00",
          "2013-09-30T00:00:00",
          "2013-10-31T00:00:00",
          "2013-11-29T00:00:00",
          "2013-12-31T00:00:00",
          "2014-01-31T00:00:00",
          "2014-02-28T00:00:00",
          "2014-03-31T00:00:00",
          "2014-04-30T00:00:00",
          "2014-05-30T00:00:00",
          "2014-06-30T00:00:00",
          "2014-07-31T00:00:00",
          "2014-08-29T00:00:00",
          "2014-09-30T00:00:00",
          "2014-10-31T00:00:00",
          "2014-11-28T00:00:00",
          "2014-12-31T00:00:00",
          "2015-01-30T00:00:00",
          "2015-02-27T00:00:00",
          "2015-03-31T00:00:00",
          "2015-04-30T00:00:00",
          "2015-05-29T00:00:00",
          "2015-06-30T00:00:00",
          "2015-07-31T00:00:00",
          "2015-08-31T00:00:00",
          "2015-09-30T00:00:00",
          "2015-10-30T00:00:00",
          "2015-11-30T00:00:00",
          "2015-12-31T00:00:00",
          "2016-01-29T00:00:00",
          "2016-02-29T00:00:00",
          "2016-03-31T00:00:00",
          "2016-04-29T00:00:00",
          "2016-05-31T00:00:00",
          "2016-06-30T00:00:00",
          "2016-07-29T00:00:00",
          "2016-08-31T00:00:00",
          "2016-09-30T00:00:00",
          "2016-10-31T00:00:00",
          "2016-11-30T00:00:00",
          "2016-12-30T00:00:00",
          "2017-01-31T00:00:00",
          "2017-02-28T00:00:00",
          "2017-03-31T00:00:00",
          "2017-04-28T00:00:00",
          "2017-05-31T00:00:00",
          "2017-06-30T00:00:00",
          "2017-07-31T00:00:00",
          "2017-08-31T00:00:00",
          "2017-09-29T00:00:00",
          "2017-10-31T00:00:00",
          "2017-11-30T00:00:00",
          "2017-12-29T00:00:00",
          "2018-01-31T00:00:00",
          "2018-02-28T00:00:00",
          "2018-03-30T00:00:00",
          "2018-04-30T00:00:00",
          "2018-05-31T00:00:00",
          "2018-06-29T00:00:00",
          "2018-07-31T00:00:00",
          "2018-08-31T00:00:00",
          "2018-09-28T00:00:00",
          "2018-10-31T00:00:00",
          "2018-11-30T00:00:00",
          "2018-12-31T00:00:00",
          "2019-01-31T00:00:00",
          "2019-02-28T00:00:00",
          "2019-03-29T00:00:00",
          "2019-04-30T00:00:00",
          "2019-05-31T00:00:00",
          "2019-06-28T00:00:00",
          "2019-07-31T00:00:00",
          "2019-08-30T00:00:00",
          "2019-09-30T00:00:00",
          "2019-10-31T00:00:00",
          "2019-11-29T00:00:00",
          "2019-12-31T00:00:00",
          "2020-01-31T00:00:00",
          "2020-02-28T00:00:00",
          "2020-03-31T00:00:00",
          "2020-04-30T00:00:00",
          "2020-05-29T00:00:00",
          "2020-06-30T00:00:00",
          "2020-07-31T00:00:00",
          "2020-08-31T00:00:00",
          "2020-09-30T00:00:00",
          "2020-10-30T00:00:00",
          "2020-11-30T00:00:00",
          "2020-12-31T00:00:00",
          "2021-01-29T00:00:00",
          "2021-02-26T00:00:00",
          "2021-03-31T00:00:00",
          "2021-04-30T00:00:00",
          "2021-05-31T00:00:00",
          "2021-06-30T00:00:00",
          "2021-07-30T00:00:00",
          "2021-08-31T00:00:00",
          "2021-09-30T00:00:00",
          "2021-10-29T00:00:00",
          "2021-11-30T00:00:00",
          "2021-12-31T00:00:00",
          "2022-01-31T00:00:00",
          "2022-02-28T00:00:00",
          "2022-03-31T00:00:00",
          "2022-04-29T00:00:00",
          "2022-05-31T00:00:00",
          "2022-06-30T00:00:00",
          "2022-07-29T00:00:00",
          "2022-08-31T00:00:00",
          "2022-09-30T00:00:00"
         ],
         "xaxis": "x",
         "y": [
          0.18706,
          0.18706,
          0.27739,
          0.27739,
          0.27739,
          0.18706,
          0.18706,
          0.18706,
          0.20973,
          0.20973,
          0.20973,
          0.20973,
          0.20973,
          0.20973,
          0.20973,
          0.20973,
          0.20973,
          0.39711,
          0.39711,
          0.39711,
          0.27739,
          0.27739,
          0.27739,
          0.27739,
          0.27739,
          0.27739,
          0.39711,
          0.39711,
          0.39711,
          0.39711,
          0.39711,
          0.39711,
          0.27739,
          0.27739,
          0.27739,
          0.18706,
          0.18706,
          0.18706,
          0.27739,
          0.27739,
          0.27739,
          0.18706,
          0.18706,
          0.18706,
          0.18706,
          0.18706,
          0.18706,
          0.18706,
          0.18706,
          0.18706,
          0.18706,
          0.18706,
          0.18706,
          0.18706,
          0.18706,
          0.18706,
          0.18706,
          0.18706,
          0.18706,
          0.18706,
          0.18706,
          0.18706,
          0.18706,
          0.18706,
          0.18706,
          0.18706,
          0.18706,
          0.18706,
          0.39711,
          0.39711,
          0.39711,
          0.18706,
          0.18706,
          0.18706,
          0.27739,
          0.27739,
          0.27739,
          0.39711,
          0.39711,
          0.39711,
          0.39711,
          0.39711,
          0.39711,
          0.39711,
          0.39711,
          0.39711,
          0.27739,
          0.27739,
          0.27739,
          0.27739,
          0.27739,
          0.27739,
          0.27739,
          0.27739,
          0.27739,
          0.27739,
          0.27739,
          0.27739,
          0.39711,
          0.39711,
          0.39711,
          0.27739,
          0.27739,
          0.27739,
          0.27739,
          0.27739,
          0.27739,
          0.27739,
          0.27739,
          0.27739,
          0.39711,
          0.39711,
          0.39711,
          0.39711,
          0.39711,
          0.39711,
          0.39711,
          0.39711,
          0.39711,
          0.39711,
          0.39711,
          0.39711,
          0.39711,
          0.39711,
          0.39711,
          0.39711,
          0.39711,
          0.39711,
          0.39711,
          0.39711,
          0.39711,
          0.39711,
          0.39711,
          0.39711,
          0.39711,
          0.39711,
          0.39711,
          0.39711,
          0.39711,
          0.39711,
          0.27739,
          0.27739,
          0.27739,
          0.18706,
          0.18706,
          0.18706,
          0.20973,
          0.20973,
          0.20973,
          0.27739,
          0.27739,
          0.27739,
          0.27739,
          0.27739,
          0.27739,
          0.27739,
          0.27739,
          0.27739,
          0.27739,
          0.27739,
          0.27739,
          0.27739,
          0.27739,
          0.27739,
          0.27739,
          0.27739,
          0.27739,
          0.18706,
          0.18706,
          0.18706,
          0.18706,
          0.18706,
          0.18706,
          0.20973
         ],
         "yaxis": "y"
        },
        {
         "hovertemplate": "variable=DXY Curncy<br>Date=%{x}<br>value=%{y}<extra></extra>",
         "legendgroup": "DXY Curncy",
         "line": {
          "color": "#EF553B",
          "dash": "solid"
         },
         "marker": {
          "symbol": "circle"
         },
         "mode": "lines",
         "name": "DXY Curncy",
         "orientation": "v",
         "showlegend": true,
         "type": "scatter",
         "x": [
          "2008-04-30T00:00:00",
          "2008-05-30T00:00:00",
          "2008-06-30T00:00:00",
          "2008-07-31T00:00:00",
          "2008-08-29T00:00:00",
          "2008-09-30T00:00:00",
          "2008-10-31T00:00:00",
          "2008-11-28T00:00:00",
          "2008-12-31T00:00:00",
          "2009-01-30T00:00:00",
          "2009-02-27T00:00:00",
          "2009-03-31T00:00:00",
          "2009-04-30T00:00:00",
          "2009-05-29T00:00:00",
          "2009-06-30T00:00:00",
          "2009-07-31T00:00:00",
          "2009-08-31T00:00:00",
          "2009-09-30T00:00:00",
          "2009-10-30T00:00:00",
          "2009-11-30T00:00:00",
          "2009-12-31T00:00:00",
          "2010-01-29T00:00:00",
          "2010-02-26T00:00:00",
          "2010-03-31T00:00:00",
          "2010-04-30T00:00:00",
          "2010-05-31T00:00:00",
          "2010-06-30T00:00:00",
          "2010-07-30T00:00:00",
          "2010-08-31T00:00:00",
          "2010-09-30T00:00:00",
          "2010-10-29T00:00:00",
          "2010-11-30T00:00:00",
          "2010-12-31T00:00:00",
          "2011-01-31T00:00:00",
          "2011-02-28T00:00:00",
          "2011-03-31T00:00:00",
          "2011-04-29T00:00:00",
          "2011-05-31T00:00:00",
          "2011-06-30T00:00:00",
          "2011-07-29T00:00:00",
          "2011-08-31T00:00:00",
          "2011-09-30T00:00:00",
          "2011-10-31T00:00:00",
          "2011-11-30T00:00:00",
          "2011-12-30T00:00:00",
          "2012-01-31T00:00:00",
          "2012-02-29T00:00:00",
          "2012-03-30T00:00:00",
          "2012-04-30T00:00:00",
          "2012-05-31T00:00:00",
          "2012-06-29T00:00:00",
          "2012-07-31T00:00:00",
          "2012-08-31T00:00:00",
          "2012-09-28T00:00:00",
          "2012-10-31T00:00:00",
          "2012-11-30T00:00:00",
          "2012-12-31T00:00:00",
          "2013-01-31T00:00:00",
          "2013-02-28T00:00:00",
          "2013-03-29T00:00:00",
          "2013-04-30T00:00:00",
          "2013-05-31T00:00:00",
          "2013-06-28T00:00:00",
          "2013-07-31T00:00:00",
          "2013-08-30T00:00:00",
          "2013-09-30T00:00:00",
          "2013-10-31T00:00:00",
          "2013-11-29T00:00:00",
          "2013-12-31T00:00:00",
          "2014-01-31T00:00:00",
          "2014-02-28T00:00:00",
          "2014-03-31T00:00:00",
          "2014-04-30T00:00:00",
          "2014-05-30T00:00:00",
          "2014-06-30T00:00:00",
          "2014-07-31T00:00:00",
          "2014-08-29T00:00:00",
          "2014-09-30T00:00:00",
          "2014-10-31T00:00:00",
          "2014-11-28T00:00:00",
          "2014-12-31T00:00:00",
          "2015-01-30T00:00:00",
          "2015-02-27T00:00:00",
          "2015-03-31T00:00:00",
          "2015-04-30T00:00:00",
          "2015-05-29T00:00:00",
          "2015-06-30T00:00:00",
          "2015-07-31T00:00:00",
          "2015-08-31T00:00:00",
          "2015-09-30T00:00:00",
          "2015-10-30T00:00:00",
          "2015-11-30T00:00:00",
          "2015-12-31T00:00:00",
          "2016-01-29T00:00:00",
          "2016-02-29T00:00:00",
          "2016-03-31T00:00:00",
          "2016-04-29T00:00:00",
          "2016-05-31T00:00:00",
          "2016-06-30T00:00:00",
          "2016-07-29T00:00:00",
          "2016-08-31T00:00:00",
          "2016-09-30T00:00:00",
          "2016-10-31T00:00:00",
          "2016-11-30T00:00:00",
          "2016-12-30T00:00:00",
          "2017-01-31T00:00:00",
          "2017-02-28T00:00:00",
          "2017-03-31T00:00:00",
          "2017-04-28T00:00:00",
          "2017-05-31T00:00:00",
          "2017-06-30T00:00:00",
          "2017-07-31T00:00:00",
          "2017-08-31T00:00:00",
          "2017-09-29T00:00:00",
          "2017-10-31T00:00:00",
          "2017-11-30T00:00:00",
          "2017-12-29T00:00:00",
          "2018-01-31T00:00:00",
          "2018-02-28T00:00:00",
          "2018-03-30T00:00:00",
          "2018-04-30T00:00:00",
          "2018-05-31T00:00:00",
          "2018-06-29T00:00:00",
          "2018-07-31T00:00:00",
          "2018-08-31T00:00:00",
          "2018-09-28T00:00:00",
          "2018-10-31T00:00:00",
          "2018-11-30T00:00:00",
          "2018-12-31T00:00:00",
          "2019-01-31T00:00:00",
          "2019-02-28T00:00:00",
          "2019-03-29T00:00:00",
          "2019-04-30T00:00:00",
          "2019-05-31T00:00:00",
          "2019-06-28T00:00:00",
          "2019-07-31T00:00:00",
          "2019-08-30T00:00:00",
          "2019-09-30T00:00:00",
          "2019-10-31T00:00:00",
          "2019-11-29T00:00:00",
          "2019-12-31T00:00:00",
          "2020-01-31T00:00:00",
          "2020-02-28T00:00:00",
          "2020-03-31T00:00:00",
          "2020-04-30T00:00:00",
          "2020-05-29T00:00:00",
          "2020-06-30T00:00:00",
          "2020-07-31T00:00:00",
          "2020-08-31T00:00:00",
          "2020-09-30T00:00:00",
          "2020-10-30T00:00:00",
          "2020-11-30T00:00:00",
          "2020-12-31T00:00:00",
          "2021-01-29T00:00:00",
          "2021-02-26T00:00:00",
          "2021-03-31T00:00:00",
          "2021-04-30T00:00:00",
          "2021-05-31T00:00:00",
          "2021-06-30T00:00:00",
          "2021-07-30T00:00:00",
          "2021-08-31T00:00:00",
          "2021-09-30T00:00:00",
          "2021-10-29T00:00:00",
          "2021-11-30T00:00:00",
          "2021-12-31T00:00:00",
          "2022-01-31T00:00:00",
          "2022-02-28T00:00:00",
          "2022-03-31T00:00:00",
          "2022-04-29T00:00:00",
          "2022-05-31T00:00:00",
          "2022-06-30T00:00:00",
          "2022-07-29T00:00:00",
          "2022-08-31T00:00:00",
          "2022-09-30T00:00:00"
         ],
         "xaxis": "x",
         "y": [
          0.41095,
          0.41095,
          0.44164,
          0.44164,
          0.44164,
          0.41095,
          0.41095,
          0.41095,
          0,
          0,
          0,
          0,
          0,
          0,
          0,
          0,
          0,
          0.26508,
          0.26508,
          0.26508,
          0.44164,
          0.44164,
          0.44164,
          0.44164,
          0.44164,
          0.44164,
          0.26508,
          0.26508,
          0.26508,
          0.26508,
          0.26508,
          0.26508,
          0.44164,
          0.44164,
          0.44164,
          0.41095,
          0.41095,
          0.41095,
          0.44164,
          0.44164,
          0.44164,
          0.41095,
          0.41095,
          0.41095,
          0.41095,
          0.41095,
          0.41095,
          0.41095,
          0.41095,
          0.41095,
          0.41095,
          0.41095,
          0.41095,
          0.41095,
          0.41095,
          0.41095,
          0.41095,
          0.41095,
          0.41095,
          0.41095,
          0.41095,
          0.41095,
          0.41095,
          0.41095,
          0.41095,
          0.41095,
          0.41095,
          0.41095,
          0.26508,
          0.26508,
          0.26508,
          0.41095,
          0.41095,
          0.41095,
          0.44164,
          0.44164,
          0.44164,
          0.26508,
          0.26508,
          0.26508,
          0.26508,
          0.26508,
          0.26508,
          0.26508,
          0.26508,
          0.26508,
          0.44164,
          0.44164,
          0.44164,
          0.44164,
          0.44164,
          0.44164,
          0.44164,
          0.44164,
          0.44164,
          0.44164,
          0.44164,
          0.44164,
          0.26508,
          0.26508,
          0.26508,
          0.44164,
          0.44164,
          0.44164,
          0.44164,
          0.44164,
          0.44164,
          0.44164,
          0.44164,
          0.44164,
          0.26508,
          0.26508,
          0.26508,
          0.26508,
          0.26508,
          0.26508,
          0.26508,
          0.26508,
          0.26508,
          0.26508,
          0.26508,
          0.26508,
          0.26508,
          0.26508,
          0.26508,
          0.26508,
          0.26508,
          0.26508,
          0.26508,
          0.26508,
          0.26508,
          0.26508,
          0.26508,
          0.26508,
          0.26508,
          0.26508,
          0.26508,
          0.26508,
          0.26508,
          0.26508,
          0.44164,
          0.44164,
          0.44164,
          0.41095,
          0.41095,
          0.41095,
          0,
          0,
          0,
          0.44164,
          0.44164,
          0.44164,
          0.44164,
          0.44164,
          0.44164,
          0.44164,
          0.44164,
          0.44164,
          0.44164,
          0.44164,
          0.44164,
          0.44164,
          0.44164,
          0.44164,
          0.44164,
          0.44164,
          0.44164,
          0.41095,
          0.41095,
          0.41095,
          0.41095,
          0.41095,
          0.41095,
          0
         ],
         "yaxis": "y"
        },
        {
         "hovertemplate": "variable=EHFI451 Index<br>Date=%{x}<br>value=%{y}<extra></extra>",
         "legendgroup": "EHFI451 Index",
         "line": {
          "color": "#00cc96",
          "dash": "solid"
         },
         "marker": {
          "symbol": "circle"
         },
         "mode": "lines",
         "name": "EHFI451 Index",
         "orientation": "v",
         "showlegend": true,
         "type": "scatter",
         "x": [
          "2008-04-30T00:00:00",
          "2008-05-30T00:00:00",
          "2008-06-30T00:00:00",
          "2008-07-31T00:00:00",
          "2008-08-29T00:00:00",
          "2008-09-30T00:00:00",
          "2008-10-31T00:00:00",
          "2008-11-28T00:00:00",
          "2008-12-31T00:00:00",
          "2009-01-30T00:00:00",
          "2009-02-27T00:00:00",
          "2009-03-31T00:00:00",
          "2009-04-30T00:00:00",
          "2009-05-29T00:00:00",
          "2009-06-30T00:00:00",
          "2009-07-31T00:00:00",
          "2009-08-31T00:00:00",
          "2009-09-30T00:00:00",
          "2009-10-30T00:00:00",
          "2009-11-30T00:00:00",
          "2009-12-31T00:00:00",
          "2010-01-29T00:00:00",
          "2010-02-26T00:00:00",
          "2010-03-31T00:00:00",
          "2010-04-30T00:00:00",
          "2010-05-31T00:00:00",
          "2010-06-30T00:00:00",
          "2010-07-30T00:00:00",
          "2010-08-31T00:00:00",
          "2010-09-30T00:00:00",
          "2010-10-29T00:00:00",
          "2010-11-30T00:00:00",
          "2010-12-31T00:00:00",
          "2011-01-31T00:00:00",
          "2011-02-28T00:00:00",
          "2011-03-31T00:00:00",
          "2011-04-29T00:00:00",
          "2011-05-31T00:00:00",
          "2011-06-30T00:00:00",
          "2011-07-29T00:00:00",
          "2011-08-31T00:00:00",
          "2011-09-30T00:00:00",
          "2011-10-31T00:00:00",
          "2011-11-30T00:00:00",
          "2011-12-30T00:00:00",
          "2012-01-31T00:00:00",
          "2012-02-29T00:00:00",
          "2012-03-30T00:00:00",
          "2012-04-30T00:00:00",
          "2012-05-31T00:00:00",
          "2012-06-29T00:00:00",
          "2012-07-31T00:00:00",
          "2012-08-31T00:00:00",
          "2012-09-28T00:00:00",
          "2012-10-31T00:00:00",
          "2012-11-30T00:00:00",
          "2012-12-31T00:00:00",
          "2013-01-31T00:00:00",
          "2013-02-28T00:00:00",
          "2013-03-29T00:00:00",
          "2013-04-30T00:00:00",
          "2013-05-31T00:00:00",
          "2013-06-28T00:00:00",
          "2013-07-31T00:00:00",
          "2013-08-30T00:00:00",
          "2013-09-30T00:00:00",
          "2013-10-31T00:00:00",
          "2013-11-29T00:00:00",
          "2013-12-31T00:00:00",
          "2014-01-31T00:00:00",
          "2014-02-28T00:00:00",
          "2014-03-31T00:00:00",
          "2014-04-30T00:00:00",
          "2014-05-30T00:00:00",
          "2014-06-30T00:00:00",
          "2014-07-31T00:00:00",
          "2014-08-29T00:00:00",
          "2014-09-30T00:00:00",
          "2014-10-31T00:00:00",
          "2014-11-28T00:00:00",
          "2014-12-31T00:00:00",
          "2015-01-30T00:00:00",
          "2015-02-27T00:00:00",
          "2015-03-31T00:00:00",
          "2015-04-30T00:00:00",
          "2015-05-29T00:00:00",
          "2015-06-30T00:00:00",
          "2015-07-31T00:00:00",
          "2015-08-31T00:00:00",
          "2015-09-30T00:00:00",
          "2015-10-30T00:00:00",
          "2015-11-30T00:00:00",
          "2015-12-31T00:00:00",
          "2016-01-29T00:00:00",
          "2016-02-29T00:00:00",
          "2016-03-31T00:00:00",
          "2016-04-29T00:00:00",
          "2016-05-31T00:00:00",
          "2016-06-30T00:00:00",
          "2016-07-29T00:00:00",
          "2016-08-31T00:00:00",
          "2016-09-30T00:00:00",
          "2016-10-31T00:00:00",
          "2016-11-30T00:00:00",
          "2016-12-30T00:00:00",
          "2017-01-31T00:00:00",
          "2017-02-28T00:00:00",
          "2017-03-31T00:00:00",
          "2017-04-28T00:00:00",
          "2017-05-31T00:00:00",
          "2017-06-30T00:00:00",
          "2017-07-31T00:00:00",
          "2017-08-31T00:00:00",
          "2017-09-29T00:00:00",
          "2017-10-31T00:00:00",
          "2017-11-30T00:00:00",
          "2017-12-29T00:00:00",
          "2018-01-31T00:00:00",
          "2018-02-28T00:00:00",
          "2018-03-30T00:00:00",
          "2018-04-30T00:00:00",
          "2018-05-31T00:00:00",
          "2018-06-29T00:00:00",
          "2018-07-31T00:00:00",
          "2018-08-31T00:00:00",
          "2018-09-28T00:00:00",
          "2018-10-31T00:00:00",
          "2018-11-30T00:00:00",
          "2018-12-31T00:00:00",
          "2019-01-31T00:00:00",
          "2019-02-28T00:00:00",
          "2019-03-29T00:00:00",
          "2019-04-30T00:00:00",
          "2019-05-31T00:00:00",
          "2019-06-28T00:00:00",
          "2019-07-31T00:00:00",
          "2019-08-30T00:00:00",
          "2019-09-30T00:00:00",
          "2019-10-31T00:00:00",
          "2019-11-29T00:00:00",
          "2019-12-31T00:00:00",
          "2020-01-31T00:00:00",
          "2020-02-28T00:00:00",
          "2020-03-31T00:00:00",
          "2020-04-30T00:00:00",
          "2020-05-29T00:00:00",
          "2020-06-30T00:00:00",
          "2020-07-31T00:00:00",
          "2020-08-31T00:00:00",
          "2020-09-30T00:00:00",
          "2020-10-30T00:00:00",
          "2020-11-30T00:00:00",
          "2020-12-31T00:00:00",
          "2021-01-29T00:00:00",
          "2021-02-26T00:00:00",
          "2021-03-31T00:00:00",
          "2021-04-30T00:00:00",
          "2021-05-31T00:00:00",
          "2021-06-30T00:00:00",
          "2021-07-30T00:00:00",
          "2021-08-31T00:00:00",
          "2021-09-30T00:00:00",
          "2021-10-29T00:00:00",
          "2021-11-30T00:00:00",
          "2021-12-31T00:00:00",
          "2022-01-31T00:00:00",
          "2022-02-28T00:00:00",
          "2022-03-31T00:00:00",
          "2022-04-29T00:00:00",
          "2022-05-31T00:00:00",
          "2022-06-30T00:00:00",
          "2022-07-29T00:00:00",
          "2022-08-31T00:00:00",
          "2022-09-30T00:00:00"
         ],
         "xaxis": "x",
         "y": [
          0.40199,
          0.40199,
          0,
          0,
          0,
          0.40199,
          0.40199,
          0.40199,
          0.44985,
          0.44985,
          0.44985,
          0.44985,
          0.44985,
          0.44985,
          0.44985,
          0.44985,
          0.44985,
          0,
          0,
          0,
          0,
          0,
          0,
          0,
          0,
          0,
          0,
          0,
          0,
          0,
          0,
          0,
          0,
          0,
          0,
          0.40199,
          0.40199,
          0.40199,
          0,
          0,
          0,
          0.40199,
          0.40199,
          0.40199,
          0.40199,
          0.40199,
          0.40199,
          0.40199,
          0.40199,
          0.40199,
          0.40199,
          0.40199,
          0.40199,
          0.40199,
          0.40199,
          0.40199,
          0.40199,
          0.40199,
          0.40199,
          0.40199,
          0.40199,
          0.40199,
          0.40199,
          0.40199,
          0.40199,
          0.40199,
          0.40199,
          0.40199,
          0,
          0,
          0,
          0.40199,
          0.40199,
          0.40199,
          0,
          0,
          0,
          0,
          0,
          0,
          0,
          0,
          0,
          0,
          0,
          0,
          0,
          0,
          0,
          0,
          0,
          0,
          0,
          0,
          0,
          0,
          0,
          0,
          0,
          0,
          0,
          0,
          0,
          0,
          0,
          0,
          0,
          0,
          0,
          0,
          0,
          0,
          0,
          0,
          0,
          0,
          0,
          0,
          0,
          0,
          0,
          0,
          0,
          0,
          0,
          0,
          0,
          0,
          0,
          0,
          0,
          0,
          0,
          0,
          0,
          0,
          0,
          0,
          0,
          0,
          0,
          0,
          0,
          0.40199,
          0.40199,
          0.40199,
          0.44985,
          0.44985,
          0.44985,
          0,
          0,
          0,
          0,
          0,
          0,
          0,
          0,
          0,
          0,
          0,
          0,
          0,
          0,
          0,
          0,
          0,
          0,
          0.40199,
          0.40199,
          0.40199,
          0.40199,
          0.40199,
          0.40199,
          0.44985
         ],
         "yaxis": "y"
        },
        {
         "hovertemplate": "variable=EHFI453 Index<br>Date=%{x}<br>value=%{y}<extra></extra>",
         "legendgroup": "EHFI453 Index",
         "line": {
          "color": "#ab63fa",
          "dash": "solid"
         },
         "marker": {
          "symbol": "circle"
         },
         "mode": "lines",
         "name": "EHFI453 Index",
         "orientation": "v",
         "showlegend": true,
         "type": "scatter",
         "x": [
          "2008-04-30T00:00:00",
          "2008-05-30T00:00:00",
          "2008-06-30T00:00:00",
          "2008-07-31T00:00:00",
          "2008-08-29T00:00:00",
          "2008-09-30T00:00:00",
          "2008-10-31T00:00:00",
          "2008-11-28T00:00:00",
          "2008-12-31T00:00:00",
          "2009-01-30T00:00:00",
          "2009-02-27T00:00:00",
          "2009-03-31T00:00:00",
          "2009-04-30T00:00:00",
          "2009-05-29T00:00:00",
          "2009-06-30T00:00:00",
          "2009-07-31T00:00:00",
          "2009-08-31T00:00:00",
          "2009-09-30T00:00:00",
          "2009-10-30T00:00:00",
          "2009-11-30T00:00:00",
          "2009-12-31T00:00:00",
          "2010-01-29T00:00:00",
          "2010-02-26T00:00:00",
          "2010-03-31T00:00:00",
          "2010-04-30T00:00:00",
          "2010-05-31T00:00:00",
          "2010-06-30T00:00:00",
          "2010-07-30T00:00:00",
          "2010-08-31T00:00:00",
          "2010-09-30T00:00:00",
          "2010-10-29T00:00:00",
          "2010-11-30T00:00:00",
          "2010-12-31T00:00:00",
          "2011-01-31T00:00:00",
          "2011-02-28T00:00:00",
          "2011-03-31T00:00:00",
          "2011-04-29T00:00:00",
          "2011-05-31T00:00:00",
          "2011-06-30T00:00:00",
          "2011-07-29T00:00:00",
          "2011-08-31T00:00:00",
          "2011-09-30T00:00:00",
          "2011-10-31T00:00:00",
          "2011-11-30T00:00:00",
          "2011-12-30T00:00:00",
          "2012-01-31T00:00:00",
          "2012-02-29T00:00:00",
          "2012-03-30T00:00:00",
          "2012-04-30T00:00:00",
          "2012-05-31T00:00:00",
          "2012-06-29T00:00:00",
          "2012-07-31T00:00:00",
          "2012-08-31T00:00:00",
          "2012-09-28T00:00:00",
          "2012-10-31T00:00:00",
          "2012-11-30T00:00:00",
          "2012-12-31T00:00:00",
          "2013-01-31T00:00:00",
          "2013-02-28T00:00:00",
          "2013-03-29T00:00:00",
          "2013-04-30T00:00:00",
          "2013-05-31T00:00:00",
          "2013-06-28T00:00:00",
          "2013-07-31T00:00:00",
          "2013-08-30T00:00:00",
          "2013-09-30T00:00:00",
          "2013-10-31T00:00:00",
          "2013-11-29T00:00:00",
          "2013-12-31T00:00:00",
          "2014-01-31T00:00:00",
          "2014-02-28T00:00:00",
          "2014-03-31T00:00:00",
          "2014-04-30T00:00:00",
          "2014-05-30T00:00:00",
          "2014-06-30T00:00:00",
          "2014-07-31T00:00:00",
          "2014-08-29T00:00:00",
          "2014-09-30T00:00:00",
          "2014-10-31T00:00:00",
          "2014-11-28T00:00:00",
          "2014-12-31T00:00:00",
          "2015-01-30T00:00:00",
          "2015-02-27T00:00:00",
          "2015-03-31T00:00:00",
          "2015-04-30T00:00:00",
          "2015-05-29T00:00:00",
          "2015-06-30T00:00:00",
          "2015-07-31T00:00:00",
          "2015-08-31T00:00:00",
          "2015-09-30T00:00:00",
          "2015-10-30T00:00:00",
          "2015-11-30T00:00:00",
          "2015-12-31T00:00:00",
          "2016-01-29T00:00:00",
          "2016-02-29T00:00:00",
          "2016-03-31T00:00:00",
          "2016-04-29T00:00:00",
          "2016-05-31T00:00:00",
          "2016-06-30T00:00:00",
          "2016-07-29T00:00:00",
          "2016-08-31T00:00:00",
          "2016-09-30T00:00:00",
          "2016-10-31T00:00:00",
          "2016-11-30T00:00:00",
          "2016-12-30T00:00:00",
          "2017-01-31T00:00:00",
          "2017-02-28T00:00:00",
          "2017-03-31T00:00:00",
          "2017-04-28T00:00:00",
          "2017-05-31T00:00:00",
          "2017-06-30T00:00:00",
          "2017-07-31T00:00:00",
          "2017-08-31T00:00:00",
          "2017-09-29T00:00:00",
          "2017-10-31T00:00:00",
          "2017-11-30T00:00:00",
          "2017-12-29T00:00:00",
          "2018-01-31T00:00:00",
          "2018-02-28T00:00:00",
          "2018-03-30T00:00:00",
          "2018-04-30T00:00:00",
          "2018-05-31T00:00:00",
          "2018-06-29T00:00:00",
          "2018-07-31T00:00:00",
          "2018-08-31T00:00:00",
          "2018-09-28T00:00:00",
          "2018-10-31T00:00:00",
          "2018-11-30T00:00:00",
          "2018-12-31T00:00:00",
          "2019-01-31T00:00:00",
          "2019-02-28T00:00:00",
          "2019-03-29T00:00:00",
          "2019-04-30T00:00:00",
          "2019-05-31T00:00:00",
          "2019-06-28T00:00:00",
          "2019-07-31T00:00:00",
          "2019-08-30T00:00:00",
          "2019-09-30T00:00:00",
          "2019-10-31T00:00:00",
          "2019-11-29T00:00:00",
          "2019-12-31T00:00:00",
          "2020-01-31T00:00:00",
          "2020-02-28T00:00:00",
          "2020-03-31T00:00:00",
          "2020-04-30T00:00:00",
          "2020-05-29T00:00:00",
          "2020-06-30T00:00:00",
          "2020-07-31T00:00:00",
          "2020-08-31T00:00:00",
          "2020-09-30T00:00:00",
          "2020-10-30T00:00:00",
          "2020-11-30T00:00:00",
          "2020-12-31T00:00:00",
          "2021-01-29T00:00:00",
          "2021-02-26T00:00:00",
          "2021-03-31T00:00:00",
          "2021-04-30T00:00:00",
          "2021-05-31T00:00:00",
          "2021-06-30T00:00:00",
          "2021-07-30T00:00:00",
          "2021-08-31T00:00:00",
          "2021-09-30T00:00:00",
          "2021-10-29T00:00:00",
          "2021-11-30T00:00:00",
          "2021-12-31T00:00:00",
          "2022-01-31T00:00:00",
          "2022-02-28T00:00:00",
          "2022-03-31T00:00:00",
          "2022-04-29T00:00:00",
          "2022-05-31T00:00:00",
          "2022-06-30T00:00:00",
          "2022-07-29T00:00:00",
          "2022-08-31T00:00:00",
          "2022-09-30T00:00:00"
         ],
         "xaxis": "x",
         "y": [
          0,
          0,
          0,
          0,
          0,
          0,
          0,
          0,
          0,
          0,
          0,
          0,
          0,
          0,
          0,
          0,
          0,
          0,
          0,
          0,
          0,
          0,
          0,
          0,
          0,
          0,
          0,
          0,
          0,
          0,
          0,
          0,
          0,
          0,
          0,
          0,
          0,
          0,
          0,
          0,
          0,
          0,
          0,
          0,
          0,
          0,
          0,
          0,
          0,
          0,
          0,
          0,
          0,
          0,
          0,
          0,
          0,
          0,
          0,
          0,
          0,
          0,
          0,
          0,
          0,
          0,
          0,
          0,
          0,
          0,
          0,
          0,
          0,
          0,
          0,
          0,
          0,
          0,
          0,
          0,
          0,
          0,
          0,
          0,
          0,
          0,
          0,
          0,
          0,
          0,
          0,
          0,
          0,
          0,
          0,
          0,
          0,
          0,
          0,
          0,
          0,
          0,
          0,
          0,
          0,
          0,
          0,
          0,
          0,
          0,
          0,
          0,
          0,
          0,
          0,
          0,
          0,
          0,
          0,
          0,
          0,
          0,
          0,
          0,
          0,
          0,
          0,
          0,
          0,
          0,
          0,
          0,
          0,
          0,
          0,
          0,
          0,
          0,
          0,
          0,
          0,
          0,
          0,
          0,
          0,
          0,
          0,
          0,
          0,
          0,
          0,
          0,
          0,
          0,
          0,
          0,
          0,
          0,
          0,
          0,
          0,
          0,
          0,
          0,
          0,
          0,
          0,
          0,
          0,
          0,
          0,
          0,
          0,
          0
         ],
         "yaxis": "y"
        },
        {
         "hovertemplate": "variable=XAU Curncy<br>Date=%{x}<br>value=%{y}<extra></extra>",
         "legendgroup": "XAU Curncy",
         "line": {
          "color": "#FFA15A",
          "dash": "solid"
         },
         "marker": {
          "symbol": "circle"
         },
         "mode": "lines",
         "name": "XAU Curncy",
         "orientation": "v",
         "showlegend": true,
         "type": "scatter",
         "x": [
          "2008-04-30T00:00:00",
          "2008-05-30T00:00:00",
          "2008-06-30T00:00:00",
          "2008-07-31T00:00:00",
          "2008-08-29T00:00:00",
          "2008-09-30T00:00:00",
          "2008-10-31T00:00:00",
          "2008-11-28T00:00:00",
          "2008-12-31T00:00:00",
          "2009-01-30T00:00:00",
          "2009-02-27T00:00:00",
          "2009-03-31T00:00:00",
          "2009-04-30T00:00:00",
          "2009-05-29T00:00:00",
          "2009-06-30T00:00:00",
          "2009-07-31T00:00:00",
          "2009-08-31T00:00:00",
          "2009-09-30T00:00:00",
          "2009-10-30T00:00:00",
          "2009-11-30T00:00:00",
          "2009-12-31T00:00:00",
          "2010-01-29T00:00:00",
          "2010-02-26T00:00:00",
          "2010-03-31T00:00:00",
          "2010-04-30T00:00:00",
          "2010-05-31T00:00:00",
          "2010-06-30T00:00:00",
          "2010-07-30T00:00:00",
          "2010-08-31T00:00:00",
          "2010-09-30T00:00:00",
          "2010-10-29T00:00:00",
          "2010-11-30T00:00:00",
          "2010-12-31T00:00:00",
          "2011-01-31T00:00:00",
          "2011-02-28T00:00:00",
          "2011-03-31T00:00:00",
          "2011-04-29T00:00:00",
          "2011-05-31T00:00:00",
          "2011-06-30T00:00:00",
          "2011-07-29T00:00:00",
          "2011-08-31T00:00:00",
          "2011-09-30T00:00:00",
          "2011-10-31T00:00:00",
          "2011-11-30T00:00:00",
          "2011-12-30T00:00:00",
          "2012-01-31T00:00:00",
          "2012-02-29T00:00:00",
          "2012-03-30T00:00:00",
          "2012-04-30T00:00:00",
          "2012-05-31T00:00:00",
          "2012-06-29T00:00:00",
          "2012-07-31T00:00:00",
          "2012-08-31T00:00:00",
          "2012-09-28T00:00:00",
          "2012-10-31T00:00:00",
          "2012-11-30T00:00:00",
          "2012-12-31T00:00:00",
          "2013-01-31T00:00:00",
          "2013-02-28T00:00:00",
          "2013-03-29T00:00:00",
          "2013-04-30T00:00:00",
          "2013-05-31T00:00:00",
          "2013-06-28T00:00:00",
          "2013-07-31T00:00:00",
          "2013-08-30T00:00:00",
          "2013-09-30T00:00:00",
          "2013-10-31T00:00:00",
          "2013-11-29T00:00:00",
          "2013-12-31T00:00:00",
          "2014-01-31T00:00:00",
          "2014-02-28T00:00:00",
          "2014-03-31T00:00:00",
          "2014-04-30T00:00:00",
          "2014-05-30T00:00:00",
          "2014-06-30T00:00:00",
          "2014-07-31T00:00:00",
          "2014-08-29T00:00:00",
          "2014-09-30T00:00:00",
          "2014-10-31T00:00:00",
          "2014-11-28T00:00:00",
          "2014-12-31T00:00:00",
          "2015-01-30T00:00:00",
          "2015-02-27T00:00:00",
          "2015-03-31T00:00:00",
          "2015-04-30T00:00:00",
          "2015-05-29T00:00:00",
          "2015-06-30T00:00:00",
          "2015-07-31T00:00:00",
          "2015-08-31T00:00:00",
          "2015-09-30T00:00:00",
          "2015-10-30T00:00:00",
          "2015-11-30T00:00:00",
          "2015-12-31T00:00:00",
          "2016-01-29T00:00:00",
          "2016-02-29T00:00:00",
          "2016-03-31T00:00:00",
          "2016-04-29T00:00:00",
          "2016-05-31T00:00:00",
          "2016-06-30T00:00:00",
          "2016-07-29T00:00:00",
          "2016-08-31T00:00:00",
          "2016-09-30T00:00:00",
          "2016-10-31T00:00:00",
          "2016-11-30T00:00:00",
          "2016-12-30T00:00:00",
          "2017-01-31T00:00:00",
          "2017-02-28T00:00:00",
          "2017-03-31T00:00:00",
          "2017-04-28T00:00:00",
          "2017-05-31T00:00:00",
          "2017-06-30T00:00:00",
          "2017-07-31T00:00:00",
          "2017-08-31T00:00:00",
          "2017-09-29T00:00:00",
          "2017-10-31T00:00:00",
          "2017-11-30T00:00:00",
          "2017-12-29T00:00:00",
          "2018-01-31T00:00:00",
          "2018-02-28T00:00:00",
          "2018-03-30T00:00:00",
          "2018-04-30T00:00:00",
          "2018-05-31T00:00:00",
          "2018-06-29T00:00:00",
          "2018-07-31T00:00:00",
          "2018-08-31T00:00:00",
          "2018-09-28T00:00:00",
          "2018-10-31T00:00:00",
          "2018-11-30T00:00:00",
          "2018-12-31T00:00:00",
          "2019-01-31T00:00:00",
          "2019-02-28T00:00:00",
          "2019-03-29T00:00:00",
          "2019-04-30T00:00:00",
          "2019-05-31T00:00:00",
          "2019-06-28T00:00:00",
          "2019-07-31T00:00:00",
          "2019-08-30T00:00:00",
          "2019-09-30T00:00:00",
          "2019-10-31T00:00:00",
          "2019-11-29T00:00:00",
          "2019-12-31T00:00:00",
          "2020-01-31T00:00:00",
          "2020-02-28T00:00:00",
          "2020-03-31T00:00:00",
          "2020-04-30T00:00:00",
          "2020-05-29T00:00:00",
          "2020-06-30T00:00:00",
          "2020-07-31T00:00:00",
          "2020-08-31T00:00:00",
          "2020-09-30T00:00:00",
          "2020-10-30T00:00:00",
          "2020-11-30T00:00:00",
          "2020-12-31T00:00:00",
          "2021-01-29T00:00:00",
          "2021-02-26T00:00:00",
          "2021-03-31T00:00:00",
          "2021-04-30T00:00:00",
          "2021-05-31T00:00:00",
          "2021-06-30T00:00:00",
          "2021-07-30T00:00:00",
          "2021-08-31T00:00:00",
          "2021-09-30T00:00:00",
          "2021-10-29T00:00:00",
          "2021-11-30T00:00:00",
          "2021-12-31T00:00:00",
          "2022-01-31T00:00:00",
          "2022-02-28T00:00:00",
          "2022-03-31T00:00:00",
          "2022-04-29T00:00:00",
          "2022-05-31T00:00:00",
          "2022-06-30T00:00:00",
          "2022-07-29T00:00:00",
          "2022-08-31T00:00:00",
          "2022-09-30T00:00:00"
         ],
         "xaxis": "x",
         "y": [
          0,
          0,
          0.28097,
          0.28097,
          0.28097,
          0,
          0,
          0,
          0.34042,
          0.34042,
          0.34042,
          0.34042,
          0.34042,
          0.34042,
          0.34042,
          0.34042,
          0.34042,
          0.33782,
          0.33782,
          0.33782,
          0.28097,
          0.28097,
          0.28097,
          0.28097,
          0.28097,
          0.28097,
          0.33782,
          0.33782,
          0.33782,
          0.33782,
          0.33782,
          0.33782,
          0.28097,
          0.28097,
          0.28097,
          0,
          0,
          0,
          0.28097,
          0.28097,
          0.28097,
          0,
          0,
          0,
          0,
          0,
          0,
          0,
          0,
          0,
          0,
          0,
          0,
          0,
          0,
          0,
          0,
          0,
          0,
          0,
          0,
          0,
          0,
          0,
          0,
          0,
          0,
          0,
          0.33782,
          0.33782,
          0.33782,
          0,
          0,
          0,
          0.28097,
          0.28097,
          0.28097,
          0.33782,
          0.33782,
          0.33782,
          0.33782,
          0.33782,
          0.33782,
          0.33782,
          0.33782,
          0.33782,
          0.28097,
          0.28097,
          0.28097,
          0.28097,
          0.28097,
          0.28097,
          0.28097,
          0.28097,
          0.28097,
          0.28097,
          0.28097,
          0.28097,
          0.33782,
          0.33782,
          0.33782,
          0.28097,
          0.28097,
          0.28097,
          0.28097,
          0.28097,
          0.28097,
          0.28097,
          0.28097,
          0.28097,
          0.33782,
          0.33782,
          0.33782,
          0.33782,
          0.33782,
          0.33782,
          0.33782,
          0.33782,
          0.33782,
          0.33782,
          0.33782,
          0.33782,
          0.33782,
          0.33782,
          0.33782,
          0.33782,
          0.33782,
          0.33782,
          0.33782,
          0.33782,
          0.33782,
          0.33782,
          0.33782,
          0.33782,
          0.33782,
          0.33782,
          0.33782,
          0.33782,
          0.33782,
          0.33782,
          0.28097,
          0.28097,
          0.28097,
          0,
          0,
          0,
          0.34042,
          0.34042,
          0.34042,
          0.28097,
          0.28097,
          0.28097,
          0.28097,
          0.28097,
          0.28097,
          0.28097,
          0.28097,
          0.28097,
          0.28097,
          0.28097,
          0.28097,
          0.28097,
          0.28097,
          0.28097,
          0.28097,
          0.28097,
          0.28097,
          0,
          0,
          0,
          0,
          0,
          0,
          0.34042
         ],
         "yaxis": "y"
        }
       ],
       "layout": {
        "legend": {
         "title": {
          "text": "variable"
         },
         "tracegroupgap": 0
        },
        "margin": {
         "t": 60
        },
        "template": {
         "data": {
          "bar": [
           {
            "error_x": {
             "color": "#2a3f5f"
            },
            "error_y": {
             "color": "#2a3f5f"
            },
            "marker": {
             "line": {
              "color": "#E5ECF6",
              "width": 0.5
             },
             "pattern": {
              "fillmode": "overlay",
              "size": 10,
              "solidity": 0.2
             }
            },
            "type": "bar"
           }
          ],
          "barpolar": [
           {
            "marker": {
             "line": {
              "color": "#E5ECF6",
              "width": 0.5
             },
             "pattern": {
              "fillmode": "overlay",
              "size": 10,
              "solidity": 0.2
             }
            },
            "type": "barpolar"
           }
          ],
          "carpet": [
           {
            "aaxis": {
             "endlinecolor": "#2a3f5f",
             "gridcolor": "white",
             "linecolor": "white",
             "minorgridcolor": "white",
             "startlinecolor": "#2a3f5f"
            },
            "baxis": {
             "endlinecolor": "#2a3f5f",
             "gridcolor": "white",
             "linecolor": "white",
             "minorgridcolor": "white",
             "startlinecolor": "#2a3f5f"
            },
            "type": "carpet"
           }
          ],
          "choropleth": [
           {
            "colorbar": {
             "outlinewidth": 0,
             "ticks": ""
            },
            "type": "choropleth"
           }
          ],
          "contour": [
           {
            "colorbar": {
             "outlinewidth": 0,
             "ticks": ""
            },
            "colorscale": [
             [
              0,
              "#0d0887"
             ],
             [
              0.1111111111111111,
              "#46039f"
             ],
             [
              0.2222222222222222,
              "#7201a8"
             ],
             [
              0.3333333333333333,
              "#9c179e"
             ],
             [
              0.4444444444444444,
              "#bd3786"
             ],
             [
              0.5555555555555556,
              "#d8576b"
             ],
             [
              0.6666666666666666,
              "#ed7953"
             ],
             [
              0.7777777777777778,
              "#fb9f3a"
             ],
             [
              0.8888888888888888,
              "#fdca26"
             ],
             [
              1,
              "#f0f921"
             ]
            ],
            "type": "contour"
           }
          ],
          "contourcarpet": [
           {
            "colorbar": {
             "outlinewidth": 0,
             "ticks": ""
            },
            "type": "contourcarpet"
           }
          ],
          "heatmap": [
           {
            "colorbar": {
             "outlinewidth": 0,
             "ticks": ""
            },
            "colorscale": [
             [
              0,
              "#0d0887"
             ],
             [
              0.1111111111111111,
              "#46039f"
             ],
             [
              0.2222222222222222,
              "#7201a8"
             ],
             [
              0.3333333333333333,
              "#9c179e"
             ],
             [
              0.4444444444444444,
              "#bd3786"
             ],
             [
              0.5555555555555556,
              "#d8576b"
             ],
             [
              0.6666666666666666,
              "#ed7953"
             ],
             [
              0.7777777777777778,
              "#fb9f3a"
             ],
             [
              0.8888888888888888,
              "#fdca26"
             ],
             [
              1,
              "#f0f921"
             ]
            ],
            "type": "heatmap"
           }
          ],
          "heatmapgl": [
           {
            "colorbar": {
             "outlinewidth": 0,
             "ticks": ""
            },
            "colorscale": [
             [
              0,
              "#0d0887"
             ],
             [
              0.1111111111111111,
              "#46039f"
             ],
             [
              0.2222222222222222,
              "#7201a8"
             ],
             [
              0.3333333333333333,
              "#9c179e"
             ],
             [
              0.4444444444444444,
              "#bd3786"
             ],
             [
              0.5555555555555556,
              "#d8576b"
             ],
             [
              0.6666666666666666,
              "#ed7953"
             ],
             [
              0.7777777777777778,
              "#fb9f3a"
             ],
             [
              0.8888888888888888,
              "#fdca26"
             ],
             [
              1,
              "#f0f921"
             ]
            ],
            "type": "heatmapgl"
           }
          ],
          "histogram": [
           {
            "marker": {
             "pattern": {
              "fillmode": "overlay",
              "size": 10,
              "solidity": 0.2
             }
            },
            "type": "histogram"
           }
          ],
          "histogram2d": [
           {
            "colorbar": {
             "outlinewidth": 0,
             "ticks": ""
            },
            "colorscale": [
             [
              0,
              "#0d0887"
             ],
             [
              0.1111111111111111,
              "#46039f"
             ],
             [
              0.2222222222222222,
              "#7201a8"
             ],
             [
              0.3333333333333333,
              "#9c179e"
             ],
             [
              0.4444444444444444,
              "#bd3786"
             ],
             [
              0.5555555555555556,
              "#d8576b"
             ],
             [
              0.6666666666666666,
              "#ed7953"
             ],
             [
              0.7777777777777778,
              "#fb9f3a"
             ],
             [
              0.8888888888888888,
              "#fdca26"
             ],
             [
              1,
              "#f0f921"
             ]
            ],
            "type": "histogram2d"
           }
          ],
          "histogram2dcontour": [
           {
            "colorbar": {
             "outlinewidth": 0,
             "ticks": ""
            },
            "colorscale": [
             [
              0,
              "#0d0887"
             ],
             [
              0.1111111111111111,
              "#46039f"
             ],
             [
              0.2222222222222222,
              "#7201a8"
             ],
             [
              0.3333333333333333,
              "#9c179e"
             ],
             [
              0.4444444444444444,
              "#bd3786"
             ],
             [
              0.5555555555555556,
              "#d8576b"
             ],
             [
              0.6666666666666666,
              "#ed7953"
             ],
             [
              0.7777777777777778,
              "#fb9f3a"
             ],
             [
              0.8888888888888888,
              "#fdca26"
             ],
             [
              1,
              "#f0f921"
             ]
            ],
            "type": "histogram2dcontour"
           }
          ],
          "mesh3d": [
           {
            "colorbar": {
             "outlinewidth": 0,
             "ticks": ""
            },
            "type": "mesh3d"
           }
          ],
          "parcoords": [
           {
            "line": {
             "colorbar": {
              "outlinewidth": 0,
              "ticks": ""
             }
            },
            "type": "parcoords"
           }
          ],
          "pie": [
           {
            "automargin": true,
            "type": "pie"
           }
          ],
          "scatter": [
           {
            "fillpattern": {
             "fillmode": "overlay",
             "size": 10,
             "solidity": 0.2
            },
            "type": "scatter"
           }
          ],
          "scatter3d": [
           {
            "line": {
             "colorbar": {
              "outlinewidth": 0,
              "ticks": ""
             }
            },
            "marker": {
             "colorbar": {
              "outlinewidth": 0,
              "ticks": ""
             }
            },
            "type": "scatter3d"
           }
          ],
          "scattercarpet": [
           {
            "marker": {
             "colorbar": {
              "outlinewidth": 0,
              "ticks": ""
             }
            },
            "type": "scattercarpet"
           }
          ],
          "scattergeo": [
           {
            "marker": {
             "colorbar": {
              "outlinewidth": 0,
              "ticks": ""
             }
            },
            "type": "scattergeo"
           }
          ],
          "scattergl": [
           {
            "marker": {
             "colorbar": {
              "outlinewidth": 0,
              "ticks": ""
             }
            },
            "type": "scattergl"
           }
          ],
          "scattermapbox": [
           {
            "marker": {
             "colorbar": {
              "outlinewidth": 0,
              "ticks": ""
             }
            },
            "type": "scattermapbox"
           }
          ],
          "scatterpolar": [
           {
            "marker": {
             "colorbar": {
              "outlinewidth": 0,
              "ticks": ""
             }
            },
            "type": "scatterpolar"
           }
          ],
          "scatterpolargl": [
           {
            "marker": {
             "colorbar": {
              "outlinewidth": 0,
              "ticks": ""
             }
            },
            "type": "scatterpolargl"
           }
          ],
          "scatterternary": [
           {
            "marker": {
             "colorbar": {
              "outlinewidth": 0,
              "ticks": ""
             }
            },
            "type": "scatterternary"
           }
          ],
          "surface": [
           {
            "colorbar": {
             "outlinewidth": 0,
             "ticks": ""
            },
            "colorscale": [
             [
              0,
              "#0d0887"
             ],
             [
              0.1111111111111111,
              "#46039f"
             ],
             [
              0.2222222222222222,
              "#7201a8"
             ],
             [
              0.3333333333333333,
              "#9c179e"
             ],
             [
              0.4444444444444444,
              "#bd3786"
             ],
             [
              0.5555555555555556,
              "#d8576b"
             ],
             [
              0.6666666666666666,
              "#ed7953"
             ],
             [
              0.7777777777777778,
              "#fb9f3a"
             ],
             [
              0.8888888888888888,
              "#fdca26"
             ],
             [
              1,
              "#f0f921"
             ]
            ],
            "type": "surface"
           }
          ],
          "table": [
           {
            "cells": {
             "fill": {
              "color": "#EBF0F8"
             },
             "line": {
              "color": "white"
             }
            },
            "header": {
             "fill": {
              "color": "#C8D4E3"
             },
             "line": {
              "color": "white"
             }
            },
            "type": "table"
           }
          ]
         },
         "layout": {
          "annotationdefaults": {
           "arrowcolor": "#2a3f5f",
           "arrowhead": 0,
           "arrowwidth": 1
          },
          "autotypenumbers": "strict",
          "coloraxis": {
           "colorbar": {
            "outlinewidth": 0,
            "ticks": ""
           }
          },
          "colorscale": {
           "diverging": [
            [
             0,
             "#8e0152"
            ],
            [
             0.1,
             "#c51b7d"
            ],
            [
             0.2,
             "#de77ae"
            ],
            [
             0.3,
             "#f1b6da"
            ],
            [
             0.4,
             "#fde0ef"
            ],
            [
             0.5,
             "#f7f7f7"
            ],
            [
             0.6,
             "#e6f5d0"
            ],
            [
             0.7,
             "#b8e186"
            ],
            [
             0.8,
             "#7fbc41"
            ],
            [
             0.9,
             "#4d9221"
            ],
            [
             1,
             "#276419"
            ]
           ],
           "sequential": [
            [
             0,
             "#0d0887"
            ],
            [
             0.1111111111111111,
             "#46039f"
            ],
            [
             0.2222222222222222,
             "#7201a8"
            ],
            [
             0.3333333333333333,
             "#9c179e"
            ],
            [
             0.4444444444444444,
             "#bd3786"
            ],
            [
             0.5555555555555556,
             "#d8576b"
            ],
            [
             0.6666666666666666,
             "#ed7953"
            ],
            [
             0.7777777777777778,
             "#fb9f3a"
            ],
            [
             0.8888888888888888,
             "#fdca26"
            ],
            [
             1,
             "#f0f921"
            ]
           ],
           "sequentialminus": [
            [
             0,
             "#0d0887"
            ],
            [
             0.1111111111111111,
             "#46039f"
            ],
            [
             0.2222222222222222,
             "#7201a8"
            ],
            [
             0.3333333333333333,
             "#9c179e"
            ],
            [
             0.4444444444444444,
             "#bd3786"
            ],
            [
             0.5555555555555556,
             "#d8576b"
            ],
            [
             0.6666666666666666,
             "#ed7953"
            ],
            [
             0.7777777777777778,
             "#fb9f3a"
            ],
            [
             0.8888888888888888,
             "#fdca26"
            ],
            [
             1,
             "#f0f921"
            ]
           ]
          },
          "colorway": [
           "#636efa",
           "#EF553B",
           "#00cc96",
           "#ab63fa",
           "#FFA15A",
           "#19d3f3",
           "#FF6692",
           "#B6E880",
           "#FF97FF",
           "#FECB52"
          ],
          "font": {
           "color": "#2a3f5f"
          },
          "geo": {
           "bgcolor": "white",
           "lakecolor": "white",
           "landcolor": "#E5ECF6",
           "showlakes": true,
           "showland": true,
           "subunitcolor": "white"
          },
          "hoverlabel": {
           "align": "left"
          },
          "hovermode": "closest",
          "mapbox": {
           "style": "light"
          },
          "paper_bgcolor": "white",
          "plot_bgcolor": "#E5ECF6",
          "polar": {
           "angularaxis": {
            "gridcolor": "white",
            "linecolor": "white",
            "ticks": ""
           },
           "bgcolor": "#E5ECF6",
           "radialaxis": {
            "gridcolor": "white",
            "linecolor": "white",
            "ticks": ""
           }
          },
          "scene": {
           "xaxis": {
            "backgroundcolor": "#E5ECF6",
            "gridcolor": "white",
            "gridwidth": 2,
            "linecolor": "white",
            "showbackground": true,
            "ticks": "",
            "zerolinecolor": "white"
           },
           "yaxis": {
            "backgroundcolor": "#E5ECF6",
            "gridcolor": "white",
            "gridwidth": 2,
            "linecolor": "white",
            "showbackground": true,
            "ticks": "",
            "zerolinecolor": "white"
           },
           "zaxis": {
            "backgroundcolor": "#E5ECF6",
            "gridcolor": "white",
            "gridwidth": 2,
            "linecolor": "white",
            "showbackground": true,
            "ticks": "",
            "zerolinecolor": "white"
           }
          },
          "shapedefaults": {
           "line": {
            "color": "#2a3f5f"
           }
          },
          "ternary": {
           "aaxis": {
            "gridcolor": "white",
            "linecolor": "white",
            "ticks": ""
           },
           "baxis": {
            "gridcolor": "white",
            "linecolor": "white",
            "ticks": ""
           },
           "bgcolor": "#E5ECF6",
           "caxis": {
            "gridcolor": "white",
            "linecolor": "white",
            "ticks": ""
           }
          },
          "title": {
           "x": 0.05
          },
          "xaxis": {
           "automargin": true,
           "gridcolor": "white",
           "linecolor": "white",
           "ticks": "",
           "title": {
            "standoff": 15
           },
           "zerolinecolor": "white",
           "zerolinewidth": 2
          },
          "yaxis": {
           "automargin": true,
           "gridcolor": "white",
           "linecolor": "white",
           "ticks": "",
           "title": {
            "standoff": 15
           },
           "zerolinecolor": "white",
           "zerolinewidth": 2
          }
         }
        },
        "xaxis": {
         "anchor": "y",
         "domain": [
          0,
          1
         ],
         "title": {
          "text": "Date"
         }
        },
        "yaxis": {
         "anchor": "x",
         "domain": [
          0,
          1
         ],
         "title": {
          "text": "value"
         }
        }
       }
      }
     },
     "metadata": {},
     "output_type": "display_data"
    }
   ],
   "source": [
    "ts_weights.plot()"
   ]
  },
  {
   "cell_type": "code",
   "execution_count": null,
   "metadata": {},
   "outputs": [],
   "source": []
  }
 ],
 "metadata": {
  "kernelspec": {
   "display_name": "Python 3.8.13 ('venv')",
   "language": "python",
   "name": "python3"
  },
  "language_info": {
   "codemirror_mode": {
    "name": "ipython",
    "version": 3
   },
   "file_extension": ".py",
   "mimetype": "text/x-python",
   "name": "python",
   "nbconvert_exporter": "python",
   "pygments_lexer": "ipython3",
   "version": "3.8.13"
  },
  "orig_nbformat": 4,
  "vscode": {
   "interpreter": {
    "hash": "c1bde15d19b55b4acdd836f7e914a7b85faeb197b599e3448c442c4b418e027a"
   }
  }
 },
 "nbformat": 4,
 "nbformat_minor": 2
}
